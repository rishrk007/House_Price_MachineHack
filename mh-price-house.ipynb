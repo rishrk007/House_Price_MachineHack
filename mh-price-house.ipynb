{
 "cells": [
  {
   "cell_type": "code",
   "execution_count": 1,
   "metadata": {
    "_cell_guid": "b1076dfc-b9ad-4769-8c92-a6c4dae69d19",
    "_uuid": "8f2839f25d086af736a60e9eeb907d3b93b6e0e5",
    "execution": {
     "iopub.execute_input": "2020-10-10T06:36:20.080888Z",
     "iopub.status.busy": "2020-10-10T06:36:20.080044Z",
     "iopub.status.idle": "2020-10-10T06:36:20.089673Z",
     "shell.execute_reply": "2020-10-10T06:36:20.088658Z"
    },
    "papermill": {
     "duration": 0.086584,
     "end_time": "2020-10-10T06:36:20.089846",
     "exception": false,
     "start_time": "2020-10-10T06:36:20.003262",
     "status": "completed"
    },
    "tags": []
   },
   "outputs": [
    {
     "name": "stdout",
     "output_type": "stream",
     "text": [
      "/kaggle/input/mh-house-prices/Participants_Data_HPP/sample_submission.csv\n",
      "/kaggle/input/mh-house-prices/Participants_Data_HPP/Test.csv\n",
      "/kaggle/input/mh-house-prices/Participants_Data_HPP/Train.csv\n"
     ]
    }
   ],
   "source": [
    "# This Python 3 environment comes with many helpful analytics libraries installed\n",
    "# It is defined by the kaggle/python Docker image: https://github.com/kaggle/docker-python\n",
    "# For example, here's several helpful packages to load\n",
    "\n",
    "import numpy as np # linear algebra\n",
    "import pandas as pd # data processing, CSV file I/O (e.g. pd.read_csv)\n",
    "\n",
    "# Input data files are available in the read-only \"../input/\" directory\n",
    "# For example, running this (by clicking run or pressing Shift+Enter) will list all files under the input directory\n",
    "\n",
    "import os\n",
    "for dirname, _, filenames in os.walk('/kaggle/input'):\n",
    "    for filename in filenames:\n",
    "        print(os.path.join(dirname, filename))\n",
    "\n",
    "# You can write up to 5GB to the current directory (/kaggle/working/) that gets preserved as output when you create a version using \"Save & Run All\" \n",
    "# You can also write temporary files to /kaggle/temp/, but they won't be saved outside of the current session"
   ]
  },
  {
   "cell_type": "code",
   "execution_count": 2,
   "metadata": {
    "execution": {
     "iopub.execute_input": "2020-10-10T06:36:20.233220Z",
     "iopub.status.busy": "2020-10-10T06:36:20.232456Z",
     "iopub.status.idle": "2020-10-10T06:36:21.120785Z",
     "shell.execute_reply": "2020-10-10T06:36:21.119947Z"
    },
    "papermill": {
     "duration": 0.961401,
     "end_time": "2020-10-10T06:36:21.120915",
     "exception": false,
     "start_time": "2020-10-10T06:36:20.159514",
     "status": "completed"
    },
    "tags": []
   },
   "outputs": [],
   "source": [
    "import seaborn as sns\n",
    "import matplotlib.pyplot as plt"
   ]
  },
  {
   "cell_type": "code",
   "execution_count": 3,
   "metadata": {
    "_cell_guid": "79c7e3d0-c299-4dcb-8224-4455121ee9b0",
    "_uuid": "d629ff2d2480ee46fbb7e2d37f6b5fab8052498a",
    "execution": {
     "iopub.execute_input": "2020-10-10T06:36:21.264752Z",
     "iopub.status.busy": "2020-10-10T06:36:21.263932Z",
     "iopub.status.idle": "2020-10-10T06:36:21.541873Z",
     "shell.execute_reply": "2020-10-10T06:36:21.541081Z"
    },
    "papermill": {
     "duration": 0.352452,
     "end_time": "2020-10-10T06:36:21.542006",
     "exception": false,
     "start_time": "2020-10-10T06:36:21.189554",
     "status": "completed"
    },
    "tags": []
   },
   "outputs": [],
   "source": [
    "train = pd.read_csv(\"/kaggle/input/mh-house-prices/Participants_Data_HPP/Train.csv\")\n",
    "test = pd.read_csv(\"/kaggle/input/mh-house-prices/Participants_Data_HPP/Test.csv\")\n",
    "sub = pd.read_csv(\"/kaggle/input/mh-house-prices/Participants_Data_HPP/sample_submission.csv\")"
   ]
  },
  {
   "cell_type": "code",
   "execution_count": 4,
   "metadata": {
    "execution": {
     "iopub.execute_input": "2020-10-10T06:36:21.696689Z",
     "iopub.status.busy": "2020-10-10T06:36:21.695902Z",
     "iopub.status.idle": "2020-10-10T06:36:21.708784Z",
     "shell.execute_reply": "2020-10-10T06:36:21.709330Z"
    },
    "papermill": {
     "duration": 0.098029,
     "end_time": "2020-10-10T06:36:21.709499",
     "exception": false,
     "start_time": "2020-10-10T06:36:21.611470",
     "status": "completed"
    },
    "tags": []
   },
   "outputs": [
    {
     "data": {
      "text/html": [
       "<div>\n",
       "<style scoped>\n",
       "    .dataframe tbody tr th:only-of-type {\n",
       "        vertical-align: middle;\n",
       "    }\n",
       "\n",
       "    .dataframe tbody tr th {\n",
       "        vertical-align: top;\n",
       "    }\n",
       "\n",
       "    .dataframe thead th {\n",
       "        text-align: right;\n",
       "    }\n",
       "</style>\n",
       "<table border=\"1\" class=\"dataframe\">\n",
       "  <thead>\n",
       "    <tr style=\"text-align: right;\">\n",
       "      <th></th>\n",
       "      <th>POSTED_BY</th>\n",
       "      <th>UNDER_CONSTRUCTION</th>\n",
       "      <th>RERA</th>\n",
       "      <th>BHK_NO.</th>\n",
       "      <th>BHK_OR_RK</th>\n",
       "      <th>SQUARE_FT</th>\n",
       "      <th>READY_TO_MOVE</th>\n",
       "      <th>RESALE</th>\n",
       "      <th>ADDRESS</th>\n",
       "      <th>LONGITUDE</th>\n",
       "      <th>LATITUDE</th>\n",
       "      <th>TARGET(PRICE_IN_LACS)</th>\n",
       "    </tr>\n",
       "  </thead>\n",
       "  <tbody>\n",
       "    <tr>\n",
       "      <th>0</th>\n",
       "      <td>Owner</td>\n",
       "      <td>0</td>\n",
       "      <td>0</td>\n",
       "      <td>2</td>\n",
       "      <td>BHK</td>\n",
       "      <td>1300.236407</td>\n",
       "      <td>1</td>\n",
       "      <td>1</td>\n",
       "      <td>Ksfc Layout,Bangalore</td>\n",
       "      <td>12.969910</td>\n",
       "      <td>77.597960</td>\n",
       "      <td>55.0</td>\n",
       "    </tr>\n",
       "    <tr>\n",
       "      <th>1</th>\n",
       "      <td>Dealer</td>\n",
       "      <td>0</td>\n",
       "      <td>0</td>\n",
       "      <td>2</td>\n",
       "      <td>BHK</td>\n",
       "      <td>1275.000000</td>\n",
       "      <td>1</td>\n",
       "      <td>1</td>\n",
       "      <td>Vishweshwara Nagar,Mysore</td>\n",
       "      <td>12.274538</td>\n",
       "      <td>76.644605</td>\n",
       "      <td>51.0</td>\n",
       "    </tr>\n",
       "    <tr>\n",
       "      <th>2</th>\n",
       "      <td>Owner</td>\n",
       "      <td>0</td>\n",
       "      <td>0</td>\n",
       "      <td>2</td>\n",
       "      <td>BHK</td>\n",
       "      <td>933.159722</td>\n",
       "      <td>1</td>\n",
       "      <td>1</td>\n",
       "      <td>Jigani,Bangalore</td>\n",
       "      <td>12.778033</td>\n",
       "      <td>77.632191</td>\n",
       "      <td>43.0</td>\n",
       "    </tr>\n",
       "    <tr>\n",
       "      <th>3</th>\n",
       "      <td>Owner</td>\n",
       "      <td>0</td>\n",
       "      <td>1</td>\n",
       "      <td>2</td>\n",
       "      <td>BHK</td>\n",
       "      <td>929.921143</td>\n",
       "      <td>1</td>\n",
       "      <td>1</td>\n",
       "      <td>Sector-1 Vaishali,Ghaziabad</td>\n",
       "      <td>28.642300</td>\n",
       "      <td>77.344500</td>\n",
       "      <td>62.5</td>\n",
       "    </tr>\n",
       "    <tr>\n",
       "      <th>4</th>\n",
       "      <td>Dealer</td>\n",
       "      <td>1</td>\n",
       "      <td>0</td>\n",
       "      <td>2</td>\n",
       "      <td>BHK</td>\n",
       "      <td>999.009247</td>\n",
       "      <td>0</td>\n",
       "      <td>1</td>\n",
       "      <td>New Town,Kolkata</td>\n",
       "      <td>22.592200</td>\n",
       "      <td>88.484911</td>\n",
       "      <td>60.5</td>\n",
       "    </tr>\n",
       "  </tbody>\n",
       "</table>\n",
       "</div>"
      ],
      "text/plain": [
       "  POSTED_BY  UNDER_CONSTRUCTION  RERA  BHK_NO. BHK_OR_RK    SQUARE_FT  \\\n",
       "0     Owner                   0     0        2       BHK  1300.236407   \n",
       "1    Dealer                   0     0        2       BHK  1275.000000   \n",
       "2     Owner                   0     0        2       BHK   933.159722   \n",
       "3     Owner                   0     1        2       BHK   929.921143   \n",
       "4    Dealer                   1     0        2       BHK   999.009247   \n",
       "\n",
       "   READY_TO_MOVE  RESALE                      ADDRESS  LONGITUDE   LATITUDE  \\\n",
       "0              1       1        Ksfc Layout,Bangalore  12.969910  77.597960   \n",
       "1              1       1    Vishweshwara Nagar,Mysore  12.274538  76.644605   \n",
       "2              1       1             Jigani,Bangalore  12.778033  77.632191   \n",
       "3              1       1  Sector-1 Vaishali,Ghaziabad  28.642300  77.344500   \n",
       "4              0       1             New Town,Kolkata  22.592200  88.484911   \n",
       "\n",
       "   TARGET(PRICE_IN_LACS)  \n",
       "0                   55.0  \n",
       "1                   51.0  \n",
       "2                   43.0  \n",
       "3                   62.5  \n",
       "4                   60.5  "
      ]
     },
     "execution_count": 4,
     "metadata": {},
     "output_type": "execute_result"
    }
   ],
   "source": [
    "train.head()"
   ]
  },
  {
   "cell_type": "code",
   "execution_count": 5,
   "metadata": {
    "execution": {
     "iopub.execute_input": "2020-10-10T06:36:21.866877Z",
     "iopub.status.busy": "2020-10-10T06:36:21.865994Z",
     "iopub.status.idle": "2020-10-10T06:36:21.870548Z",
     "shell.execute_reply": "2020-10-10T06:36:21.869944Z"
    },
    "papermill": {
     "duration": 0.091833,
     "end_time": "2020-10-10T06:36:21.870674",
     "exception": false,
     "start_time": "2020-10-10T06:36:21.778841",
     "status": "completed"
    },
    "tags": []
   },
   "outputs": [
    {
     "data": {
      "text/html": [
       "<div>\n",
       "<style scoped>\n",
       "    .dataframe tbody tr th:only-of-type {\n",
       "        vertical-align: middle;\n",
       "    }\n",
       "\n",
       "    .dataframe tbody tr th {\n",
       "        vertical-align: top;\n",
       "    }\n",
       "\n",
       "    .dataframe thead th {\n",
       "        text-align: right;\n",
       "    }\n",
       "</style>\n",
       "<table border=\"1\" class=\"dataframe\">\n",
       "  <thead>\n",
       "    <tr style=\"text-align: right;\">\n",
       "      <th></th>\n",
       "      <th>POSTED_BY</th>\n",
       "      <th>UNDER_CONSTRUCTION</th>\n",
       "      <th>RERA</th>\n",
       "      <th>BHK_NO.</th>\n",
       "      <th>BHK_OR_RK</th>\n",
       "      <th>SQUARE_FT</th>\n",
       "      <th>READY_TO_MOVE</th>\n",
       "      <th>RESALE</th>\n",
       "      <th>ADDRESS</th>\n",
       "      <th>LONGITUDE</th>\n",
       "      <th>LATITUDE</th>\n",
       "    </tr>\n",
       "  </thead>\n",
       "  <tbody>\n",
       "    <tr>\n",
       "      <th>0</th>\n",
       "      <td>Owner</td>\n",
       "      <td>0</td>\n",
       "      <td>0</td>\n",
       "      <td>1</td>\n",
       "      <td>BHK</td>\n",
       "      <td>545.171340</td>\n",
       "      <td>1</td>\n",
       "      <td>1</td>\n",
       "      <td>Kamrej,Surat</td>\n",
       "      <td>21.262000</td>\n",
       "      <td>73.047700</td>\n",
       "    </tr>\n",
       "    <tr>\n",
       "      <th>1</th>\n",
       "      <td>Dealer</td>\n",
       "      <td>1</td>\n",
       "      <td>1</td>\n",
       "      <td>2</td>\n",
       "      <td>BHK</td>\n",
       "      <td>800.000000</td>\n",
       "      <td>0</td>\n",
       "      <td>0</td>\n",
       "      <td>Panvel,Lalitpur</td>\n",
       "      <td>18.966114</td>\n",
       "      <td>73.148278</td>\n",
       "    </tr>\n",
       "    <tr>\n",
       "      <th>2</th>\n",
       "      <td>Dealer</td>\n",
       "      <td>0</td>\n",
       "      <td>0</td>\n",
       "      <td>2</td>\n",
       "      <td>BHK</td>\n",
       "      <td>1257.096513</td>\n",
       "      <td>1</td>\n",
       "      <td>1</td>\n",
       "      <td>New Town,Kolkata</td>\n",
       "      <td>22.592200</td>\n",
       "      <td>88.484911</td>\n",
       "    </tr>\n",
       "    <tr>\n",
       "      <th>3</th>\n",
       "      <td>Dealer</td>\n",
       "      <td>0</td>\n",
       "      <td>0</td>\n",
       "      <td>3</td>\n",
       "      <td>BHK</td>\n",
       "      <td>1400.329489</td>\n",
       "      <td>1</td>\n",
       "      <td>1</td>\n",
       "      <td>Kalwar Road,Jaipur</td>\n",
       "      <td>26.988300</td>\n",
       "      <td>75.584600</td>\n",
       "    </tr>\n",
       "    <tr>\n",
       "      <th>4</th>\n",
       "      <td>Owner</td>\n",
       "      <td>0</td>\n",
       "      <td>0</td>\n",
       "      <td>1</td>\n",
       "      <td>BHK</td>\n",
       "      <td>430.477830</td>\n",
       "      <td>1</td>\n",
       "      <td>1</td>\n",
       "      <td>Mai Mandir,Nadiad</td>\n",
       "      <td>22.700000</td>\n",
       "      <td>72.870000</td>\n",
       "    </tr>\n",
       "  </tbody>\n",
       "</table>\n",
       "</div>"
      ],
      "text/plain": [
       "  POSTED_BY  UNDER_CONSTRUCTION  RERA  BHK_NO. BHK_OR_RK    SQUARE_FT  \\\n",
       "0     Owner                   0     0        1       BHK   545.171340   \n",
       "1    Dealer                   1     1        2       BHK   800.000000   \n",
       "2    Dealer                   0     0        2       BHK  1257.096513   \n",
       "3    Dealer                   0     0        3       BHK  1400.329489   \n",
       "4     Owner                   0     0        1       BHK   430.477830   \n",
       "\n",
       "   READY_TO_MOVE  RESALE             ADDRESS  LONGITUDE   LATITUDE  \n",
       "0              1       1        Kamrej,Surat  21.262000  73.047700  \n",
       "1              0       0     Panvel,Lalitpur  18.966114  73.148278  \n",
       "2              1       1    New Town,Kolkata  22.592200  88.484911  \n",
       "3              1       1  Kalwar Road,Jaipur  26.988300  75.584600  \n",
       "4              1       1   Mai Mandir,Nadiad  22.700000  72.870000  "
      ]
     },
     "execution_count": 5,
     "metadata": {},
     "output_type": "execute_result"
    }
   ],
   "source": [
    "test.head()"
   ]
  },
  {
   "cell_type": "code",
   "execution_count": 6,
   "metadata": {
    "execution": {
     "iopub.execute_input": "2020-10-10T06:36:22.028234Z",
     "iopub.status.busy": "2020-10-10T06:36:22.017720Z",
     "iopub.status.idle": "2020-10-10T06:36:22.044584Z",
     "shell.execute_reply": "2020-10-10T06:36:22.043803Z"
    },
    "papermill": {
     "duration": 0.103179,
     "end_time": "2020-10-10T06:36:22.044709",
     "exception": false,
     "start_time": "2020-10-10T06:36:21.941530",
     "status": "completed"
    },
    "tags": []
   },
   "outputs": [
    {
     "name": "stdout",
     "output_type": "stream",
     "text": [
      "<class 'pandas.core.frame.DataFrame'>\n",
      "RangeIndex: 29451 entries, 0 to 29450\n",
      "Data columns (total 12 columns):\n",
      " #   Column                 Non-Null Count  Dtype  \n",
      "---  ------                 --------------  -----  \n",
      " 0   POSTED_BY              29451 non-null  object \n",
      " 1   UNDER_CONSTRUCTION     29451 non-null  int64  \n",
      " 2   RERA                   29451 non-null  int64  \n",
      " 3   BHK_NO.                29451 non-null  int64  \n",
      " 4   BHK_OR_RK              29451 non-null  object \n",
      " 5   SQUARE_FT              29451 non-null  float64\n",
      " 6   READY_TO_MOVE          29451 non-null  int64  \n",
      " 7   RESALE                 29451 non-null  int64  \n",
      " 8   ADDRESS                29451 non-null  object \n",
      " 9   LONGITUDE              29451 non-null  float64\n",
      " 10  LATITUDE               29451 non-null  float64\n",
      " 11  TARGET(PRICE_IN_LACS)  29451 non-null  float64\n",
      "dtypes: float64(4), int64(5), object(3)\n",
      "memory usage: 2.7+ MB\n"
     ]
    }
   ],
   "source": [
    "train.info()"
   ]
  },
  {
   "cell_type": "code",
   "execution_count": 7,
   "metadata": {
    "execution": {
     "iopub.execute_input": "2020-10-10T06:36:22.208625Z",
     "iopub.status.busy": "2020-10-10T06:36:22.207544Z",
     "iopub.status.idle": "2020-10-10T06:36:22.216096Z",
     "shell.execute_reply": "2020-10-10T06:36:22.215443Z"
    },
    "papermill": {
     "duration": 0.095616,
     "end_time": "2020-10-10T06:36:22.216225",
     "exception": false,
     "start_time": "2020-10-10T06:36:22.120609",
     "status": "completed"
    },
    "tags": []
   },
   "outputs": [
    {
     "data": {
      "text/plain": [
       "POSTED_BY                0\n",
       "UNDER_CONSTRUCTION       0\n",
       "RERA                     0\n",
       "BHK_NO.                  0\n",
       "BHK_OR_RK                0\n",
       "SQUARE_FT                0\n",
       "READY_TO_MOVE            0\n",
       "RESALE                   0\n",
       "ADDRESS                  0\n",
       "LONGITUDE                0\n",
       "LATITUDE                 0\n",
       "TARGET(PRICE_IN_LACS)    0\n",
       "dtype: int64"
      ]
     },
     "execution_count": 7,
     "metadata": {},
     "output_type": "execute_result"
    }
   ],
   "source": [
    "train.isnull().sum()"
   ]
  },
  {
   "cell_type": "code",
   "execution_count": 8,
   "metadata": {
    "execution": {
     "iopub.execute_input": "2020-10-10T06:36:22.389498Z",
     "iopub.status.busy": "2020-10-10T06:36:22.366916Z",
     "iopub.status.idle": "2020-10-10T06:36:22.398685Z",
     "shell.execute_reply": "2020-10-10T06:36:22.397911Z"
    },
    "papermill": {
     "duration": 0.108372,
     "end_time": "2020-10-10T06:36:22.398809",
     "exception": false,
     "start_time": "2020-10-10T06:36:22.290437",
     "status": "completed"
    },
    "tags": []
   },
   "outputs": [
    {
     "data": {
      "text/plain": [
       "POSTED_BY             0\n",
       "UNDER_CONSTRUCTION    0\n",
       "RERA                  0\n",
       "BHK_NO.               0\n",
       "BHK_OR_RK             0\n",
       "SQUARE_FT             0\n",
       "READY_TO_MOVE         0\n",
       "RESALE                0\n",
       "ADDRESS               0\n",
       "LONGITUDE             0\n",
       "LATITUDE              0\n",
       "dtype: int64"
      ]
     },
     "execution_count": 8,
     "metadata": {},
     "output_type": "execute_result"
    }
   ],
   "source": [
    "test.isnull().sum()"
   ]
  },
  {
   "cell_type": "code",
   "execution_count": 9,
   "metadata": {
    "execution": {
     "iopub.execute_input": "2020-10-10T06:36:22.560424Z",
     "iopub.status.busy": "2020-10-10T06:36:22.559483Z",
     "iopub.status.idle": "2020-10-10T06:36:22.564744Z",
     "shell.execute_reply": "2020-10-10T06:36:22.564091Z"
    },
    "papermill": {
     "duration": 0.094279,
     "end_time": "2020-10-10T06:36:22.564871",
     "exception": false,
     "start_time": "2020-10-10T06:36:22.470592",
     "status": "completed"
    },
    "tags": []
   },
   "outputs": [
    {
     "data": {
      "text/plain": [
       "BHK    29427\n",
       "RK        24\n",
       "Name: BHK_OR_RK, dtype: int64"
      ]
     },
     "execution_count": 9,
     "metadata": {},
     "output_type": "execute_result"
    }
   ],
   "source": [
    "train[\"BHK_OR_RK\"].value_counts()"
   ]
  },
  {
   "cell_type": "code",
   "execution_count": 10,
   "metadata": {
    "execution": {
     "iopub.execute_input": "2020-10-10T06:36:22.726192Z",
     "iopub.status.busy": "2020-10-10T06:36:22.725096Z",
     "iopub.status.idle": "2020-10-10T06:36:22.729375Z",
     "shell.execute_reply": "2020-10-10T06:36:22.728643Z"
    },
    "papermill": {
     "duration": 0.091962,
     "end_time": "2020-10-10T06:36:22.729501",
     "exception": false,
     "start_time": "2020-10-10T06:36:22.637539",
     "status": "completed"
    },
    "tags": []
   },
   "outputs": [
    {
     "data": {
      "text/plain": [
       "Dealer     18291\n",
       "Owner      10538\n",
       "Builder      622\n",
       "Name: POSTED_BY, dtype: int64"
      ]
     },
     "execution_count": 10,
     "metadata": {},
     "output_type": "execute_result"
    }
   ],
   "source": [
    "train[\"POSTED_BY\"].value_counts()"
   ]
  },
  {
   "cell_type": "code",
   "execution_count": 11,
   "metadata": {
    "execution": {
     "iopub.execute_input": "2020-10-10T06:36:22.923887Z",
     "iopub.status.busy": "2020-10-10T06:36:22.902362Z",
     "iopub.status.idle": "2020-10-10T06:36:23.020977Z",
     "shell.execute_reply": "2020-10-10T06:36:23.020176Z"
    },
    "papermill": {
     "duration": 0.217555,
     "end_time": "2020-10-10T06:36:23.021128",
     "exception": false,
     "start_time": "2020-10-10T06:36:22.803573",
     "status": "completed"
    },
    "tags": []
   },
   "outputs": [],
   "source": [
    "#Conerting categorical variable to numeric\n",
    "\n",
    "train['BHK_OR_RK']=train['BHK_OR_RK'].replace({'BHK':0,'RK':1})\n",
    "train['POSTED_BY']=train['POSTED_BY'].replace({'Owner':0,'Dealer':1,'Builder':2})\n",
    "test['BHK_OR_RK']=test['BHK_OR_RK'].replace({'BHK':0,'RK':1})\n",
    "test['POSTED_BY']=test['POSTED_BY'].replace({'Owner':0,'Dealer':1,'Builder':2})"
   ]
  },
  {
   "cell_type": "code",
   "execution_count": 12,
   "metadata": {
    "execution": {
     "iopub.execute_input": "2020-10-10T06:36:23.177111Z",
     "iopub.status.busy": "2020-10-10T06:36:23.176272Z",
     "iopub.status.idle": "2020-10-10T06:36:23.190077Z",
     "shell.execute_reply": "2020-10-10T06:36:23.189405Z"
    },
    "papermill": {
     "duration": 0.09572,
     "end_time": "2020-10-10T06:36:23.190205",
     "exception": false,
     "start_time": "2020-10-10T06:36:23.094485",
     "status": "completed"
    },
    "tags": []
   },
   "outputs": [],
   "source": [
    "cat_col = train.select_dtypes(include=['object']).columns\n",
    "num_col = train.select_dtypes(exclude=['object']).columns"
   ]
  },
  {
   "cell_type": "code",
   "execution_count": 13,
   "metadata": {
    "execution": {
     "iopub.execute_input": "2020-10-10T06:36:23.349864Z",
     "iopub.status.busy": "2020-10-10T06:36:23.349057Z",
     "iopub.status.idle": "2020-10-10T06:37:10.086554Z",
     "shell.execute_reply": "2020-10-10T06:37:10.087170Z"
    },
    "papermill": {
     "duration": 46.821567,
     "end_time": "2020-10-10T06:37:10.087322",
     "exception": false,
     "start_time": "2020-10-10T06:36:23.265755",
     "status": "completed"
    },
    "tags": []
   },
   "outputs": [
    {
     "data": {
      "image/png": "[encoded data removed]",
      "text/plain": [
       "<Figure size 1980x1980 with 132 Axes>"
      ]
     },
     "metadata": {
      "needs_background": "light"
     },
     "output_type": "display_data"
    }
   ],
   "source": [
    "ax = sns.pairplot(train[num_col])"
   ]
  },
  {
   "cell_type": "code",
   "execution_count": 14,
   "metadata": {
    "execution": {
     "iopub.execute_input": "2020-10-10T06:37:10.268490Z",
     "iopub.status.busy": "2020-10-10T06:37:10.267362Z",
     "iopub.status.idle": "2020-10-10T06:37:10.272334Z",
     "shell.execute_reply": "2020-10-10T06:37:10.271645Z"
    },
    "papermill": {
     "duration": 0.103651,
     "end_time": "2020-10-10T06:37:10.272464",
     "exception": false,
     "start_time": "2020-10-10T06:37:10.168813",
     "status": "completed"
    },
    "tags": []
   },
   "outputs": [
    {
     "data": {
      "text/html": [
       "<div>\n",
       "<style scoped>\n",
       "    .dataframe tbody tr th:only-of-type {\n",
       "        vertical-align: middle;\n",
       "    }\n",
       "\n",
       "    .dataframe tbody tr th {\n",
       "        vertical-align: top;\n",
       "    }\n",
       "\n",
       "    .dataframe thead th {\n",
       "        text-align: right;\n",
       "    }\n",
       "</style>\n",
       "<table border=\"1\" class=\"dataframe\">\n",
       "  <thead>\n",
       "    <tr style=\"text-align: right;\">\n",
       "      <th></th>\n",
       "      <th>POSTED_BY</th>\n",
       "      <th>UNDER_CONSTRUCTION</th>\n",
       "      <th>RERA</th>\n",
       "      <th>BHK_NO.</th>\n",
       "      <th>BHK_OR_RK</th>\n",
       "      <th>SQUARE_FT</th>\n",
       "      <th>READY_TO_MOVE</th>\n",
       "      <th>RESALE</th>\n",
       "      <th>ADDRESS</th>\n",
       "      <th>LONGITUDE</th>\n",
       "      <th>LATITUDE</th>\n",
       "      <th>TARGET(PRICE_IN_LACS)</th>\n",
       "    </tr>\n",
       "  </thead>\n",
       "  <tbody>\n",
       "    <tr>\n",
       "      <th>0</th>\n",
       "      <td>0</td>\n",
       "      <td>0</td>\n",
       "      <td>0</td>\n",
       "      <td>2</td>\n",
       "      <td>0</td>\n",
       "      <td>1300.236407</td>\n",
       "      <td>1</td>\n",
       "      <td>1</td>\n",
       "      <td>Ksfc Layout,Bangalore</td>\n",
       "      <td>12.969910</td>\n",
       "      <td>77.597960</td>\n",
       "      <td>55.0</td>\n",
       "    </tr>\n",
       "    <tr>\n",
       "      <th>1</th>\n",
       "      <td>1</td>\n",
       "      <td>0</td>\n",
       "      <td>0</td>\n",
       "      <td>2</td>\n",
       "      <td>0</td>\n",
       "      <td>1275.000000</td>\n",
       "      <td>1</td>\n",
       "      <td>1</td>\n",
       "      <td>Vishweshwara Nagar,Mysore</td>\n",
       "      <td>12.274538</td>\n",
       "      <td>76.644605</td>\n",
       "      <td>51.0</td>\n",
       "    </tr>\n",
       "    <tr>\n",
       "      <th>2</th>\n",
       "      <td>0</td>\n",
       "      <td>0</td>\n",
       "      <td>0</td>\n",
       "      <td>2</td>\n",
       "      <td>0</td>\n",
       "      <td>933.159722</td>\n",
       "      <td>1</td>\n",
       "      <td>1</td>\n",
       "      <td>Jigani,Bangalore</td>\n",
       "      <td>12.778033</td>\n",
       "      <td>77.632191</td>\n",
       "      <td>43.0</td>\n",
       "    </tr>\n",
       "    <tr>\n",
       "      <th>3</th>\n",
       "      <td>0</td>\n",
       "      <td>0</td>\n",
       "      <td>1</td>\n",
       "      <td>2</td>\n",
       "      <td>0</td>\n",
       "      <td>929.921143</td>\n",
       "      <td>1</td>\n",
       "      <td>1</td>\n",
       "      <td>Sector-1 Vaishali,Ghaziabad</td>\n",
       "      <td>28.642300</td>\n",
       "      <td>77.344500</td>\n",
       "      <td>62.5</td>\n",
       "    </tr>\n",
       "    <tr>\n",
       "      <th>4</th>\n",
       "      <td>1</td>\n",
       "      <td>1</td>\n",
       "      <td>0</td>\n",
       "      <td>2</td>\n",
       "      <td>0</td>\n",
       "      <td>999.009247</td>\n",
       "      <td>0</td>\n",
       "      <td>1</td>\n",
       "      <td>New Town,Kolkata</td>\n",
       "      <td>22.592200</td>\n",
       "      <td>88.484911</td>\n",
       "      <td>60.5</td>\n",
       "    </tr>\n",
       "  </tbody>\n",
       "</table>\n",
       "</div>"
      ],
      "text/plain": [
       "   POSTED_BY  UNDER_CONSTRUCTION  RERA  BHK_NO.  BHK_OR_RK    SQUARE_FT  \\\n",
       "0          0                   0     0        2          0  1300.236407   \n",
       "1          1                   0     0        2          0  1275.000000   \n",
       "2          0                   0     0        2          0   933.159722   \n",
       "3          0                   0     1        2          0   929.921143   \n",
       "4          1                   1     0        2          0   999.009247   \n",
       "\n",
       "   READY_TO_MOVE  RESALE                      ADDRESS  LONGITUDE   LATITUDE  \\\n",
       "0              1       1        Ksfc Layout,Bangalore  12.969910  77.597960   \n",
       "1              1       1    Vishweshwara Nagar,Mysore  12.274538  76.644605   \n",
       "2              1       1             Jigani,Bangalore  12.778033  77.632191   \n",
       "3              1       1  Sector-1 Vaishali,Ghaziabad  28.642300  77.344500   \n",
       "4              0       1             New Town,Kolkata  22.592200  88.484911   \n",
       "\n",
       "   TARGET(PRICE_IN_LACS)  \n",
       "0                   55.0  \n",
       "1                   51.0  \n",
       "2                   43.0  \n",
       "3                   62.5  \n",
       "4                   60.5  "
      ]
     },
     "execution_count": 14,
     "metadata": {},
     "output_type": "execute_result"
    }
   ],
   "source": [
    "train.head()"
   ]
  },
  {
   "cell_type": "code",
   "execution_count": 15,
   "metadata": {
    "execution": {
     "iopub.execute_input": "2020-10-10T06:37:10.441386Z",
     "iopub.status.busy": "2020-10-10T06:37:10.440411Z",
     "iopub.status.idle": "2020-10-10T06:37:10.445149Z",
     "shell.execute_reply": "2020-10-10T06:37:10.444341Z"
    },
    "papermill": {
     "duration": 0.09095,
     "end_time": "2020-10-10T06:37:10.445292",
     "exception": false,
     "start_time": "2020-10-10T06:37:10.354342",
     "status": "completed"
    },
    "tags": []
   },
   "outputs": [],
   "source": [
    "train['TARGET(PRICE_IN_LACS)']=np.log1p(train['TARGET(PRICE_IN_LACS)'])"
   ]
  },
  {
   "cell_type": "code",
   "execution_count": 16,
   "metadata": {
    "execution": {
     "iopub.execute_input": "2020-10-10T06:37:10.614618Z",
     "iopub.status.busy": "2020-10-10T06:37:10.613829Z",
     "iopub.status.idle": "2020-10-10T06:37:10.626584Z",
     "shell.execute_reply": "2020-10-10T06:37:10.625794Z"
    },
    "papermill": {
     "duration": 0.09988,
     "end_time": "2020-10-10T06:37:10.626713",
     "exception": false,
     "start_time": "2020-10-10T06:37:10.526833",
     "status": "completed"
    },
    "tags": []
   },
   "outputs": [
    {
     "data": {
      "text/plain": [
       "count    29451.000000\n",
       "mean         4.230747\n",
       "std          0.884970\n",
       "min          0.223144\n",
       "25%          3.663562\n",
       "50%          4.143135\n",
       "75%          4.615121\n",
       "max         10.308986\n",
       "Name: TARGET(PRICE_IN_LACS), dtype: float64"
      ]
     },
     "execution_count": 16,
     "metadata": {},
     "output_type": "execute_result"
    }
   ],
   "source": [
    "train['TARGET(PRICE_IN_LACS)'].describe()\n"
   ]
  },
  {
   "cell_type": "code",
   "execution_count": 17,
   "metadata": {
    "execution": {
     "iopub.execute_input": "2020-10-10T06:37:10.803330Z",
     "iopub.status.busy": "2020-10-10T06:37:10.796469Z",
     "iopub.status.idle": "2020-10-10T06:37:10.937871Z",
     "shell.execute_reply": "2020-10-10T06:37:10.937091Z"
    },
    "papermill": {
     "duration": 0.229575,
     "end_time": "2020-10-10T06:37:10.938000",
     "exception": false,
     "start_time": "2020-10-10T06:37:10.708425",
     "status": "completed"
    },
    "tags": []
   },
   "outputs": [
    {
     "data": {
      "text/plain": [
       "<matplotlib.axes._subplots.AxesSubplot at 0x7fdb8bcdbe90>"
      ]
     },
     "execution_count": 17,
     "metadata": {},
     "output_type": "execute_result"
    },
    {
     "data": {
      "image/png": "[encoded data removed]",
      "text/plain": [
       "<Figure size 864x216 with 1 Axes>"
      ]
     },
     "metadata": {
      "needs_background": "light"
     },
     "output_type": "display_data"
    }
   ],
   "source": [
    "fig, ax = plt.subplots(figsize=(12, 3))\n",
    "sns.boxplot(x='TARGET(PRICE_IN_LACS)', data=train)"
   ]
  },
  {
   "cell_type": "code",
   "execution_count": 18,
   "metadata": {
    "execution": {
     "iopub.execute_input": "2020-10-10T06:37:11.110068Z",
     "iopub.status.busy": "2020-10-10T06:37:11.109082Z",
     "iopub.status.idle": "2020-10-10T06:37:11.112373Z",
     "shell.execute_reply": "2020-10-10T06:37:11.111617Z"
    },
    "papermill": {
     "duration": 0.090356,
     "end_time": "2020-10-10T06:37:11.112501",
     "exception": false,
     "start_time": "2020-10-10T06:37:11.022145",
     "status": "completed"
    },
    "tags": []
   },
   "outputs": [],
   "source": [
    "#train = train[train[\"TARGET(PRICE_IN_LACS)\"]<10]"
   ]
  },
  {
   "cell_type": "code",
   "execution_count": 19,
   "metadata": {
    "collapsed": true,
    "execution": {
     "iopub.execute_input": "2020-10-10T06:37:11.286730Z",
     "iopub.status.busy": "2020-10-10T06:37:11.285794Z",
     "iopub.status.idle": "2020-10-10T06:37:11.290718Z",
     "shell.execute_reply": "2020-10-10T06:37:11.290103Z"
    },
    "papermill": {
     "duration": 0.09466,
     "end_time": "2020-10-10T06:37:11.290863",
     "exception": false,
     "start_time": "2020-10-10T06:37:11.196203",
     "status": "completed"
    },
    "tags": []
   },
   "outputs": [
    {
     "data": {
      "text/plain": [
       "'def print_quantile_info(qu_dataset, qu_field):\\n    a = qu_dataset[qu_field].describe()\\n    \\n    iqr = a[\"75%\"] - a[\"25%\"]\\n    print(\"interquartile range:\", iqr)\\n    \\n    upper_inner_fence = a[\"75%\"] + 1.5 * iqr\\n    lower_inner_fence = a[\"25%\"] - 1.5 * iqr\\n    print(\"upper_inner_fence:\", upper_inner_fence)\\n    print(\"lower_inner_fence:\", lower_inner_fence)\\n    \\n    upper_outer_fence = a[\"75%\"] + 3 * iqr\\n    lower_outer_fence = a[\"25%\"] - 3 * iqr\\n    print(\"upper_outer_fence:\", upper_outer_fence)\\n    print(\"lower_outer_fence:\", lower_outer_fence)\\n    \\n    count_over_upper = len(qu_dataset[qu_dataset[qu_field]>upper_inner_fence])\\n    count_under_lower = len(qu_dataset[qu_dataset[qu_field]<lower_inner_fence])\\n    percentage = 100 * (count_under_lower + count_over_upper) / a[\"count\"]\\n    print(\"percentage of records out of inner fences: %.2f\"% (percentage))\\n    \\n    count_over_upper = len(qu_dataset[qu_dataset[qu_field]>upper_outer_fence])\\n    count_under_lower = len(qu_dataset[qu_dataset[qu_field]<lower_outer_fence])\\n    percentage = 100 * (count_under_lower + count_over_upper) / a[\"count\"]\\n    print(\"percentage of records out of outer fences: %.2f\"% (percentage))'"
      ]
     },
     "execution_count": 19,
     "metadata": {},
     "output_type": "execute_result"
    }
   ],
   "source": [
    "'''def print_quantile_info(qu_dataset, qu_field):\n",
    "    a = qu_dataset[qu_field].describe()\n",
    "    \n",
    "    iqr = a[\"75%\"] - a[\"25%\"]\n",
    "    print(\"interquartile range:\", iqr)\n",
    "    \n",
    "    upper_inner_fence = a[\"75%\"] + 1.5 * iqr\n",
    "    lower_inner_fence = a[\"25%\"] - 1.5 * iqr\n",
    "    print(\"upper_inner_fence:\", upper_inner_fence)\n",
    "    print(\"lower_inner_fence:\", lower_inner_fence)\n",
    "    \n",
    "    upper_outer_fence = a[\"75%\"] + 3 * iqr\n",
    "    lower_outer_fence = a[\"25%\"] - 3 * iqr\n",
    "    print(\"upper_outer_fence:\", upper_outer_fence)\n",
    "    print(\"lower_outer_fence:\", lower_outer_fence)\n",
    "    \n",
    "    count_over_upper = len(qu_dataset[qu_dataset[qu_field]>upper_inner_fence])\n",
    "    count_under_lower = len(qu_dataset[qu_dataset[qu_field]<lower_inner_fence])\n",
    "    percentage = 100 * (count_under_lower + count_over_upper) / a[\"count\"]\n",
    "    print(\"percentage of records out of inner fences: %.2f\"% (percentage))\n",
    "    \n",
    "    count_over_upper = len(qu_dataset[qu_dataset[qu_field]>upper_outer_fence])\n",
    "    count_under_lower = len(qu_dataset[qu_dataset[qu_field]<lower_outer_fence])\n",
    "    percentage = 100 * (count_under_lower + count_over_upper) / a[\"count\"]\n",
    "    print(\"percentage of records out of outer fences: %.2f\"% (percentage))'''"
   ]
  },
  {
   "cell_type": "code",
   "execution_count": 20,
   "metadata": {
    "execution": {
     "iopub.execute_input": "2020-10-10T06:37:11.466699Z",
     "iopub.status.busy": "2020-10-10T06:37:11.465854Z",
     "iopub.status.idle": "2020-10-10T06:37:11.469331Z",
     "shell.execute_reply": "2020-10-10T06:37:11.468691Z"
    },
    "papermill": {
     "duration": 0.092591,
     "end_time": "2020-10-10T06:37:11.469453",
     "exception": false,
     "start_time": "2020-10-10T06:37:11.376862",
     "status": "completed"
    },
    "tags": []
   },
   "outputs": [],
   "source": [
    "#print_quantile_info(train, \"TARGET(PRICE_IN_LACS)\")"
   ]
  },
  {
   "cell_type": "code",
   "execution_count": 21,
   "metadata": {
    "collapsed": true,
    "execution": {
     "iopub.execute_input": "2020-10-10T06:37:11.645682Z",
     "iopub.status.busy": "2020-10-10T06:37:11.644695Z",
     "iopub.status.idle": "2020-10-10T06:37:11.649993Z",
     "shell.execute_reply": "2020-10-10T06:37:11.649259Z"
    },
    "papermill": {
     "duration": 0.096592,
     "end_time": "2020-10-10T06:37:11.650134",
     "exception": false,
     "start_time": "2020-10-10T06:37:11.553542",
     "status": "completed"
    },
    "tags": []
   },
   "outputs": [
    {
     "data": {
      "text/plain": [
       "'def remove_outliers_using_quantiles(qu_dataset, qu_field, qu_fence):\\n    a = qu_dataset[qu_field].describe()\\n    \\n    iqr = a[\"75%\"] - a[\"25%\"]\\n    print(\"interquartile range:\", iqr)\\n    \\n    upper_inner_fence = a[\"75%\"] + 1.5 * iqr\\n    lower_inner_fence = a[\"25%\"] - 1.5 * iqr\\n    print(\"upper_inner_fence:\", upper_inner_fence)\\n    print(\"lower_inner_fence:\", lower_inner_fence)\\n    \\n    upper_outer_fence = a[\"75%\"] + 3 * iqr\\n    lower_outer_fence = a[\"25%\"] - 3 * iqr\\n    print(\"upper_outer_fence:\", upper_outer_fence)\\n    print(\"lower_outer_fence:\", lower_outer_fence)\\n    \\n    count_over_upper = len(qu_dataset[qu_dataset[qu_field]>upper_inner_fence])\\n    count_under_lower = len(qu_dataset[qu_dataset[qu_field]<lower_inner_fence])\\n    percentage = 100 * (count_under_lower + count_over_upper) / a[\"count\"]\\n    print(\"percentage of records out of inner fences: %.2f\"% (percentage))\\n    \\n    count_over_upper = len(qu_dataset[qu_dataset[qu_field]>upper_outer_fence])\\n    count_under_lower = len(qu_dataset[qu_dataset[qu_field]<lower_outer_fence])\\n    percentage = 100 * (count_under_lower + count_over_upper) / a[\"count\"]\\n    print(\"percentage of records out of outer fences: %.2f\"% (percentage))\\n    \\n    if qu_fence == \"inner\":\\n        output_dataset = qu_dataset[qu_dataset[qu_field]<=upper_inner_fence]\\n        output_dataset = output_dataset[output_dataset[qu_field]>=lower_inner_fence]\\n    elif qu_fence == \"outer\":\\n        output_dataset = qu_dataset[qu_dataset[qu_field]<=upper_outer_fence]\\n        output_dataset = output_dataset[output_dataset[qu_field]>=lower_outer_fence]\\n    else:\\n        output_dataset = qu_dataset\\n    \\n    print(\"length of input dataframe:\", len(qu_dataset))\\n    print(\"length of new dataframe after outlier removal:\", len(output_dataset))\\n    \\n    return output_dataset'"
      ]
     },
     "execution_count": 21,
     "metadata": {},
     "output_type": "execute_result"
    }
   ],
   "source": [
    "'''def remove_outliers_using_quantiles(qu_dataset, qu_field, qu_fence):\n",
    "    a = qu_dataset[qu_field].describe()\n",
    "    \n",
    "    iqr = a[\"75%\"] - a[\"25%\"]\n",
    "    print(\"interquartile range:\", iqr)\n",
    "    \n",
    "    upper_inner_fence = a[\"75%\"] + 1.5 * iqr\n",
    "    lower_inner_fence = a[\"25%\"] - 1.5 * iqr\n",
    "    print(\"upper_inner_fence:\", upper_inner_fence)\n",
    "    print(\"lower_inner_fence:\", lower_inner_fence)\n",
    "    \n",
    "    upper_outer_fence = a[\"75%\"] + 3 * iqr\n",
    "    lower_outer_fence = a[\"25%\"] - 3 * iqr\n",
    "    print(\"upper_outer_fence:\", upper_outer_fence)\n",
    "    print(\"lower_outer_fence:\", lower_outer_fence)\n",
    "    \n",
    "    count_over_upper = len(qu_dataset[qu_dataset[qu_field]>upper_inner_fence])\n",
    "    count_under_lower = len(qu_dataset[qu_dataset[qu_field]<lower_inner_fence])\n",
    "    percentage = 100 * (count_under_lower + count_over_upper) / a[\"count\"]\n",
    "    print(\"percentage of records out of inner fences: %.2f\"% (percentage))\n",
    "    \n",
    "    count_over_upper = len(qu_dataset[qu_dataset[qu_field]>upper_outer_fence])\n",
    "    count_under_lower = len(qu_dataset[qu_dataset[qu_field]<lower_outer_fence])\n",
    "    percentage = 100 * (count_under_lower + count_over_upper) / a[\"count\"]\n",
    "    print(\"percentage of records out of outer fences: %.2f\"% (percentage))\n",
    "    \n",
    "    if qu_fence == \"inner\":\n",
    "        output_dataset = qu_dataset[qu_dataset[qu_field]<=upper_inner_fence]\n",
    "        output_dataset = output_dataset[output_dataset[qu_field]>=lower_inner_fence]\n",
    "    elif qu_fence == \"outer\":\n",
    "        output_dataset = qu_dataset[qu_dataset[qu_field]<=upper_outer_fence]\n",
    "        output_dataset = output_dataset[output_dataset[qu_field]>=lower_outer_fence]\n",
    "    else:\n",
    "        output_dataset = qu_dataset\n",
    "    \n",
    "    print(\"length of input dataframe:\", len(qu_dataset))\n",
    "    print(\"length of new dataframe after outlier removal:\", len(output_dataset))\n",
    "    \n",
    "    return output_dataset'''"
   ]
  },
  {
   "cell_type": "code",
   "execution_count": 22,
   "metadata": {
    "execution": {
     "iopub.execute_input": "2020-10-10T06:37:11.825311Z",
     "iopub.status.busy": "2020-10-10T06:37:11.824487Z",
     "iopub.status.idle": "2020-10-10T06:37:11.827992Z",
     "shell.execute_reply": "2020-10-10T06:37:11.827373Z"
    },
    "papermill": {
     "duration": 0.092999,
     "end_time": "2020-10-10T06:37:11.828134",
     "exception": false,
     "start_time": "2020-10-10T06:37:11.735135",
     "status": "completed"
    },
    "tags": []
   },
   "outputs": [],
   "source": [
    "#train = remove_outliers_using_quantiles(train, \"TARGET(PRICE_IN_LACS)\", \"inner\")"
   ]
  },
  {
   "cell_type": "code",
   "execution_count": 23,
   "metadata": {
    "execution": {
     "iopub.execute_input": "2020-10-10T06:37:12.013981Z",
     "iopub.status.busy": "2020-10-10T06:37:12.012546Z",
     "iopub.status.idle": "2020-10-10T06:37:12.237517Z",
     "shell.execute_reply": "2020-10-10T06:37:12.236703Z"
    },
    "papermill": {
     "duration": 0.324919,
     "end_time": "2020-10-10T06:37:12.237670",
     "exception": false,
     "start_time": "2020-10-10T06:37:11.912751",
     "status": "completed"
    },
    "tags": []
   },
   "outputs": [
    {
     "data": {
      "image/png": "[encoded data removed]",
      "text/plain": [
       "<Figure size 432x288 with 1 Axes>"
      ]
     },
     "metadata": {
      "needs_background": "light"
     },
     "output_type": "display_data"
    }
   ],
   "source": [
    "fig,ax = plt.subplots()\n",
    "ax.scatter(train[\"SQUARE_FT\"],train[\"TARGET(PRICE_IN_LACS)\"])\n",
    "plt.ylabel('Price', fontsize=13)\n",
    "plt.xlabel('Square foot area', fontsize=13)\n",
    "plt.show()\n"
   ]
  },
  {
   "cell_type": "code",
   "execution_count": 24,
   "metadata": {
    "execution": {
     "iopub.execute_input": "2020-10-10T06:37:12.414220Z",
     "iopub.status.busy": "2020-10-10T06:37:12.413262Z",
     "iopub.status.idle": "2020-10-10T06:37:12.415621Z",
     "shell.execute_reply": "2020-10-10T06:37:12.416162Z"
    },
    "papermill": {
     "duration": 0.092723,
     "end_time": "2020-10-10T06:37:12.416327",
     "exception": false,
     "start_time": "2020-10-10T06:37:12.323604",
     "status": "completed"
    },
    "tags": []
   },
   "outputs": [],
   "source": [
    "#train = train.drop(train[(train['TARGET(PRICE_IN_LACS)']>10)].index)"
   ]
  },
  {
   "cell_type": "code",
   "execution_count": 25,
   "metadata": {
    "execution": {
     "iopub.execute_input": "2020-10-10T06:37:12.592799Z",
     "iopub.status.busy": "2020-10-10T06:37:12.591992Z",
     "iopub.status.idle": "2020-10-10T06:37:12.595346Z",
     "shell.execute_reply": "2020-10-10T06:37:12.594734Z"
    },
    "papermill": {
     "duration": 0.093328,
     "end_time": "2020-10-10T06:37:12.595464",
     "exception": false,
     "start_time": "2020-10-10T06:37:12.502136",
     "status": "completed"
    },
    "tags": []
   },
   "outputs": [],
   "source": [
    "#train = train.drop(train[(train['SQUARE_FT']>250000)].index)"
   ]
  },
  {
   "cell_type": "code",
   "execution_count": 26,
   "metadata": {
    "execution": {
     "iopub.execute_input": "2020-10-10T06:37:12.776768Z",
     "iopub.status.busy": "2020-10-10T06:37:12.775569Z",
     "iopub.status.idle": "2020-10-10T06:37:12.886405Z",
     "shell.execute_reply": "2020-10-10T06:37:12.885750Z"
    },
    "papermill": {
     "duration": 0.205101,
     "end_time": "2020-10-10T06:37:12.886529",
     "exception": false,
     "start_time": "2020-10-10T06:37:12.681428",
     "status": "completed"
    },
    "tags": []
   },
   "outputs": [
    {
     "data": {
      "text/html": [
       "<div>\n",
       "<style scoped>\n",
       "    .dataframe tbody tr th:only-of-type {\n",
       "        vertical-align: middle;\n",
       "    }\n",
       "\n",
       "    .dataframe tbody tr th {\n",
       "        vertical-align: top;\n",
       "    }\n",
       "\n",
       "    .dataframe thead th {\n",
       "        text-align: right;\n",
       "    }\n",
       "</style>\n",
       "<table border=\"1\" class=\"dataframe\">\n",
       "  <thead>\n",
       "    <tr style=\"text-align: right;\">\n",
       "      <th></th>\n",
       "      <th>count</th>\n",
       "      <th>mean</th>\n",
       "      <th>std</th>\n",
       "      <th>min</th>\n",
       "      <th>25%</th>\n",
       "      <th>50%</th>\n",
       "      <th>75%</th>\n",
       "      <th>max</th>\n",
       "    </tr>\n",
       "  </thead>\n",
       "  <tbody>\n",
       "    <tr>\n",
       "      <th>POSTED_BY</th>\n",
       "      <td>68720.0</td>\n",
       "      <td>0.657203</td>\n",
       "      <td>0.514742</td>\n",
       "      <td>0.000000</td>\n",
       "      <td>0.000000</td>\n",
       "      <td>1.000000</td>\n",
       "      <td>1.000000</td>\n",
       "      <td>2.000000e+00</td>\n",
       "    </tr>\n",
       "    <tr>\n",
       "      <th>UNDER_CONSTRUCTION</th>\n",
       "      <td>68720.0</td>\n",
       "      <td>0.176557</td>\n",
       "      <td>0.381296</td>\n",
       "      <td>0.000000</td>\n",
       "      <td>0.000000</td>\n",
       "      <td>0.000000</td>\n",
       "      <td>0.000000</td>\n",
       "      <td>1.000000e+00</td>\n",
       "    </tr>\n",
       "    <tr>\n",
       "      <th>RERA</th>\n",
       "      <td>68720.0</td>\n",
       "      <td>0.316531</td>\n",
       "      <td>0.465126</td>\n",
       "      <td>0.000000</td>\n",
       "      <td>0.000000</td>\n",
       "      <td>0.000000</td>\n",
       "      <td>1.000000</td>\n",
       "      <td>1.000000e+00</td>\n",
       "    </tr>\n",
       "    <tr>\n",
       "      <th>BHK_NO.</th>\n",
       "      <td>68720.0</td>\n",
       "      <td>2.388198</td>\n",
       "      <td>0.864577</td>\n",
       "      <td>1.000000</td>\n",
       "      <td>2.000000</td>\n",
       "      <td>2.000000</td>\n",
       "      <td>3.000000</td>\n",
       "      <td>3.100000e+01</td>\n",
       "    </tr>\n",
       "    <tr>\n",
       "      <th>BHK_OR_RK</th>\n",
       "      <td>68720.0</td>\n",
       "      <td>0.000844</td>\n",
       "      <td>0.029040</td>\n",
       "      <td>0.000000</td>\n",
       "      <td>0.000000</td>\n",
       "      <td>0.000000</td>\n",
       "      <td>0.000000</td>\n",
       "      <td>1.000000e+00</td>\n",
       "    </tr>\n",
       "    <tr>\n",
       "      <th>SQUARE_FT</th>\n",
       "      <td>68720.0</td>\n",
       "      <td>2762.418558</td>\n",
       "      <td>164099.148524</td>\n",
       "      <td>1.000000</td>\n",
       "      <td>900.031031</td>\n",
       "      <td>1174.981923</td>\n",
       "      <td>1550.264643</td>\n",
       "      <td>4.016393e+07</td>\n",
       "    </tr>\n",
       "    <tr>\n",
       "      <th>READY_TO_MOVE</th>\n",
       "      <td>68720.0</td>\n",
       "      <td>0.823443</td>\n",
       "      <td>0.381296</td>\n",
       "      <td>0.000000</td>\n",
       "      <td>1.000000</td>\n",
       "      <td>1.000000</td>\n",
       "      <td>1.000000</td>\n",
       "      <td>1.000000e+00</td>\n",
       "    </tr>\n",
       "    <tr>\n",
       "      <th>RESALE</th>\n",
       "      <td>68720.0</td>\n",
       "      <td>0.933498</td>\n",
       "      <td>0.249159</td>\n",
       "      <td>0.000000</td>\n",
       "      <td>1.000000</td>\n",
       "      <td>1.000000</td>\n",
       "      <td>1.000000</td>\n",
       "      <td>1.000000e+00</td>\n",
       "    </tr>\n",
       "    <tr>\n",
       "      <th>LONGITUDE</th>\n",
       "      <td>68720.0</td>\n",
       "      <td>21.288045</td>\n",
       "      <td>6.179034</td>\n",
       "      <td>-38.391261</td>\n",
       "      <td>18.452663</td>\n",
       "      <td>20.933260</td>\n",
       "      <td>26.888396</td>\n",
       "      <td>6.518333e+01</td>\n",
       "    </tr>\n",
       "    <tr>\n",
       "      <th>LATITUDE</th>\n",
       "      <td>68720.0</td>\n",
       "      <td>76.919388</td>\n",
       "      <td>10.100950</td>\n",
       "      <td>-118.354100</td>\n",
       "      <td>73.798100</td>\n",
       "      <td>77.324966</td>\n",
       "      <td>78.000723</td>\n",
       "      <td>1.752780e+02</td>\n",
       "    </tr>\n",
       "  </tbody>\n",
       "</table>\n",
       "</div>"
      ],
      "text/plain": [
       "                      count         mean            std         min  \\\n",
       "POSTED_BY           68720.0     0.657203       0.514742    0.000000   \n",
       "UNDER_CONSTRUCTION  68720.0     0.176557       0.381296    0.000000   \n",
       "RERA                68720.0     0.316531       0.465126    0.000000   \n",
       "BHK_NO.             68720.0     2.388198       0.864577    1.000000   \n",
       "BHK_OR_RK           68720.0     0.000844       0.029040    0.000000   \n",
       "SQUARE_FT           68720.0  2762.418558  164099.148524    1.000000   \n",
       "READY_TO_MOVE       68720.0     0.823443       0.381296    0.000000   \n",
       "RESALE              68720.0     0.933498       0.249159    0.000000   \n",
       "LONGITUDE           68720.0    21.288045       6.179034  -38.391261   \n",
       "LATITUDE            68720.0    76.919388      10.100950 -118.354100   \n",
       "\n",
       "                           25%          50%          75%           max  \n",
       "POSTED_BY             0.000000     1.000000     1.000000  2.000000e+00  \n",
       "UNDER_CONSTRUCTION    0.000000     0.000000     0.000000  1.000000e+00  \n",
       "RERA                  0.000000     0.000000     1.000000  1.000000e+00  \n",
       "BHK_NO.               2.000000     2.000000     3.000000  3.100000e+01  \n",
       "BHK_OR_RK             0.000000     0.000000     0.000000  1.000000e+00  \n",
       "SQUARE_FT           900.031031  1174.981923  1550.264643  4.016393e+07  \n",
       "READY_TO_MOVE         1.000000     1.000000     1.000000  1.000000e+00  \n",
       "RESALE                1.000000     1.000000     1.000000  1.000000e+00  \n",
       "LONGITUDE            18.452663    20.933260    26.888396  6.518333e+01  \n",
       "LATITUDE             73.798100    77.324966    78.000723  1.752780e+02  "
      ]
     },
     "execution_count": 26,
     "metadata": {},
     "output_type": "execute_result"
    }
   ],
   "source": [
    "train.describe().T\n",
    "test.describe().T"
   ]
  },
  {
   "cell_type": "code",
   "execution_count": 27,
   "metadata": {
    "execution": {
     "iopub.execute_input": "2020-10-10T06:37:13.069841Z",
     "iopub.status.busy": "2020-10-10T06:37:13.068734Z",
     "iopub.status.idle": "2020-10-10T06:37:13.072509Z",
     "shell.execute_reply": "2020-10-10T06:37:13.071752Z"
    },
    "papermill": {
     "duration": 0.098725,
     "end_time": "2020-10-10T06:37:13.072632",
     "exception": false,
     "start_time": "2020-10-10T06:37:12.973907",
     "status": "completed"
    },
    "tags": []
   },
   "outputs": [],
   "source": [
    "import re\n",
    "def rep(text):\n",
    " text_new=(re.sub(\"[^a-zA-Z]\", \" \", text))\n",
    " return text_new\n",
    "def city(address):\n",
    " city_name=address.split()[-1]\n",
    " return city_name"
   ]
  },
  {
   "cell_type": "code",
   "execution_count": 28,
   "metadata": {
    "execution": {
     "iopub.execute_input": "2020-10-10T06:37:13.258262Z",
     "iopub.status.busy": "2020-10-10T06:37:13.257125Z",
     "iopub.status.idle": "2020-10-10T06:37:13.722686Z",
     "shell.execute_reply": "2020-10-10T06:37:13.721877Z"
    },
    "papermill": {
     "duration": 0.561969,
     "end_time": "2020-10-10T06:37:13.722816",
     "exception": false,
     "start_time": "2020-10-10T06:37:13.160847",
     "status": "completed"
    },
    "tags": []
   },
   "outputs": [],
   "source": [
    "train['ADDRESS']=train['ADDRESS'].apply(lambda x : rep(x))\n",
    "train['CITY']=train['ADDRESS'].apply(lambda x : city(x))\n",
    "\n",
    "test['ADDRESS']=test['ADDRESS'].apply(lambda x : rep(x))\n",
    "test['CITY']=test['ADDRESS'].apply(lambda x : city(x))"
   ]
  },
  {
   "cell_type": "code",
   "execution_count": 29,
   "metadata": {
    "execution": {
     "iopub.execute_input": "2020-10-10T06:37:13.908954Z",
     "iopub.status.busy": "2020-10-10T06:37:13.906013Z",
     "iopub.status.idle": "2020-10-10T06:37:13.942884Z",
     "shell.execute_reply": "2020-10-10T06:37:13.942222Z"
    },
    "papermill": {
     "duration": 0.131627,
     "end_time": "2020-10-10T06:37:13.943023",
     "exception": false,
     "start_time": "2020-10-10T06:37:13.811396",
     "status": "completed"
    },
    "tags": []
   },
   "outputs": [],
   "source": [
    "Encoding = train.groupby('CITY')['TARGET(PRICE_IN_LACS)'].mean()\n",
    "train['CITY']= train.CITY.map(Encoding )\n",
    "test['CITY']= test.CITY.map(Encoding )"
   ]
  },
  {
   "cell_type": "code",
   "execution_count": 30,
   "metadata": {
    "execution": {
     "iopub.execute_input": "2020-10-10T06:37:14.138569Z",
     "iopub.status.busy": "2020-10-10T06:37:14.137641Z",
     "iopub.status.idle": "2020-10-10T06:37:14.142834Z",
     "shell.execute_reply": "2020-10-10T06:37:14.142182Z"
    },
    "papermill": {
     "duration": 0.110881,
     "end_time": "2020-10-10T06:37:14.142962",
     "exception": false,
     "start_time": "2020-10-10T06:37:14.032081",
     "status": "completed"
    },
    "tags": []
   },
   "outputs": [
    {
     "data": {
      "text/html": [
       "<div>\n",
       "<style scoped>\n",
       "    .dataframe tbody tr th:only-of-type {\n",
       "        vertical-align: middle;\n",
       "    }\n",
       "\n",
       "    .dataframe tbody tr th {\n",
       "        vertical-align: top;\n",
       "    }\n",
       "\n",
       "    .dataframe thead th {\n",
       "        text-align: right;\n",
       "    }\n",
       "</style>\n",
       "<table border=\"1\" class=\"dataframe\">\n",
       "  <thead>\n",
       "    <tr style=\"text-align: right;\">\n",
       "      <th></th>\n",
       "      <th>POSTED_BY</th>\n",
       "      <th>UNDER_CONSTRUCTION</th>\n",
       "      <th>RERA</th>\n",
       "      <th>BHK_NO.</th>\n",
       "      <th>BHK_OR_RK</th>\n",
       "      <th>SQUARE_FT</th>\n",
       "      <th>READY_TO_MOVE</th>\n",
       "      <th>RESALE</th>\n",
       "      <th>ADDRESS</th>\n",
       "      <th>LONGITUDE</th>\n",
       "      <th>LATITUDE</th>\n",
       "      <th>TARGET(PRICE_IN_LACS)</th>\n",
       "      <th>CITY</th>\n",
       "    </tr>\n",
       "  </thead>\n",
       "  <tbody>\n",
       "    <tr>\n",
       "      <th>0</th>\n",
       "      <td>0</td>\n",
       "      <td>0</td>\n",
       "      <td>0</td>\n",
       "      <td>2</td>\n",
       "      <td>0</td>\n",
       "      <td>1300.236407</td>\n",
       "      <td>1</td>\n",
       "      <td>1</td>\n",
       "      <td>Ksfc Layout Bangalore</td>\n",
       "      <td>12.969910</td>\n",
       "      <td>77.597960</td>\n",
       "      <td>4.025352</td>\n",
       "      <td>4.456091</td>\n",
       "    </tr>\n",
       "    <tr>\n",
       "      <th>1</th>\n",
       "      <td>1</td>\n",
       "      <td>0</td>\n",
       "      <td>0</td>\n",
       "      <td>2</td>\n",
       "      <td>0</td>\n",
       "      <td>1275.000000</td>\n",
       "      <td>1</td>\n",
       "      <td>1</td>\n",
       "      <td>Vishweshwara Nagar Mysore</td>\n",
       "      <td>12.274538</td>\n",
       "      <td>76.644605</td>\n",
       "      <td>3.951244</td>\n",
       "      <td>4.097937</td>\n",
       "    </tr>\n",
       "    <tr>\n",
       "      <th>2</th>\n",
       "      <td>0</td>\n",
       "      <td>0</td>\n",
       "      <td>0</td>\n",
       "      <td>2</td>\n",
       "      <td>0</td>\n",
       "      <td>933.159722</td>\n",
       "      <td>1</td>\n",
       "      <td>1</td>\n",
       "      <td>Jigani Bangalore</td>\n",
       "      <td>12.778033</td>\n",
       "      <td>77.632191</td>\n",
       "      <td>3.784190</td>\n",
       "      <td>4.456091</td>\n",
       "    </tr>\n",
       "    <tr>\n",
       "      <th>3</th>\n",
       "      <td>0</td>\n",
       "      <td>0</td>\n",
       "      <td>1</td>\n",
       "      <td>2</td>\n",
       "      <td>0</td>\n",
       "      <td>929.921143</td>\n",
       "      <td>1</td>\n",
       "      <td>1</td>\n",
       "      <td>Sector   Vaishali Ghaziabad</td>\n",
       "      <td>28.642300</td>\n",
       "      <td>77.344500</td>\n",
       "      <td>4.151040</td>\n",
       "      <td>3.840646</td>\n",
       "    </tr>\n",
       "    <tr>\n",
       "      <th>4</th>\n",
       "      <td>1</td>\n",
       "      <td>1</td>\n",
       "      <td>0</td>\n",
       "      <td>2</td>\n",
       "      <td>0</td>\n",
       "      <td>999.009247</td>\n",
       "      <td>0</td>\n",
       "      <td>1</td>\n",
       "      <td>New Town Kolkata</td>\n",
       "      <td>22.592200</td>\n",
       "      <td>88.484911</td>\n",
       "      <td>4.119037</td>\n",
       "      <td>4.003438</td>\n",
       "    </tr>\n",
       "  </tbody>\n",
       "</table>\n",
       "</div>"
      ],
      "text/plain": [
       "   POSTED_BY  UNDER_CONSTRUCTION  RERA  BHK_NO.  BHK_OR_RK    SQUARE_FT  \\\n",
       "0          0                   0     0        2          0  1300.236407   \n",
       "1          1                   0     0        2          0  1275.000000   \n",
       "2          0                   0     0        2          0   933.159722   \n",
       "3          0                   0     1        2          0   929.921143   \n",
       "4          1                   1     0        2          0   999.009247   \n",
       "\n",
       "   READY_TO_MOVE  RESALE                      ADDRESS  LONGITUDE   LATITUDE  \\\n",
       "0              1       1        Ksfc Layout Bangalore  12.969910  77.597960   \n",
       "1              1       1    Vishweshwara Nagar Mysore  12.274538  76.644605   \n",
       "2              1       1             Jigani Bangalore  12.778033  77.632191   \n",
       "3              1       1  Sector   Vaishali Ghaziabad  28.642300  77.344500   \n",
       "4              0       1             New Town Kolkata  22.592200  88.484911   \n",
       "\n",
       "   TARGET(PRICE_IN_LACS)      CITY  \n",
       "0               4.025352  4.456091  \n",
       "1               3.951244  4.097937  \n",
       "2               3.784190  4.456091  \n",
       "3               4.151040  3.840646  \n",
       "4               4.119037  4.003438  "
      ]
     },
     "execution_count": 30,
     "metadata": {},
     "output_type": "execute_result"
    }
   ],
   "source": [
    "train.head()"
   ]
  },
  {
   "cell_type": "code",
   "execution_count": 31,
   "metadata": {
    "execution": {
     "iopub.execute_input": "2020-10-10T06:37:14.339865Z",
     "iopub.status.busy": "2020-10-10T06:37:14.338473Z",
     "iopub.status.idle": "2020-10-10T06:37:14.567345Z",
     "shell.execute_reply": "2020-10-10T06:37:14.566716Z"
    },
    "papermill": {
     "duration": 0.335368,
     "end_time": "2020-10-10T06:37:14.567479",
     "exception": false,
     "start_time": "2020-10-10T06:37:14.232111",
     "status": "completed"
    },
    "tags": []
   },
   "outputs": [
    {
     "data": {
      "image/png": "[encoded data removed]",
      "text/plain": [
       "<Figure size 432x288 with 1 Axes>"
      ]
     },
     "metadata": {
      "needs_background": "light"
     },
     "output_type": "display_data"
    }
   ],
   "source": [
    "fig,ax = plt.subplots()\n",
    "ax.scatter(train[\"BHK_NO.\"],train[\"TARGET(PRICE_IN_LACS)\"])\n",
    "plt.ylabel('Price', fontsize=13)\n",
    "plt.xlabel('BHK', fontsize=13)\n",
    "plt.show()\n"
   ]
  },
  {
   "cell_type": "code",
   "execution_count": 32,
   "metadata": {
    "execution": {
     "iopub.execute_input": "2020-10-10T06:37:14.757490Z",
     "iopub.status.busy": "2020-10-10T06:37:14.756661Z",
     "iopub.status.idle": "2020-10-10T06:37:14.788062Z",
     "shell.execute_reply": "2020-10-10T06:37:14.787332Z"
    },
    "papermill": {
     "duration": 0.131873,
     "end_time": "2020-10-10T06:37:14.788198",
     "exception": false,
     "start_time": "2020-10-10T06:37:14.656325",
     "status": "completed"
    },
    "tags": []
   },
   "outputs": [],
   "source": [
    "train['SQ_FT/ROOM']=train['SQUARE_FT']/train['BHK_NO.']\n",
    "test['SQ_FT/ROOM']=test['SQUARE_FT']/test['BHK_NO.']"
   ]
  },
  {
   "cell_type": "code",
   "execution_count": 33,
   "metadata": {
    "execution": {
     "iopub.execute_input": "2020-10-10T06:37:14.994868Z",
     "iopub.status.busy": "2020-10-10T06:37:14.993651Z",
     "iopub.status.idle": "2020-10-10T06:37:15.023087Z",
     "shell.execute_reply": "2020-10-10T06:37:15.023736Z"
    },
    "papermill": {
     "duration": 0.137307,
     "end_time": "2020-10-10T06:37:15.023901",
     "exception": false,
     "start_time": "2020-10-10T06:37:14.886594",
     "status": "completed"
    },
    "tags": []
   },
   "outputs": [
    {
     "name": "stdout",
     "output_type": "stream",
     "text": [
      "TARGET(PRICE_IN_LACS)    1.000000\n",
      "CITY                     0.553560\n",
      "BHK_NO.                  0.479669\n",
      "POSTED_BY                0.311873\n",
      "RERA                     0.142783\n",
      "Name: TARGET(PRICE_IN_LACS), dtype: float64 \n",
      "\n",
      "BHK_OR_RK       -0.021759\n",
      "READY_TO_MOVE   -0.048011\n",
      "LATITUDE        -0.062802\n",
      "RESALE          -0.095394\n",
      "LONGITUDE       -0.128566\n",
      "Name: TARGET(PRICE_IN_LACS), dtype: float64\n"
     ]
    }
   ],
   "source": [
    "corr = train.corr()\n",
    "\n",
    "print (corr['TARGET(PRICE_IN_LACS)'].sort_values(ascending=False)[:5], '\\n')\n",
    "print (corr['TARGET(PRICE_IN_LACS)'].sort_values(ascending=False)[-5:])"
   ]
  },
  {
   "cell_type": "code",
   "execution_count": 34,
   "metadata": {
    "execution": {
     "iopub.execute_input": "2020-10-10T06:37:15.219984Z",
     "iopub.status.busy": "2020-10-10T06:37:15.219226Z",
     "iopub.status.idle": "2020-10-10T06:37:16.222563Z",
     "shell.execute_reply": "2020-10-10T06:37:16.223155Z"
    },
    "papermill": {
     "duration": 1.106412,
     "end_time": "2020-10-10T06:37:16.223310",
     "exception": false,
     "start_time": "2020-10-10T06:37:15.116898",
     "status": "completed"
    },
    "tags": []
   },
   "outputs": [
    {
     "data": {
      "text/plain": [
       "<matplotlib.axes._subplots.AxesSubplot at 0x7fdb88917950>"
      ]
     },
     "execution_count": 34,
     "metadata": {},
     "output_type": "execute_result"
    },
    {
     "data": {
      "image/png": "[encoded data removed]",
      "text/plain": [
       "<Figure size 1440x720 with 2 Axes>"
      ]
     },
     "metadata": {
      "needs_background": "light"
     },
     "output_type": "display_data"
    }
   ],
   "source": [
    "plt.figure(figsize=(20,10))\n",
    "corr=train.corr()\n",
    "sns.heatmap(corr,annot=True)\n"
   ]
  },
  {
   "cell_type": "code",
   "execution_count": 35,
   "metadata": {
    "execution": {
     "iopub.execute_input": "2020-10-10T06:37:16.432572Z",
     "iopub.status.busy": "2020-10-10T06:37:16.431386Z",
     "iopub.status.idle": "2020-10-10T06:37:16.436491Z",
     "shell.execute_reply": "2020-10-10T06:37:16.435746Z"
    },
    "papermill": {
     "duration": 0.118753,
     "end_time": "2020-10-10T06:37:16.436614",
     "exception": false,
     "start_time": "2020-10-10T06:37:16.317861",
     "status": "completed"
    },
    "tags": []
   },
   "outputs": [
    {
     "data": {
      "text/html": [
       "<div>\n",
       "<style scoped>\n",
       "    .dataframe tbody tr th:only-of-type {\n",
       "        vertical-align: middle;\n",
       "    }\n",
       "\n",
       "    .dataframe tbody tr th {\n",
       "        vertical-align: top;\n",
       "    }\n",
       "\n",
       "    .dataframe thead th {\n",
       "        text-align: right;\n",
       "    }\n",
       "</style>\n",
       "<table border=\"1\" class=\"dataframe\">\n",
       "  <thead>\n",
       "    <tr style=\"text-align: right;\">\n",
       "      <th></th>\n",
       "      <th>POSTED_BY</th>\n",
       "      <th>UNDER_CONSTRUCTION</th>\n",
       "      <th>RERA</th>\n",
       "      <th>BHK_NO.</th>\n",
       "      <th>BHK_OR_RK</th>\n",
       "      <th>SQUARE_FT</th>\n",
       "      <th>READY_TO_MOVE</th>\n",
       "      <th>RESALE</th>\n",
       "      <th>ADDRESS</th>\n",
       "      <th>LONGITUDE</th>\n",
       "      <th>LATITUDE</th>\n",
       "      <th>TARGET(PRICE_IN_LACS)</th>\n",
       "      <th>CITY</th>\n",
       "      <th>SQ_FT/ROOM</th>\n",
       "    </tr>\n",
       "  </thead>\n",
       "  <tbody>\n",
       "    <tr>\n",
       "      <th>0</th>\n",
       "      <td>0</td>\n",
       "      <td>0</td>\n",
       "      <td>0</td>\n",
       "      <td>2</td>\n",
       "      <td>0</td>\n",
       "      <td>1300.236407</td>\n",
       "      <td>1</td>\n",
       "      <td>1</td>\n",
       "      <td>Ksfc Layout Bangalore</td>\n",
       "      <td>12.969910</td>\n",
       "      <td>77.597960</td>\n",
       "      <td>4.025352</td>\n",
       "      <td>4.456091</td>\n",
       "      <td>650.118204</td>\n",
       "    </tr>\n",
       "    <tr>\n",
       "      <th>1</th>\n",
       "      <td>1</td>\n",
       "      <td>0</td>\n",
       "      <td>0</td>\n",
       "      <td>2</td>\n",
       "      <td>0</td>\n",
       "      <td>1275.000000</td>\n",
       "      <td>1</td>\n",
       "      <td>1</td>\n",
       "      <td>Vishweshwara Nagar Mysore</td>\n",
       "      <td>12.274538</td>\n",
       "      <td>76.644605</td>\n",
       "      <td>3.951244</td>\n",
       "      <td>4.097937</td>\n",
       "      <td>637.500000</td>\n",
       "    </tr>\n",
       "    <tr>\n",
       "      <th>2</th>\n",
       "      <td>0</td>\n",
       "      <td>0</td>\n",
       "      <td>0</td>\n",
       "      <td>2</td>\n",
       "      <td>0</td>\n",
       "      <td>933.159722</td>\n",
       "      <td>1</td>\n",
       "      <td>1</td>\n",
       "      <td>Jigani Bangalore</td>\n",
       "      <td>12.778033</td>\n",
       "      <td>77.632191</td>\n",
       "      <td>3.784190</td>\n",
       "      <td>4.456091</td>\n",
       "      <td>466.579861</td>\n",
       "    </tr>\n",
       "    <tr>\n",
       "      <th>3</th>\n",
       "      <td>0</td>\n",
       "      <td>0</td>\n",
       "      <td>1</td>\n",
       "      <td>2</td>\n",
       "      <td>0</td>\n",
       "      <td>929.921143</td>\n",
       "      <td>1</td>\n",
       "      <td>1</td>\n",
       "      <td>Sector   Vaishali Ghaziabad</td>\n",
       "      <td>28.642300</td>\n",
       "      <td>77.344500</td>\n",
       "      <td>4.151040</td>\n",
       "      <td>3.840646</td>\n",
       "      <td>464.960571</td>\n",
       "    </tr>\n",
       "    <tr>\n",
       "      <th>4</th>\n",
       "      <td>1</td>\n",
       "      <td>1</td>\n",
       "      <td>0</td>\n",
       "      <td>2</td>\n",
       "      <td>0</td>\n",
       "      <td>999.009247</td>\n",
       "      <td>0</td>\n",
       "      <td>1</td>\n",
       "      <td>New Town Kolkata</td>\n",
       "      <td>22.592200</td>\n",
       "      <td>88.484911</td>\n",
       "      <td>4.119037</td>\n",
       "      <td>4.003438</td>\n",
       "      <td>499.504623</td>\n",
       "    </tr>\n",
       "  </tbody>\n",
       "</table>\n",
       "</div>"
      ],
      "text/plain": [
       "   POSTED_BY  UNDER_CONSTRUCTION  RERA  BHK_NO.  BHK_OR_RK    SQUARE_FT  \\\n",
       "0          0                   0     0        2          0  1300.236407   \n",
       "1          1                   0     0        2          0  1275.000000   \n",
       "2          0                   0     0        2          0   933.159722   \n",
       "3          0                   0     1        2          0   929.921143   \n",
       "4          1                   1     0        2          0   999.009247   \n",
       "\n",
       "   READY_TO_MOVE  RESALE                      ADDRESS  LONGITUDE   LATITUDE  \\\n",
       "0              1       1        Ksfc Layout Bangalore  12.969910  77.597960   \n",
       "1              1       1    Vishweshwara Nagar Mysore  12.274538  76.644605   \n",
       "2              1       1             Jigani Bangalore  12.778033  77.632191   \n",
       "3              1       1  Sector   Vaishali Ghaziabad  28.642300  77.344500   \n",
       "4              0       1             New Town Kolkata  22.592200  88.484911   \n",
       "\n",
       "   TARGET(PRICE_IN_LACS)      CITY  SQ_FT/ROOM  \n",
       "0               4.025352  4.456091  650.118204  \n",
       "1               3.951244  4.097937  637.500000  \n",
       "2               3.784190  4.456091  466.579861  \n",
       "3               4.151040  3.840646  464.960571  \n",
       "4               4.119037  4.003438  499.504623  "
      ]
     },
     "execution_count": 35,
     "metadata": {},
     "output_type": "execute_result"
    }
   ],
   "source": [
    "train.head()"
   ]
  },
  {
   "cell_type": "code",
   "execution_count": 36,
   "metadata": {
    "execution": {
     "iopub.execute_input": "2020-10-10T06:37:16.690801Z",
     "iopub.status.busy": "2020-10-10T06:37:16.689680Z",
     "iopub.status.idle": "2020-10-10T06:37:16.693874Z",
     "shell.execute_reply": "2020-10-10T06:37:16.694598Z"
    },
    "papermill": {
     "duration": 0.117199,
     "end_time": "2020-10-10T06:37:16.694750",
     "exception": false,
     "start_time": "2020-10-10T06:37:16.577551",
     "status": "completed"
    },
    "tags": []
   },
   "outputs": [
    {
     "data": {
      "text/html": [
       "<div>\n",
       "<style scoped>\n",
       "    .dataframe tbody tr th:only-of-type {\n",
       "        vertical-align: middle;\n",
       "    }\n",
       "\n",
       "    .dataframe tbody tr th {\n",
       "        vertical-align: top;\n",
       "    }\n",
       "\n",
       "    .dataframe thead th {\n",
       "        text-align: right;\n",
       "    }\n",
       "</style>\n",
       "<table border=\"1\" class=\"dataframe\">\n",
       "  <thead>\n",
       "    <tr style=\"text-align: right;\">\n",
       "      <th></th>\n",
       "      <th>POSTED_BY</th>\n",
       "      <th>UNDER_CONSTRUCTION</th>\n",
       "      <th>RERA</th>\n",
       "      <th>BHK_NO.</th>\n",
       "      <th>BHK_OR_RK</th>\n",
       "      <th>SQUARE_FT</th>\n",
       "      <th>READY_TO_MOVE</th>\n",
       "      <th>RESALE</th>\n",
       "      <th>ADDRESS</th>\n",
       "      <th>LONGITUDE</th>\n",
       "      <th>LATITUDE</th>\n",
       "      <th>CITY</th>\n",
       "      <th>SQ_FT/ROOM</th>\n",
       "    </tr>\n",
       "  </thead>\n",
       "  <tbody>\n",
       "    <tr>\n",
       "      <th>0</th>\n",
       "      <td>0</td>\n",
       "      <td>0</td>\n",
       "      <td>0</td>\n",
       "      <td>1</td>\n",
       "      <td>0</td>\n",
       "      <td>545.171340</td>\n",
       "      <td>1</td>\n",
       "      <td>1</td>\n",
       "      <td>Kamrej Surat</td>\n",
       "      <td>21.262000</td>\n",
       "      <td>73.047700</td>\n",
       "      <td>3.771845</td>\n",
       "      <td>545.171340</td>\n",
       "    </tr>\n",
       "    <tr>\n",
       "      <th>1</th>\n",
       "      <td>1</td>\n",
       "      <td>1</td>\n",
       "      <td>1</td>\n",
       "      <td>2</td>\n",
       "      <td>0</td>\n",
       "      <td>800.000000</td>\n",
       "      <td>0</td>\n",
       "      <td>0</td>\n",
       "      <td>Panvel Lalitpur</td>\n",
       "      <td>18.966114</td>\n",
       "      <td>73.148278</td>\n",
       "      <td>4.840878</td>\n",
       "      <td>400.000000</td>\n",
       "    </tr>\n",
       "    <tr>\n",
       "      <th>2</th>\n",
       "      <td>1</td>\n",
       "      <td>0</td>\n",
       "      <td>0</td>\n",
       "      <td>2</td>\n",
       "      <td>0</td>\n",
       "      <td>1257.096513</td>\n",
       "      <td>1</td>\n",
       "      <td>1</td>\n",
       "      <td>New Town Kolkata</td>\n",
       "      <td>22.592200</td>\n",
       "      <td>88.484911</td>\n",
       "      <td>4.003438</td>\n",
       "      <td>628.548257</td>\n",
       "    </tr>\n",
       "    <tr>\n",
       "      <th>3</th>\n",
       "      <td>1</td>\n",
       "      <td>0</td>\n",
       "      <td>0</td>\n",
       "      <td>3</td>\n",
       "      <td>0</td>\n",
       "      <td>1400.329489</td>\n",
       "      <td>1</td>\n",
       "      <td>1</td>\n",
       "      <td>Kalwar Road Jaipur</td>\n",
       "      <td>26.988300</td>\n",
       "      <td>75.584600</td>\n",
       "      <td>3.722582</td>\n",
       "      <td>466.776496</td>\n",
       "    </tr>\n",
       "    <tr>\n",
       "      <th>4</th>\n",
       "      <td>0</td>\n",
       "      <td>0</td>\n",
       "      <td>0</td>\n",
       "      <td>1</td>\n",
       "      <td>0</td>\n",
       "      <td>430.477830</td>\n",
       "      <td>1</td>\n",
       "      <td>1</td>\n",
       "      <td>Mai Mandir Nadiad</td>\n",
       "      <td>22.700000</td>\n",
       "      <td>72.870000</td>\n",
       "      <td>3.046038</td>\n",
       "      <td>430.477830</td>\n",
       "    </tr>\n",
       "  </tbody>\n",
       "</table>\n",
       "</div>"
      ],
      "text/plain": [
       "   POSTED_BY  UNDER_CONSTRUCTION  RERA  BHK_NO.  BHK_OR_RK    SQUARE_FT  \\\n",
       "0          0                   0     0        1          0   545.171340   \n",
       "1          1                   1     1        2          0   800.000000   \n",
       "2          1                   0     0        2          0  1257.096513   \n",
       "3          1                   0     0        3          0  1400.329489   \n",
       "4          0                   0     0        1          0   430.477830   \n",
       "\n",
       "   READY_TO_MOVE  RESALE             ADDRESS  LONGITUDE   LATITUDE      CITY  \\\n",
       "0              1       1        Kamrej Surat  21.262000  73.047700  3.771845   \n",
       "1              0       0     Panvel Lalitpur  18.966114  73.148278  4.840878   \n",
       "2              1       1    New Town Kolkata  22.592200  88.484911  4.003438   \n",
       "3              1       1  Kalwar Road Jaipur  26.988300  75.584600  3.722582   \n",
       "4              1       1   Mai Mandir Nadiad  22.700000  72.870000  3.046038   \n",
       "\n",
       "   SQ_FT/ROOM  \n",
       "0  545.171340  \n",
       "1  400.000000  \n",
       "2  628.548257  \n",
       "3  466.776496  \n",
       "4  430.477830  "
      ]
     },
     "execution_count": 36,
     "metadata": {},
     "output_type": "execute_result"
    }
   ],
   "source": [
    "test.head()"
   ]
  },
  {
   "cell_type": "code",
   "execution_count": 37,
   "metadata": {
    "execution": {
     "iopub.execute_input": "2020-10-10T06:37:16.892630Z",
     "iopub.status.busy": "2020-10-10T06:37:16.891733Z",
     "iopub.status.idle": "2020-10-10T06:37:16.895341Z",
     "shell.execute_reply": "2020-10-10T06:37:16.894605Z"
    },
    "papermill": {
     "duration": 0.104287,
     "end_time": "2020-10-10T06:37:16.895468",
     "exception": false,
     "start_time": "2020-10-10T06:37:16.791181",
     "status": "completed"
    },
    "tags": []
   },
   "outputs": [],
   "source": [
    "cat_col=['POSTED_BY', 'UNDER_CONSTRUCTION', 'RERA', 'BHK_NO.', 'BHK_OR_RK', 'RESALE']"
   ]
  },
  {
   "cell_type": "code",
   "execution_count": 38,
   "metadata": {
    "execution": {
     "iopub.execute_input": "2020-10-10T06:37:17.099910Z",
     "iopub.status.busy": "2020-10-10T06:37:17.098530Z",
     "iopub.status.idle": "2020-10-10T06:37:17.109892Z",
     "shell.execute_reply": "2020-10-10T06:37:17.109110Z"
    },
    "papermill": {
     "duration": 0.117446,
     "end_time": "2020-10-10T06:37:17.110014",
     "exception": false,
     "start_time": "2020-10-10T06:37:16.992568",
     "status": "completed"
    },
    "tags": []
   },
   "outputs": [],
   "source": [
    "# Removed ADDRESS and READY_TO_MOVE\n",
    "\n",
    "col=['POSTED_BY', 'UNDER_CONSTRUCTION', 'RERA', 'BHK_NO.', 'BHK_OR_RK', 'SQUARE_FT','LONGITUDE', 'LATITUDE','RESALE','CITY','SQ_FT/ROOM']\n",
    "x=train[col]\n",
    "test_X=test[col]\n",
    "y=train['TARGET(PRICE_IN_LACS)']"
   ]
  },
  {
   "cell_type": "code",
   "execution_count": 39,
   "metadata": {
    "execution": {
     "iopub.execute_input": "2020-10-10T06:37:17.308345Z",
     "iopub.status.busy": "2020-10-10T06:37:17.307557Z",
     "iopub.status.idle": "2020-10-10T06:37:17.310557Z",
     "shell.execute_reply": "2020-10-10T06:37:17.311116Z"
    },
    "papermill": {
     "duration": 0.104865,
     "end_time": "2020-10-10T06:37:17.311281",
     "exception": false,
     "start_time": "2020-10-10T06:37:17.206416",
     "status": "completed"
    },
    "tags": []
   },
   "outputs": [
    {
     "name": "stdout",
     "output_type": "stream",
     "text": [
      "(29451, 11) (29451,) (68720, 11)\n"
     ]
    }
   ],
   "source": [
    "print(x.shape , y.shape , test_X.shape)"
   ]
  },
  {
   "cell_type": "code",
   "execution_count": 40,
   "metadata": {
    "execution": {
     "iopub.execute_input": "2020-10-10T06:37:17.513051Z",
     "iopub.status.busy": "2020-10-10T06:37:17.512224Z",
     "iopub.status.idle": "2020-10-10T06:37:18.657358Z",
     "shell.execute_reply": "2020-10-10T06:37:18.656709Z"
    },
    "papermill": {
     "duration": 1.249017,
     "end_time": "2020-10-10T06:37:18.657494",
     "exception": false,
     "start_time": "2020-10-10T06:37:17.408477",
     "status": "completed"
    },
    "tags": []
   },
   "outputs": [],
   "source": [
    "import xgboost as xgb\n",
    "from xgboost import XGBRegressor\n",
    "from sklearn.ensemble import RandomForestRegressor, GradientBoostingRegressor, AdaBoostRegressor\n",
    "from sklearn.model_selection import GridSearchCV, RandomizedSearchCV\n",
    "from sklearn.linear_model import LinearRegression\n",
    "from sklearn.model_selection import KFold   #For K-fold cross validation\n",
    "from sklearn.ensemble import RandomForestRegressor\n",
    "from sklearn.tree import DecisionTreeRegressor, export_graphviz\n",
    "from sklearn.metrics import mean_squared_error as mse"
   ]
  },
  {
   "cell_type": "code",
   "execution_count": 41,
   "metadata": {
    "execution": {
     "iopub.execute_input": "2020-10-10T06:37:18.860551Z",
     "iopub.status.busy": "2020-10-10T06:37:18.859707Z",
     "iopub.status.idle": "2020-10-10T06:37:18.871502Z",
     "shell.execute_reply": "2020-10-10T06:37:18.870703Z"
    },
    "papermill": {
     "duration": 0.117223,
     "end_time": "2020-10-10T06:37:18.871633",
     "exception": false,
     "start_time": "2020-10-10T06:37:18.754410",
     "status": "completed"
    },
    "tags": []
   },
   "outputs": [],
   "source": [
    "from sklearn.model_selection import train_test_split\n",
    "x_train,x_test,y_train,y_test = train_test_split(x,y,test_size=0.3, random_state = 150303 ,shuffle=True)"
   ]
  },
  {
   "cell_type": "code",
   "execution_count": 42,
   "metadata": {
    "execution": {
     "iopub.execute_input": "2020-10-10T06:37:19.073245Z",
     "iopub.status.busy": "2020-10-10T06:37:19.072262Z",
     "iopub.status.idle": "2020-10-10T06:37:19.075790Z",
     "shell.execute_reply": "2020-10-10T06:37:19.076437Z"
    },
    "papermill": {
     "duration": 0.106609,
     "end_time": "2020-10-10T06:37:19.076599",
     "exception": false,
     "start_time": "2020-10-10T06:37:18.969990",
     "status": "completed"
    },
    "tags": []
   },
   "outputs": [
    {
     "name": "stdout",
     "output_type": "stream",
     "text": [
      "(20615, 11) (8836, 11)\n"
     ]
    }
   ],
   "source": [
    "print(x_train.shape,x_test.shape)"
   ]
  },
  {
   "cell_type": "markdown",
   "metadata": {
    "papermill": {
     "duration": 0.097496,
     "end_time": "2020-10-10T06:37:19.272847",
     "exception": false,
     "start_time": "2020-10-10T06:37:19.175351",
     "status": "completed"
    },
    "tags": []
   },
   "source": [
    "Random Forest"
   ]
  },
  {
   "cell_type": "code",
   "execution_count": 43,
   "metadata": {
    "execution": {
     "iopub.execute_input": "2020-10-10T06:37:19.512259Z",
     "iopub.status.busy": "2020-10-10T06:37:19.511358Z",
     "iopub.status.idle": "2020-10-10T06:37:19.515532Z",
     "shell.execute_reply": "2020-10-10T06:37:19.514763Z"
    },
    "papermill": {
     "duration": 0.128985,
     "end_time": "2020-10-10T06:37:19.515662",
     "exception": false,
     "start_time": "2020-10-10T06:37:19.386677",
     "status": "completed"
    },
    "tags": []
   },
   "outputs": [
    {
     "name": "stdout",
     "output_type": "stream",
     "text": [
      "{'n_estimators': [200, 400, 600, 800, 1000, 1200, 1400, 1600, 1800, 2000], 'max_features': ['auto', 'sqrt'], 'max_depth': [10, 20, 30, 40, 50, 60, 70, 80, 90, 100, 110, None], 'min_samples_split': [2, 5, 10], 'min_samples_leaf': [1, 2, 4], 'bootstrap': [True, False]}\n"
     ]
    }
   ],
   "source": [
    "from sklearn.model_selection import RandomizedSearchCV\n",
    "\n",
    "n_estimators = [int(x) for x in np.linspace(start = 200, stop = 2000, num = 10)]\n",
    "max_features = ['auto', 'sqrt']\n",
    "max_depth = [int(x) for x in np.linspace(10, 110, num = 11)]\n",
    "max_depth.append(None)\n",
    "min_samples_split = [2, 5, 10]\n",
    "min_samples_leaf = [1, 2, 4]\n",
    "bootstrap = [True, False]\n",
    "\n",
    "\n",
    "# Create the random grid\n",
    "random_grid = {'n_estimators': n_estimators,\n",
    "               'max_features': max_features,\n",
    "               'max_depth': max_depth,\n",
    "               'min_samples_split': min_samples_split,\n",
    "               'min_samples_leaf': min_samples_leaf,\n",
    "               'bootstrap': bootstrap}\n",
    "\n",
    "print(random_grid)"
   ]
  },
  {
   "cell_type": "code",
   "execution_count": 44,
   "metadata": {
    "collapsed": true,
    "execution": {
     "iopub.execute_input": "2020-10-10T06:37:19.720320Z",
     "iopub.status.busy": "2020-10-10T06:37:19.719497Z",
     "iopub.status.idle": "2020-10-10T08:12:27.599390Z",
     "shell.execute_reply": "2020-10-10T08:12:27.600004Z"
    },
    "papermill": {
     "duration": 5707.98661,
     "end_time": "2020-10-10T08:12:27.600210",
     "exception": false,
     "start_time": "2020-10-10T06:37:19.613600",
     "status": "completed"
    },
    "tags": []
   },
   "outputs": [
    {
     "name": "stdout",
     "output_type": "stream",
     "text": [
      "Fitting 3 folds for each of 100 candidates, totalling 300 fits\n"
     ]
    },
    {
     "name": "stderr",
     "output_type": "stream",
     "text": [
      "[Parallel(n_jobs=-1)]: Using backend LokyBackend with 4 concurrent workers.\n",
      "/opt/conda/lib/python3.7/site-packages/joblib/externals/loky/process_executor.py:706: UserWarning: A worker stopped while some jobs were given to the executor. This can be caused by a too short worker timeout or by a memory leak.\n",
      "  \"timeout or by a memory leak.\", UserWarning\n",
      "[Parallel(n_jobs=-1)]: Done  33 tasks      | elapsed: 10.3min\n",
      "[Parallel(n_jobs=-1)]: Done 154 tasks      | elapsed: 47.5min\n",
      "[Parallel(n_jobs=-1)]: Done 300 out of 300 | elapsed: 94.1min finished\n"
     ]
    },
    {
     "data": {
      "text/plain": [
       "RandomizedSearchCV(cv=3, estimator=RandomForestRegressor(), n_iter=100,\n",
       "                   n_jobs=-1,\n",
       "                   param_distributions={'bootstrap': [True, False],\n",
       "                                        'max_depth': [10, 20, 30, 40, 50, 60,\n",
       "                                                      70, 80, 90, 100, 110,\n",
       "                                                      None],\n",
       "                                        'max_features': ['auto', 'sqrt'],\n",
       "                                        'min_samples_leaf': [1, 2, 4],\n",
       "                                        'min_samples_split': [2, 5, 10],\n",
       "                                        'n_estimators': [200, 400, 600, 800,\n",
       "                                                         1000, 1200, 1400, 1600,\n",
       "                                                         1800, 2000]},\n",
       "                   random_state=42, verbose=2)"
      ]
     },
     "execution_count": 44,
     "metadata": {},
     "output_type": "execute_result"
    }
   ],
   "source": [
    "rf = RandomForestRegressor()\n",
    "\n",
    "rf_random = RandomizedSearchCV(estimator = rf, param_distributions = random_grid, n_iter = 100, cv = 3, verbose=2, random_state=42, n_jobs = -1)\n",
    "rf_random.fit(x_train, y_train)"
   ]
  },
  {
   "cell_type": "code",
   "execution_count": 45,
   "metadata": {
    "execution": {
     "iopub.execute_input": "2020-10-10T08:12:27.809076Z",
     "iopub.status.busy": "2020-10-10T08:12:27.808210Z",
     "iopub.status.idle": "2020-10-10T08:12:27.813162Z",
     "shell.execute_reply": "2020-10-10T08:12:27.812424Z"
    },
    "papermill": {
     "duration": 0.112011,
     "end_time": "2020-10-10T08:12:27.813294",
     "exception": false,
     "start_time": "2020-10-10T08:12:27.701283",
     "status": "completed"
    },
    "tags": []
   },
   "outputs": [
    {
     "data": {
      "text/plain": [
       "{'n_estimators': 2000,\n",
       " 'min_samples_split': 5,\n",
       " 'min_samples_leaf': 1,\n",
       " 'max_features': 'sqrt',\n",
       " 'max_depth': 100,\n",
       " 'bootstrap': True}"
      ]
     },
     "execution_count": 45,
     "metadata": {},
     "output_type": "execute_result"
    }
   ],
   "source": [
    "rf_random.best_params_"
   ]
  },
  {
   "cell_type": "code",
   "execution_count": 46,
   "metadata": {
    "execution": {
     "iopub.execute_input": "2020-10-10T08:12:28.027958Z",
     "iopub.status.busy": "2020-10-10T08:12:28.027174Z",
     "iopub.status.idle": "2020-10-10T08:12:53.362615Z",
     "shell.execute_reply": "2020-10-10T08:12:53.361984Z"
    },
    "papermill": {
     "duration": 25.44726,
     "end_time": "2020-10-10T08:12:53.362750",
     "exception": false,
     "start_time": "2020-10-10T08:12:27.915490",
     "status": "completed"
    },
    "tags": []
   },
   "outputs": [
    {
     "data": {
      "text/plain": [
       "RandomForestRegressor(max_depth=40, max_features='sqrt', min_samples_split=5,\n",
       "                      n_estimators=800)"
      ]
     },
     "execution_count": 46,
     "metadata": {},
     "output_type": "execute_result"
    }
   ],
   "source": [
    "# Random Forest with Tuned Parameter\n",
    "\n",
    "rfc = RandomForestRegressor(n_estimators = 800, min_samples_split = 5, min_samples_leaf = 1, max_features = 'sqrt', max_depth = 40, bootstrap = True)\n",
    "rfc.fit(x_train,y_train)"
   ]
  },
  {
   "cell_type": "code",
   "execution_count": 47,
   "metadata": {
    "execution": {
     "iopub.execute_input": "2020-10-10T08:12:53.578282Z",
     "iopub.status.busy": "2020-10-10T08:12:53.577446Z",
     "iopub.status.idle": "2020-10-10T08:12:55.258245Z",
     "shell.execute_reply": "2020-10-10T08:12:55.257460Z"
    },
    "papermill": {
     "duration": 1.793016,
     "end_time": "2020-10-10T08:12:55.258387",
     "exception": false,
     "start_time": "2020-10-10T08:12:53.465371",
     "status": "completed"
    },
    "tags": []
   },
   "outputs": [],
   "source": [
    "y_pred = rfc.predict(x_test)"
   ]
  },
  {
   "cell_type": "code",
   "execution_count": 48,
   "metadata": {
    "execution": {
     "iopub.execute_input": "2020-10-10T08:12:55.469563Z",
     "iopub.status.busy": "2020-10-10T08:12:55.468735Z",
     "iopub.status.idle": "2020-10-10T08:12:55.473340Z",
     "shell.execute_reply": "2020-10-10T08:12:55.472711Z"
    },
    "papermill": {
     "duration": 0.112709,
     "end_time": "2020-10-10T08:12:55.473473",
     "exception": false,
     "start_time": "2020-10-10T08:12:55.360764",
     "status": "completed"
    },
    "tags": []
   },
   "outputs": [
    {
     "name": "stdout",
     "output_type": "stream",
     "text": [
      "0.3187510049641349\n"
     ]
    }
   ],
   "source": [
    "from sklearn.metrics import mean_squared_error as mse\n",
    "print(np.sqrt(mse(y_test,y_pred)))"
   ]
  },
  {
   "cell_type": "code",
   "execution_count": 49,
   "metadata": {
    "execution": {
     "iopub.execute_input": "2020-10-10T08:12:55.692952Z",
     "iopub.status.busy": "2020-10-10T08:12:55.690512Z",
     "iopub.status.idle": "2020-10-10T08:12:56.655795Z",
     "shell.execute_reply": "2020-10-10T08:12:56.655066Z"
    },
    "papermill": {
     "duration": 1.078219,
     "end_time": "2020-10-10T08:12:56.655926",
     "exception": false,
     "start_time": "2020-10-10T08:12:55.577707",
     "status": "completed"
    },
    "tags": []
   },
   "outputs": [
    {
     "data": {
      "image/png": "[encoded data removed]",
      "text/plain": [
       "<Figure size 720x432 with 1 Axes>"
      ]
     },
     "metadata": {},
     "output_type": "display_data"
    }
   ],
   "source": [
    "sns.set()\n",
    "plt.figure(figsize = (10,6))\n",
    "sns.regplot(data = train, x = y_test , y = y_pred,ci = 68,color = \"blue\")\n",
    "plt.xlabel(\"test\", fontsize = 12)\n",
    "plt.ylabel(\"pred\", fontsize = 12 )\n",
    "_= plt.title(\"Actual vs Predicted\", fontsize = 15)"
   ]
  },
  {
   "cell_type": "code",
   "execution_count": 50,
   "metadata": {
    "execution": {
     "iopub.execute_input": "2020-10-10T08:12:56.884747Z",
     "iopub.status.busy": "2020-10-10T08:12:56.883888Z",
     "iopub.status.idle": "2020-10-10T08:12:56.889396Z",
     "shell.execute_reply": "2020-10-10T08:12:56.888478Z"
    },
    "papermill": {
     "duration": 0.128478,
     "end_time": "2020-10-10T08:12:56.889559",
     "exception": false,
     "start_time": "2020-10-10T08:12:56.761081",
     "status": "completed"
    },
    "tags": []
   },
   "outputs": [
    {
     "data": {
      "text/html": [
       "<div>\n",
       "<style scoped>\n",
       "    .dataframe tbody tr th:only-of-type {\n",
       "        vertical-align: middle;\n",
       "    }\n",
       "\n",
       "    .dataframe tbody tr th {\n",
       "        vertical-align: top;\n",
       "    }\n",
       "\n",
       "    .dataframe thead th {\n",
       "        text-align: right;\n",
       "    }\n",
       "</style>\n",
       "<table border=\"1\" class=\"dataframe\">\n",
       "  <thead>\n",
       "    <tr style=\"text-align: right;\">\n",
       "      <th></th>\n",
       "      <th>POSTED_BY</th>\n",
       "      <th>UNDER_CONSTRUCTION</th>\n",
       "      <th>RERA</th>\n",
       "      <th>BHK_NO.</th>\n",
       "      <th>BHK_OR_RK</th>\n",
       "      <th>SQUARE_FT</th>\n",
       "      <th>LONGITUDE</th>\n",
       "      <th>LATITUDE</th>\n",
       "      <th>RESALE</th>\n",
       "      <th>CITY</th>\n",
       "      <th>SQ_FT/ROOM</th>\n",
       "    </tr>\n",
       "  </thead>\n",
       "  <tbody>\n",
       "    <tr>\n",
       "      <th>0</th>\n",
       "      <td>0</td>\n",
       "      <td>0</td>\n",
       "      <td>0</td>\n",
       "      <td>1</td>\n",
       "      <td>0</td>\n",
       "      <td>545.171340</td>\n",
       "      <td>21.262000</td>\n",
       "      <td>73.047700</td>\n",
       "      <td>1</td>\n",
       "      <td>3.771845</td>\n",
       "      <td>545.171340</td>\n",
       "    </tr>\n",
       "    <tr>\n",
       "      <th>1</th>\n",
       "      <td>1</td>\n",
       "      <td>1</td>\n",
       "      <td>1</td>\n",
       "      <td>2</td>\n",
       "      <td>0</td>\n",
       "      <td>800.000000</td>\n",
       "      <td>18.966114</td>\n",
       "      <td>73.148278</td>\n",
       "      <td>0</td>\n",
       "      <td>4.840878</td>\n",
       "      <td>400.000000</td>\n",
       "    </tr>\n",
       "    <tr>\n",
       "      <th>2</th>\n",
       "      <td>1</td>\n",
       "      <td>0</td>\n",
       "      <td>0</td>\n",
       "      <td>2</td>\n",
       "      <td>0</td>\n",
       "      <td>1257.096513</td>\n",
       "      <td>22.592200</td>\n",
       "      <td>88.484911</td>\n",
       "      <td>1</td>\n",
       "      <td>4.003438</td>\n",
       "      <td>628.548257</td>\n",
       "    </tr>\n",
       "    <tr>\n",
       "      <th>3</th>\n",
       "      <td>1</td>\n",
       "      <td>0</td>\n",
       "      <td>0</td>\n",
       "      <td>3</td>\n",
       "      <td>0</td>\n",
       "      <td>1400.329489</td>\n",
       "      <td>26.988300</td>\n",
       "      <td>75.584600</td>\n",
       "      <td>1</td>\n",
       "      <td>3.722582</td>\n",
       "      <td>466.776496</td>\n",
       "    </tr>\n",
       "    <tr>\n",
       "      <th>4</th>\n",
       "      <td>0</td>\n",
       "      <td>0</td>\n",
       "      <td>0</td>\n",
       "      <td>1</td>\n",
       "      <td>0</td>\n",
       "      <td>430.477830</td>\n",
       "      <td>22.700000</td>\n",
       "      <td>72.870000</td>\n",
       "      <td>1</td>\n",
       "      <td>3.046038</td>\n",
       "      <td>430.477830</td>\n",
       "    </tr>\n",
       "  </tbody>\n",
       "</table>\n",
       "</div>"
      ],
      "text/plain": [
       "   POSTED_BY  UNDER_CONSTRUCTION  RERA  BHK_NO.  BHK_OR_RK    SQUARE_FT  \\\n",
       "0          0                   0     0        1          0   545.171340   \n",
       "1          1                   1     1        2          0   800.000000   \n",
       "2          1                   0     0        2          0  1257.096513   \n",
       "3          1                   0     0        3          0  1400.329489   \n",
       "4          0                   0     0        1          0   430.477830   \n",
       "\n",
       "   LONGITUDE   LATITUDE  RESALE      CITY  SQ_FT/ROOM  \n",
       "0  21.262000  73.047700       1  3.771845  545.171340  \n",
       "1  18.966114  73.148278       0  4.840878  400.000000  \n",
       "2  22.592200  88.484911       1  4.003438  628.548257  \n",
       "3  26.988300  75.584600       1  3.722582  466.776496  \n",
       "4  22.700000  72.870000       1  3.046038  430.477830  "
      ]
     },
     "execution_count": 50,
     "metadata": {},
     "output_type": "execute_result"
    }
   ],
   "source": [
    "test_X.head()"
   ]
  },
  {
   "cell_type": "code",
   "execution_count": 51,
   "metadata": {
    "execution": {
     "iopub.execute_input": "2020-10-10T08:12:57.108104Z",
     "iopub.status.busy": "2020-10-10T08:12:57.107090Z",
     "iopub.status.idle": "2020-10-10T08:12:57.112114Z",
     "shell.execute_reply": "2020-10-10T08:12:57.111452Z"
    },
    "papermill": {
     "duration": 0.116415,
     "end_time": "2020-10-10T08:12:57.112241",
     "exception": false,
     "start_time": "2020-10-10T08:12:56.995826",
     "status": "completed"
    },
    "tags": []
   },
   "outputs": [
    {
     "data": {
      "text/plain": [
       "\"rfc.fit(x, y)\\npred = rfc.predict(test_X)\\nsub['TARGET(PRICE_IN_LACS)']=np.abs((np.exp(lgb_pred)-1))\\nsub.to_csv('sub.csv',index=False)\\nfrom IPython.display import FileLink\\nFileLink(r'sub.csv')\""
      ]
     },
     "execution_count": 51,
     "metadata": {},
     "output_type": "execute_result"
    }
   ],
   "source": [
    "'''rfc.fit(x, y)\n",
    "pred = rfc.predict(test_X)\n",
    "sub['TARGET(PRICE_IN_LACS)']=np.abs((np.exp(lgb_pred)-1))\n",
    "sub.to_csv('sub.csv',index=False)\n",
    "from IPython.display import FileLink\n",
    "FileLink(r'sub.csv')'''"
   ]
  },
  {
   "cell_type": "markdown",
   "metadata": {
    "papermill": {
     "duration": 0.107719,
     "end_time": "2020-10-10T08:12:57.326924",
     "exception": false,
     "start_time": "2020-10-10T08:12:57.219205",
     "status": "completed"
    },
    "tags": []
   },
   "source": [
    "XG - Boosting"
   ]
  },
  {
   "cell_type": "code",
   "execution_count": 52,
   "metadata": {
    "execution": {
     "iopub.execute_input": "2020-10-10T08:12:57.551775Z",
     "iopub.status.busy": "2020-10-10T08:12:57.550715Z",
     "iopub.status.idle": "2020-10-10T08:12:57.554498Z",
     "shell.execute_reply": "2020-10-10T08:12:57.553711Z"
    },
    "papermill": {
     "duration": 0.121184,
     "end_time": "2020-10-10T08:12:57.554631",
     "exception": false,
     "start_time": "2020-10-10T08:12:57.433447",
     "status": "completed"
    },
    "tags": []
   },
   "outputs": [],
   "source": [
    "model_xgb = xgb.XGBRegressor(colsample_bytree=0.4603, gamma=0.0468, \n",
    "                             learning_rate=0.05, max_depth=3, \n",
    "                             min_child_weight=1.7817, n_estimators=200,\n",
    "                             reg_alpha=0.4640, reg_lambda=0.8571,\n",
    "                             subsample=0.5213, silent=1,\n",
    "                             random_state =7, nthread = -1)"
   ]
  },
  {
   "cell_type": "code",
   "execution_count": 53,
   "metadata": {
    "execution": {
     "iopub.execute_input": "2020-10-10T08:12:57.774242Z",
     "iopub.status.busy": "2020-10-10T08:12:57.773464Z",
     "iopub.status.idle": "2020-10-10T08:12:59.907020Z",
     "shell.execute_reply": "2020-10-10T08:12:59.906301Z"
    },
    "papermill": {
     "duration": 2.246159,
     "end_time": "2020-10-10T08:12:59.907166",
     "exception": false,
     "start_time": "2020-10-10T08:12:57.661007",
     "status": "completed"
    },
    "tags": []
   },
   "outputs": [
    {
     "name": "stdout",
     "output_type": "stream",
     "text": [
      "[08:12:57] WARNING: /workspace/src/learner.cc:480: \n",
      "Parameters: { silent } might not be used.\n",
      "\n",
      "  This may not be accurate due to some parameters are only used in language bindings but\n",
      "  passed down to XGBoost core.  Or some parameters are not used but slip through this\n",
      "  verification. Please open an issue if you find above cases.\n",
      "\n",
      "\n"
     ]
    }
   ],
   "source": [
    "model_xgb.fit(x_train,y_train)\n",
    "y_pred = model_xgb.predict(x_test)\n"
   ]
  },
  {
   "cell_type": "code",
   "execution_count": 54,
   "metadata": {
    "execution": {
     "iopub.execute_input": "2020-10-10T08:13:00.131162Z",
     "iopub.status.busy": "2020-10-10T08:13:00.130147Z",
     "iopub.status.idle": "2020-10-10T08:13:00.133872Z",
     "shell.execute_reply": "2020-10-10T08:13:00.134541Z"
    },
    "papermill": {
     "duration": 0.118259,
     "end_time": "2020-10-10T08:13:00.134707",
     "exception": false,
     "start_time": "2020-10-10T08:13:00.016448",
     "status": "completed"
    },
    "tags": []
   },
   "outputs": [
    {
     "name": "stdout",
     "output_type": "stream",
     "text": [
      "0.3652212163836157\n"
     ]
    }
   ],
   "source": [
    "from sklearn.metrics import mean_squared_error as mse\n",
    "print(np.sqrt(mse(y_test,y_pred)))"
   ]
  },
  {
   "cell_type": "code",
   "execution_count": 55,
   "metadata": {
    "execution": {
     "iopub.execute_input": "2020-10-10T08:13:00.361143Z",
     "iopub.status.busy": "2020-10-10T08:13:00.360372Z",
     "iopub.status.idle": "2020-10-10T08:13:01.176712Z",
     "shell.execute_reply": "2020-10-10T08:13:01.176069Z"
    },
    "papermill": {
     "duration": 0.934612,
     "end_time": "2020-10-10T08:13:01.176836",
     "exception": false,
     "start_time": "2020-10-10T08:13:00.242224",
     "status": "completed"
    },
    "tags": []
   },
   "outputs": [
    {
     "data": {
      "image/png": "[encoded data removed]",
      "text/plain": [
       "<Figure size 720x432 with 1 Axes>"
      ]
     },
     "metadata": {},
     "output_type": "display_data"
    }
   ],
   "source": [
    "sns.set()\n",
    "plt.figure(figsize = (10,6))\n",
    "sns.regplot(data = train, x = y_test , y = y_pred,ci = 68,color = \"blue\")\n",
    "plt.xlabel(\"test\", fontsize = 12)\n",
    "plt.ylabel(\"pred\", fontsize = 12 )\n",
    "_= plt.title(\"Actual vs Predicted\", fontsize = 15)"
   ]
  },
  {
   "cell_type": "code",
   "execution_count": 56,
   "metadata": {
    "execution": {
     "iopub.execute_input": "2020-10-10T08:13:01.413428Z",
     "iopub.status.busy": "2020-10-10T08:13:01.412352Z",
     "iopub.status.idle": "2020-10-10T08:13:01.417822Z",
     "shell.execute_reply": "2020-10-10T08:13:01.416879Z"
    },
    "papermill": {
     "duration": 0.13148,
     "end_time": "2020-10-10T08:13:01.417971",
     "exception": false,
     "start_time": "2020-10-10T08:13:01.286491",
     "status": "completed"
    },
    "tags": []
   },
   "outputs": [
    {
     "data": {
      "text/html": [
       "<div>\n",
       "<style scoped>\n",
       "    .dataframe tbody tr th:only-of-type {\n",
       "        vertical-align: middle;\n",
       "    }\n",
       "\n",
       "    .dataframe tbody tr th {\n",
       "        vertical-align: top;\n",
       "    }\n",
       "\n",
       "    .dataframe thead th {\n",
       "        text-align: right;\n",
       "    }\n",
       "</style>\n",
       "<table border=\"1\" class=\"dataframe\">\n",
       "  <thead>\n",
       "    <tr style=\"text-align: right;\">\n",
       "      <th></th>\n",
       "      <th>POSTED_BY</th>\n",
       "      <th>UNDER_CONSTRUCTION</th>\n",
       "      <th>RERA</th>\n",
       "      <th>BHK_NO.</th>\n",
       "      <th>BHK_OR_RK</th>\n",
       "      <th>SQUARE_FT</th>\n",
       "      <th>LONGITUDE</th>\n",
       "      <th>LATITUDE</th>\n",
       "      <th>RESALE</th>\n",
       "      <th>CITY</th>\n",
       "      <th>SQ_FT/ROOM</th>\n",
       "    </tr>\n",
       "  </thead>\n",
       "  <tbody>\n",
       "    <tr>\n",
       "      <th>0</th>\n",
       "      <td>0</td>\n",
       "      <td>0</td>\n",
       "      <td>0</td>\n",
       "      <td>1</td>\n",
       "      <td>0</td>\n",
       "      <td>545.171340</td>\n",
       "      <td>21.262000</td>\n",
       "      <td>73.047700</td>\n",
       "      <td>1</td>\n",
       "      <td>3.771845</td>\n",
       "      <td>545.171340</td>\n",
       "    </tr>\n",
       "    <tr>\n",
       "      <th>1</th>\n",
       "      <td>1</td>\n",
       "      <td>1</td>\n",
       "      <td>1</td>\n",
       "      <td>2</td>\n",
       "      <td>0</td>\n",
       "      <td>800.000000</td>\n",
       "      <td>18.966114</td>\n",
       "      <td>73.148278</td>\n",
       "      <td>0</td>\n",
       "      <td>4.840878</td>\n",
       "      <td>400.000000</td>\n",
       "    </tr>\n",
       "    <tr>\n",
       "      <th>2</th>\n",
       "      <td>1</td>\n",
       "      <td>0</td>\n",
       "      <td>0</td>\n",
       "      <td>2</td>\n",
       "      <td>0</td>\n",
       "      <td>1257.096513</td>\n",
       "      <td>22.592200</td>\n",
       "      <td>88.484911</td>\n",
       "      <td>1</td>\n",
       "      <td>4.003438</td>\n",
       "      <td>628.548257</td>\n",
       "    </tr>\n",
       "    <tr>\n",
       "      <th>3</th>\n",
       "      <td>1</td>\n",
       "      <td>0</td>\n",
       "      <td>0</td>\n",
       "      <td>3</td>\n",
       "      <td>0</td>\n",
       "      <td>1400.329489</td>\n",
       "      <td>26.988300</td>\n",
       "      <td>75.584600</td>\n",
       "      <td>1</td>\n",
       "      <td>3.722582</td>\n",
       "      <td>466.776496</td>\n",
       "    </tr>\n",
       "    <tr>\n",
       "      <th>4</th>\n",
       "      <td>0</td>\n",
       "      <td>0</td>\n",
       "      <td>0</td>\n",
       "      <td>1</td>\n",
       "      <td>0</td>\n",
       "      <td>430.477830</td>\n",
       "      <td>22.700000</td>\n",
       "      <td>72.870000</td>\n",
       "      <td>1</td>\n",
       "      <td>3.046038</td>\n",
       "      <td>430.477830</td>\n",
       "    </tr>\n",
       "  </tbody>\n",
       "</table>\n",
       "</div>"
      ],
      "text/plain": [
       "   POSTED_BY  UNDER_CONSTRUCTION  RERA  BHK_NO.  BHK_OR_RK    SQUARE_FT  \\\n",
       "0          0                   0     0        1          0   545.171340   \n",
       "1          1                   1     1        2          0   800.000000   \n",
       "2          1                   0     0        2          0  1257.096513   \n",
       "3          1                   0     0        3          0  1400.329489   \n",
       "4          0                   0     0        1          0   430.477830   \n",
       "\n",
       "   LONGITUDE   LATITUDE  RESALE      CITY  SQ_FT/ROOM  \n",
       "0  21.262000  73.047700       1  3.771845  545.171340  \n",
       "1  18.966114  73.148278       0  4.840878  400.000000  \n",
       "2  22.592200  88.484911       1  4.003438  628.548257  \n",
       "3  26.988300  75.584600       1  3.722582  466.776496  \n",
       "4  22.700000  72.870000       1  3.046038  430.477830  "
      ]
     },
     "execution_count": 56,
     "metadata": {},
     "output_type": "execute_result"
    }
   ],
   "source": [
    "test_X.head()"
   ]
  },
  {
   "cell_type": "code",
   "execution_count": 57,
   "metadata": {
    "execution": {
     "iopub.execute_input": "2020-10-10T08:13:01.697622Z",
     "iopub.status.busy": "2020-10-10T08:13:01.696659Z",
     "iopub.status.idle": "2020-10-10T08:13:01.700376Z",
     "shell.execute_reply": "2020-10-10T08:13:01.700905Z"
    },
    "papermill": {
     "duration": 0.165355,
     "end_time": "2020-10-10T08:13:01.701102",
     "exception": false,
     "start_time": "2020-10-10T08:13:01.535747",
     "status": "completed"
    },
    "tags": []
   },
   "outputs": [
    {
     "data": {
      "text/plain": [
       "\"model_xgb.fit(x, y)\\npred = model_xgb.predict(test_X)\\nsub['TARGET(PRICE_IN_LACS)']=np.abs((np.exp(lgb_pred)-1))\\nsub.to_csv('sub.csv',index=False)\\nfrom IPython.display import FileLink\\nFileLink(r'sub.csv')\""
      ]
     },
     "execution_count": 57,
     "metadata": {},
     "output_type": "execute_result"
    }
   ],
   "source": [
    "'''model_xgb.fit(x, y)\n",
    "pred = model_xgb.predict(test_X)\n",
    "sub['TARGET(PRICE_IN_LACS)']=np.abs((np.exp(lgb_pred)-1))\n",
    "sub.to_csv('sub.csv',index=False)\n",
    "from IPython.display import FileLink\n",
    "FileLink(r'sub.csv')'''"
   ]
  },
  {
   "cell_type": "markdown",
   "metadata": {
    "papermill": {
     "duration": 0.116117,
     "end_time": "2020-10-10T08:13:01.936787",
     "exception": false,
     "start_time": "2020-10-10T08:13:01.820670",
     "status": "completed"
    },
    "tags": []
   },
   "source": [
    "Gradient Boosting"
   ]
  },
  {
   "cell_type": "code",
   "execution_count": 58,
   "metadata": {
    "execution": {
     "iopub.execute_input": "2020-10-10T08:13:02.179600Z",
     "iopub.status.busy": "2020-10-10T08:13:02.178471Z",
     "iopub.status.idle": "2020-10-10T08:13:02.181196Z",
     "shell.execute_reply": "2020-10-10T08:13:02.181757Z"
    },
    "papermill": {
     "duration": 0.130997,
     "end_time": "2020-10-10T08:13:02.181929",
     "exception": false,
     "start_time": "2020-10-10T08:13:02.050932",
     "status": "completed"
    },
    "tags": []
   },
   "outputs": [],
   "source": [
    "modelxg =  GradientBoostingRegressor(alpha=0.999, criterion='friedman_mse', init=None,\n",
    "                          learning_rate=0.061, loss='huber', max_depth=3,\n",
    "                          max_features=None, max_leaf_nodes=None,\n",
    "                          min_impurity_decrease=0.0, min_impurity_split=None,\n",
    "                          min_samples_leaf=4, min_samples_split=4,\n",
    "                          min_weight_fraction_leaf=0.0, n_estimators=102,\n",
    "                          n_iter_no_change=None, presort='auto',\n",
    "                          random_state=None, subsample=1.0, tol=0.0001,\n",
    "                          validation_fraction=0.1, verbose=0, warm_start=False)"
   ]
  },
  {
   "cell_type": "code",
   "execution_count": 59,
   "metadata": {
    "execution": {
     "iopub.execute_input": "2020-10-10T08:13:02.470850Z",
     "iopub.status.busy": "2020-10-10T08:13:02.470109Z",
     "iopub.status.idle": "2020-10-10T08:13:06.458389Z",
     "shell.execute_reply": "2020-10-10T08:13:06.457628Z"
    },
    "papermill": {
     "duration": 4.162149,
     "end_time": "2020-10-10T08:13:06.458513",
     "exception": false,
     "start_time": "2020-10-10T08:13:02.296364",
     "status": "completed"
    },
    "tags": []
   },
   "outputs": [
    {
     "name": "stderr",
     "output_type": "stream",
     "text": [
      "/opt/conda/lib/python3.7/site-packages/sklearn/ensemble/_gb.py:309: FutureWarning: The parameter 'presort' is deprecated and has no effect. It will be removed in v0.24. You can suppress this warning by not passing any value to the 'presort' parameter. We also recommend using HistGradientBoosting models instead.\n",
      "  FutureWarning)\n"
     ]
    },
    {
     "data": {
      "text/plain": [
       "GradientBoostingRegressor(alpha=0.999, learning_rate=0.061, loss='huber',\n",
       "                          min_samples_leaf=4, min_samples_split=4,\n",
       "                          n_estimators=102, presort='auto')"
      ]
     },
     "execution_count": 59,
     "metadata": {},
     "output_type": "execute_result"
    }
   ],
   "source": [
    "modelxg.fit(x_train,y_train)"
   ]
  },
  {
   "cell_type": "code",
   "execution_count": 60,
   "metadata": {
    "execution": {
     "iopub.execute_input": "2020-10-10T08:13:06.689676Z",
     "iopub.status.busy": "2020-10-10T08:13:06.688848Z",
     "iopub.status.idle": "2020-10-10T08:13:06.709625Z",
     "shell.execute_reply": "2020-10-10T08:13:06.708967Z"
    },
    "papermill": {
     "duration": 0.139752,
     "end_time": "2020-10-10T08:13:06.709762",
     "exception": false,
     "start_time": "2020-10-10T08:13:06.570010",
     "status": "completed"
    },
    "tags": []
   },
   "outputs": [],
   "source": [
    "y_pred = modelxg.predict(x_test)"
   ]
  },
  {
   "cell_type": "code",
   "execution_count": 61,
   "metadata": {
    "execution": {
     "iopub.execute_input": "2020-10-10T08:13:06.955061Z",
     "iopub.status.busy": "2020-10-10T08:13:06.954257Z",
     "iopub.status.idle": "2020-10-10T08:13:06.957979Z",
     "shell.execute_reply": "2020-10-10T08:13:06.958611Z"
    },
    "papermill": {
     "duration": 0.124001,
     "end_time": "2020-10-10T08:13:06.958769",
     "exception": false,
     "start_time": "2020-10-10T08:13:06.834768",
     "status": "completed"
    },
    "tags": []
   },
   "outputs": [
    {
     "name": "stdout",
     "output_type": "stream",
     "text": [
      "0.37054829040936726\n"
     ]
    }
   ],
   "source": [
    "from sklearn.metrics import mean_squared_error as mse\n",
    "print(np.sqrt(mse(y_test,y_pred)))"
   ]
  },
  {
   "cell_type": "code",
   "execution_count": 62,
   "metadata": {
    "execution": {
     "iopub.execute_input": "2020-10-10T08:13:07.196445Z",
     "iopub.status.busy": "2020-10-10T08:13:07.194696Z",
     "iopub.status.idle": "2020-10-10T08:13:08.027092Z",
     "shell.execute_reply": "2020-10-10T08:13:08.026477Z"
    },
    "papermill": {
     "duration": 0.955253,
     "end_time": "2020-10-10T08:13:08.027241",
     "exception": false,
     "start_time": "2020-10-10T08:13:07.071988",
     "status": "completed"
    },
    "tags": []
   },
   "outputs": [
    {
     "data": {
      "image/png": "[encoded data removed]",
      "text/plain": [
       "<Figure size 720x432 with 1 Axes>"
      ]
     },
     "metadata": {},
     "output_type": "display_data"
    }
   ],
   "source": [
    "sns.set()\n",
    "plt.figure(figsize = (10,6))\n",
    "sns.regplot(data = train, x = y_test , y = y_pred,ci = 68,color = \"blue\")\n",
    "plt.xlabel(\"test\", fontsize = 12)\n",
    "plt.ylabel(\"pred\", fontsize = 12 )\n",
    "_= plt.title(\"Actual vs Predicted\", fontsize = 15)"
   ]
  },
  {
   "cell_type": "code",
   "execution_count": 63,
   "metadata": {
    "execution": {
     "iopub.execute_input": "2020-10-10T08:13:08.274585Z",
     "iopub.status.busy": "2020-10-10T08:13:08.273527Z",
     "iopub.status.idle": "2020-10-10T08:13:08.278577Z",
     "shell.execute_reply": "2020-10-10T08:13:08.277924Z"
    },
    "papermill": {
     "duration": 0.136583,
     "end_time": "2020-10-10T08:13:08.278702",
     "exception": false,
     "start_time": "2020-10-10T08:13:08.142119",
     "status": "completed"
    },
    "tags": []
   },
   "outputs": [
    {
     "data": {
      "text/html": [
       "<div>\n",
       "<style scoped>\n",
       "    .dataframe tbody tr th:only-of-type {\n",
       "        vertical-align: middle;\n",
       "    }\n",
       "\n",
       "    .dataframe tbody tr th {\n",
       "        vertical-align: top;\n",
       "    }\n",
       "\n",
       "    .dataframe thead th {\n",
       "        text-align: right;\n",
       "    }\n",
       "</style>\n",
       "<table border=\"1\" class=\"dataframe\">\n",
       "  <thead>\n",
       "    <tr style=\"text-align: right;\">\n",
       "      <th></th>\n",
       "      <th>POSTED_BY</th>\n",
       "      <th>UNDER_CONSTRUCTION</th>\n",
       "      <th>RERA</th>\n",
       "      <th>BHK_NO.</th>\n",
       "      <th>BHK_OR_RK</th>\n",
       "      <th>SQUARE_FT</th>\n",
       "      <th>LONGITUDE</th>\n",
       "      <th>LATITUDE</th>\n",
       "      <th>RESALE</th>\n",
       "      <th>CITY</th>\n",
       "      <th>SQ_FT/ROOM</th>\n",
       "    </tr>\n",
       "  </thead>\n",
       "  <tbody>\n",
       "    <tr>\n",
       "      <th>0</th>\n",
       "      <td>0</td>\n",
       "      <td>0</td>\n",
       "      <td>0</td>\n",
       "      <td>1</td>\n",
       "      <td>0</td>\n",
       "      <td>545.171340</td>\n",
       "      <td>21.262000</td>\n",
       "      <td>73.047700</td>\n",
       "      <td>1</td>\n",
       "      <td>3.771845</td>\n",
       "      <td>545.171340</td>\n",
       "    </tr>\n",
       "    <tr>\n",
       "      <th>1</th>\n",
       "      <td>1</td>\n",
       "      <td>1</td>\n",
       "      <td>1</td>\n",
       "      <td>2</td>\n",
       "      <td>0</td>\n",
       "      <td>800.000000</td>\n",
       "      <td>18.966114</td>\n",
       "      <td>73.148278</td>\n",
       "      <td>0</td>\n",
       "      <td>4.840878</td>\n",
       "      <td>400.000000</td>\n",
       "    </tr>\n",
       "    <tr>\n",
       "      <th>2</th>\n",
       "      <td>1</td>\n",
       "      <td>0</td>\n",
       "      <td>0</td>\n",
       "      <td>2</td>\n",
       "      <td>0</td>\n",
       "      <td>1257.096513</td>\n",
       "      <td>22.592200</td>\n",
       "      <td>88.484911</td>\n",
       "      <td>1</td>\n",
       "      <td>4.003438</td>\n",
       "      <td>628.548257</td>\n",
       "    </tr>\n",
       "    <tr>\n",
       "      <th>3</th>\n",
       "      <td>1</td>\n",
       "      <td>0</td>\n",
       "      <td>0</td>\n",
       "      <td>3</td>\n",
       "      <td>0</td>\n",
       "      <td>1400.329489</td>\n",
       "      <td>26.988300</td>\n",
       "      <td>75.584600</td>\n",
       "      <td>1</td>\n",
       "      <td>3.722582</td>\n",
       "      <td>466.776496</td>\n",
       "    </tr>\n",
       "    <tr>\n",
       "      <th>4</th>\n",
       "      <td>0</td>\n",
       "      <td>0</td>\n",
       "      <td>0</td>\n",
       "      <td>1</td>\n",
       "      <td>0</td>\n",
       "      <td>430.477830</td>\n",
       "      <td>22.700000</td>\n",
       "      <td>72.870000</td>\n",
       "      <td>1</td>\n",
       "      <td>3.046038</td>\n",
       "      <td>430.477830</td>\n",
       "    </tr>\n",
       "  </tbody>\n",
       "</table>\n",
       "</div>"
      ],
      "text/plain": [
       "   POSTED_BY  UNDER_CONSTRUCTION  RERA  BHK_NO.  BHK_OR_RK    SQUARE_FT  \\\n",
       "0          0                   0     0        1          0   545.171340   \n",
       "1          1                   1     1        2          0   800.000000   \n",
       "2          1                   0     0        2          0  1257.096513   \n",
       "3          1                   0     0        3          0  1400.329489   \n",
       "4          0                   0     0        1          0   430.477830   \n",
       "\n",
       "   LONGITUDE   LATITUDE  RESALE      CITY  SQ_FT/ROOM  \n",
       "0  21.262000  73.047700       1  3.771845  545.171340  \n",
       "1  18.966114  73.148278       0  4.840878  400.000000  \n",
       "2  22.592200  88.484911       1  4.003438  628.548257  \n",
       "3  26.988300  75.584600       1  3.722582  466.776496  \n",
       "4  22.700000  72.870000       1  3.046038  430.477830  "
      ]
     },
     "execution_count": 63,
     "metadata": {},
     "output_type": "execute_result"
    }
   ],
   "source": [
    "test_X.head()"
   ]
  },
  {
   "cell_type": "code",
   "execution_count": 64,
   "metadata": {
    "execution": {
     "iopub.execute_input": "2020-10-10T08:13:08.515765Z",
     "iopub.status.busy": "2020-10-10T08:13:08.514575Z",
     "iopub.status.idle": "2020-10-10T08:13:08.519401Z",
     "shell.execute_reply": "2020-10-10T08:13:08.518761Z"
    },
    "papermill": {
     "duration": 0.124547,
     "end_time": "2020-10-10T08:13:08.519526",
     "exception": false,
     "start_time": "2020-10-10T08:13:08.394979",
     "status": "completed"
    },
    "tags": []
   },
   "outputs": [
    {
     "data": {
      "text/plain": [
       "\"modelxg.fit(x, y)\\npred = modelxg.predict(test_X)\\nsub['TARGET(PRICE_IN_LACS)']=np.abs((np.exp(lgb_pred)-1))\\nsub.to_csv('sub.csv',index=False)\\nfrom IPython.display import FileLink\\nFileLink(r'sub.csv')\""
      ]
     },
     "execution_count": 64,
     "metadata": {},
     "output_type": "execute_result"
    }
   ],
   "source": [
    "'''modelxg.fit(x, y)\n",
    "pred = modelxg.predict(test_X)\n",
    "sub['TARGET(PRICE_IN_LACS)']=np.abs((np.exp(lgb_pred)-1))\n",
    "sub.to_csv('sub.csv',index=False)\n",
    "from IPython.display import FileLink\n",
    "FileLink(r'sub.csv')'''"
   ]
  },
  {
   "cell_type": "markdown",
   "metadata": {
    "papermill": {
     "duration": 0.115617,
     "end_time": "2020-10-10T08:13:08.750509",
     "exception": false,
     "start_time": "2020-10-10T08:13:08.634892",
     "status": "completed"
    },
    "tags": []
   },
   "source": [
    "H2O AI"
   ]
  },
  {
   "cell_type": "code",
   "execution_count": 65,
   "metadata": {
    "execution": {
     "iopub.execute_input": "2020-10-10T08:13:08.989316Z",
     "iopub.status.busy": "2020-10-10T08:13:08.988479Z",
     "iopub.status.idle": "2020-10-10T08:13:08.993403Z",
     "shell.execute_reply": "2020-10-10T08:13:08.992615Z"
    },
    "papermill": {
     "duration": 0.126972,
     "end_time": "2020-10-10T08:13:08.993535",
     "exception": false,
     "start_time": "2020-10-10T08:13:08.866563",
     "status": "completed"
    },
    "tags": []
   },
   "outputs": [
    {
     "name": "stdout",
     "output_type": "stream",
     "text": [
      "(29451, 14) (68720, 13)\n"
     ]
    }
   ],
   "source": [
    "print(train.shape,test.shape)"
   ]
  },
  {
   "cell_type": "code",
   "execution_count": 66,
   "metadata": {
    "execution": {
     "iopub.execute_input": "2020-10-10T08:13:09.248600Z",
     "iopub.status.busy": "2020-10-10T08:13:09.247538Z",
     "iopub.status.idle": "2020-10-10T08:13:09.252444Z",
     "shell.execute_reply": "2020-10-10T08:13:09.251794Z"
    },
    "papermill": {
     "duration": 0.142284,
     "end_time": "2020-10-10T08:13:09.252568",
     "exception": false,
     "start_time": "2020-10-10T08:13:09.110284",
     "status": "completed"
    },
    "tags": []
   },
   "outputs": [
    {
     "data": {
      "text/html": [
       "<div>\n",
       "<style scoped>\n",
       "    .dataframe tbody tr th:only-of-type {\n",
       "        vertical-align: middle;\n",
       "    }\n",
       "\n",
       "    .dataframe tbody tr th {\n",
       "        vertical-align: top;\n",
       "    }\n",
       "\n",
       "    .dataframe thead th {\n",
       "        text-align: right;\n",
       "    }\n",
       "</style>\n",
       "<table border=\"1\" class=\"dataframe\">\n",
       "  <thead>\n",
       "    <tr style=\"text-align: right;\">\n",
       "      <th></th>\n",
       "      <th>POSTED_BY</th>\n",
       "      <th>UNDER_CONSTRUCTION</th>\n",
       "      <th>RERA</th>\n",
       "      <th>BHK_NO.</th>\n",
       "      <th>BHK_OR_RK</th>\n",
       "      <th>SQUARE_FT</th>\n",
       "      <th>READY_TO_MOVE</th>\n",
       "      <th>RESALE</th>\n",
       "      <th>ADDRESS</th>\n",
       "      <th>LONGITUDE</th>\n",
       "      <th>LATITUDE</th>\n",
       "      <th>TARGET(PRICE_IN_LACS)</th>\n",
       "      <th>CITY</th>\n",
       "      <th>SQ_FT/ROOM</th>\n",
       "    </tr>\n",
       "  </thead>\n",
       "  <tbody>\n",
       "    <tr>\n",
       "      <th>0</th>\n",
       "      <td>0</td>\n",
       "      <td>0</td>\n",
       "      <td>0</td>\n",
       "      <td>2</td>\n",
       "      <td>0</td>\n",
       "      <td>1300.236407</td>\n",
       "      <td>1</td>\n",
       "      <td>1</td>\n",
       "      <td>Ksfc Layout Bangalore</td>\n",
       "      <td>12.969910</td>\n",
       "      <td>77.597960</td>\n",
       "      <td>4.025352</td>\n",
       "      <td>4.456091</td>\n",
       "      <td>650.118204</td>\n",
       "    </tr>\n",
       "    <tr>\n",
       "      <th>1</th>\n",
       "      <td>1</td>\n",
       "      <td>0</td>\n",
       "      <td>0</td>\n",
       "      <td>2</td>\n",
       "      <td>0</td>\n",
       "      <td>1275.000000</td>\n",
       "      <td>1</td>\n",
       "      <td>1</td>\n",
       "      <td>Vishweshwara Nagar Mysore</td>\n",
       "      <td>12.274538</td>\n",
       "      <td>76.644605</td>\n",
       "      <td>3.951244</td>\n",
       "      <td>4.097937</td>\n",
       "      <td>637.500000</td>\n",
       "    </tr>\n",
       "    <tr>\n",
       "      <th>2</th>\n",
       "      <td>0</td>\n",
       "      <td>0</td>\n",
       "      <td>0</td>\n",
       "      <td>2</td>\n",
       "      <td>0</td>\n",
       "      <td>933.159722</td>\n",
       "      <td>1</td>\n",
       "      <td>1</td>\n",
       "      <td>Jigani Bangalore</td>\n",
       "      <td>12.778033</td>\n",
       "      <td>77.632191</td>\n",
       "      <td>3.784190</td>\n",
       "      <td>4.456091</td>\n",
       "      <td>466.579861</td>\n",
       "    </tr>\n",
       "    <tr>\n",
       "      <th>3</th>\n",
       "      <td>0</td>\n",
       "      <td>0</td>\n",
       "      <td>1</td>\n",
       "      <td>2</td>\n",
       "      <td>0</td>\n",
       "      <td>929.921143</td>\n",
       "      <td>1</td>\n",
       "      <td>1</td>\n",
       "      <td>Sector   Vaishali Ghaziabad</td>\n",
       "      <td>28.642300</td>\n",
       "      <td>77.344500</td>\n",
       "      <td>4.151040</td>\n",
       "      <td>3.840646</td>\n",
       "      <td>464.960571</td>\n",
       "    </tr>\n",
       "    <tr>\n",
       "      <th>4</th>\n",
       "      <td>1</td>\n",
       "      <td>1</td>\n",
       "      <td>0</td>\n",
       "      <td>2</td>\n",
       "      <td>0</td>\n",
       "      <td>999.009247</td>\n",
       "      <td>0</td>\n",
       "      <td>1</td>\n",
       "      <td>New Town Kolkata</td>\n",
       "      <td>22.592200</td>\n",
       "      <td>88.484911</td>\n",
       "      <td>4.119037</td>\n",
       "      <td>4.003438</td>\n",
       "      <td>499.504623</td>\n",
       "    </tr>\n",
       "  </tbody>\n",
       "</table>\n",
       "</div>"
      ],
      "text/plain": [
       "   POSTED_BY  UNDER_CONSTRUCTION  RERA  BHK_NO.  BHK_OR_RK    SQUARE_FT  \\\n",
       "0          0                   0     0        2          0  1300.236407   \n",
       "1          1                   0     0        2          0  1275.000000   \n",
       "2          0                   0     0        2          0   933.159722   \n",
       "3          0                   0     1        2          0   929.921143   \n",
       "4          1                   1     0        2          0   999.009247   \n",
       "\n",
       "   READY_TO_MOVE  RESALE                      ADDRESS  LONGITUDE   LATITUDE  \\\n",
       "0              1       1        Ksfc Layout Bangalore  12.969910  77.597960   \n",
       "1              1       1    Vishweshwara Nagar Mysore  12.274538  76.644605   \n",
       "2              1       1             Jigani Bangalore  12.778033  77.632191   \n",
       "3              1       1  Sector   Vaishali Ghaziabad  28.642300  77.344500   \n",
       "4              0       1             New Town Kolkata  22.592200  88.484911   \n",
       "\n",
       "   TARGET(PRICE_IN_LACS)      CITY  SQ_FT/ROOM  \n",
       "0               4.025352  4.456091  650.118204  \n",
       "1               3.951244  4.097937  637.500000  \n",
       "2               3.784190  4.456091  466.579861  \n",
       "3               4.151040  3.840646  464.960571  \n",
       "4               4.119037  4.003438  499.504623  "
      ]
     },
     "execution_count": 66,
     "metadata": {},
     "output_type": "execute_result"
    }
   ],
   "source": [
    "train.head()\n"
   ]
  },
  {
   "cell_type": "code",
   "execution_count": 67,
   "metadata": {
    "execution": {
     "iopub.execute_input": "2020-10-10T08:13:09.494588Z",
     "iopub.status.busy": "2020-10-10T08:13:09.493680Z",
     "iopub.status.idle": "2020-10-10T08:13:15.710089Z",
     "shell.execute_reply": "2020-10-10T08:13:15.709190Z"
    },
    "papermill": {
     "duration": 6.339027,
     "end_time": "2020-10-10T08:13:15.710288",
     "exception": false,
     "start_time": "2020-10-10T08:13:09.371261",
     "status": "completed"
    },
    "tags": []
   },
   "outputs": [
    {
     "name": "stdout",
     "output_type": "stream",
     "text": [
      "Checking whether there is an H2O instance running at http://localhost:54323 ..... not found.\n",
      "Attempting to start a local H2O server...\n",
      "  Java Version: openjdk version \"11.0.8\" 2020-07-14; OpenJDK Runtime Environment (build 11.0.8+10-post-Ubuntu-0ubuntu118.04.1); OpenJDK 64-Bit Server VM (build 11.0.8+10-post-Ubuntu-0ubuntu118.04.1, mixed mode, sharing)\n",
      "  Starting server from /opt/conda/lib/python3.7/site-packages/h2o/backend/bin/h2o.jar\n",
      "  Ice root: /tmp/tmpodl12r5y\n",
      "  JVM stdout: /tmp/tmpodl12r5y/h2o_unknownUser_started_from_python.out\n",
      "  JVM stderr: /tmp/tmpodl12r5y/h2o_unknownUser_started_from_python.err\n",
      "  Server is running at http://127.0.0.1:54323\n",
      "Connecting to H2O server at http://127.0.0.1:54323 ... successful.\n"
     ]
    },
    {
     "data": {
      "text/html": [
       "<div style=\"overflow:auto\"><table style=\"width:50%\"><tr><td>H2O_cluster_uptime:</td>\n",
       "<td>02 secs</td></tr>\n",
       "<tr><td>H2O_cluster_timezone:</td>\n",
       "<td>Etc/UTC</td></tr>\n",
       "<tr><td>H2O_data_parsing_timezone:</td>\n",
       "<td>UTC</td></tr>\n",
       "<tr><td>H2O_cluster_version:</td>\n",
       "<td>3.30.0.7</td></tr>\n",
       "<tr><td>H2O_cluster_version_age:</td>\n",
       "<td>2 months and 18 days </td></tr>\n",
       "<tr><td>H2O_cluster_name:</td>\n",
       "<td>H2O_from_python_unknownUser_5fgbla</td></tr>\n",
       "<tr><td>H2O_cluster_total_nodes:</td>\n",
       "<td>1</td></tr>\n",
       "<tr><td>H2O_cluster_free_memory:</td>\n",
       "<td>4 Gb</td></tr>\n",
       "<tr><td>H2O_cluster_total_cores:</td>\n",
       "<td>4</td></tr>\n",
       "<tr><td>H2O_cluster_allowed_cores:</td>\n",
       "<td>4</td></tr>\n",
       "<tr><td>H2O_cluster_status:</td>\n",
       "<td>accepting new members, healthy</td></tr>\n",
       "<tr><td>H2O_connection_url:</td>\n",
       "<td>http://127.0.0.1:54323</td></tr>\n",
       "<tr><td>H2O_connection_proxy:</td>\n",
       "<td>{\"http\": null, \"https\": null}</td></tr>\n",
       "<tr><td>H2O_internal_security:</td>\n",
       "<td>False</td></tr>\n",
       "<tr><td>H2O_API_Extensions:</td>\n",
       "<td>Amazon S3, XGBoost, Algos, AutoML, Core V3, TargetEncoder, Core V4</td></tr>\n",
       "<tr><td>Python_version:</td>\n",
       "<td>3.7.6 final</td></tr></table></div>"
      ],
      "text/plain": [
       "--------------------------  ------------------------------------------------------------------\n",
       "H2O_cluster_uptime:         02 secs\n",
       "H2O_cluster_timezone:       Etc/UTC\n",
       "H2O_data_parsing_timezone:  UTC\n",
       "H2O_cluster_version:        3.30.0.7\n",
       "H2O_cluster_version_age:    2 months and 18 days\n",
       "H2O_cluster_name:           H2O_from_python_unknownUser_5fgbla\n",
       "H2O_cluster_total_nodes:    1\n",
       "H2O_cluster_free_memory:    4 Gb\n",
       "H2O_cluster_total_cores:    4\n",
       "H2O_cluster_allowed_cores:  4\n",
       "H2O_cluster_status:         accepting new members, healthy\n",
       "H2O_connection_url:         http://127.0.0.1:54323\n",
       "H2O_connection_proxy:       {\"http\": null, \"https\": null}\n",
       "H2O_internal_security:      False\n",
       "H2O_API_Extensions:         Amazon S3, XGBoost, Algos, AutoML, Core V3, TargetEncoder, Core V4\n",
       "Python_version:             3.7.6 final\n",
       "--------------------------  ------------------------------------------------------------------"
      ]
     },
     "metadata": {},
     "output_type": "display_data"
    }
   ],
   "source": [
    "import h2o\n",
    "h2o.init(ip=\"localhost\", port=54323)"
   ]
  },
  {
   "cell_type": "code",
   "execution_count": 68,
   "metadata": {
    "execution": {
     "iopub.execute_input": "2020-10-10T08:13:15.990377Z",
     "iopub.status.busy": "2020-10-10T08:13:15.988988Z",
     "iopub.status.idle": "2020-10-10T08:13:24.420386Z",
     "shell.execute_reply": "2020-10-10T08:13:24.421336Z"
    },
    "papermill": {
     "duration": 8.568074,
     "end_time": "2020-10-10T08:13:24.421583",
     "exception": false,
     "start_time": "2020-10-10T08:13:15.853509",
     "status": "completed"
    },
    "tags": []
   },
   "outputs": [
    {
     "name": "stdout",
     "output_type": "stream",
     "text": [
      "Parse progress: |█████████████████████████████████████████████████████████| 100%\n",
      "Parse progress: |█████████████████████████████████████████████████████████| 100%\n"
     ]
    }
   ],
   "source": [
    "train_h2o = h2o.H2OFrame(train)\n",
    "test_h2o = h2o.H2OFrame(test)"
   ]
  },
  {
   "cell_type": "code",
   "execution_count": 69,
   "metadata": {
    "execution": {
     "iopub.execute_input": "2020-10-10T08:13:24.709217Z",
     "iopub.status.busy": "2020-10-10T08:13:24.708141Z",
     "iopub.status.idle": "2020-10-10T08:13:24.711989Z",
     "shell.execute_reply": "2020-10-10T08:13:24.711339Z"
    },
    "papermill": {
     "duration": 0.143607,
     "end_time": "2020-10-10T08:13:24.712134",
     "exception": false,
     "start_time": "2020-10-10T08:13:24.568527",
     "status": "completed"
    },
    "tags": []
   },
   "outputs": [],
   "source": [
    "y = 'TARGET(PRICE_IN_LACS)'"
   ]
  },
  {
   "cell_type": "code",
   "execution_count": 70,
   "metadata": {
    "execution": {
     "iopub.execute_input": "2020-10-10T08:13:24.998540Z",
     "iopub.status.busy": "2020-10-10T08:13:24.997509Z",
     "iopub.status.idle": "2020-10-10T08:13:25.000884Z",
     "shell.execute_reply": "2020-10-10T08:13:25.000238Z"
    },
    "papermill": {
     "duration": 0.151116,
     "end_time": "2020-10-10T08:13:25.001015",
     "exception": false,
     "start_time": "2020-10-10T08:13:24.849899",
     "status": "completed"
    },
    "tags": []
   },
   "outputs": [],
   "source": [
    "X = list(train.columns)\n",
    "X.remove('READY_TO_MOVE')\n",
    "X.remove(y)"
   ]
  },
  {
   "cell_type": "code",
   "execution_count": 71,
   "metadata": {
    "execution": {
     "iopub.execute_input": "2020-10-10T08:13:25.277310Z",
     "iopub.status.busy": "2020-10-10T08:13:25.276167Z",
     "iopub.status.idle": "2020-10-10T08:13:25.280178Z",
     "shell.execute_reply": "2020-10-10T08:13:25.280707Z"
    },
    "papermill": {
     "duration": 0.145482,
     "end_time": "2020-10-10T08:13:25.280868",
     "exception": false,
     "start_time": "2020-10-10T08:13:25.135386",
     "status": "completed"
    },
    "tags": []
   },
   "outputs": [
    {
     "data": {
      "text/plain": [
       "['POSTED_BY',\n",
       " 'UNDER_CONSTRUCTION',\n",
       " 'RERA',\n",
       " 'BHK_NO.',\n",
       " 'BHK_OR_RK',\n",
       " 'SQUARE_FT',\n",
       " 'RESALE',\n",
       " 'ADDRESS',\n",
       " 'LONGITUDE',\n",
       " 'LATITUDE',\n",
       " 'CITY',\n",
       " 'SQ_FT/ROOM']"
      ]
     },
     "execution_count": 71,
     "metadata": {},
     "output_type": "execute_result"
    }
   ],
   "source": [
    "X"
   ]
  },
  {
   "cell_type": "code",
   "execution_count": 72,
   "metadata": {
    "execution": {
     "iopub.execute_input": "2020-10-10T08:13:25.558356Z",
     "iopub.status.busy": "2020-10-10T08:13:25.557597Z",
     "iopub.status.idle": "2020-10-10T08:18:30.674113Z",
     "shell.execute_reply": "2020-10-10T08:18:30.673319Z"
    },
    "papermill": {
     "duration": 305.257195,
     "end_time": "2020-10-10T08:18:30.674258",
     "exception": false,
     "start_time": "2020-10-10T08:13:25.417063",
     "status": "completed"
    },
    "tags": []
   },
   "outputs": [
    {
     "name": "stdout",
     "output_type": "stream",
     "text": [
      "AutoML progress: |████████████████████████████████████████████████████████| 100%\n"
     ]
    }
   ],
   "source": [
    "from h2o.automl import H2OAutoML\n",
    "aml = H2OAutoML(max_runtime_secs=300, seed = 1)\n",
    "aml.train(x = X, y = y, training_frame = train_h2o)"
   ]
  },
  {
   "cell_type": "code",
   "execution_count": 73,
   "metadata": {
    "execution": {
     "iopub.execute_input": "2020-10-10T08:18:31.001805Z",
     "iopub.status.busy": "2020-10-10T08:18:31.000626Z",
     "iopub.status.idle": "2020-10-10T08:18:31.100552Z",
     "shell.execute_reply": "2020-10-10T08:18:31.099774Z"
    },
    "papermill": {
     "duration": 0.267237,
     "end_time": "2020-10-10T08:18:31.100679",
     "exception": false,
     "start_time": "2020-10-10T08:18:30.833442",
     "status": "completed"
    },
    "tags": []
   },
   "outputs": [
    {
     "data": {
      "text/html": [
       "<table>\n",
       "<thead>\n",
       "<tr><th>model_id                                           </th><th style=\"text-align: right;\">  mean_residual_deviance</th><th style=\"text-align: right;\">    rmse</th><th style=\"text-align: right;\">      mse</th><th style=\"text-align: right;\">     mae</th><th style=\"text-align: right;\">      rmsle</th></tr>\n",
       "</thead>\n",
       "<tbody>\n",
       "<tr><td>StackedEnsemble_BestOfFamily_AutoML_20201010_081325</td><td style=\"text-align: right;\">               0.0917076</td><td style=\"text-align: right;\">0.302833</td><td style=\"text-align: right;\">0.0917076</td><td style=\"text-align: right;\">0.205181</td><td style=\"text-align: right;\">  0.0605646</td></tr>\n",
       "<tr><td>StackedEnsemble_AllModels_AutoML_20201010_081325   </td><td style=\"text-align: right;\">               0.0917102</td><td style=\"text-align: right;\">0.302837</td><td style=\"text-align: right;\">0.0917102</td><td style=\"text-align: right;\">0.205183</td><td style=\"text-align: right;\">  0.0605655</td></tr>\n",
       "<tr><td>GBM_grid__1_AutoML_20201010_081325_model_2         </td><td style=\"text-align: right;\">               0.0934162</td><td style=\"text-align: right;\">0.305641</td><td style=\"text-align: right;\">0.0934162</td><td style=\"text-align: right;\">0.206252</td><td style=\"text-align: right;\">  0.0609308</td></tr>\n",
       "<tr><td>XGBoost_grid__1_AutoML_20201010_081325_model_1     </td><td style=\"text-align: right;\">               0.103941 </td><td style=\"text-align: right;\">0.322398</td><td style=\"text-align: right;\">0.103941 </td><td style=\"text-align: right;\">0.225423</td><td style=\"text-align: right;\">  0.0649481</td></tr>\n",
       "<tr><td>GBM_4_AutoML_20201010_081325                       </td><td style=\"text-align: right;\">               0.118295 </td><td style=\"text-align: right;\">0.34394 </td><td style=\"text-align: right;\">0.118295 </td><td style=\"text-align: right;\">0.237889</td><td style=\"text-align: right;\">  0.0670769</td></tr>\n",
       "<tr><td>GBM_3_AutoML_20201010_081325                       </td><td style=\"text-align: right;\">               0.122274 </td><td style=\"text-align: right;\">0.349676</td><td style=\"text-align: right;\">0.122274 </td><td style=\"text-align: right;\">0.24391 </td><td style=\"text-align: right;\">  0.0680986</td></tr>\n",
       "<tr><td>XGBoost_grid__1_AutoML_20201010_081325_model_2     </td><td style=\"text-align: right;\">               0.125729 </td><td style=\"text-align: right;\">0.354582</td><td style=\"text-align: right;\">0.125729 </td><td style=\"text-align: right;\">0.253208</td><td style=\"text-align: right;\">  0.0700709</td></tr>\n",
       "<tr><td>XGBoost_3_AutoML_20201010_081325                   </td><td style=\"text-align: right;\">               0.128674 </td><td style=\"text-align: right;\">0.358712</td><td style=\"text-align: right;\">0.128674 </td><td style=\"text-align: right;\">0.256193</td><td style=\"text-align: right;\">  0.0707266</td></tr>\n",
       "<tr><td>GBM_2_AutoML_20201010_081325                       </td><td style=\"text-align: right;\">               0.132566 </td><td style=\"text-align: right;\">0.364096</td><td style=\"text-align: right;\">0.132566 </td><td style=\"text-align: right;\">0.254185</td><td style=\"text-align: right;\">  0.0703806</td></tr>\n",
       "<tr><td>GBM_1_AutoML_20201010_081325                       </td><td style=\"text-align: right;\">               0.139389 </td><td style=\"text-align: right;\">0.373348</td><td style=\"text-align: right;\">0.139389 </td><td style=\"text-align: right;\">0.267382</td><td style=\"text-align: right;\">  0.0728339</td></tr>\n",
       "<tr><td>GBM_grid__1_AutoML_20201010_081325_model_1         </td><td style=\"text-align: right;\">               0.145232 </td><td style=\"text-align: right;\">0.381093</td><td style=\"text-align: right;\">0.145232 </td><td style=\"text-align: right;\">0.272892</td><td style=\"text-align: right;\">  0.0744059</td></tr>\n",
       "<tr><td>DRF_1_AutoML_20201010_081325                       </td><td style=\"text-align: right;\">               0.146091 </td><td style=\"text-align: right;\">0.382219</td><td style=\"text-align: right;\">0.146091 </td><td style=\"text-align: right;\">0.253687</td><td style=\"text-align: right;\">  0.0753193</td></tr>\n",
       "<tr><td>XGBoost_2_AutoML_20201010_081325                   </td><td style=\"text-align: right;\">               0.157731 </td><td style=\"text-align: right;\">0.397154</td><td style=\"text-align: right;\">0.157731 </td><td style=\"text-align: right;\">0.290554</td><td style=\"text-align: right;\">  0.0762518</td></tr>\n",
       "<tr><td>XRT_1_AutoML_20201010_081325                       </td><td style=\"text-align: right;\">               0.201313 </td><td style=\"text-align: right;\">0.448679</td><td style=\"text-align: right;\">0.201313 </td><td style=\"text-align: right;\">0.293552</td><td style=\"text-align: right;\">  0.0887806</td></tr>\n",
       "<tr><td>GBM_5_AutoML_20201010_081325                       </td><td style=\"text-align: right;\">               0.211286 </td><td style=\"text-align: right;\">0.459659</td><td style=\"text-align: right;\">0.211286 </td><td style=\"text-align: right;\">0.283879</td><td style=\"text-align: right;\">  0.0812167</td></tr>\n",
       "<tr><td>GLM_1_AutoML_20201010_081325                       </td><td style=\"text-align: right;\">               0.33452  </td><td style=\"text-align: right;\">0.578377</td><td style=\"text-align: right;\">0.33452  </td><td style=\"text-align: right;\">0.383032</td><td style=\"text-align: right;\">  0.101896 </td></tr>\n",
       "<tr><td>DeepLearning_1_AutoML_20201010_081325              </td><td style=\"text-align: right;\">               0.373689 </td><td style=\"text-align: right;\">0.611301</td><td style=\"text-align: right;\">0.373689 </td><td style=\"text-align: right;\">0.401125</td><td style=\"text-align: right;\">nan        </td></tr>\n",
       "<tr><td>DeepLearning_grid__1_AutoML_20201010_081325_model_1</td><td style=\"text-align: right;\">               0.457182 </td><td style=\"text-align: right;\">0.676152</td><td style=\"text-align: right;\">0.457182 </td><td style=\"text-align: right;\">0.434033</td><td style=\"text-align: right;\">  0.112619 </td></tr>\n",
       "<tr><td>XGBoost_1_AutoML_20201010_081325                   </td><td style=\"text-align: right;\">               0.6586   </td><td style=\"text-align: right;\">0.811542</td><td style=\"text-align: right;\">0.6586   </td><td style=\"text-align: right;\">0.593818</td><td style=\"text-align: right;\">  0.165438 </td></tr>\n",
       "</tbody>\n",
       "</table>"
      ]
     },
     "metadata": {},
     "output_type": "display_data"
    },
    {
     "data": {
      "text/plain": []
     },
     "execution_count": 73,
     "metadata": {},
     "output_type": "execute_result"
    }
   ],
   "source": [
    "lb = aml.leaderboard\n",
    "lb.head()\n",
    "lb.head(rows=lb.nrows)"
   ]
  },
  {
   "cell_type": "code",
   "execution_count": 74,
   "metadata": {
    "execution": {
     "iopub.execute_input": "2020-10-10T08:18:31.425136Z",
     "iopub.status.busy": "2020-10-10T08:18:31.424332Z",
     "iopub.status.idle": "2020-10-10T08:18:31.427133Z",
     "shell.execute_reply": "2020-10-10T08:18:31.427703Z"
    },
    "papermill": {
     "duration": 0.166997,
     "end_time": "2020-10-10T08:18:31.427887",
     "exception": false,
     "start_time": "2020-10-10T08:18:31.260890",
     "status": "completed"
    },
    "tags": []
   },
   "outputs": [],
   "source": [
    "test_h2o = test_h2o.drop(['READY_TO_MOVE'])"
   ]
  },
  {
   "cell_type": "code",
   "execution_count": 75,
   "metadata": {
    "execution": {
     "iopub.execute_input": "2020-10-10T08:18:31.793897Z",
     "iopub.status.busy": "2020-10-10T08:18:31.770809Z",
     "iopub.status.idle": "2020-10-10T08:18:31.830686Z",
     "shell.execute_reply": "2020-10-10T08:18:31.831238Z"
    },
    "papermill": {
     "duration": 0.244849,
     "end_time": "2020-10-10T08:18:31.831402",
     "exception": false,
     "start_time": "2020-10-10T08:18:31.586553",
     "status": "completed"
    },
    "tags": []
   },
   "outputs": [
    {
     "data": {
      "text/html": [
       "<table>\n",
       "<thead>\n",
       "<tr><th style=\"text-align: right;\">  POSTED_BY</th><th style=\"text-align: right;\">  UNDER_CONSTRUCTION</th><th style=\"text-align: right;\">  RERA</th><th style=\"text-align: right;\">  BHK_NO.</th><th style=\"text-align: right;\">  BHK_OR_RK</th><th style=\"text-align: right;\">  SQUARE_FT</th><th style=\"text-align: right;\">  RESALE</th><th>ADDRESS                 </th><th style=\"text-align: right;\">  LONGITUDE</th><th style=\"text-align: right;\">  LATITUDE</th><th style=\"text-align: right;\">   CITY</th><th style=\"text-align: right;\">  SQ_FT/ROOM</th></tr>\n",
       "</thead>\n",
       "<tbody>\n",
       "<tr><td style=\"text-align: right;\">          0</td><td style=\"text-align: right;\">                   0</td><td style=\"text-align: right;\">     0</td><td style=\"text-align: right;\">        1</td><td style=\"text-align: right;\">          0</td><td style=\"text-align: right;\">    545.171</td><td style=\"text-align: right;\">       1</td><td>Kamrej Surat            </td><td style=\"text-align: right;\">    21.262 </td><td style=\"text-align: right;\">   73.0477</td><td style=\"text-align: right;\">3.77185</td><td style=\"text-align: right;\">     545.171</td></tr>\n",
       "<tr><td style=\"text-align: right;\">          1</td><td style=\"text-align: right;\">                   1</td><td style=\"text-align: right;\">     1</td><td style=\"text-align: right;\">        2</td><td style=\"text-align: right;\">          0</td><td style=\"text-align: right;\">    800    </td><td style=\"text-align: right;\">       0</td><td>Panvel Lalitpur         </td><td style=\"text-align: right;\">    18.9661</td><td style=\"text-align: right;\">   73.1483</td><td style=\"text-align: right;\">4.84088</td><td style=\"text-align: right;\">     400    </td></tr>\n",
       "<tr><td style=\"text-align: right;\">          1</td><td style=\"text-align: right;\">                   0</td><td style=\"text-align: right;\">     0</td><td style=\"text-align: right;\">        2</td><td style=\"text-align: right;\">          0</td><td style=\"text-align: right;\">   1257.1  </td><td style=\"text-align: right;\">       1</td><td>New Town Kolkata        </td><td style=\"text-align: right;\">    22.5922</td><td style=\"text-align: right;\">   88.4849</td><td style=\"text-align: right;\">4.00344</td><td style=\"text-align: right;\">     628.548</td></tr>\n",
       "<tr><td style=\"text-align: right;\">          1</td><td style=\"text-align: right;\">                   0</td><td style=\"text-align: right;\">     0</td><td style=\"text-align: right;\">        3</td><td style=\"text-align: right;\">          0</td><td style=\"text-align: right;\">   1400.33 </td><td style=\"text-align: right;\">       1</td><td>Kalwar Road Jaipur      </td><td style=\"text-align: right;\">    26.9883</td><td style=\"text-align: right;\">   75.5846</td><td style=\"text-align: right;\">3.72258</td><td style=\"text-align: right;\">     466.776</td></tr>\n",
       "<tr><td style=\"text-align: right;\">          0</td><td style=\"text-align: right;\">                   0</td><td style=\"text-align: right;\">     0</td><td style=\"text-align: right;\">        1</td><td style=\"text-align: right;\">          0</td><td style=\"text-align: right;\">    430.478</td><td style=\"text-align: right;\">       1</td><td>Mai Mandir Nadiad       </td><td style=\"text-align: right;\">    22.7   </td><td style=\"text-align: right;\">   72.87  </td><td style=\"text-align: right;\">3.04604</td><td style=\"text-align: right;\">     430.478</td></tr>\n",
       "<tr><td style=\"text-align: right;\">          0</td><td style=\"text-align: right;\">                   0</td><td style=\"text-align: right;\">     0</td><td style=\"text-align: right;\">        2</td><td style=\"text-align: right;\">          0</td><td style=\"text-align: right;\">    500    </td><td style=\"text-align: right;\">       1</td><td>Elora Park Vadodara     </td><td style=\"text-align: right;\">    21.7164</td><td style=\"text-align: right;\">   73.0041</td><td style=\"text-align: right;\">3.55095</td><td style=\"text-align: right;\">     250    </td></tr>\n",
       "<tr><td style=\"text-align: right;\">          1</td><td style=\"text-align: right;\">                   0</td><td style=\"text-align: right;\">     0</td><td style=\"text-align: right;\">        1</td><td style=\"text-align: right;\">          0</td><td style=\"text-align: right;\">    724.836</td><td style=\"text-align: right;\">       1</td><td>Shirgaon Maharashtra    </td><td style=\"text-align: right;\">    19.032 </td><td style=\"text-align: right;\">   73.6215</td><td style=\"text-align: right;\">4.94923</td><td style=\"text-align: right;\">     724.836</td></tr>\n",
       "<tr><td style=\"text-align: right;\">          1</td><td style=\"text-align: right;\">                   1</td><td style=\"text-align: right;\">     1</td><td style=\"text-align: right;\">        1</td><td style=\"text-align: right;\">          0</td><td style=\"text-align: right;\">    778.843</td><td style=\"text-align: right;\">       1</td><td>Anjurdive Mumbai        </td><td style=\"text-align: right;\">    18.9667</td><td style=\"text-align: right;\">   72.8333</td><td style=\"text-align: right;\">4.92169</td><td style=\"text-align: right;\">     778.843</td></tr>\n",
       "<tr><td style=\"text-align: right;\">          1</td><td style=\"text-align: right;\">                   0</td><td style=\"text-align: right;\">     0</td><td style=\"text-align: right;\">        1</td><td style=\"text-align: right;\">          0</td><td style=\"text-align: right;\">    600.056</td><td style=\"text-align: right;\">       1</td><td>Rambaug Maharashtra     </td><td style=\"text-align: right;\">    19.2438</td><td style=\"text-align: right;\">   73.1347</td><td style=\"text-align: right;\">4.94923</td><td style=\"text-align: right;\">     600.056</td></tr>\n",
       "<tr><td style=\"text-align: right;\">          1</td><td style=\"text-align: right;\">                   0</td><td style=\"text-align: right;\">     0</td><td style=\"text-align: right;\">        2</td><td style=\"text-align: right;\">          0</td><td style=\"text-align: right;\">   1323.59 </td><td style=\"text-align: right;\">       1</td><td>Borivali  West  Lalitpur</td><td style=\"text-align: right;\">    19.2361</td><td style=\"text-align: right;\">   72.8338</td><td style=\"text-align: right;\">4.84088</td><td style=\"text-align: right;\">     661.796</td></tr>\n",
       "</tbody>\n",
       "</table>"
      ]
     },
     "metadata": {},
     "output_type": "display_data"
    },
    {
     "data": {
      "text/plain": []
     },
     "execution_count": 75,
     "metadata": {},
     "output_type": "execute_result"
    }
   ],
   "source": [
    "test_h2o.head()"
   ]
  },
  {
   "cell_type": "code",
   "execution_count": 76,
   "metadata": {
    "execution": {
     "iopub.execute_input": "2020-10-10T08:18:32.191844Z",
     "iopub.status.busy": "2020-10-10T08:18:32.190756Z",
     "iopub.status.idle": "2020-10-10T08:18:34.860318Z",
     "shell.execute_reply": "2020-10-10T08:18:34.859608Z"
    },
    "papermill": {
     "duration": 2.868472,
     "end_time": "2020-10-10T08:18:34.860456",
     "exception": false,
     "start_time": "2020-10-10T08:18:31.991984",
     "status": "completed"
    },
    "tags": []
   },
   "outputs": [
    {
     "name": "stdout",
     "output_type": "stream",
     "text": [
      "stackedensemble prediction progress: |████████████████████████████████████| 100%\n"
     ]
    },
    {
     "name": "stderr",
     "output_type": "stream",
     "text": [
      "/opt/conda/lib/python3.7/site-packages/h2o/job.py:70: UserWarning: Test/Validation dataset column 'ADDRESS' has levels not trained on: [     Ganga Sankul Apt macchisath near Sathkhiradi  Amravati,     Feet Alwar,     HDA Flat Complex Basudevpur Haldia,     Railway Lines   Solapur,     feet road Vijayawada,     kalipur road haridevpur Kolkata,    Godown Jaipur,    Main Road    th Phase  J P  Nagar Bangalore,    NEW JAGNATH Rajkot,    No Naka Wadi Lalitpur,    Ramaiah Layout Bangalore,    laxmi colony  opp laxmi mandir cinema jaipur Jaipur,    th Milestone Road Ajmer Jaipur Expressway Jaipur,   Km From DELHI Ghaziabad,   june Road Panaji,  NAME  Chennai,  nd Block Hbr Layout Bangalore,  nd Cross  Prashanthi Nagar  K Narayanapura Main Road Bangalore,  nd line haranatha puram Nellore,  near Post Office Morbi,  rd Block Hrbr Layout Bangalore,  rd Block Koramangala Bangalore,  rd Phase Iti Layout Bangalore,  rd Stage Vinayaka Layout Bangalore,  st Block BEL Layout Bangalore,  st Stage Indira Nagar Bangalore,  th Block BEL Layout Bangalore,  th Block HBR Layout Bangalore,  th Bridge Jabalpur,  th Mile Ordinance Factory Gate no    Wadi Nagpur,  th Stage Vijayanagar Mysore,  th cross street near Bharath university Chennai, A K Road Surat, A Narayanapura Bangalore, A k Road Surat, AAKHLOL Bhavnagar, AC Market  Bank More Dhanbad, ADA Heights Agra, AGS Colony Chennai, AIIMS Hospital Road Rishikesh, AIIMS TATIBANDH Raipur, AIRPORT GATE No   Kolkata, AKASH GANGA WAGHBIL Lalitpur, AKSHAR CHOWK Vadodara, ALAKHDHAM NAGAR Ujjain, AMBATTUR ESTATE Chennai, AMBICAPATTY Silchar, AMBUR Vellore, APC Road Kolkata, APHB Colony Guntur, ARAVLI HEIGHT Rewari, ARMORS TOWNSHIP Nagpur, AYODHYA CHOWK Rajkot, AYUSHMAN RESIDENCY Indore, AYYAPPA NAGAR Vizianagaram, Aamrai Karjat, Aarey Milk Colony Mumbai, Aasra Solapur, Abadpura Jalandhar, Abbaiah Reddy Layout Bangalore, Abhava Hazira Highway Surat, Abhay Khand Ghaziabad, Abhay Nagar Nagpur, Abhiramapuram Chennai, Abhirami Nagar Chennai, Abhiyanta Nagar Patna, Abhyudaya Nagar Lalitpur, Abhyudaya Nagar Maharashtra, Abhyudaya Nagar Mumbai, Abiramapuram Chennai, Ac Nagar   Balaji Nagar Nellore, Acharapakkam Chennai, Acharya Nagar Kanpur, Ada naini Allahabad, Adabari Guwahati, Adabari Tiniali Guwahati, Adaigaon Maharashtra, Adajan Hazira Road Surat, Adampur Bhagalpur, Adarsh Colony Pune, Adarsh Gram Rishikesh, Adarsh Nagar  Palghar Palghar, Adarsh Nagar  Parasia Road Chhindwara, Adarsh Nagar Chicalim Goa, Adarsh Nagar Hubli, Adarsh Nagar Jalandhar, Adarsh Nagar Jalgaon, Adarsh Nagar Jamshedpur, Adarsh Nagar Lucknow, Adarsh Nagar Maharashtra, Adarsh Nagar Mumbai, Adarsh Nagar Udaipur, Adavi Takkelapadu Guntur, Adgaon Maharashtra, Adhanur Chennai, Adharwadi Mumbai, Adhewada Bhavnagar, Adhvikaa Paradise Chennai, Adhyapak Nagar Hubli, Adi Udupi Udupi, Adil Nagar Lucknow, Adipur  B Gandhidham, Adithanar Nagar Chennai, Aditya Puram Gwalior, Agaramthen Chennai, Agarkar Mala Ahmednagar, Agnipath Colony Allahabad, Agra Chowk Palwal, Agrahara Layout Bangalore, Agripada Lalitpur, Agripada Maharashtra, Ags Colony  Mugalivakkam Chennai, Agwanpur Faridabad, Ahimsha Marg  Chincholi Bunder Road Lalitpur, Ahirtoli Ranchi, Ahmamau Lucknow, Ahmed Nagar Shirdi, Ahmedpure Colony Prime Location Near To Main Road Nizamabad, Aiims bhubaneswar Bhubaneswar, Airport Area  DumDum Kolkata, Airport Enclave Jaipur, Airport Road   KOGILU CROSS BANGALORE Bangalore, Airport Road Near Gole Ka Mandir Gwalior, Aishbagh Lucknow, Aishwarya Crystal Layout Bangalore, Aishwarya Nagar Chennai, Ajabpur Kalan Dehradun, Ajay Nagar Kolkata, Aji Dam Rajkot, Ajit Nagar Vapi, Ajnara Homes     Noida, Akash Nagar Chennai, Akash Nagar Ghaziabad, Akashdeep Enclave Roorkee, Akashwani Chowk Lalitpur, Akashwani Colony Kota, Akashya Park R N Shetty Road Hubli, Akbarpur Bhopal, Akhilesh Circle Bhavnagar, Akhnoor Jammu, Akkayyapalem Visakhapatnam, Akola Akola, Akriti Eco Bhopal, Akshar Farm Road Anand, Akshay Patra Jaipur, Akurle Karjat, Akurle Road  Dahiwali Karjat, Akurli Lalitpur, Akurli Nagar Lalitpur, Alambazar Kolkata, Alamchand Bazar Cuttack, Alapakkam Chennai, Albert Compound   Purulia Road Ranchi, Ali Askar Road Bangalore, Alibaug Lalitpur, Aligarh Aligarh, Alipore Police Line Kolkata, Alisha Bardhaman, Alkapuri Gwalior, All Morbi, Allahapur Allahabad, Allalasandra Bangalore, Allanahalli Layout Mysore, Allipuram Visakhapatnam, Allyali Palghar, Almeida Park Lalitpur, Alok Nagar Aurangabad, Alopibagh Allahabad, Alur Bangalore, Alwaye Kochi, Amalner Jalgaon, Amalsad Navsari, Aman vihar  Sahastradhara road Dehradun, Amanora Park Town  Pune Pune, Amar Jothi Saroj Nagar Coimbatore, Amar Jyoti Layout Bangalore, Amar Layout Bangalore, Amar Nagar Nagpur, Amarjyothi Colony Bangalore, Amaudha Satna, Amayra Greens   Kharar Mohali, Ambagilu Udupi, Ambah road near bhadori Morena, Ambaji Goa, Ambaji Margao, Ambala City Ambala, Ambedkar Nagar Lalitpur, Ambedkar Nagar Mumbai, Ambegaon Budruk Lalitpur, Ambegaon Kh Pune, Ambegaon Lalitpur, Ambigai Nagar Chennai, Ambika Nagar Akola, Ambika Township  Nana Mava Road Rajkot, Ambika Township Rajkot, Ambika township Rajkot, Ambivli Maharashtra, Ambivli Mumbai, Amboli Maharashtra, Amco Colony Bangalore, Amkhera Jabalpur, Amleshwar Raipur, Ammani Ramanna Shetty Hall Udupi, Ammapettai Kanchipuram, Amrai Durgapur, Amravati Enclave Panchkula, Amravati Road Nagpur, Amrita Nagar Bangalore, Amrithammal Chennai, Amrut Society Behind Golden City Jamnagar, Amudha Nagar Main Road  Iyyencherry Urapakkam Chennai, Amudham Colony Chennai, Anadgram Yavat Solapur Road Pune Pune, Anadha Nagar Karaikudi, Anaimalai Coimbatore, Anand   Vidhyanagar road Anand, Anand Bazaar Indore, Anand Mahel Road  Adajan Surat, Anand Nagar Bangalore, Anand Nagar Gwalior, Anand Nagar Morbi, Anand Nagar Nanded, Anand Nagar Rajkot, Anand V V Nagar Road Anand, Anand Vidyanagar Road Anand, Anand lambhvel Road Near zydus hosp Anand, Anand nagar Bada Park Gwalior, Anand nagar Vapi, Ananda Nagar Guwahati, Ananda Palit Kolkata, Anandapura Bangalore, Anandapuram Visakhapatnam, Anandpuri Patna, Anantwadi Bhavnagar, Andharua Bhubaneswar, Andheri MIDC Maharashtra, Andigola Muzaffarpur, Andul Kolkata, Anganwa Jodhpur, Angol Belgaum, Angulimal Nagar Nagpur, Anil Moitra Road Kolkata, Anjananagar  Bharathnagar  st Stage Bangalore, Anjappa Layout Bangalore, Anjuna Goa, Ankappa Layout Bangalore, Ankireddy Palem Guntur, Anna Nagar East Chennai, Anna Nagar Western Extension Chennai, Annandale Shimla, Annanur Railway Station Chennai, Annenahalli Tumkur, Anoop shahar road Aligarh, Anoopshahar Road  Aligarh Aligarh, Anoopshahar Road Aligarh, Anoopshar Road Aligarh, Ansal API Sushant golf city Lucknow, Ansal Town Alwar Alwar, Ansal Town Meerut Meerut, Antalia Navsari, Anthappa Layout Bangalore, Antop Hill Lalitpur, Antop Hill Mumbai, Antrolikar Nagar Solapur, Anu Nagar Maharashtra, Anukampa hanging garden jaisinghpura jaipur Jaipur, Anumai Nagar Wardha, Aparna Towers Madurai, Apcar Garden Asansol, Aquem Alto Goa, Arabic College Post Bangalore, Arabinda Sarani Kolkata, Arakere  BTM  th Stage  Bannerghatta Road Bangalore, Aram Nagar Lalitpur, Aranattukara Thrissur, Aranya Nagar Indore, Aravinda Nagar Anantapur, Aravli Heights Rewari, Archarya Vinobhave Nagar Nursery Circle Vaishali N Jaipur, Arekere  Bannerghata road Bangalore, Arif Nagar Bhopal, Arihant Nagar Hubli, Arihant Nagar Ratnagiri, Arilova  VKS English Medium School Road Visakhapatnam, Arjunpur Kolkata, Arkavathy Layout Bangalore, Arkula Mangalore, Armoor Nizamabad, Arni Road Yavatmal, Arrah Bidhannagar Durgapur, Arul Colony Secunderabad, Arulanada Nagar Thanjavur, Arulananda nagarN Thanjavur, Arumbakkam  Rajiv Gandhi Street Chennai, Arun Nagar Coimbatore, Arun appartment  jagir ammaplayam Salem, Arvi Naka Wardha, Asalpha Lalitpur, Asha Nagar Maharashtra, Asharfabad Lucknow, Ashberry Homes Amritsar, Ashiana Aangan Bhiwadi, Ashiana Lucknow, Ashiana Nagar Patna, Ashiana Road Patna, Ashish Nagar Indore, Ashok Chowk Solapur, Ashok Kunj Ranchi, Ashok Nagar  Chennai, Ashok Nagar Bangalore, Ashok Nagar Bhilwara, Ashok Nagar Bilaspur, Ashok Nagar Chennai, Ashok Nagar Dhanbad, Ashok Nagar Eluru, Ashok Nagar Jaipur, Ashok Nagar Kakinada, Ashok Nagar Kanchipuram, Ashok Nagar Kolkata, Ashok Nagar Pondicherry, Ashok Nagar Ranchi, Ashok Nagar Solapur Solapur, Ashok Vihar Colony II  Pahariya  Varanasi Varanasi, Ashok Vihar Phase II Gurgaon, Ashoka Enclave Faridabad, Ashoknagar Bangalore, Ashokpuri Patna, Ashopur Patna, Ashutosh Nagar Rishikesh, Ashwamegh Nagar Vadodara, Ashwini Nagar Kolkata, Ashwini layout Bangalore, Asramam Kollam, Assagao Goa, Aswini Colony Secunderabad, Atabagan Garia Near Kalyan Samity Club Kolkata, Atgaon Lalitpur, Atghara Kolkata, Atharnala Puri, Athgaon Guwahati, Athikulam Madurai, Athirampuzha Kottayam, Athwa Surat, Atif Vihar Lucknow, Attur Layout Bangalore, Au Outgate Visakhapatnam, Aundh Maharashtra, Aurangabad Mathura, Austin Nagar Chennai, Autadwadi Handewadi Pune, Avadi Kovilpathagai Poompozhil Nagar Chennai, Avalon Homes Bhiwadi, Avantika ADA Phase    Aligarh, Avas Vikas Colony Lucknow, Avdhut Nagar Nagpur, Avinjipadam Palakkad, Avvai Nagar Chennai, Awadh vihar Yojana Lucknow, Awadhpuri  Kanta chouraha  jhotwara Jaipur, Awas Vikas Agra, Awhalwadi Road Pune, Ayappa Garden Bangalore, Ayappa Nagar kr puram Bangalore, Ayarpatta Nainital, Ayikkara Kannur, Ayodhya Naga Jalgaon, Ayodhya Nagar Bhopal, Ayodhya Nagar Jaipur, Ayodhya Nagar Vijayawada, Ayyapa Colony Secunderabad, Ayyapa Ground New Sama Road Vadodara, Ayyapanthangal Chennai, Ayyappankavu Kochi, Azaad Nagar Kannur, Azad Nagar Jamshedpur, Azad Nagar Lalitpur, Azam Colony Aurangabad, Azam Nagar Belgaum, Azamshah Layout Nagpur, Azeez Nagar Chennai, B  R  Farm Navsari, B Channasandra Bangalore, B Das Compound  Naurangabad Aligarh, B H WEST ZONE OFFICE Surat, B Hosahalli Road Sompura Gate  Sarjapur Bangalore, B Thandrapadu Kurnool, B Y Raveshwara Nagar Bangalore, B zone Township  Durgapur, BBD College Lucknow, BBD University Lucknow, BCMC Layout Bangalore, BDA Colony Bhopal, BDA Colony Bhubaneswar, BDA enclave jalandhar Jalandhar, BDD Chawls Worli Maharashtra, BDD Chawls Worli Mumbai, BEL Circle Bangalore, BEL Layout Bangalore, BEL Road Bangalore, BH ahir samaj Jamnagar, BHAGYA NAGAR Gulbarga, BHAVNAGAR Bhavnagar, BHEL Layout Bangalore, BHIMAVARAM Bhimavaram, BHOMIYA NAGAR Jaipur, BIT Mesra Ranchi, BORIYAKHURD Raipur, BOTAD Bhavnagar, BPTP Faridabad, BSNL Office  STC college road Tirunelveli, BT Road Near Rabindra Bharti University Kolkata, BTM  rd Stage Bangalore, BTM th Stage SBI Layout Devenchicanhallo Bangalore, BTS Layout Bangalore, BV Nagar  Nanganallur Chennai, BV Nagar South   Nanganallur Near Modern School Chennai, BV Raju College Bhimavaram, Baben Surat, Baberpur Mandi Panipat, Babudih Dhanbad, Babulnath Maharashtra, Baby Nagar Chennai, Bachiter Nagar Patiala, Bachlor Road Wardha, Back Of ISBT Dehradun, Bada Bangarda Indore, Bada Lalpur Varanasi, Bada Vikash Path Bhavnagar, Badagaon Gwalior, Badal Colony Chandigarh, Badambadi Colony Cuttack, Badavala Nagar Bangalore, Badbar Barnala, Baderaj Colony Pune, Badheri Rajputan Haridwar, Badil Kheda Nagpur, Badlapur  West  Maharashtra, Badlapur Samruruddhi Residency Lalitpur, Badnera Amravati, Badwai Bhopal, Bagalur Hosur, Baghbazar Kolkata, Baghpat Ghaziabad, Bagiamau Lucknow, Baglagora Jamshedpur, Bagmane Tech Park Bangalore, Bagmari Kolkata, Bagru Khurd Jaipur, Baguiati Hatiara Kolkata, Baguihati   hatiyara Kolkata, Bahadur shekh naka Ratnagiri, Bahadurganj Allahabad, Bahtarai Bilaspur, Bahu Bazaar Ranchi, Bahubali Nagar Bangalore, Baina Goa, Bairagarh Bhopal, Bairagi Patteda Tirupati, Baishnabghata  patuli  Garia  Kolkata, Baishnabghata Bye Lane Kolkata, Baishnabghata Patuli Kolkata, Bajarang Nager Soc   Nana Varachha Surat, Bajoral Khurd Solan, Bajpe Mangalore, Bajrang Wadi Rajkot, Bakhtawar Ram Nagar Indore, Bakkanapallem Road  Revallapalem  Madhurawada Visakhapatnam, Bakori Lalitpur, Bakrahat Road Kolkata, Bakrawadi Vadodara, Bakrol Anand, Balagarahalli Village Attibele Bangalore, Balaiah Garden Chennai, Balaji Layout Bangalore, Balaji Nagar  Alwarthirunagar Chennai, Balaji Nagar  Anakaputhur Chennai Chennai, Balaji Nagar Eluru, Balaji Nagar Kadapa, Balaji Nagar Nellore, Balaji layout  Kodigehalli Bangalore, Balaji sky Nipaniya Indore, Balanagar Near Lions Club eye Hospital  Vinayak na Secunderabad, Balawala Dehradun, Balayya Sastri Layout Visakhapatnam, Balewadi Maharashtra, Balianta Bhubaneswar, Baliapanda Puri, Balikashram Road Ahmednagar, Balitha Vapi, Balkeswar Agra, Balkum Pada Maharashtra, Balkum Pada Mumbai, Ballabhgarh Faridabad, Ballalbagh Mangalore, Baltana Panchkula, Bambolim Goa, Bamrauli Allahabad, Banashankari  rd Stage Near Kamakya Theater Bangalore, Banashankari Stage I Bangalore, Banavdi Karad, Banawadi Karad, Band Stand Lalitpur, Bandar Road Gosala Beside Bandar Road Vijayawada, Bandhavgarh Colony Satna, Bandra  East  Maharashtra, Bandra West Carter Road Lalitpur, Baner Pashan Link Road Lalitpur, Banerjee Para Kolkata, Banerjee road Kochi, Bangalore internatioal Airport Bangalore, Bangur Avenue swimming pool Kolkata, Bangur Nagar Lalitpur, Banjari Indore, Bank Colony  Kamptee Road Nagpur, Bank Colony Behind Dhuniwale Mangal Karyalaya Wardha, Bank Of Baroda Colony Bangalore, Bannadevi Aligarh, Bansilal Nagar Aurangabad, Bansmandi Kanpur, Banthara Lucknow, Banur Mohali, Bapasitaram Chok Mavdi Rajkot, Bapat Camp Kolhapur, Bapu Dham wali gali   Sarsol Aligarh, Bapuji Nagar Secunderabad, Bara Bazar Kolkata, Barabetia Kharagpur, Baradih Jamshedpur, Barahdwari Yousufganj Aligarh, Baramunda Bhubaneswar, Baran Road Kota, Baranpura Vadodara, Bareipali Sambalpur, Bargi Hills Jabalpur, Bargon Udaipur, Barhans Kolkata, Barje Town Rabi Rathi Apartment Midnapore, Barlinge layout Nagpur, Barlota Nagar Pune, Barlotanagar Mamurdi Dehuroad Pune, Baroli Ahir Agra, Baronda Raipur, Barood Khana Lucknow, Barottiwala Baddi, Barra World Bank Kanpur, Barshi Naka Osmanabad, Barshi Road  Shivaji Dhande Nagar  Renu Hospital Road Beed, Bartand Beside City Centre Dhanbad, Basavanagara Bangalore, Basistha Guwahati, Basti Sheikh Jalandhar, Bata Mangala Puri, Bataitala Kolkata, Batamangala Puri, Batchupeta Machilipatnam, Bavada Kolhapur, Bavdhan Maharashtra, Bawal Rewari, Bediapara Kolkata, Bedwas Udaipur, Beed bypass satara parisar aurangabad Aurangabad, Beelwa Jaipur, Beelwa Kalan Jaipur, Begampura Surat, Begum pul Meerut, Begur Main Road Bommanahalli Bangalore, Behala Industrial Estate Kolkata, Behala Natun Para Kolkata, Behala Parnasree Palli Kolkata, Behala Sakher Bazar Near Ramkrishna Math Kolkata, Behala Senhati Kolkata, Beharbari Chariali Guwahati, Beheramal Jharsuguda, Beherapali Road Jharsuguda, Behind Ayappa Temple  Ring Road Nagpur, Behind Capital Petrol Pump Bhopal, Behind Crystal Mall Rajkot, Behind Deshmukh Lawns  Amravati, Behind Hariom Petrol Pump L P savani Road Surat, Behind ITI College Eluru, Behind More Supermart  Vidyagiri  Dharwad Dharwad, Behind National Tiles Tilak Road Akola Akola, Behind Navkar Park Viramgam, Behind Navyug College Surat, Behind Raiya Telephone Exchange Rajkot, Behind awadh city  sayaji township road Vadodara, Bel Tarodi Nagpur, Bel Tarodi Road Nagpur, Belapur Lalitpur, Beleghata Kolkata, Belgharia Expressway Kolkata, Bellandur Gate  Sarjapur Road Bangalore, Belly area  Anna nagar Chennai, Beltarodi Lalitpur, Beltarodi Maharashtra, Beltarodi Nagpur Nagpur, Beltarodi road Nagpur, Belthur  Sai colony  Near Satya Sai Baba Ashram Bangalore, Beltola Tiniali Guwahati, Belur Kolkata, Beml Layout  ITPL Road Bangalore, Bendre Nagar Bangalore, Beniapukur Kolkata, Bennigana Halli Bangalore, Beraberi Ghoshpara Kolkata, Berasia Bhopal, Besant Road Vijayawada, Beside Modern School Saraswatpur Dharwad, Beside Modren School Sarswatpur Dharwad, Beside Wendy School  Aakashwani Gwalior, Beside grand world Tirupati, Besides Jain international school  Dargah road Aurangabad, Best Nagar Lalitpur, Best Nagar Maharashtra, Betal Batim Goa, Betalbatim Goa, Bethel Avenue  Velacherry Chennai, Bettahalsoor Bangalore, Bettle Lap   Yamuna Expressway Noida, Between SPJn and APSP Kakinada, Bhadali Khera Bhilwara, Bhadra Para Kolkata, Bhadur Ke Ludhiana, Bhagat Ki Kothi Jodhpur, Bhagat Singh Colony Bhiwadi, Bhagatnagar Karimnagar, Bhagawanpur Bhubaneswar, Bhageerath Pune, Bhagirathi Enclave Sector   Jagriti Vihar Ext Meerut, Bhago Majra Mohali, Bhagwaghar Layout Nagpur, Bhagwatipara Rajkot, Bhagya Nagar Gulbarga, Bhagya Nagar Ongole, Bhagyanagar Aurangabad, Bhagyaodaya Nagar Pune, Bhaijipura Gandhinagar, Bhairav Nagar Vadodara, Bhakti Nagar Nadiad, Bhaktidhara Residency Surat, Bhaktinagar circle Rajkot, Bhalubasa Jamshedpur, Bhamboli Chakan Talegaon Pune, Bhamti Nagpur, Bhandara Road Nagpur, Bhandup  East  Mumbai, Bhandup Central Mumbai Mumbai, Bhandup West Kukeraja Chs Maharashtra, Bhandup West Kukeraja Chs Mumbai, Bhankrota  Mukundpura Jaipur, Bhanu Nagar Maharashtra, Bharani Colony Secunderabad, Bharani Dharan Boss Chennai, Bharat E square Nanded, Bharathi Colony Coimbatore, Bharati Niketan Bhopal, Bharatkunj    Pune, Bharatwada Nagpur, Bharhut Nagar Satna, Bhartiya Nagar Bilaspur, Bharuch G N F C Road Bharuch, Bhaskar Colony Maharashtra, Bhaskar Nagar Guwahati, Bhat Khedi Mahow Indore, Bhatha Surat, Bhatia Basti Jamshedpur, Bhatia Hospital  Forjet Hill Maharashtra, Bhatia Hospital  Forjet Hill Mumbai, Bhau dandekar road Palghar, Bhaupura Kadi, Bhavani Nagar Mumbai, Bhavani Palghar, Bhavsingpura Maharashtra, Bhayali TP   Vadodara, Bheem Nagar Azamgarh, Bheemili Visakhapatnam, Bhel Gopal Nager Bhopal, Bhelkenagar Pune, Bhelupura Varanasi, Bhikam Pur Aligarh, Bhikamchand Jain Nagar Jalgaon, Bhilad Vapi, Bhilgaon Nagpur, Bhimashankar Karjat, Bhimavaram   chinna ragani palem Bhimavaram, Bhimilipatnam Visakhapatnam, Bhimtal   Sattal Road Nainital, Bhimtal Nainital, Bhingar Ahmednagar, Bhistabag  Pawan nagar Ahmednagar, Bhistabag Maharashtra, Bhivpuri  karjat Raigarh, Bhivpuri Karjat, Bhivpuri Maharashtra, Bhivpuri Mumbai, Bhivpuri Road Karjat, Bhivpuri Road Karjat Karjat, Bhivpuri road Railway Station  karjat Raigarh, Bhiwadi Alwar, Bhiwadi Alwar Bypas Road Alwar, Bhiwandi Maharashtra, Bhkharpada Raigarh, Bhogipur Patna, Bhoir Colony Lalitpur, Bhojerhat Kolkata, Bhojuveer Varanasi, Bhomeshwar wadi    Sadhana App C     Rajkot, Bhoomi Reddy Colony Bangalore, Bhoothnath Road Patna, Bhopal Airport Road Bhopal, Bhor Pune, Bhraniputhur Chennai, Bhubaneswar Cuttack Rd NH   Bhubaneswar, Bhugaon Lalitpur, Bhushannagar Ahmednagar, Bhuvana Udaipur, Bhuvaneshwari Nagar  RT Nagar Post Bangalore, Bhuwana Road Udaipur, Bhuwaneshwar Raigad, Bibwewadi Annex Pune, Bidaraguppe Bangalore, Bidhangarh Ghoshpara Kolkata, Bidrahalli Bangalore, Big Bajar Rajkot, Bihta Patna, Bijju Nagar Jharsuguda, Bijle Nagar Pune, Bikarnakatte Kaikamba Mangalore, Bikash Guha Colony Kolkata, Bikramgarh Kolkata, Bileshivale Cross Bus Stop Bangalore, Bilimora Navsari, Bilimora Valsad, Bilkeshwar Colony Haridwar, Billamaranahalli Bangalore, Billapura Bangalore, Bilpar  Rehabari Guwahati, Bima Nagar Indore, Bindayaka Jaipur, Binny Garden Chennai, Birhana Road Kanpur, Birkuchi Guwahati, Birla Mandir Mathura, Birubari Guwahati, Blishotel Back Side Tirupati, Block B Sector    Noida Noida, Block E Sector    Noida Noida, Block F Sector    Noida Noida, Boat Club Chennai, Bobbili Vizianagaram, Bodla Agra, Boggula Dibba Vizianagaram, Bogmalo Goa, Boisar Mumbai, Bokaro Police Line Bokaro, Bolinj  Virar Palghar, Bolinj  Virar West Palghar, Bolinj Mumbai, Bolpur Birbhum, Bombay Hospital Service Road Vijay nagar Indore, Bonhooghly Kolkata, Booty More Ranchi, Borbari Guwahati, Borbhat Panaji, Borda Goa, Borehat Bardhaman, Borele nagar Yavatmal, Borivali East  Lalitpur, Borivali East  Maharashtra, Borkheda Kota, Bosco Nagar Ranchi, Botad Crossing  Anand Anand, Boudhanagar Secunderabad, Bouta Waddo Goa, Boyapalem Visakhapatnam, Brahmanwada Lalitpur, Brahmanwada Maharashtra, Brahmanwala Dehradun, Brahmavar Udupi, Brij Enclave Colony Varanasi, Brindavan Garden Extension Ghaziabad, Brindavan Gardens Guntur, Brindavan Layout Bangalore, Brindavan Layout Mysore, Brindavan Nagar Srinagar Bangalore, Brodipet Guntur, Brookfield Bangalore, Brunton Road Bangalore, Buddha Modh Asansol, Budh Bazar Moradabad, Budharaja Sambalpur, Budhavar Peth Solapur, Budhsinghpura Jaipur, Budhwara Bhopal, Budigere Cross  Bangalore East Bangalore, Bukar Faliya Junagadh, Bundi Road Kota, Bungal Badhani Pathankot, Bunnymantap Mysore, Bunts Hostel Circle Mangalore, Burdwan town Bardhaman, Burha Jhansi, Burhani Colony Pune, Burlington Lucknow, Burtonguda Bolarum Secunderabad, Butler Colony Lucknow, Buvaneswarinagara Bangalore, By Pass Road   Behind KFC  Duraisamy Nagar Madurai, Byculla Lalitpur, Byculla West Lalitpur, Byculla West Maharashtra, Bypass Solapur, Bypass road Morbi, Byrathi Bangalore, Byrathi Kothanur Bangalore, Byrathi Village Bangalore, C  BALAJI Market Mahaveer Nagar Kota, C V RAMAN NAGAR BANGALORE Bangalore, CA Road Nagpur, CBM Compound Visakhapatnam, CDA Sector   Cuttack, CHALA  VAPI DAMAN ROAD Vapi, CHANDRA NAGAR NEAR OMKAR NAGAR SQUARE Nagpur, CHD City Karnal, CHHOTA SHIMLA  BEHIND SECRETARIAT Shimla, CHIDEEGA Kakinada, CIT Kolkata, CITY LIGHT PIPLOD Surat, CRR Puram Chennai, CTO Colony  West Tambaram Chennai, Cabesa Ward Goa, Camac Street Kolkata, Camp Area Lalitpur, Canacona Goa, Canara Bank Layout Bangalore, Candola Goa, Candolim Beach Goa, Cannaught Place   Cidco Aurangabad, Canol Road  Near D Mart Nanded, Canry Hill Colony Hazaribagh, Cansaulim Goa, Cantt Area Jodhpur, Cantt Dalhousie, Caps Towan Edan Gardan Rau Indore, Carmona Goa, Castairs Town Deoghar, Cauveri Colony Bangalore, Cauvery Nagar Chennai, Cavelossim Margao, Ccl Colony Ranchi, Center point Aligarh, Central Balia Kolkata, Central Jail Colony Bhopal, Central excise Layout Bangalore, Centre Point Aligarh, Century Bazaar Maharashtra, Chaitanya Nagar Hubli, Chaitanya Nagar Pune, Chajju Bagh Patna, Chakala Lalitpur, Chakala Maharashtra, Chakaramangala Nagar Chennai, Chakradhar Nagar Lalitpur, Chakradhar Nagar Mumbai, Chakripuram Secunderabad, Chalad Kannur, Chalakudy Thrissur, Chalasani Nagar Vijayawada, Chalikavattom Kochi, Chalthan Surat, Chalukunnu Kottayam, Chambaghat Solan, Chamrajpet Bangalore, Chamundeshwari Layout Bangalore, Chamundeshwari Nagar Chennai, Chamundeshwari Nagar Maharashtra, Chamundi Nagar Bangalore, Chamundipuram Mysore, Chand Chaura Gaya, Chandan Shanti Lalitpur, Chandan Shanti Maharashtra, Chandan Shanti Mumbai, Chandana Bangalore, Chandi bazar Jamnagar, Chandni Chowk Navsari, Chandni chowk Navsari, Chandpole Jaipur, Chandpur Varanasi, Chandragiri Tirupati, Chandrakala Colony Jaipur, Chandramauleshwar Nagar Vadodara, Chandramouli Nagar Guntur, Chandrampalem Visakhapatnam, Chandrapura Bangalore, Chandrasekarapura Bangalore, Chandshi Lalitpur, Chandshi Maharashtra, Channi Himmat Jammu, Chaonni Nagpur, Chapprabhatta Surat, Charai Mumbai, Charholi Budruk Pune, Charholi Kurd Lalitpur, Charkop Maharashtra, Charu Chandra Avenue Kolkata, Chas Bokaro, Chatra Kolkata, Chatrapati Nagar Lalitpur, Chatribari Guwahati, Chatterjee Haat Kolkata, Chattishgarh Raipur, Chattrapati Nagar Aurangabad, Chaudwar Cuttack, Chaukaghat Varanasi, Chaukhan Jodhpur, Chaukhunti Mohalla Bikaner, Chauliaganj Cuttack, Chavaj Bharuch, Chawandi Khurd Bhiwadi, Chawani Kota, Chayan Para Siliguri, Chd City Karnal, Chedda Nagar Mumbai, Cheepuruvalasa Vizianagaram, Chelakottukara Thrissur, Chelekare Bangalore, Chelipura  Manzoor Pura Chauk  Aurangabad  Aurangabad, Chellikere Bangalore, Chembukkavu Thrissur, Chenai Chennai, Chengalpattu  Alapakkam Chennai, Chennai        Chennai, Chennai Central R S Chennai, Chennai Chennai, Cheran ma nagar   St xavier school Coimbatore, Cheranaloor Ernakulam, Cherlapally Secunderabad, Chetana Colony Hubli, Chettikulangara Alappuzha, Chettiyar Agaram Chennai, Cheyyur Kanchipuram, Chhani   Dumad Road Vadodara, Chhani Jakatnaka Vadodara, Chhani Ramakaka Dairy Vadodara, Chhapraula Ghaziabad, Chharwada Road Vapi, Chhatra Bazar Cuttack, Chhatribagh Indore, Chhawni Kota, Chhaya plot Near Kamla Bag Porbandar, Chicalim Goa, Chickli Nagpur, Chickpet Bangalore, Chidambaram Cuddalore, Chikalsandra  Bangalore, Chikalthana Lalitpur, Chikan Ghar Mumbai, Chikhal Dongari Mumbai, Chikhali Maharashtra, Chikhali road Pune, Chikka Banaswadi Bangalore, Chikkabettahalli Bangalore, Chikkabidarakallu Bangalore, Chikkadunnasandra Bangalore, Chikkanagamangala Bangalore, Chikkanahalli Bangalore, Chikkasandra Bangalore, Chilakalapudi Machilipatnam, Childrens Park Road Nellore, Chilkanagar Secunderabad, Chiloda Gandhinagar, Chimbal Goa, Chimbali Pune, Chimbel Goa, China Mushidiwada Visakhapatnam, Chinana Layout Bangalore, Chinchbhavan Lalitpur, Chinchbhavan Maharashtra, Chinchbhuwan Nagpur, Chincholi Phatak Lalitpur, Chinchwad Gaon Pune, Chinchwad Lalitpur, Chinmaya Nagar Chennai, Chinmaya Nagar Coimbatore, Chinmaya nagar  Virugambakkam Chennai, Chinna Chokkikulam Madurai, Chinna Kanchipuram Kanchipuram, Chinna Nolambur Chennai, Chinna Thirupathi Salem, Chinnaiyan Colony Chennai, Chinnapani Cheri Chennai, Chinnappa Garden Bangalore, Chinnavedampatti Coimbatore, Chintamani Nagar   Nagpur, Chintupada Road  Palghar, Chipale Mumbai, Chipura Patna, Chirantani Park Bansdroni Kolkata, Chiriamore Kolkata, Chiring Chapori Dibrugarh, Chirinjiv Vihar Ghaziabad, Chit Kalikapur Kolkata, Chitaipur Varanasi, Chitalsar Lalitpur, Chitalsar Maharashtra, Chitalsar Mumbai, Chitilappilly Thrissur, Chitlpakkam  Balaji Avenue Chennai, Chitnis Nagar Nagpur, Chitoor Road Kochi, Chitpady Udupi, Chitra Housing Colony Asansol, Chitrakoot Nagar Udaipur, Chitrakoot Scheme Gandhipath Vaishalinagar Jaipur, Chittapur Varanasi, Chittethukara Kochi, Chittinagar Vijayawada, Chittorgarh Road Bhilwara, Chittranjan avenue Kolkata, Chiyyaram Thrissur, Chohak Kalan Jalandhar, Chokkahalli Bangalore, Choolai Chennai, Choolamedu High Road Chennai, Chorahta Vtl Factory Rewa, Choryasi Surat, Choti Kalyani Muzaffarpur, Chotta Shimla Shimla, Choubey Colony Raipur, Chouhan Green Valley Durg, Chouhan Green Velly Bhilai Bhilai, Choura Bustee Kolkata, Chowallur Thrissur, Chowk Bazar Srikakulam, Chowk Lucknow, Chowkhandi Vadodara, Chowki Para Gwalior, Chownk chirra Amritsar, Christanpara Asansol, Christian Colony  Rajiv Nagar Mysore, Christopher Nagar Thrissur, Chtrpati Chowk Nanded, Chuna Bhatti Bhopal, Chundale Wayanad, Churchgate Lalitpur, Churchgate Maharashtra, Cidco Aurangabad, Cine wandar mall  vasant Vihar Lalitpur, Cine wandar mall  vasant Vihar Mumbai, Circuit house Square Satna, Circular road Bharatpur, Cit Nagar West Chennai, Cittaranjan Hospital Kolkata, City Ahmednagar, City Center Haldia, City Light Town Surat, Civil Lines Agra, Civil Lines Ajmer, Civil Lines Bareilly, Civil Lines Ludhiana, Civil Lines Moradabad, Civil Lines Raipur, Civil Lines Roorkee, Clark Town Lalitpur, Clark Town Nagpur, Classic Paradise Layout Bangalore, Cleveland Town Bangalore, Coconut Garden Bangalore, Coconut Groove Layout Hormavu Bangalore, Coconut Grove Layout Bangalore, Coffee Board Layout Bangalore, Colas Nagar Pondicherry, Collector Patta Malegaon, Collectors Colony Chembur Lalitpur, College Road  near G C College Silchar, College Road Lalitpur, College Road Nadiad, Colmorod Margao Margao, Colonel Enclave Roorkee, Colony Jammu, Colootola Kolkata, Comba Goa, Comba Margao, Coonoor Ooty, Cortalim Goa, Cosmos City Indore, Cosmos Town Lalitpur, Cotton mill area Varanasi, Court More  Burnpur Road Asansol, Coxcolony Jharsuguda, Cpwd Colony Nagpur, Crescent  Behind Gandhis Murti Bhavnagar, Crescent Park Amritsar, Crescent Road Bangalore, Cumbala Hill Lalitpur, Cumbala Hill Maharashtra, Cumbala Hill Mumbai, Curti Goa, Cusat Ernakulam, D D  Nagar Gwalior, D H Road  Behala Kolkata, D Mart Solapur, D S Nagar Chennai, D Souza Layout Bangalore, DAHIVALI SHIVAJI NAGAR Karjat, DALDAL SEOUNI Raipur, DHANALAKSHMI NAGAR  SELAIYUR Chennai, DINNUR ROAD Bangalore, DLF Dilshad Extension   Ghaziabad, Daadys Gaarden Layout Bangalore, Dabaki Road Akola, Dabgram Siliguri, Dabha Maharashtra, Dabhan Bhagol Nadiad, Dabholkar Corner Kolhapur, Dabki Road Akola, Dada Gurudev Nagar Jaipur, Dada Vaidya Road Goa, Dada Vaidya Road Panaji, Dadabadi Kota, Dadar Maharashtra, Dadar West Lalitpur, Daganiya Raipur, Dahanu Road Palghar, Dahanukar Wadi Lalitpur, Dahanukar Wadi Maharashtra, Dahanukar Wadi Mumbai, Daharia Haldwani, Dahej By Pass Road Bharuch, Dahisar  West  Mumbai, Dahiwali Tarf Waredi Mumbai, Dairy Farm Road Secunderabad, Dakhin Kali Road  Ganesh Bazar Dhenkanal, Dakshin Jagatdal Kolkata, Dakshin Tola Banki Near Railway Crossing Barabanki, Dakshinpara Kolkata, Dalanwala Dehradun, Daliganj Lucknow, Damani Nagar Solapur, Damoh Naka Jabalpur, Dampier Nagar Mathura, Danalakshmi Puram Nellore, Dandi Allahabad, Dangat Vasti Pune, Dangui Colony Goa, Danish Kunj square near kemfort school Bhopal, Danish Nagar Bhopal, Dankuni Kolkata, Dapodi Pune, Dara Greens Mohali, DarbhNga Colony Allahabad, Darga Chowk Aurangabad, Dargah Road Navsari, Darmapuram Chennai, Daroadkar Chowk Nagpur, Darpan City Kharar Mohali, Darshan Purwa Kanpur, Dasanapura Bangalore, Dasanpeta Vizianagaram, Dasarenagar Ahmednagar, Dashmesh Nagar Ludhiana, Dashmesh Nagar Mohali, Datala Chandrapur, Datt Chowk  Near Navi peth Solapur, Dattagalli  rd Stage Mysore, Dattagalli Mysore, Daulat Nagar Mumbai, Daurai Ajmer, Dayal Bagh Colony Faridabad, Dayanand Colony Gurgaon, Dayanand Vihar Kanpur, Dcm Jaipur, Ddu Nagar Raipur, Deccan Gymkhana Pune, Dee Jay Nagar Palghar, Deedwanaoli Gwalior, Deeksha KCR Town Agra, Deen Dayal Nagar Gwalior, Deen Dayal Nagar Kanpur, Deendayal Nagar Nagpur, Deep Hospital Jaipur, Deep Nagar No  Amravati, Defence Colony Belgaum, Defence Colony Roorkee, Defence Colony Secunderabad, Defence Layout Bangalore, Dehugaon Pune, Delhi Gate Agra, Delight Recedency Bhiwadi, Dena Bank Colony Bangalore, Dena Nagar Bhusawal, Deo Nagar Nagpur, Deputy Para Ranchi, Desh Bandhu Club Kolkata, Desom Kochi, Despran Sashmal Road Kolkata, Deva Nagar Kurnool, Devadh Surat, Devali Udaipur, Devalokam Kottayam, Devanagri Aurangabad, Devarabeesana Halli Bangalore, Devas Road Indore, Devasthanagalu Bangalore, Devbagh Bhavnagar, Devdaya Nagar Maharashtra, Devi Nagar Jaipur, Devi Nagar Vijayawada, Devidanga Siliguri, Devidas Lane Lalitpur, Devidas Lane Mumbai, Devpuri Meerut, Dewa Road Lucknow, Dewan Bazar Cuttack, Dgqa Complex Ngo Colony Nanganallur Chennai, Dhadiyapura Jhansi, Dhakoli Panchkula, Dhalli Shimla, Dhamtari Road Raipur, Dhanalakshmi Nagar Chennai, Dhanalakshmi Puram Nellore, Dhanas Chandigarh, Dhansar Palghar, Dhanuha Allahabad, Dhanukar Pune, Dhanvantari Colony Pune, Dhanvantri Nagar Indore, Dhanwantri Nagar Indore, Dhanwantri Nagar Jabalpur, Dharampeth Lalitpur, Dharampur Road Valsad, Dharamveer Nagar Lalitpur, Dharamveer Nagar Mumbai, Dharavi Mumbai, Dharmangar A K road Varachha Surat, Dharmapuee Layot Hubli, Dharmapuri Vizianagaram, Dhavali Karjat, Dhayal Nagar Jodhpur, Dhayari  near bhairavnath mandir  Pune, Dherebail Mangalore, Dhimrapur Chowk Raigarh, Dhobi Ali Lalitpur, Dholpur Agra, Dhulapi  Corlim Goa, Dhule Dhule, Dhutroli Ratnagiri, Dibdiba Rampur, Dibdih Ranchi, Dibrugarh Dibrugarh, Digdoh Nagpur, Dighori Lalitpur, Dighori Maharashtra, Digjam circle Jamnagar, Dina Bama Estate Lalitpur, Dindayal Puram Dhar, Dindoshi Lalitpur, Dindoshi Mumbai, Dinesh Nagar Ghaziabad, Dinesh Nagar Hapur, Dinesh Pally Kolkata, Dineshpur Rudrapur, Dinnur Hosur, Dipanjali Junagadh, Dipatoli Ranchi, Diva Gaon Lalitpur, Diva Maharashtra, Dixit Nagar Maharashtra, Dmart  Karakambadi Road Tirupati, Doctors Colony Visakhapatnam, Doctors Layout Bangalore, Doctors colony Saraidhela Dhanbad, Dodda Kempaiah Layout Bangalore, Doddabidrakallu Bangalore, Doddabommasandra  Vidyaranyapura Bangalore, Doddagubbi Bangalore, Doddanagamangala Village Bangalore, Doddanagudde Udupi, Doddanakundi Industrial Area   Bangalore, Doddigunta Bangalore, Dohara Bareilly, Dolatpara Junagadh, Dombi Wadi Pune, Dominic Colony Mumbai, Dominic Layout Bangalore, Domlur Layout Bangalore, Dondaparithy Visakhapatnam, Dongripada Mumbai, Donna Road  Mango Jamshedpur, Doopanahalli Bangalore, Dover Terrace Kolkata, Dr  Ram manohar lohia nagar Meerut, Dr  Sarat Banerjee Road Kolkata, Dr ramiah nagar medavakkam Chennai, Dravid Nagar Indore, Duddanahalli Bangalore, Dudhali Kolhapur Kolhapur, Dudhia Talav Navsari, Dudhli Shimla, Dudhrej Surendranagar, Dumartarai Raipur, Dumbhal Surat, Dumdum Metro Area Kolkata, Dungra Vapi, Durg Chattisgarh Dipak Nagar Near Rly Station Durg, Durga Nursery Road Udaipur, Duvvada Visakhapatnam, Dwarka Expressway Gurgaon Gurgaon, Dwarka Maharashtra, E   Arera Colony Bhopal, ECR Pondicherry, EMERALD HEIGHTS SCHOOL Akola, Eagles Street  Langford Avenue Bangalore, East Boring Canal Road Patna, East Colony Bangalore, East Fort Thrissur, East Midnapur  Contai Contai, East Rajapur Kolkata, East Shastri Nagar Dhanbad, East Vivekananda Pally Siliguri, East Wardhaman Nagar Nagpur, East tambaram  tambaram  old gst road Chennai, Eastern Bypass Siliguri, Eastern row of Church Road Berhampur, Easwari Nagar Chennai, Eattumanoor Kottayam, Ebaranga Bhubaneswar, Edachira Ernakulam, Edakochi Kochi, Edappally Ernakulam, Edayarpalayam Coimbatore, Eden City Maheshtala Kolkata, Eden Wood Lalitpur, Eden Wood Maharashtra, Edepalli Machilipatnam, Edupugallu Vijayawada, Eedepalli Machilipatnam, Eerayil Kadavu Kottayam, Ek No Indore, Ekata NAgar Beed, Eklingpura Udaipur, Eksar Mumbai, Ekta Colony Moradabad, Ekta Nagar Maharashtra, Ekta Nagar Mumbai, Elamakarra Ernakulam, Elambarem Kannur, Elamkulam Ernakulam, Eldeco Eden Park Neemrana, Eldeco Eden garden Neemrana, Eldeco Neemrana, Electronic City Phase   Bangalore, Electronic City Phase  Bangalore, Elgin Road Kolkata, Ellaipillaichavadi Pondicherry, Ellaipillaichavady Pondicherry, Endada Visakhapatnam, Englishiyaline Varanasi, Ernakulam North Kochi, Erukkancheri Chennai, Eshwar Nagar Colony Secunderabad, Esplanade Chennai, Estonia Homes  Rosewood estate phase    GBP Colony Mohali, Eswar Park Coimbatore, Evershine Nagar Maharashtra, Exhibition Road Patna, F    Rajalakshmi apartment Kamarajar salai MM colony Chennai    Chennai, Fafadih Raipur, Fakruddin Ali Ahmed Nagar Guwahati, Falshruti Nagar Bharuch, Familiar Gandhinagar, Farah Mathura, Fatasil Ambari Guwahati, Father Balaiah Nagar Secunderabad, Fathima Nagar Coimbatore, Fatorda  Arlem Goa, Fatorda  Arlem Margao, Fern Hill Ooty, Ferns City Bangalore, Feroz Gandhi Market Ludhiana, First Road Beside Raghavendra Swamy temple Anantapur, Flate Rajkot, Flowerdale  Chhota Shimla Shimla, Flying Pune, Fortkochi Kochi, Fortune Divin City Face   Bhopal, Freeganj Ujjain, Friends Colony Lalitpur, Friends Colony Saket Colony   Agra Agra, Fuljhore  Bidhan Park Durgapur, Fulsar Bhavnagar, Fulwarisharif Patna, Fun Fiesta Multiplex Lalitpur, Fun Fiesta Multiplex Mumbai, G B Road Maharashtra, G O Colony Kakinada, G T B Nagar  Channi Rama Jammu, GEETHANJALI LAYOUT NEW THIPPASANDRA Bangalore, GH    Sector    Faridabad Faridabad, GHANTESHWAR Rajkot, GIDC Industrial area Vadodara, GKM Colony Chennai, GOKHIWARE Palghar, GORAT RANDER ROAD Surat, GOVERDHAN Colony Near Vivek Vihar Metro Station Jaipur, GT Road Kolkata, GV Residency Coimbatore, Gadarpur Rudrapur, Gaddam Plot Akola, Gadia Vihar Aurangabad, Gadital Pune, Gadiya Vihar Road Aurangabad, Gadrej Hills Mumbai, Gahunje Maharashtra, Gaikwad Vasti Pune, Gajanan Hos Sosayati Near Karad, Gajanan Nagar Nagpur, Gajapati Nagar Bhubaneswar, Gajiwali  Haridwar Haridwar, Gajjiwas Rewari, Galande Nagar Pune, Gamdevi Mumbai, Ganagapeta Kadapa, Gandhar Nagar Lalitpur, Gandhar Nagar Maharashtra, Gandhare Village Lalitpur, Gandhi Chock Surat, Gandhi Gram Junagadh, Gandhi Nagar    th Lane Berhampur, Gandhi Nagar Agra, Gandhi Nagar Amravati, Gandhi Nagar Berhampur, Gandhi Nagar Ernakulam, Gandhi Nagar Maharashtra, Gandhi Nagar Vijayawada, Gandhi Park Aligarh, Gandhi Path  W  Jaipur, Gandhi Path West  Vaishali Nagar Jaipur, Gandhi Road Gwalior, Gandhinagar  Saligrammam Chennai, Gandhinagar Nagpur Nagpur, Ganesh Chokdi Anand, Ganesh Flats Chennai, Ganesh Nagar Akola, Ganesh Nagar Bhilai, Ganesh Nagar Chennai, Ganesh Nagar Kurnool, Ganesh Nagar Latur, Ganesh Nagar Main Niwaru Road Jhotwata Jaipur, Ganesh Nagar Mumbai, Ganesh Nagar Old Jaipur, Ganesh Nagar Udaipur, Ganesh Nagar Vistar Jaipur, Ganesh Peth Pune, Ganesh Sisodara Navsari, Ganeshapuram Namakkal, Ganeshkhind Pune, Ganeshpeth Colony Lalitpur, Ganeshpur Varanasi, Ganeshpura Surat, Ganeshwadi Lalitpur, Ganga Nagar Bilaspur, Ganga Nagar Rishikesh, Gangai Amman Koil Street Chennai, Gangai Nagar Chennai, Ganganagar  RT Nagar ppst Bangalore, Gangapur Maharashtra, Gangastan Nizamabad, Gangasthan Phase   Nizamabad, Gangotri Enclave Awadh Vihar Yojana Lucknow, Ganigarahalli Bangalore, Ganigarapalya Bangalore, Ganj Peth Pune, Ganshpur Malvya Chowk Roorkee, Gar Ali Jorhat, Garfa Santoshpur Kolkata, Garia Gardens Kolkata, Garia Place Kolkata, Garia station road  opposite weilkin Kolkata, Garikhana Ranchi, Garodia Nagar Maharashtra, Gattigere Bangalore, Gaur City Nodia Extension Gc   Noida, Gauranganagar Kolkata, Gaurav Path Surat, Gaurava Nagar Bangalore, Gauripada Lalitpur, Gauripada Maharashtra, Gauripada Mumbai, Gautam Nagar Bhopal, Gautam Nagar Una Road Hoshiarpur, Gavane Pada Lalitpur, Gavanpada Lalitpur, Gavanpada Mumbai, Gavhanevasti Pune, Gavliwada Ratnagiri, Gawri Avenue  Anakaputhur Chennai, Gaya Airport Gaya, Gayakvadi Rajkot, Gayathri Nagar Chennai, Gayatri Enclave Dehradun, Gayatri Nagar Jaipur, Gayatri Nagar Nagpur, Gayatri Nagar Raipur, Gayatri Temple Kadi, Gazipur Gulbarga, Gd Goenka Canal Road Surat, Geeta Nagar Akola, Geeta Nagar Indore, Geeta Nagar Solapur, Geeta Sai Nagar Burhanpur, Geetanagar Guwahati, Geleyara Balaga Layout Bangalore, Gemini Magnolia apartment  DABC TOWNSHIP Chennai, Genda Circle Vadodara, General Anand, Gewalbigha Gaya, Ghangapatna Bhubaneswar, Ghat Road Near Hundai Show Room  Nagpur, Ghati Pada Lalitpur, Ghatkopar East M G Road Lalitpur, Ghatkopar West Maharashtra, Ghatla Maharashtra, Ghatshila Jamshedpur, Ghatti Solan, Ghatwasan Agra, Ghoddodroad Opposite st Xavier s School Surat, Ghodev Mumbai, Ghogali Lalitpur, Ghokla Jote Siliguri, Ghole Road Pune, Ghorabandha Jamshedpur, Ghorpade Peth Pune, Ghotawade Phata Pune, Ghotawade Pune, Ghule Patil Nagar Pune, Ghumni Bazar Near Jaiswal Dharmshala Number   Kanpur, Gidc Colony Vadodara, Giddens Layout Whitefield Bangalore, Giger Colony Moradabad, Gijhauri Bulandshahr, Gill Nagar Chennai, Gimhavane Maharashtra, Girdhar Nagar  Nr Tilak Nagar Indore, Girdharipura Jaipur, Girinagar Police Station Bangalore, Giriraj Nagar Jaipur, Girirajanagar Junagadh, Gitilpiri Ranchi, Gittikhadan Lalitpur, Gittikhadan Nagpur, Global City  Virar West Palghar, Global City Palghar, Gnana Bharathi Bangalore, Goa Bagan Kolkata, Goa Belgaum, Gobichettipalayam Erode, Gobra Kolkata, God Dhod Rod Surat, Godavarinagar Chennai, Godhani Maharashtra, Godhani Nagpur, Godhuli Road Asansol, Godrej Hills Mumbai, Gogaon Raipur, Gogol Mutt Road Goa, Gogol Mutt Road Margao, Goharganj Raisen, Gokhale Nagar Pune, Gokhale Road Lalitpur, Gokhale Vihar Lucknow, Gokul Colony Pune, Gokul Extension Bangalore, Gokul Nagar Indore, Gokuldham Colony Mumbai, Gokulnagar Jakatnaka Jamnagar, Gol Bazar Bilaspur, Golapbag Bardhaman, Golden City  Khodiyar Colony Jamnagar, Golden George Nagar Chennai, Golden Park Rajkot, Goleshwar Karad, Golghar Gorakhpur, Golibar Lalitpur, Gollarapalya Hosahalli Bangalore, Golpark Kolkata, Golwad Valsad, Gondal Road Rajkot, Gondalampochampally Secunderabad, Gondhalpada Raigad, Goner Road Jaipur, Gopal Bari Jodhpur, Gopal Nagar Amravati, Gopal Nagar Bhopal, Gopal Nagar Bhusawal, Gopal Nagar Maharashtra, Gopal Nagar Nagpur, Gopal Reddy Layout Bangalore, Gopalakrishna Nagar Visakhapatnam, Gopalapuram Coimbatore, Gopalnagar Nagpur, Gopalpur Kolkata, Gopalpur Lahla Kangra, Gopalpura   Rajajinagar Bangalore, Gopalpura Jaipur, Gopankoppa Hubli, Goparasanallur Chennai, Gopasandra Bangalore, Gorakhnath Gorakhpur, Gorakshan road Akola, Gorawa Vadodara, Gorchuk Guwahati, Goregoan W   Maharashtra, Gorepeth Nagpur, Gorimedu Pondicherry, Gorimedu Salem, Gosahaninuagaon Berhampur, Gosala Vijayawada, Gothan Surat, Gounlloy Goa, Goutamnagar Secunderabad, Govalkot road chiplun Ratnagiri, Govandi East Maharashtra, Govandi East Mumbai, Govandi Maharashtra, Govardhan Chok Rajkot, Govardhan Nagar Lalitpur, Govardhan Nagar Maharashtra, Govardhan Road Mathura, Goverdhan Road Mathura, Goverdhan Vilas Udaipur, Govind Nagar Dehradun, Govind Nagar West Jaipur, Govind Sarovar Jaipur, Govindapura Bangalore, Govindaraja Nagar Ward Bangalore, Govindpur Jamshedpur, Govindpura Industrial Area Bhopal, Govinnd Puram Ghaizabad Ghaziabad, Gowalia Tank Mumbai, Gowalkot Ratnagiri, Gr Tirupati colony Indore, Grandeur Eden Garden Group Housing Complex Jaipur, Greater Brajeshwari pipliyana Indore, Greater Green Park Colony Bareilly, Greater Kailash Jammu, Greater Tirupati Colony Indore, Greater noida west sector    C Noida, Green City Ranjitsagar Road Jamnagar, Green City Surat, Green Domain Layout  EPIP Zone  Brookefield Bangalore, Green Domain Layout Bangalore, Green House Layout  Doddathoguru  Electronic City Bangalore, Green Park Colony Bareilly, Green Valley Faridabad, Green Woods Layout Bangalore, Gruhalakshmi Layout Bangalore, Gsfc Nagar Vadodara, Guddam Plot Akola, Gudhiyari Raipur, Gudivada Gudivada, Guirim Goa, Gujarati Colony Rohit Nagar Bhopal, Gujurati Colony Sambalpur, Gulabara Chhindwara, Gulmohar Ahmednagar, Gulmohar Extension  Derabassi Mohali, Gulmohar Gardens Vatika Road Jaipur, Gulmohar Road Navle Nagar Ahmednagar, Gulmohar Road Vileprale West Lalitpur, Gulmohar Road Vileprale West Mumbai, Gulmohar complex Mohali, Gulmohar road savedi ahmednagar Ahmednagar, Gumaniwala Rishikesh, Gumanpura Kota, Gumasta Nagar Indore, Gumti No  Kanpur, Gundage Karjat, Gundalavari Street Vizianagaram, Gundappa Layout Bangalore, Gundavali Gaothan Maharashtra, Gundavali Lalitpur, Gundavali Maharashtra, Gundibail Udupi, Gundlav Valsad, Gunjan Vihar Kanpur, Gupteshwar Jabalpur, Gurjar Ki Thadi Jaipur, Guru Gobind Singh Avenue Jalandhar, Guru Gobind Singh Nagar Jalandhar, Guru Nanak Nagar Dehradun, Guru Nanak Nagar Patiala, Guru Nanak Nagar Pune, Guru Ram Pavan Bhumi Surat, Gurubagh Varanasi, Guruchhaya Colony Amravati, Gurukul Char Rasta Vadodara, Guruprasad Nagar Belgaum, Gurusaday Road Kolkata, Gurusamy Nagar Coimbatore, Guruvayoor Thrissur, Guruwar peth Karad, Gwal Pahari Gurgaon, Gwalior Road Jhansi, Gyan Khand Ghaziabad, Gyan Vihar Jaipur, H I G  Colony Indore, H S R LAY OUT Bangalore, HAL Layout Bangalore, HALOL Panchmahal, HILLVIEW Asansol, HMT Nagar Secunderabad, HSR Layout  Sector   Bangalore, Habsiguda Secunderabad, Hadapsar Gaon Pune, Hadosiddapura  Off Sarjapura Road Bangalore, Haibowal Kalan Ludhiana, Hajipur Chapra Main Road Hajipur, Hajipur Patna, Hajira Surat, Hakim para Siliguri, Halanayakanahalli Bangalore, Halar Talav Valsad, Haldibari Road Jalpaiguri, Halol Panchmahal, Hamid Nagar Asansol, Hamilton Mayfair     Feet Road Jalandhar, Hanamkonda Warangal, Hanapara Kolkata, Hanuma hills Layout Bangalore, Hanuman Nagar Bangalore, Hanuman Nagar Extension Jaipur, Hanuman Nagar Jaipur, Hanuman Nagar Mumbai, Hanuman Nagar Nagpur, Hanuman Nagar Patna, Hanuman Nagar Varanasi, Hanumanthappa Layout Bangalore, Har Ki Pauri Haridwar, Haraharitala Kolkata, Harahua Varanasi, Haranwali Palghar, Harbans Vihar Panaji, Harda Bypass Road Hoshangabad, Hardev Colony Jaipur, Hardoi Road Lucknow, Hare Krishna Vihar Indore, Hari Om Nagar Jaipur, Hari Om Nagar Rajnandgaon, Hari Priya Bangalore, Haria Park Vapi, Haridevpur  Kolkata, Haridwar on NH    Haridwar, Harifatak Choraha Ujjain, Harinathpuram Nellore, Haripur Kalan Haridwar, Haripur Road Cuttack, Harishankar Puram Gwalior, Hariya Hospital Road Vapi, Hariya Park Vapi, Harmu Ranchi, Harni road Vadodara, Harrington Road Chennai, Harsha Layout  Yelachenahalli Bangalore, Harsul  Near Mayur Park    B kalyani Sai Vrunddawa Aurangabad, Hasthampatti Salem, Hastinapuri Colony Secunderabad, Hathital Jabalpur, Hatibagan Kolkata, Hatigaon Guwahati, Hatiskar Wadi Lalitpur, Hatiskar Wadi Mumbai, Hatte Nagar Latur, Hatwas Hoshangabad, Haudin Road Bangalore, Haveli Garden Chandrapur, Haveli Road Surendranagar, Haveligarden Chandrapur, Hawa Sadak Jaipur, Hawai Nagar Ranchi, Hayagriva Nagar Udupi, Hayat Nagar Ratnagiri, Hazari Pahad Maharashtra, Hazira Gwalior, Hazra Kolkata, Hbr  th Block Bangalore, Hbr Layout  nd Block Bangalore, Hebbal Mysore, Hebli Hubli, Hedgewar Chowk Bhandara, Hedutana Village Raigad, Hedutane Maharashtra, Heera Nagar Jaipur, Hegganahalli Bangalore, Hema Nagar Secunderabad, Hemu Colony Lalitpur, Hendre Pada Lalitpur, Herbertpur Dehradun, Hi Tech City Mancherial, Hidayath Nagar KG Halli  Bangalore Bangalore, High Grounds Bangalore, High Rise Noida, Highway Side Puri, Hill Cart Road Siliguri, Hill Road Bandra West Mumbai, Hill View Asansol, Hill View Colony Jamshedpur, Hill View East Asansol, Hill View ParkN  S B goraiRd near Kamdhanu Sweet Asansol, Himagiri Meadows Bangalore, Himmat Nagar Malegaon, Hindmotor Kolkata, Hindpiri Ranchi, Hindustan Park Kolkata, Hindwadi Belgaum, Hingane Khurd  Sai Nagar Pune, Hingna Lalitpur, Hinjawadi Phase   Pune, Hinotiya Alam Bhopal, Hira Nagar Lalitpur, Hiranandani Pawai Lalitpur, Hirandani Powai Lalitpur, Hirandani Powai Mumbai, Hirapur Asansol, Hitech Colony Mancherial, Homeo Nagar Colony  Near Downtown Restaurant Srikakulam, Honaji Nagar Aurangabad, Hoodi Layout Bangalore, Hooghly Kolkata, Hootagalli Mysore, Horamavu Banaswadi Bangalore, Hosabasavanapura Bangalore, Hosabettu Mangalore, Hospital Road Bhuj, Hospital Road Solan, Hotagi Road Solapur, Hotgi Road Solapur, Hotgi road Solapur, House Bhiwani, Housing Board  Gogol Margao, Housing Board Colony Bhilwara, Housing Board Colony Sirsa, Housing Board Phase   Solan, Howthinarayanappa Garden Bangalore, Hridaypur Kolkata, Hubli Dharwad, Huchukpara Purulia, Huda Panipat, Hudkeshwar Maharashtra, Hukma Khedi Indore, Huskur Bangalore, Hussainpur Main Road Kolkata Madurdaha Kolkata, Huzur Bhopal, Hydernagar Secunderabad, Hyderpara Iskcon Mandir Siliguri, INCOME TAX GOLAMBAR Patna, INDIRANAGAR Bangalore, INFOPARK   KAKKANAD Ernakulam, IPC Colony Saryu Bharuch, ISBT Shimla, ISRO Layout Bangalore, Icf Chennai, Ichhapore KAVAS Surat, Ichhapur Water Tank Kolkata, Ichhlabad Ghoshpara Bardhaman, Ida Bollaram Secunderabad, Idigarai Coimbatore, Igatpuri Lalitpur, Ilango Nagar Pondicherry, Illambazar Birbhum, Ilyas Nagar Bangalore, Improvement Trust Scheme No   Gurdaspur  tibri Rd  Gurdaspur, Income Tax Colony Jaipur, Indarpura Surat, India Jamshedpur, Indian Bank Colony Narayanapuram Madurai, Indian Bhavnagar, Indian Nagpur, Indian Park Rajkot, Indian Surat, Indira Cercal Anand, Indira Nagar  rd Stage Bangalore, Indira Nagar Chennai, Indira Nagar Kanchipuram, Indira Nagar Maharashtra, Indira Nagar Nadiad, Indira Puram Dehradun, Indira Vihar Bhilwara, Indiragandhi Nagar Anantapur, Indiranagar Srikakulam, Indirapuram Noida, Indore Road Ujjain, Indra Vihar Colony Bhopal, Indra colony Rohtak, Indrajit Pally Kolkata, Indrali Udupi, Indralok Phase   Maharashtra, Indralok Phase   Mumbai, Indranagar near kalibari Agartala, Indrapalem Kakinada, Indraprasth Dehradun Dehradun, Indraprastha Colony Faridabad Faridabad, Indraprastha Ghaziabad, Indraprastha Industrial Area Kota, Indraprasthnagar Nagpur, Indrapuri Bhopal, Industrial Area Lalitpur, Industrial Area Mumbai, Industrial Layout Bangalore, Infantry Road Bangalore, Ingole Nagar Nagpur, Injambakkam Chennai, Inner Ring road Guntur, Inner ring road   Near Chillies dhaba Guntur, Insuli Lalitpur, International Airport Road Bhopal, Irandam Kattalai Chennai, Irani Wadi Mumbai, Irla Lalitpur, Isapur Patna, Isasani Lalitpur, Isbavi Solapur, Isha Nagar Chhindwara, Ishwariya Rajkot, Iskon City Nellore, Iskon Road Mansarover Jaipur, Isrisinghpura Neemrana, Isro Colony Bangalore, Iswarya Nagar Chennai, Italva Navsari, Its In The Nice Place And Have Good Peoples Around Jalgaon, Itwari Nagpur, J B Nagar Mumbai, J C Nagar Hubli, J P Nagar Chennai, J P Road  Seven Bungalows Lalitpur, J P Road Andheri West Lalitpur, J P Road Andheri West Mumbai, JALANDHAR HEIGHTS    FT ROAD JALANDHAR Jalandhar, JCR Layout Bangalore, JDA Complex Near SBI Kamla Nehru Nagar Jabalpur Jabalpur, JKC College Guntur, JNANABHARATHI  ND STAGE  MARIYAPPANAPALYA Bangalore, JOPLING ROAD Lucknow, JORAMANDIR Kolkata, JP Nagaar I phase Bangalore, JP Nagar   Phase Bangalore, JP to Undi Connecting    ft Link Road  Peddamiram  Kalla Mandal  Bhimavaram, Jacob Circle Lalitpur, Jadhav Nagar Belgaum, Jadhav Wadi Pune, Jadon Nagar Jaipur, Jafferkhan pet Chennai, Jafrabad Godhra, Jagamara Bhubaneswar, Jaganathapuram Chennai, Jagannaickpur Kakinada, Jagannath Temple Puri, Jagannathan Colony Chennai, Jagat Narayan road  Tlimgah  Chowk Lucknow, Jagatipota Kolkata, Jagatpura railway station Jaipur, Jagdish Colony Rohtak, Jagjeetpur Haridwar, Jagnath Plot Rajkot, Jagtala Kolkata, Jagwani Nagar Jalgaon, Jahangirabad Bhopal, Jai Hind colony Dhule, Jai Prakash Nagar Ranchi, Jai Shree Colony Udaipur, Jai Singh Pura Mathura, Jaibery Colony Secunderabad, Jaipur House Colony Agra, Jaipur Road Ajmer, Jaipur road Ajmer, Jaipuria Enclave Kaushambi, Jairaj Nagar Chandrapur, Jairam Nagar Goa, Jairatna Building Vadodara, Jaisalmer Road Pokharn City Jaisalmer, Jaisinghpura Mathura, Jaitala Road Nagpur, Jaiwanthpuram Chennai, Jajhra Nagar Premnagar Dehradun, Jajpur Road Jajpur, Jakhu Shimla, Jakkasandra Bangalore, Jalalpur Society Patna, Jalan Nagar Aurangabad, Jalandhar Bye Pass Chownk Ludhiana, Jalandhar Cantt Dhina Bus Stand  Jalandhar, Jalapor Navsari, Jalaram   Rajkot, Jalgaon Road Bhusawal, Jalladianpet Chennai, Jalna Road Aurangabad, Jalna road Beed, Jalvayu Vihar Sec     Noida, Jamalia Chennai, Jamalpor Gam Navsari, Jamalpur Aligarh, Jambhulkar Mala Pune, Jambhulwadi Pune, Jambli Naka Lalitpur, Jambudweep Nagar  Ayodhya Nagar Nagpur, Jamin Pallavaram Chennai, Jamnagar Jamnagar, Jamnagar Road Rajkot, Jamnagar Road Rajkot Rajkot, Janaadhar Shuba Apt Bangalore, Janak Nagar Gondia, Janakiraman Colony Chennai, Janatha Colony Bangalore, Janatha Ernakulam, Janavali Sindhudurg, Jangaon Warangal, Janki Nagar Nagpur, Janla Bhubaneswar, Jaora Compound Indore, Japanese Zone Neemrana Alwar, Japorigog Guwahati, Jaraganahalli Bangalore, Jaripatka Nagpur, Jashodanagar Gandhidham, Jatheri Village Sonipat, Jatin Das Road Kolkata, Jatwada road Aurangabad, Jawahar Nagar Chennai, Jawahar Nagar Kanpur, Jawahar Nagar Kochi, Jawahar Nagar Raichur, Jawahar Vihar Colony Raebareli, Jawahar nagar Raichur, Jawaharnagar Colony Agra, Jay Prakash Nagar Goregaon East Lalitpur, Jay Prakash Nagar Maharashtra, Jaya Mahal layout Bangalore, Jaya Nagar East Bangalore, Jaya Nagar Main Road  Kamalam Nagar  Reddiyarpalayam Pondicherry, Jayalalitha Nagar Chennai, Jayanagar Guwahati, Jayanagar Mysore, Jayant Society Main Road Jamnagar, Jayant society main road Jamnagar, Jayanti Nagar Bangalore, Jayanti Nagari   Nagpur, Jayashree Park Kolkata, Jayendraganj Gwalior, Jaysingpur Kolhapur, Jeevanagar Tiruchengode, Jeoni Mandi Agra, Jeppu Mangalore, Jesangpura Vadodara, Jessore Road  Madhyamgram Kolkata, Jessore Road Green Park Block A Kolkata, Jewargi Gulbarga, Jhajra Dehradun, Jhalawar Road Kota, Jhargram Midnapore, Jharkhand Colony Jamshedpur, Jharmajri Baddi, Jharmari Ambala, Jharsa Gurgaon, Jhjhunuu Jhunjhunu, Jiav Surat, Jigar Colony Moradabad, Jijamata Colony Lalitpur, Jinkethimmanahalli Bangalore, Jivan Vihar Raipur, Jivaraj park Ambika Township Nanamava Rajkot, Jld Estates sangowal ludhiana Ludhiana, Jodhpur Garden Kolkata, Jogendra Garden Kolkata, Jogupalya Bangalore, Jolva Surat, Jothi Nagar Chennai, Jothi Nagar Pollachi, Jp Nagar   St Phase Bangalore, Jubilee Chowk Gorakhpur, Juchandra Lalitpur, Jugsalai Jamshedpur, Juhu Circle Lalitpur, Juhu Circle Maharashtra, Juhu Circle Mumbai, Juhu Gulmohar Road Vileprale West Mumbai, Juinagar West Mumbai, Juni Indore Indore, Juni Shukrawari Nagpur, Jupiter Colony Secunderabad, Juwekar Wadi Lalitpur, Jvlr Road Jogeshwari East Mumbai, Jvpd Scheme Lalitpur, Jvpd Scheme Mumbai, Jyothi Nagar Bangalore, Jyoti Nagar Deoghar, K K Nagar West Chennai, K K nagar west Chennai, K R Puram Bangalore, K T Nagar Nagpur, K k nagar west Chennai, KABARDANGA BAZAR Kolkata, KADAMBA PLATEU Goa, KADAMTALA POWER HOUSE Kolkata, KADI   CHHATRAL HIGHWAY Kadi, KAILASH PARK Jamnagar, KALYANNAGAR Bangalore, KAPODARA Bharuch, KAS Officers Colony Bangalore, KATJU NAGAR Ratlam, KATTEGNAHALLI Bangalore, KEB Colony Bangalore, KHAPOLI Raigad, KHB Platinum Bangalore, KHBS Layout Bangalore, KK Pudur Coimbatore, KL Puram Vizianagaram, KORATTUR BUS STAND BACKSIDE Chennai, KORATTUR Bus Stand Backside Chennai, KR Layout Bangalore, KR PURAM  Freinds Layout Seegehalli KR Bangalore, KT nagar  Katol Road Nagpur, KT road Tirupati, Kaankathu Mukku Kollam, Kabardanga Kolkata, Kabela Vijayawada, Kabir Nagar Varanasi, Kabrastan road  Opposite Aaliyabaad  Vapi, Kachana road Raipur, Kachanayakanahalli Bangalore, Kacheri Road Bardhaman, Kacheripady Ernakulam, Kachna Raipur, Kachra Colony Patna, Kadak Bazar Vadodara, Kadamba Plateau Panaji, Kadamba platue  Bainginium  Old Goa Goa, Kadamtala Jalpaiguri, Kadamtala Shiv Mandir Siliguri, Kadapara Kolkata, Kadarenahalli Bangalore, Kadavanthra Ernakulam, Kadavoor Ernakulam, Kadi Chhatral Highway Kadi, Kadi Gujarat Kadi, Kadia Plot Porbandar, Kadianwali Jalandhar, Kadodra Surat, Kadugondanahalli Bangalore, Kagal Kolhapur, Kagal Nagar Jamshedpur, Kaggadasapura  C V  RAMAN NAGAR PO Bangalore, Kaikankuppam Chennai, Kailash Nagar Chennai, Kailash Nagar Gwalior, Kailash Nagar Lalitpur, Kailash Nagar Maharashtra, Kailash nagar  Majuragate Surat, Kailash nagar Kanpur, Kainke Road Ranchi, Kainsir Sambalpur, Kajubagh Karwar, Kakaknad  Kalapurakkal Ernakulam, Kakarmatta Varanasi, Kakinada Kakinada, Kakinada main road masid center Kakinada, Kakkanad West Ernakulam, Kakkanadu Ernakulam, Kala Saiyad Gwalior, Kaladwas Udaipur, Kalakusuma Dhanbad, Kalamassery Kochi, Kalamba Kolhapur, Kalamba Road Kolhapur, Kalambakkam Kanchipuram, Kalamboli Mumbai, Kalanala Bhavnagar, Kalapet Pondicherry, Kalappurakkal Kochi, Kalas Pune, Kalavakkam Chennai, Kalepadal Pune, Kalepully Palakkad, Kalewadi Phata Pune, Kalher Bhiwadi, Kalher Bhiwani, Kalher Lalitpur, Kalia Colony Jalandhar, Kalidas Road Dehradun, Kalidasa Layout Bangalore, Kalimati Jamshedpur, Kalimpong Darjeeling, Kalina Maharashtra, Kalina Mumbai, Kalindi Kolkata, Kaliyar Idukki, Kallapu Mangalore, Kallekkulangara Palakkad, Kalli Pashchim Lucknow, Kalmandapam Palakkad, Kaloor Kathrikadavu Ernakulam, Kalpana Nagar Bhopal, Kalpana Square Bhubaneswar, Kalpataru Sunrise Balkum Lalitpur, Kalward Road Jaipur Rajasthan Jaipur, Kalyan Nagar Dharwad, Kalyan West Lalitpur, Kalyaninagar Cuttack, Kalyanpur  East  Lucknow, Kalyanpur  West  Lucknow, Kalyanpuri Secunderabad, Kamaccha Varanasi, Kamadenu Lay out Electranic City Phase ii Bangalore, Kamakshi Nagar Chennai, Kamakshipalya Bangalore, Kamakya Layout Bangalore, Kamala Nagar Bangalore, Kamaraj Nagar Chennai, Kamaraj nagar choolaimedu Chennai, Kamarajapuram Chennai, Kamardanga Kolkata, Kamarhati Kolkata, Kamatchi Nagar Valasaravakkam Chennai, Kamatwade Lalitpur, Kamban Nagar  Reddiarpalayam Pondicherry, Kambipura Bangalore, Kamdar Colony Jamnagar, Kamla Nagar Vadodara, Kamla Nehru Nagar Jodhpur, Kammasandra Main Road Bangalore, Kamothe Maharashtra, Kamothe Raigad, Kamothe Sector    Lalitpur, Kampapura  Bellandur Bangalore, Kanakapura Road  Konanakunte Bangalore, Kanakia Park Maharashtra, Kanapaka Vizianagaram, Kanathur Reddikuppam Chennai, Kanattukara Thrissur, Kanch Ghar Colony Housing Board Jabalpur, Kanchanagar Vapi, Kandaghat Solan, Kandanchavadi Chennai, Kandarpada Lalitpur, Kandarpada Mumbai, Kandawa Varanasi, Kangarappady navodaya road Kochi, Kanhe Pune, Kanjur marg  east   Lalitpur, Kankarbagh Main Road Patna, Kanke Road Ranchi, Kanker Khera Meerut, Kankipadu Vijayawada, Kannakapura Rode Bangalore, Kannamangala  Bangalore        Bangalore, Kannammapet Chennai, Kannamwar Nagar I Maharashtra, Kannavam Kannur, Kannothumcha Kannur, Kanpur Road Lucknow, Kansuwa Dcm Road udyog Nagar thana Kota Kota, Kansuwa Kota, Kanta Toli  Old Lohadih Road  Ranchi Ranchi, Kantatoli Ranchi, Kapaswadi Lalitpur, Kapikad Mangalore, Kapol Wadi Lalitpur, Kapol Wadi Mumbai, Kappagal road Bellary, Kapu Udupi, Kapuluppada Visakhapatnam, Karakambadi Tirupati, Karamchari Nagar Bareilly, Karande Mala Kolhapur, Karanja Lalitpur, Karanja Wardha, Karaswada Goa, Karaundi Varanasi, Karave Nagar Maharashtra, Karbala Road Bilaspur, Kareli Allahabad, Kareli Block C Allahabad, Karishma Platinum Pune, Kariyannapalya Bangalore, Karjat Bhisegaon Karjat, Karjat Raigad, Karjat Station Karjat, Karkala Udupi, Karkhana Secunderabad, Karla  Opp Treasure Iland Resort   Lalitpur, Karla  Opp Treasure Iland Resort Lalitpur, Karla road Wardha, Karmala Solapur, Karmayogi Nagar Maharashtra, Karolbagh Indore, Karond Bhopal, Karpur Bangalore, Kartarpura Jaipur, Karthikeyapuram Chennai, Karukutty Kochi, Karumalloor Ernakulam, Karumathampatti Coimbatore, Karuneshwar Nagar Gulbarga, Karvanchivadi Fata Ratnagiri, Karve Naka Karad, Karveer Nagar Lalitpur, Karwanchi Wadi Ratnagiri, Kasaba Bawada Kolhapur, Kasaba Hobli Bangalore, Kasam Baug Mumbai, Kasaravadi Lalitpur, Kasaridih Durg, Kasavanahalli  Owners court west gate sarjapura Bangalore, Kasba Bosepukur Kolkata, Kasba Peth Pune, Kasba Siemens Kolkata, Kashele Karjat, Kashid Park Pune, Kashimira Maharashtra, Kashipur Road Rudrapur, Kashipur Road Rudrapur Rudrapur, Kashipur bypass  srinikenatan road  bolpur Birbhum, Kashti Ahmednagar, Kaspapuram  Selaiyur Chennai, Kastur Park Lalitpur, Kastur Park Mumbai, Kasturba Nagar Jaipur, Kasturba Nagar Vadodara, Kasturba Rd Rajkot, Katanga Jabalpur, Katangikala Gondia, Kateel Mangalore, Kathal More Ranchi, Kathal more Ranchi, Kathriguppe Bangalore, Katipalla Mangalore, Katpadi Vellore, Katra Sufaid Amritsar, Katrap Lalitpur, Katrap Mumbai, Kattoor Thrissur, Kaurin Bhatha Rajnandgaon, Kauser Nagar Bangalore, Kaushalya enclave Phase One gangapur Road rudrapur Rudrapur, Kavade Mala Pune, Kavadiguda Secunderabad, Kaval Bairasandra Bangalore, Kaval Junction Kollam, Kavala Naka Kolhapur, Kavalkinaru Junction Tirunelveli, Kavanur Kanchipuram, Kavde Nagar Pune, Kaveri Nagar Pune, Kaviltali Ratnagiri, Kayan Nagar Bangalore, Kayarambedu Chennai, Kazhikundram Chennai, Kazisarai Varanasi, Kedar Nagar Lalitpur, Kedar Nagar Maharashtra, Kedar Puram Dehradun, Kedgaon Ahmednagar, Kedgaon Station Pune, Kehar Singh Nagar  Haibowal Klan  ludhiana Ludhiana, Keleston Shimla, Kellys  Kilpauk Chennai, Kellys Chennai, Kelwa Palghar, Kempegowda Nagar Bangalore, Kemps corner Mumbai, Kemse Vasti Pune, Kenchalagudu Mysore, Kendua Kolkata, Kengeri Satellite Town Stage II Bangalore, Keshav Nagar Old Orbis School Pune, Keshav Nagar Secunderabad, Keshav Nagar Udaipur, Keshav Vihar Dehradun, Ketkipada Mumbai, Ketopole Kolkata, Kewale Maharashtra, Kewale Mumbai, Kewdavadi Rajkot, Keyatala Kolkata, Khabra Muzaffarpur, Khadakwasla Pune, Khadavali Lalitpur, Khadgaon Latur, Khadi Colony Tirupati, Khadkeshwar Aurangabad, Khadki Akola, Khadra Lucknow, Khadse Lay Out  Bachelor Road Wardha, Khadyachapada Raigad, Khagaul Patna, Khajrana Square Indore, Khalasi Lines Kanpur, Khalilpur Main Road Junagadh, Khalpara Siliguri, Khamharia Bhilai, Khanamukh Guwahati, Khanapara Guwahati, Khanapur Belgaum, Khanda Colony Maharashtra, Khandeshwar Lalitpur, Khandeshwar Maharashtra, Khandve Nagar Pune, Khankot Amritsar, Khaprail Bazar Siliguri, Khar  W  Maharashtra, Khar  W  Mumbai, Khar Mumbai, Kharabwadi Pune, Kharadi Annex Pune, Kharbi Road Lalitpur, Khardah  Rahara Kolkata, Khare Town Nagpur, Kharegaon Lalitpur, Kharegaon Mumbai, Kharodi Lalitpur, Kharvai Mumbai, Kharwawad Surat, Khat Road Bhandara, Khatamba Vadodara, Khed Pune, Khed Ratnagiri, Khedi road Faridabad, Khend  Chiplun Ratnagiri, Khend Ratnagiri, Kherapati Road Phool Bagh Gwalior, Kherdi Ratnagiri, Kherli Phatak Kota, Kherwadi Lalitpur, Kherwadi Mumbai, Khetrajpur Sambalpur, Khopoli Lalitpur, Khopoli Mumbai, Khopoli Pali Road Raigad, Khote Nagar Jalgaon, Khuldabad Allahabad, Khurla Kingra Jalandhar, Khurpatal Nainital, Khurram Nagar Lucknow, Khushal Nagar Bangalore, Killa Pardi Valsad, Kinnimulki Udupi, Kiran Nagar Amravati, Kirbhat Baida Margao, Kirlampudi Layout Visakhapatnam, Kirloskar Layout Bangalore, Kirti Nagar Akola, Kirti Nagar Pune, Kirti Stambh   Vadodara Vadodara, Kirumampakkam Pondicherry, Kisan Path Lucknow, Kishan Para Rajkot, Kishan Park Society Jamnagar, Kishangarh Ajmer, Kithaganur Bangalore, Knss Colony Bangalore, Kochi Ernakulam, Kodalagurki Bangalore, Kodalla Kolkata, Kodambakkam Chennai, Kodibag Karwar, Kodichikanahalli Bangalore, Kohka Bhilai, Koilagada Chhak Puri, Kola Kusma Dhanbad, Kolad Raigad, Kolakusma Dhanbad, Kolathur  poompuhar Nagar Chennai, Kolathur Bangalore, Kolathur chennai Chennai, Koldongri Lalitpur, Kolgaon Sindhudurg, Kolhapur Kolhapur, Kolhapur varsha nagar Kolhapur, Kolhe Nagar Jalgaon, Kolhewadi Pune, Koliwali Lalitpur, Kollamkudimugal Ernakulam, Kollukattumedu Erode, Kolshet Industrial Area Mumbai, Kolshet Maharashtra, Komal Nagar Jamnagar, Komapalli Berhampur, Konark Nagar Solapur, Kondapalli Vijayawada, Kondayapalem Nellore, Kondhawe Dhawade Pune, Kondhva Pune, Kondur Cuddalore, Konena Agrahara Bangalore, Kongaon Lalitpur, Kongaon Mumbai, Konkan Nagar Ratnagiri, Konkanwadi Aurangabad, Konnagar Prantika Kolkata, Koodal Nagar Madurai, Koodal Pathanamthitta, Koorapati Ramachandra Nagar  Karakambadi Road  Opposite to Reddy Bhavan  Tirupati, Koparli Rd Vapi, Koparli Vapi, Koperkhairane Maharashtra, Koproli  New Panvel Lalitpur, Koproli  New Panvel Mumbai, Koproli  panvel matheran Road panvel dist raigad maharashtra Raigad, Koralur Bangalore, Koregaon Bhima Pune, Korlagunta Tirupati, Korra Hazaribagh, Korramenugunta Tirupati, Kosad Surat, Kosapet Chennai, Kosi Kalan Mathura, Kot Parsiwad Bharuch, Kota Junction Vizianagaram, Kothamangalam Ernakulam, Kothapalem Visakhapatnam, Kothapalli Tirupati, Kothariya Rajkot, Kothavalasa Visakhapatnam, Kothavalasa Vizianagaram, Kothewada Lalitpur, Kothewada Near Mihan Nagpur, Kotramangalam Tirupati, Kottakkal Malappuram, Kottara Mangalore, Kottivakkam Chennai, Kottur Chennai, Kotwal Nagar Lalitpur, Kotwali City Bhopal, Kovilpathagai Avadi Chennai, Kovilpathagai Chennai, Kovur Nellore, Kovvada Kakinada, Kowkoor village Secunderabad, Koyali Vadodara, Kranti Nagar Pune, Krantiveer Nagar  Thergaon Pune, Krishna College main Road Visakhapatnam, Krishna Colony Coimbatore, Krishna Nagar Kanpur, Krishna Puram Kanpur, Krishna Puri Jaipur, Krishna Sagar Colony Jaipur, Krishnapur Kolkata, Krishnapuram Chennai, Krishnarajapura Bangalore, Krishnarajapuram Vizianagaram, Krishnaraju Layout Bangalore, Krishnaswamy Nagar Coimbatore, Krupa Complex Secunderabad, Krushi Nagara Shimoga, Krushna Nagar  Sector     Chikhali  Chinchwad  PUN Pune, Kshudiram Nagar Haldia, Kubera Nagar Chennai, Kuberan Nagar Extension Chennai, Kucheni Parisar Damoh Naka Jabalpur Jabalpur, Kudal Sindhudurg, Kudchi Belgaum, Kudi Bhagtasni Jodhpur, Kudibhagtasni Jodhpur, Kudus Palghar, Kukde layout plot no     near pawar hall Nagpur, Kukkikatte Udupi, Kulithalai Karur, Kullappa Colony Bangalore, Kulti  barakar Asansol, Kumananchavadi Chennai, Kumaran Colony Chennai, Kumaran Kudil Extension Thoraipakkam Chennai, Kumaran Nagar Chennai, Kumarapalli Bangalore, Kumarhatti Solan, Kumartuli Kolkata, Kumbalgodu Bangalore, Kumbhariya Surat, Kumbhephal Aurangabad, Kumhari   Raipur, Kumily Idukki, Kundapur Udupi, Kundrathur Kanchipuram, Kunjibettu Udupi, Kunjirwadi Pune, Kunnumpuram Kochi, Kunta Vapi, Kuppanur Coimbatore, Kurji Patna, Kurmannapalem Visakhapatnam, Kurmannnapalem Visakhapatnam, Kurnool Road Ongole, Kurudusonnenahalli Bangalore, Kustia Kolkata, Kusum Lalitpur, Kusum Maharashtra, Kusum Mumbai, Kutak Bandhan Lalitpur, Kutak Bandhan Mumbai, Kutchery Ranchi, Kutchry Road Darjeeling, Kuthambakkam Chennai, Kuvempunagar Mysore, Kuwarfalli  Rajabazar Aurangabad, Kydganj Allahabad, L P Savani Surat, L T Colony Chennai, LB shastri nagar Bangalore, LBS Marg Mumbai, LIC Colony Latur, LIC Colony Vijayawada, LIC Nagar Chennai, LIG Flat Noida, LVB Nagar Karur, Lachit Nagar Guwahati, Ladivali Karjat, Ladpura Kota, Lajpat Nagar Kanpur, Lakadganj Lalitpur, Lake Area Madurai, Lake Market Kolkata, Lake Town Bangur Kolkata, Lakharan Karjat, Lakhimi Nagar Guwahati, Lakhimi Nagar Sivasagar, Lakhmi Vihar Meerut, Lakhran Karjat, Lakkar Bazar Shimla, Lakshmi Layout Bangalore, Lakshmi Nagar Coimbatore, Lakshmiben Chedda Nagar Maharashtra, Lakshmiben Chedda Nagar Mumbai, Lakshmipuram  Chromepet  Chennai, Lakshmipuram Mysore, Lal Bahadur Nagar Bangalore, Lal Chowki Khandwa, Lal Sahab Ka Baghicha Gwalior, Lal Tekri Bhuj, Lalaram Nagar Indore, Lalbag Mal Burhanpur, Lalbaug Vadodara, Laldarwaja Surat, Lalita Tower Vadodara, Lallubhai Park SV Road Andheri West Lalitpur, Lalmati Guwahati, Lalpur Gwarighat Jabalpur, Lamachaur Haldwani, Lambakheda Bhopal, Lamington Road Lalitpur, Laminton Road  Grant Road  Queen Mary School Lalitpur, Laminton Road  Grant Road  Queen Mary School Maharashtra, Laminton Road  Grant Road  Queen Mary School Mumbai, Landmark City Kota, Langford Gardens Bangalore, Lanja Ratnagiri, Lankeshwar Guwahati, Lariya Resort Jodhpur, Lashkari Bagh Nagpur, Lasuriya Mori Indore, Lawsons Bay Colony Visakhapatnam, Lawspet Pondicherry, Laxman Jhula Rishikesh, Laxmi Bai Marg Kishanpur Tiraha Aligarh, Laxmi Colony Chawni Aurangabad, Laxmi Colony Pune, Laxmi Dham Colony Latur, Laxmi Nagar Ahmednagar, Laxmi Nagar Chandrapur, Laxmi Nagar Chennai, Laxmi Narayan Nagar Pune, Laxmi Peth Solapur, Laxmi Sagar Layout Bangalore, Laxminagar  Ghatkopar East Lalitpur, Laxminagar Lalitpur, Laxminagar Wardha, Laxminarayan Nagar Kolhapur, Laxminarayana Layout Bangalore, Laxmiwadi Rajkot, Lda Gokulgraam Munnu Kheda Lucknow Lucknow, Lekha Nagar Ahmednagar, Lekha Nagar Lalitpur, Liberty Garden Lalitpur, Liberty Garden Mumbai, Library Navsari, Library Road  Aluva Kochi, Lic colony Guntur, Lichubagan Agartala, Liluah Kolkata, Limda Lane Indira Marg Jamnagar, Limda Lane Jamnagar, Link Road Bharuch, Link road Bilaspur, Lisari Meerut, Little flower school Guntur, Loco heritage Rewari, Loganathan Nagar Chennai, Logix BLOSSOM ZEST Noida, Lohamandi Varanasi, Lohana Para Rajkot, Lohara Yavatmal, Lohiya Colony Vaishali Nagar Jaipur, Lok Milan Colony Lalitpur, Lok Milan Colony Mumbai, Lokanath Ghat Puri, Lokannth Temple Puri Puri, Lonkar Nagar Pune, Lookerganj Allahabad, Loshinghna Marg Hazaribagh, Lotus Villa Jagatpura Jaipur, Loudon Street Kolkata, Lovedale Ooty, Lower Chelidanga Asansol, Lower Parel West Lalitpur, Lower Parel West Mumbai, Lucknow Faizabad Expressway Lucknow, Lucknow Kanpur Highway Lucknow, Lucknow Shaheed Path  Awadh Vikas Yojana Lucknow, Lukarganj Allahabad, Lumsikui Navsari, Luz Chennai, M  I  A Chowk Alwar, M G Road Goregaon West Maharashtra, M G Road Goregaon west Lalitpur, M G Road Goregaon west Maharashtra, M G Road Junagadh, M G Road Pune, M K County Dharuhera, M O G Lines Indore, M R   ROAD  SHATABDIPURAM VIJAY NAGAR Jabalpur, M V Extenstion Bangalore, MAHARSHI COLONY Amravati, MANGLAM CITY HATOJ  KALWAR ROAD JAIPUR Jaipur, MASTRAM SOCIETY Bhavnagar, MCN Nagar Chennai, MEERA MARKET Chittorgarh, MGR Nagar Chennai, MHADA Colony Lalitpur, MIDC Pune, MIDC Tarapore Boisar Palghar, MIT Udupi, MLA Layout Bangalore, MMDA Colony Chennai, MODI MAHALLO NEAR GAUSHALA  A K ROAD Surat, MOGAPAIR Chennai, MOTINAGAR Jaipur, MS Ramaiah Layout Bangalore, MSN COLONY Vizianagaram, Ma Chandrika Devi Road After     Meeter GCRG Colle Lucknow, Maan Pune, Mac Robert Gunj Kanpur, Machavaram Vijayawada, Madakkulam Madurai, Madambakkam Bhuvaneswari Nagar Chennai, Madanapuram Chennai, Madel Margao, Madh Mumbai, Madhapar Chowkdi Rajkot, Madhapar Cross Road Rajkot, Madhav Ganj Gwalior, Madhav Nagar    Bhavnagar, Madhav Nagar Katni, Madhav Nagar Lalitpur, Madhavaram Milk Colony Chennai, Madhavnagar Bhavnagar, Madhavrai Jamnagar, Madho Ganj Gwalior, Madhrawada Visakhapatnam, Madhu Vihar Colony Kangra, Madhura Nagar Bangalore, Madhura Nagar Vijayawada, Madhuranagar Visakhapatnam, Madhuwan Enclave Gwalior, Madiwala Bangalore, Madiwalar Nagar Hubli, Madiyaon Lucknow, Magdi Road Bangalore, Magistrate Colony Ranchi, Maha Laxmi Nagar Chennai, Maha laxmi Mandir Karjat, Mahaaban Mathura, Mahabal Colony Jalgaon, Mahadeshwara Nagar Bangalore, Mahadev Anand, Mahadev Nagar Surat, Mahadev colony Hubli, Mahadeva Kodigehalli Bangalore, Mahadevapuram Colony Vijayawada, Mahal Scheme Jaipur, Mahalaxmi Nagar  Adambakkam Chennai, Mahalaxmi Nagar Tiruverkadu Chennai, Mahalaxmi Sindhi Colony Lalitpur, Mahalaxmi Sindhi Colony Maharashtra, Mahalaxmi Vihar  Shampur Bhubaneswar, Mahalgaon Gwalior, Mahalunge Raigad, Mahanagar Colony Bareilly, Mahapura Jaipur, Maharaja Nagar Tirunelveli, Maharajpura Gwalior, Maharana Pratap Nagar Bhopal, Maharana Pratap Nagar Scheme Ajmer, Maharashtra Aurangabad, Maharashtra Palghar, Mahatma Gandhi Nagar Jaipur, Mahatma Nagar Lalitpur, Mahatma Society Pune, Mahaveer Nagar Barmer, Mahaveer Nagar Indore, Mahaveer Nagar Jaipur, Mahaveer Nagar Raipur, Mahavir Marg Anand, Mahavir Nagar Surat, Mahavir nagar m m park Jalgaon, Mahendra Nagar Nagpur, Mahendra Para Morbi, Mahendra hills   Annapurna Society Secunderabad, Mahesh Bose Para Kolkata, Mahesh nagar Ambala, Mahidharpura Surat, Mahila College Chowk Rajkot, Mahim  East  Lalitpur, Mahim  East  Mumbai, Mahim  West  Mumbai, Mahim Lalitpur, Mahim Maharashtra, Mahim Manor Highway Palghar, Mahima Nagar Sirgitti Bilaspur, Mahimwest Lalitpur, Mahimwest Mumbai, Mahindra Happinest Palghar, Mahudi Gandhinagar, Mai Mandir Nadiad, Mailasandra Bangalore, Main road  Patel colony   Jamnagar, Main road rajendranagar Kolhapur, Mainadhi Katni, Mainawati Marg Kanpur, Mainroad Sultanabad Tenali, Maitri Kunj Bhilai, Major Dhyanchand Nagar Meerut, Majumder Road Kolkata, Majura Gate Surat, Makadwali Road Ajmer, Makhdoompura Jalandhar, Makhla Government Colony Kolkata, Makhla Kolkata, Makhmalabad Maharashtra, Makroniya  rajakhedi Sagar, Mala Goa, Mala Panaji, Malancha Mahi Nagar Kolkata, Malavli Lalitpur, Malbhat Goa, Malbhat Margao, Malegaon camp Malegaon, Mali Panchghara Kolkata, Mali colony  rajarampuri  th lane Kolhapur, Malimakanapura Bangalore, Malind Nagar Jalandhar, Malkapur Akola, Malkapur Ayodhya Nagari Akola, Malkapur Lahoti Nagar Karad Karad, Mall Road Nainital Nainital, Malla Reddy Nager Guntur, Mallaguri Siliguri, Mallapur Secunderabad, Mallathahalli Bangalore, Mallepally Secunderabad, Mallikarjunapeta Vijayawada, Malmaddi Dharwad, Malur Kolar, Malviya Nagar Moradabad, Malwadi Pune, Mamangalam Ernakulam, Manahar Plot Rajkot, Manaji Nagar Pune, Manali Chennai, Manappally Kollam, Manasatala Kolkata, Manda Maharashtra, Manda Mumbai, Mandakani Apartments Haldwani, Mandakini Colony Bhopal, Mandangad Ratnagiri, Mandaula Ghaziabad, Mandavelli Chennai, Mandhala Baddi, Mandir Chowk Bilaspur, Mandla Road  Near Sadar Jabalpur, Mandola Vihar Ghaziabad, Manduwadih Varanasi, Maneklal Road Navsari, Manewada Square Nagpur, Mangal Baug Jamnagar, Mangal Nagar Anand, Mangal Pandey Nagar Meerut, Mangal Vihar Jaipur, Mangala Nagar Mangalore, Mangalagiri Vijayawada, Mangalam Tirupati, Mangali Nagar Chennai, Mangali Neethiman Nagar Chennai, Mangalore Mangalore, Mangamuru road Ongole, Mangaon Raigad, Manglam Aananda Jaipur, Manglam City Hatoj Kalwar Road Jaipur Jaipur, Manglaya Sadak Indore, Manglia Indore, Mango old purulia road Jamshedpur, Mani Bagh Valsad, Mani Nagar Palghar, Manickam Nagar Chennai, Manicktala Kolkata, Manik Baug Lalitpur, Manik Baug Pune, Manikandan Nagar  Kundrathur Chennai, Manikandan Nagar Kundrathur Chennai, Manikandapuram Chennai, Manikpur Kolkata, Manish Layout Nagpur, Manishpuri Indore, Maniyakarampalayam Coimbatore, Manjakuppam Cuddalore, Manjapalam Kannur, Manjari Khurd Lalitpur, Manjari Khurd Maharashtra, Manjipura Nadiad, Manjipura Road Nadiad, Manjunatha Layout Bangalore, Manjunatha Nagar Road  Uttarahalli Bangalore, Manjur Garhi Aligarh, Manjusar GIDC Vadodara, Mankapur Maharashtra, Mankapur Outer Circle Nagpur, Mankavu Palakkad, Mankivali Lalitpur, Mankivali Maharashtra, Mannarkkad Palakkad, Manor Palghar, Manorayana Palya Bangalore, Manovikas Nagar Secunderabad, Mansa Devi Complex Panchkula, Mansarovar  Kanpur Road Lucknow, Mansarovar Lucknow, Mansarovar Varanasi, Mantri Chandak Park Solapur, Mapuca Goa, Mapusa Duttawadi Goa, Marasandra doddaballapur Road Bangalore, Maravaneri Salem, Marcel Goa, Mardol Goa, Marenahalli Bangalore, Margao Goa, Margao old market Goa, Margao old market Margao, Marine Drive Ernakulam, Maris Road Aligarh, Mariss road Aligarh, Markandeya Nagar Karimnagar, Marnamikatte Mangalore, Marol Maroshi Military Road Maharashtra, Marripalem VUDA Layout Visakhapatnam, Marris Road Aligarh, Marsandra Bangalore, Marunji Hinjewadi Pune, Marutham Colony  TNHB Ayyapakam First Floor  Ambat Chennai, Maruthi Extension Bangalore, Maruthi HBCS Layout Bangalore, Maruthi Nagar Bangalore, Maruthi Nagar Kakinada, Maruthi Sevanagar Bangalore, Maruti Residency Valsad, Marve Road Maharashtra, Masipirhi Hazaribagh, Masoori Bye Pass Dehradun, Math Bagan Kolkata, Mathiazhagan Nagar Chennai, Mathpurena Bhatagaow Raipur, Mathwada Warangal, Matigara Khaprail bazar Siliguri, Matigara khaprail bazar Siliguri, Matiyari Lucknow, Mattumanda Palakkad, Mattuthavani Madurai, Matunga West Mumbai, Mau Khandri Agra, Mauli Nagar Shirdi, Maulii Nagar   Lalitpur, Mav swimming pool Chennai, Mavadi Industrial Area Rajkot, Mavdi Chokdi Rajkot, Mavdi Rajkot, Mawaiya Lucknow, Mayajal Chennai, Mayani Chowk Rajkot, Mayur Colony Lalitpur, Mayur Park Aurangabad, Mayur Park Society Jamnagar, Mazgaon Maharashtra, Medchal Secunderabad, Meddal Surat, Medetiya Nagar Maharashtra, Medical College Jhansi, Medical Square Nagpur, Meenakshi Amman Temple Madurai, Meenangadi Wayanad, Meerut Brhampuri Meerut, Meerut Modipuram Bypass Meerut, Meerut Road Ghaziabad Ghaziabad, Mehta Nagar Chennai, Mehul Nagar Jamnagar, Melamuri Palakkad, Melmaruvathur Chennai, Metoda Rajkot, Metropolitan Kolkata, Mettuguda Secunderabad, Mettukazhani Street Chennai, Mettukuppam Chennai, Meyyanur Salem, Mhalgi Nagar Nagpur, Mhatre Nagar Maharashtra, Mhatre Nagar Mumbai, Midc Kosara Chandrapur, Middle Lingding Gangtok, Middleton street Kolkata, Midhilapuri vuda colony Madhurawada Visakhapatnam, Midilaphr Colony Visakhapatnam, Midnapore Town Midnapore, Mihan Maharashtra, Milakpur Goojar Alwar, Milan Nagar Guwahati, Milat Nagar Lalitpur, Milat Nagar Mumbai, Military Area Jamnagar, Mill Road Nadiad, Millat Nager Nadiad, Millers Road Bangalore, Minakshi Nagar Durg, Mindspace Maharashtra, Mini bypass road Nellore, Miragaon Maharashtra, Miramar Green Acre   Govardhan Bldg  Panaji, Miramar Panaji, Mirjole  Ratnagiri Ratnagiri, Mirzapokhari Road Balasore, Mission Bazer Kolkata, Mission Quarters Thrissur, Mithanpura Muzaffarpur, Mithapur Patna, Mithbav Lalitpur, Mithila Colony Patna, Mitmita Lalitpur, Mitmitta  Nasik Road Aurangabad, Mitra Nagar Nagpur, Mitrabagan Kolkata, Model Gram Ludhiana, Model Town B Jaipur, Model Town Jalandhar, Modern Park Kolkata, Modi Nagar Jaipur, Modi Nagar Near Purani Chungi Ajmer Road Jaipur, Mog Lines Indore, Moghalrajpuram Vijayawada, Mogharpada Lalitpur, Mohammadpur Agra, Mohibullapur Lucknow, Mohisbathan Kolkata, Mohkam Pur Meerut, Moidakol More Asansol, Moji Vihar  Dadudyal Nagar Jaipur, Molhawas Rewari, Mona Green      Gazipur Road Zirakpur Mohali, Moogambigai Nagar  Nainar mandapam Pondicherry, Moolapalayam Erode, Mora Bhagal Surat, Morikolong Chariali Nagaon, Morrispet Tenali, Morwadi Pune, Morya Garden Kanadia Road Indore, Morya Nagar Lalitpur, Morya Nagar Maharashtra, Moshi Maharashtra, Mota Chiloda Gandhinagar, Mota Taiwad Valsad, Motappa Layout Bangalore, Moti Matwad Valsad, Moti Nagar Lalitpur, Moti Nagar Maharashtra, Motilal Colony Kolkata, Motilal Nagar II Mumbai, Moudhapara Raipur, Moulivakkam Chennai, Mts Colony Hubli, Muchi Para Kolkata, Muchipara Kolkata, Mudaliarpet Pondicherry, Mudalpalaya Bangalore, Mudialy Road Kolkata, Mudichur Chennai, Mudre Karjat, Muftiganj Lucknow, Mugalivakkam Manapakkam Chennai, Muhammadpur Patna, Muhana Road Jaipur, Mukhyagali Haridwar, Muktainagar Jalgaon, Mukteshwar Nainital, Mukund Nagar Pune, Mullai Nagar Coimbatore, Mullawada Junagadh, Mullur Bangalore, Mulshi Pune, Mulund Colony Lalitpur, Mulund Maharashtra, Mumbai Bangalore Highway Pune, Mumbai Lalitpur, Mumbai Maharashtra, Mundada Nagar Jalgaon, Mundampalam Kochi, Mundhwa Lalitpur, Mundupalam Thrissur, Muni Ki Reti Rishikesh, Municipal Society  Kishanpara Rajkot, Munivenkatppa Layout Bangalore, Munjaba Wasti Pune, Munjka Rajkot, Munshi Pulia Lucknow, Munsifdanga Purulia, Muppathadom Ernakulam, Muraganapalli road Chittoor, Muram Kalan Ramgarh, Murbad Lalitpur, Murgasol Asansol, Murhatatali Tezpur, Murli Nagar Bhopal, Murud Raigad, Murugesha palya Bangalore, Murugu Nagar Chennai, Museum Road Bangalore, Musheerabad Secunderabad, Mustafa Bazar Lalitpur, Mustafa Bazar Mumbai, Mustak Nagar Valsad, Muthamizh Nagar Hasthinapuram Chennai, Muthyala Nagar Bangalore, Muthyalapalem Nellore, Muvendar Nagar Extension Chennai, Mysore Road Kumbalgoda Bangalore, N R Mohalla Mysore, N S C Bose Road Kolkata, NAL Layout Bangalore, NANDANAVAN COLONY  NEW SAIFY NAGAR  Indore, NEAR MAHABAL COLONY Jalgaon, NEAR ROHAN KRITIKA Pune, NGEF Bangalore, NH    Agra Mumbai Highway Indore, NH   Bypass Agra, NH   CH PET ROAD  Guntur, NH   Faridabad Faridabad, NIBM Lalitpur, NIBM Maharashtra, NRI Hospital Guntur, NS Palya Bangalore, Nabanna Kolkata, Nachane Maharashtra, Nachane Road Ratnagiri, Nachane road near daivadnya bhavan Ratnagiri, Nacharam Secunderabad, Nad Junction Visakhapatnam, Nadanwanbehindkdkcollege Nagpur, Nadathara Thrissur, Nadiyawala Colony   Lalitpur, Nagampadam Kottayam, Nagappa Nagar Chennai, Nagar Road Pune, Nagarabhavi Bangalore, Nagarajun Nagar Bhopal, Nagarjuna Nagar Vijayawada, Nagarjuna University Vijayawada, Nagasandra  Tumkur Road Bangalore, Nagashetty Halli Bangalore, Nagenahalli Bangalore, Nagendra Nagar Secunderabad, Nageshwar Tangi Bhubaneswar, Naginabag Chandrapur, Nagla Mirza Ada Bada Selai Road Firozabad, Nagla Padi Agra, Nagla Park Kolhapur, Nagobabu chowk Hazaribagh, Nagthana Wardha, Nagwa Varanasi, Nahur East Lalitpur, Nahur Lalitpur, Nai sadak Gwalior, Naidu Colony Lalitpur, Naidupet Nellore, Naidupeta Nellore, Naigaon East Palghar, Naik Nagar Aurangabad, Naikkanal Thrissur, Naim Nagar Warangal, Naim nagar  beside tejaswi school Warangal, Naimnagar Warangal, Nainital Highway Rudrapur, Naipukur Kolkata, Nakhara Cuttack, Nakoda Nagar Bedwas Udaipur, Nakshatrawadi Aurangabad, Nalapara Guwahati, Nalasopara East Maharashtra, Nalasopara East Palghar, Nalasopara Palghar, Naldehra Shimla, Nallasopara Palghar, Nalta Kolkata, Namalagundu Secunderabad, Namdha Vapi, Nana Patil Nagar Kolhapur, Nanakwada  Halar road  Near Gram Panchayat  Vapi, Nanakwada Valsad, Nand Vihar Meerut, Nandanvan Colony Aurangabad, Nandanvan Nagpur, Nanded Pune, Nandgram Ghaziabad, Nandini Layout Bangalore, Nanganallur   th Main Road Chennai, Nani Bapod Vadodara, Nanja Reddy Colony Bangalore, Nanjangud Mysore, Nannur Kurnool, Nanta Kota, Nanta road  near karni mata Kota, Nantoor Mangalore, Napean Sea Road Maharashtra, Naramau Kanpur, Narasanna Nagar Kakinada, Narasayyaagraharam Bhimavaram, Narasimha Nagar Visakhapatnam, Narayan Baba Ashram Road Shirdi, Narayan Nagar Latur, Narayan Vihar  Sikandra Agra, Narayana puram Tirupati, Narayanappa Garden Bangalore, Narayanapuram Madurai, Narayanpur  Monikhola Kolkata, Narayantala East Kolkata, Narayantala Kolkata, Narela Shankari Bhopal, Narengi Tinali Guwahati, Narhe Lalitpur, Nari Maharashtra, Nari Nagpur, Narkel Bagan Kolkata, Narkeldanga Kolkata, Narmda Vihar Bhilwara, Narsala Lalitpur, Narsingh Vihar Colony Durg, Narsinghpura Jaipur, Nasik Pune Road Lalitpur, Naskar Bagan Kolkata, Nataraja Layout Bangalore, Natesan Nagar Pondicherry, Nathdwara Rajsamand, Nathdwara Udaipur, National Highway Agartala To Sabroom Road Agartala, National Highway Road Silchar, Natun Para Jalpaiguri, Naubasta Kanpur, Nav Nevesh Colony Ganga Nagar Garha Jabalpur, Nava india Coimbatore, Navali Road Palghar, Navavoor Pirivu Coimbatore, Naveen Park Hubli, Navelim Goa, Navelim Margao Margao, Navi Peth Pune, Navi Peth Solapur, Navodaya Kangarapady Road  Kakkanad Ernakulam, Navratan Complex  Bhuwana Udaipur, Navratan complex Udaipur, Navsaari Amravati, Nawab Calony Karond Mandi Bhopal, Nawabganj Hazaribagh, Naya Bazaar Gwalior, Naya Nagar Lalitpur, Nayak Layout Bangalore, Nayapura Kota, Nazarbaugh road  pashuram society Morbi, Near Airport Porbandar, Near Akshay Patra Mandir Jagatpura Jaipur, Near All India Radio Ratu Road Ranchi, Near BBND Colony Baddi, Near Baba Mohan Ram Temple Bhiwadi, Near Bairagipatteda  Andhra Bank Clny Avilal  Tirupati, Near Banashankari Temple Bangalore, Near Bangli Square Indore, Near Bannana Leaf Hotel Seven Banglow Maharashtra, Near Bannana Leaf Hotel Seven Banglow Mumbai, Near Barista Cofee Shop  Inner Ring Road Guntur, Near Batamangala Temple Puri, Near Behala Kolkata, Near Bhaktashram School Navsari, Near Big Bazaar Anand, Near Bombay Hospital  Chikitsak nagar Indore, Near Collectorate Kottayam, Near College More Hazaribagh, Near DMart Karjat, Near DPS SCHOOL Pal link road jodhpur Jodhpur, Near DPS Sanfran Branch Gwalior Kanpur By Pass Road Jhansi, Near Dasankoppa Circle Dharwad, Near Depaul School Berhampur, Near Dmart Kakinada, Near Embassy Golf Links Bangalore, Near Garda Cicle Lalitpur, Near Gardha Circle Lalitpur, Near Gorakhpur Police station Jabalpur, Near Gyan Ganga School Narayni Nagar Harda, Near Hamidia Hospital Bhopal, Near Hanuman nagar Kaman Ahmednagar, Near Highcourt Allahabad, Near Hill View Appartment Dehradun, Near Honda Showroom Karwar, Near Hopefarm Junction Whitefield Bangalore, Near Hotel East Park Agrasen Chovk Bilaspur, Near IIHMR  Behind ABKARI THANA Jaipur, Near IRMA  Ganesh Chokdi Anand, Near International Airport Bangalore, Near Iskon City Nellore Nellore, Near J K College Purulia Purulia, Near JIPMER HOSPITAL Pondicherry, Near Jainmandir Malegaon Road Nanded, Near Janana Hospital Ajmer, Near Jawahar Navodaya Vidyalaya Palghar, Near Jivraj Patk Bangalore, Near Kdk College Of Engineering Nagpur, Near Kesar Chowk  Mansarovar Extension Jaipur, Near LIC office Jharsuguda, Near Lokanath Temple Puri Puri, Near Loknath Mandir  Teghoria Kolkata, Near MSEB Office Vijaynagar  Mundhe Karad, Near Magneto Mall Raipur, Near Mahindra world city Jaipur Ajmer NH  Jaipur, Near Major Gate Chandrapur, Near Mangala Chock Bilaspur, Near Market Gandhinagar, Near Mayuri Junction Vizianagaram, Near Medical College Sagar, Near Mohona Market Haldia, Near Mulay STD Chowk  Nirmal Nagar  Ahmednagar Ahmednagar, Near Nandalav Over Bridge Bharuch, Near New Bus Stand Dharwad, Near New Bus Stand Thanjavur, Near RIDDHI SIDDHI COMPLEX  GANDHI CHOWK Bhandara, Near RUPALI CINEMA Surat, Near Radhaswami Satsang Bhawan Raipur, Near Railway Station Palghar, Near Raja Theatre Visakhapatnam, Near Ram Talavdi  Mission Road Nadiad, Near Ramesh Vihar  Gyan Sarover Aligarh, Near Ravindra Bharathi Scl  Sujathanagar Visakhapatnam, Near SVC Bank Karad, Near Sadhana Sahkari Bank Pune, Near Samarpan Circle Jamnagar, Near Sampran Under Bridge Jamnagar, Near Sangam Takies Dharwad, Near Sant Nirankari SATSANG Bhawan Ludhiana, Near Sargasan Circle Gandhinagar, Near Smarpan Hospital Jamnagar, Near Soma Talav Waghodia Dabhoi Ring Road Vadodara, Near St  Columbus College More Hazaribagh, Near St  Edward s School Shimla, Near Statiom East Navsari, Near Sujatha Nagar Bus Stop Visakhapatnam, Near Sum Hospital Bhubaneswar, Near Suryamukhi Hanuman Temple Pavan Chaki Jamnagar, Near Swaminarayan Society Sardar Gunj Road  Anand Anand, Near Utsav Marriage Garden Jaipur, Near Uunchapul Haldwani, Near Vanagaram toll gate Chennai, Near Vapi Railway Station Vapi, Near Waters Kingdom  Hill Cart Road Siliguri, Near c b high school Valsad, Near kadri temple Mangalore Mangalore, Near mansarovar metro station pillar no  Jaipur, Near patanjali shop  faras chowk Nagpur, Near rampur petrol pump Jabalpur, Near ring road  goner Jaipur, Near samparan hospital Jamnagar, Near shri shri ravishankar ashram Ahmednagar, Neel City Club Campus Rajkot, Neelam Nagar Lalitpur, Neelamangala Bangalore, Neelambur Coimbatore, Neelankarai Chennai, Neelgiri Enclave Sec    Vrindavan Yojna Lucknow, Neemrana Alwar, Neer Nagar Indore, Nehar Par Kheri Road Faridabad, Nehru Auto Nagar Kurnool, Nehru Nagar  Behind Sargam Shopping Centre Surat, Nehru Nagar Bhopal, Nehru Nagar Furde Residency Bheind ITI Solapur, Nehru Nagar Ghaziabad, Nehru Nagar II Ghaziabad, Nehru Nagar Jaipur, Nehru Nagar Lalitpur, Nehru Nagar Nagpur, Nehru Nagar Patna, Nehru Nagar Solapur, Nehru Nagar West Coimbatore, Nehru nagar Durg, Nehru road Bangalore, Nehrupark Society Junagadh, Nelco Society  TRIMURTHY NAGAR Nagpur, Nelco Society Trimurti Nagar Nagpur, Nellikunnu Thrissur, Nemi Nagar Jaipur, Nemilicheri Chennai, Nemmara Palakkad, Nenmeli Kanchipuram, Neota Jaipur, Nere Maharashtra, Nere Pune, Nere Village  Panvel Raigad, Neredmet Secunderabad, Nerhe Dattawadi Marunji Road Pune, Netaji Nagar  Thurumullaivoyal Chennai, Nethaji Statue Nagaram Secunderabad, Neura O Grande Goa, Nevare Near Ganpatipule Ratnagiri, New Alkapuri Patna, New Amar Nagar  Manewada  Nagpur Nagpur, New Aram Colony Jamnagar, New Baiyyappanahalli Bangalore, New Bank Colony Bangalore, New Bank Colony Dhanbad, New Baradwari Jamshedpur, New Barshi road Latur, New Bhoiguda Bolakpur Secunderabad Secunderabad, New Chandigarh Mohali, New Chouksey Nagar  Nabi Bagh Karond Bhopal, New Collectorate Gwalior, New Colony Nagpur, New Colony Palwal, New Colony Sadar Bairamji Town Nagpur, New D Block Lean No   Makan No     A Dehradun, New Damu Nagar Coimbatore, New Ganesh Colony Amravati, New Gariya Kolkata, New Heights Apartment Jharsuguda, New Industrial Township   Faridabad, New Itwari Road  Behind Saibaba Bakery  Nagpur, New Jagnath Rajkot, New Kamal Vihar Jalandhar, New Karmik Nagar Dhanbad, New Keshav Nagar Udaipur, New Khol Road Ratnagiri, New Kuberan Nagar Chennai, New Manish Nagar Maharashtra, New Market Bhopal, New Narsala Nagpur, New Navratna Udaipur, New Paccha Peth Solapur, New Palace Kolhapur, New Panvel Adai Mumbai, New Panvel Adai Vilage Lalitpur, New Panvel Adai Vilage Mumbai, New Panvel East Mumbai, New Panvel Raigad, New Perungalathur Kanchipuram, New Radhakisan Plots Akola, New Raipur Kolkata, New Raipur Raipur, New Rajaram Wadi Maharashtra, New Rajaram Wadi Mumbai, New Satpati Road Palghar, New Satpatti Road Palghar, New Sector    Nerul Mumbai, New Shastri Nagar  near Nagpur Road Jabalpur, New Shastri Nagar Bhandara, New Sneh Nagar Lalitpur, New Sneh Nagar Nagpur, New Subzi Mandi Panipat, New Timber Yard Layout Bangalore, New TownN Kolkata, New Usmanpura Aurangabad, New Vaddem Goa, New Vasavi Nagar Secunderabad, New Washermenpet Chennai, New town Kolkata, Newasa Ahmednagar, Newtown Kolkata Kolkata, Next To Ostwal Nagari Palghar, Neyveli Cuddalore, Nighoj  shirdi shiv road Shirdi, Nighoj Lalitpur, Nighoj Shirdi, Nikam Wasti Charholi BK Pune, Niladri Vihar Bhubaneswar, Nilje Gaon Maharashtra, Nimbaj Nagar Pune, Nimbalkar Nagar Pune, Nimeda Jaipur, Nimgaon Korhale Lalitpur, Nimgaon Korhale Maharashtra, Nimkhedi Jalgaon, Nimpur Cuttack, Nimta Kolkata, Nirala Nagar Lucknow, Nirala Nagar Patna, Niranjan Pally Kolkata, Nirmal Block B Rishikesh, Nirmal Nagar Aurangabad, Nirmal Nagar Maharashtra, Nirmal Nagari Nagpur, Nirmalnagar Himaatnagar Ahmednagar, Nirmalsinh Vadi Bhuj, Nirvana Country Gurgaon, Nisarga Layout Bangalore, Nitin Company Mumbai, Nityanand Nagar Jaipur, Niwaru Jaipur, Niwaru Link Road Jaipur, Niyamatpura Bhopal, No        the cross    th block  rajajinagar  blor Bangalore, No     A Kuppammal Street Kamaraj Nagar Avadi Che Chennai, Noapara Kolkata, Noida Greater Noida Expressway Noida, Noida Sector     Knightsbridge Noida, Noonmati Guwahati, Noor Nagar Ghaziabad, North City Bareilly, North Jagannatha Nagar Chennai, North Shastri Nagar Patna, North Sri Krishna Puri Patna, Northern Park  Bansdroni Kolkata, Nr  Digjam circle Jamnagar, Nr  Morarji Circle Vapi, Nr  Rajlaxmi Duplexes Bh Sterling Hospital Nanavati chowk  Rajkot, Nr Ayodhya nagari Beside Millenium Residency Surat, Nr Swaminaran Society  Sardar Gunj Road  Anand Anand, Nr cambridge schhol nr shendra area Jalna rd Aurangabad, Nr parivar Char Rasta Vadodara, Nr surabhi Hospital Station Road Navsari, Nrupathunganagar Bangalore, Nuvem Margao, Nyanappana Halli Bangalore, Nyay Nagar Indore, OLD TALUK OFFICE Udupi, OMR Sholinganallur Chennai, OPP  Amber Cinema Jamnagar, OPPOSITE ROAD OF LIONS CLUB FUNCTION HALL Eluru, ORAGADAM Kanchipuram, Odalbakra Guwahati, Odxel  Donapaula Goa, Ofdc Colony Bhubaneswar, Off Exhibition Road Patna, Off Great Nag Road Nagpur, Off Kanakapura road  Near Khodays Glass Factory  Bangalore, Off Kannakura Main Road Bangalore, Off Sarusection Road Jamnagar, Okalipura Bangalore, Okalipuram Bangalore, Old Airport Road Bangalore, Old Goa Panaji, Old Guntur Guntur, Old Housing Board  Margao Goa, Old Karasa Visakhapatnam, Old More Colony Kolhapur, Old Palasiya Indore, Old Sangvi Pune, Old Subhedar Layout Nagpur, Old Town Bhubaneswar, Old tehsil Meerut, Olpad Surat, Om Shivam Apartment Rajkot, Omaxe Ludhiana, Omaxe World Street Faridabad, Omaxe green Ambala, Omex City Jaipur, Opp  Nagar parishad Karjat, Opp  Power House Udaipur, Opp  Ramdevpir Tempal Nadiad, Opp Madhav Dispensary  Near Dal Bazar Tiraha  Lashkar  Gwalior Gwalior, Opp Sangam Hotel Karad, Opp Sobha cloveley Bangalore, Opp to ford company Maraimalainagar Chennai, Opposite Collector Bungalow Salem, Opposite Grand Hotel Behind Umabhvan Anand, Opposite Of Near By Tripura University Agartala, Opposite Of Shristinagar Asansol Asansol, Opposite S P Kothi Bhagalpur, Opposite aurbindo hospitals Indore, Oragadam Kanchipuram, Orakal Bhubaneswar, Osargaon Sindhudurg, Osmania University Teachers Colony Secunderabad, Oswal Palghar, Oulgaret Pondicherry, Outer Ring Road East Bangalore, Outer Ring Road Lalitpur, Oval Maidan Mumbai, Owale Mumbai, Ozar Lalitpur, P Krishnappa Layout Bangalore, P Majumder Road Kolkata, P R Nagar Nellore, P and T Colony Lalitpur, PAMMAL Chennai, PANJRAPOL Kadi, PARIWAR CHOWKDI Vadodara, PARUTHIPATTU Chennai, PATTAMBI Ottapalam, PERIYAR NAGAR Chennai, PERKIT Nizamabad, PHULARI MALLAH  BHINGAR Ahmednagar, PM Palem Visakhapatnam, PVS Circle Mangalore, Pachalam Kochi, Pachgaon Kolhapur, Padama Nagar Secunderabad, Padamughal Kochi, Padapai Kanchipuram, Padapparamba Malappuram, Padegaon Maharashtra Aurangabad, Padghawali Raigad, Padi Chennai, Padma Rao nagar Secunderabad, Padmavathi Nagar Tirupati, Padmavathi Puram Tirupati, Padmavathy Nagar Chennai, Padmavati Colony Jaipur, Padmavati Nagar Chennai, Padmavati Nagar Lane   Vizianagaram, Padmavati Nagar Nagpur, Padra Vadodara, Padubidri Mangalore, Padubidri Udupi, Padukad Thrissur, Padukkad Thrissur, Paharpur Kajichak Near   No Gate Gaya, Pai Layout near KR Puram Bangalore, Paika Nagar Bhubaneswar, Paikpara Kolkata, Pailan Kolkata, Paithan Gate Aurangabad, Pajifond Goa, Pajifond Margao, Pal Link Road Jodhpur, Pal Sangria Bye Pass Jodhpur, Pal sangariya road near dps circle Jodhpur, Pala Kottayam, Palace Guttahalli Bangalore, Palace Guttanhalli Bangalore, Palachuvadu Kochi, Palakollu Bhimavaram, Palampur Kangra, Palanahalli Bangalore, Palappuram Ottapalam, Palarivattom Ernakulam, Palaspa Mumbai, Palaspe Phata Maharashtra, Palghar  E  Palghar, Palghar mahima road Palghar, Pali  Taluka Sudhagad  District Raigad Raigad, Pali Raigad, Pali Village Lalitpur, Pallakad ROAD Pollachi, Pallavan Nagar Chennai, Pallavaram Thuraipakkam Road Chennai, Pallikkaranai Chennai, Pallithottam Kollam, Palloti Nagar Nagpur, Palm Beach Lalitpur, Palm Beach Mumbai, Palsana Kadodara Highway Surat, Pammal Voc Nagar Chennai, Pampa Extension Bangalore, Panangad Kochi, Panchak Lalitpur, Panchanath Plot Rajkot, Panchavati Ahmednagar, Panchavati Lalitpur, Panchbatti Bharuch, Pancheshwar Tower Jamnagar, Panchkutir Ganesh Nagar Lalitpur, Panchkutir Ganesh Nagar Maharashtra, Panchkutir Ganesh Nagar Mumbai, Panchli Khurd Meerut, Panchnath Plot  Limda Chowk Rajkot, Panchvati Vadodara, Panchwati Apartment Near Railway Station Haridwar, Panchwati Colony Bhopal, Panchwati Colony Palwal, Panchyawala Jaipur, Pandariba  Chowk  Allahabad, Pandavapura Mysore, Pandeypur Varanasi, Panditiya Road Kolkata, Pandurang Colony Pune, Pandurang Industrial Area Pune, Pandurang Wadi Goregaon East Lalitpur, Panduranga Nagar Bangalore, Pandurangapuram Visakhapatnam, Pani Tankey Muzaffarpur, Panjabari Road Guwahati, Panjari Farm Lalitpur, Panjim Goa, Panjra Pole Kadi, Pannase Layout Nagpur, Panoli Bharuch, Pant Nagar Lalitpur, Pant Nagar Maharashtra, Pant Nagar Mumbai, Pantnagar  Rudrapur Rudrapur, Panvel   Kamothe Raigad, Panvel Sai Nagar Raigarh, Papareddipalya Bangalore, Para Lucknow, Paradise Circle Secunderabad, Paragpur Jalandhar, Paraniputhur Chennai, Parao Varanasi, Pardi Highway Valsad, Pardi Sandhpor Valsad, Pardih Jamshedpur, Parel   Tata Hospital Maharashtra, Pari Mahal Kasumpati Shimla, Parijat Height Nehru Nagar Bilaspur Bilaspur, Paris Nagar Vadodara, Parivar Char Rasta Vadodara, Park Avenue  Velachery Chennai, Park View Layout Bangalore, Parkhe Vasti Pune, Parmanand Nagar Jaipur, Parmanand Wadi Lalitpur, Parmanand Wadi Maharashtra, Parsa Patna, Parsana Nagar Rajkot, Parsee Colony Lalitpur, Parshuram Nagar Vadodara, Parsigutta Secunderabad, Parsik Nagar Maharashtra, Parsik Nagar Mumbai, Parsodi Lalitpur, Parsudih Jamshedpur, Partapur Meerut, Partawane Ratnagiri, Parvati Paytha Pune, Paschim Puri Agra, Pashan Lalitpur, Pashan Sus Road Pune, Pasthal Palghar, Patamatalanka Vijayawada, Patawa Gali Mandsaur, Patel Marg Mansarovar Jaipur, Patel Nagar   Ghaziabad, Patel Nagar Ghaziabad, Patel Nagar Gwalior, Patel Nagar Lalitpur, Patel Nagar Ranchi, Patel nagar a sector Bhopal, Pathadipalam Ernakulam, Pathardi Lalitpur, Pathardi Maharashtra, Pathardi Phata Lalitpur, Patholi Agra, Patidar Chowk Rajkot, Patil Nagar Pune, Patliputra Colony Patna, Patrakar Colony  Mansarovar Jaipur, Patrakar Nagar Patna, Patrakarpuram Kanpur, Patrunivalasa Srikakulam, Pattabhipuram Guntur, Pattabhirama Nagar Bangalore, Pattanagere Bangalore, Pattaravakkam Chennai, Patwardhan Chowk Ahmednagar, Pavana dam Lalitpur, Pawai Hiranandani Lalitpur, Pawai Hiranandani Maharashtra, Pawar Nagar Lalitpur, Pazhavanthangal Chennai, Peda palakaluru road Guntur, Peermuchalla Panchkula, Peermuchlla  Zirakpur Mohali, Pejewadi Ratnagiri, Pelluru Ongole, Pen Lalitpur, Pendhurti Visakhapatnam, Pendurthi Visakhapatnam, Penukonda Anantapur, Peringavu Thrissur, Periyamet Chennai, Periyanaickenpalayam Coimbatore, Permude Mangalore, Perumal Kovil North Mada Street Chennai, Perumalagaram Chennai, Perumbakkam Global Hospital Chennai, Perumbavur Ernakulam, Perur Main Road Coimbatore, Pestom Sagar Colony Maharashtra, Pestom Sagar Colony Mumbai, Petlad Anand, Petlad Nadiad, Petlad Road Nadiad, Phase    Engineer enclave Dehradun, Phase    Mohali Mohali, Phase   Petali Lalitpur, Phase   Petali Maharashtra, Phase   Petali Mumbai, Phase II Noida, Phool Bagh Kanpur, Phool Bagh Lucknow, Phoolbagh Gwalior, Phule Wadi  Ring Road Kolhapur, Phulewadi Kolhapur, Phulewadi Lalitpur, Phulewadi Maharashtra, Phulnakra Cuttack, Phulsunga road Rudrapur, Phulwari Sharif Patna, Pij Chowkdi Nadiad, Pij Road Nadiad, Pilerne Goa, Pimple Gurav Lalitpur, Pimprala Jalgaon, Pimpri Chinchwad Lalitpur, Pimpri Chinchwad Maharashtra, Pinguli Lalitpur, Pipe C Palghar, Pipe Line Road Vijay Nagar Belgaum, Pipeline Road Ahmednagar, Pipeline Road Savedi Ahmednagar, Pipeline Road Tuch Ahmednagar, Piplag Nadiad, Piplani Bhopal, Pipri Lalitpur, Piprola Gwalior, Pirayiri Palakkad, Pirda Raipur, Pirojshanagar Lalitpur, Piska More Ranchi, Pisoli Lalitpur, Pitthuwala Dehradun, Plot no   Jaidurga Co op Housing society Narendra Nagar Nagpur, Pm Palem Last Bus Stop Visakhapatnam, Pochamma Maidan Warangal, Podar International School Nagpur, Police Colony Lalitpur, Police Head Quarters Ratnagiri, Police Line Bardhaman, Police Line Jamnagar, Ponmeni Madurai, Ponnaiah Raja Puram Coimbatore, Ponnandigoundar nagar Salem, Ponnani Malappuram, Ponniamman Koil St Hasthinapuram  Chromepet Chennai  Tamil Nadu Chennai, Ponniamman Medu Chennai, Ponniammanmedu Chennai, Ponnur Guntur, Poochatty Thrissur, Poompuhar Nagar Chennai, Poona Kumbharia Road Surat, Poonam Gardens Maharashtra, Poonam Nagar Lalitpur, Poonam Nagar Mumbai, Poonamale Highway Chennai, Poonamalle Chennai, Poonithura Ernakulam, Poornapragna Housing Society Layout Bangalore, Poothole Thrissur, Popular Colony Bangalore, Porbandar  Porbandar, Port Area Visakhapatnam, Porvorim Goa Goa, Postal Colony Bangalore, Postal Colony Pune, Postal Park Kolkata, Potheri Kanchipuram, Pothinamallayya palem last bus stup Visakhapatnam, Potiya Durg, Pottakuzhy Ernakulam, Powerpet Eluru, Poyanje Raigad, Prabhat Nagar Lalitpur, Prabhat Nagar Meerut, Prabhu nagar curti ponda Goa, Pradeep nagar  shivaji nagar Vizianagaram, Pragathi Layout Bangalore, Pragjyotish Nagar Guwahati, Prakasam Bhavan Ongole, Prakash Nagar Jamshedpur, Prakash Nagar Latur, Prakash Nagar Nagpur, Prakash nagar Kadapa, Prakashreddypet Warangal, Prakruthi Layout Bangalore, Prakruthi Nagar Bangalore, Pramukh Nagar Junagadh, Pramukh Swami Nagar Vadodara, Pranjali Patil Nagar Pune, Prasad Colony Jatharpeth Akola, Prasadampadu  Bmps Road Vijayawada, Prasanth Extension Bangalore, Pratap Nagar Aurangabad, Pratap Nagar Maharashtra, Pratap Pura Gandhinagar, Pratap nagar   teachers colony Kakinada, Pratapnagar Solapur, Pratibeshi Para Kolkata, Pratibha Nagar Kolhapur, Pratibha Nagar Pune, Pratiksha Nagar Lalitpur, Pratiraksha Nagar Kolkata, Prem Nagar Jaipur, Prem Nagar Jalgaon, Prem Sagar Enclave Secunderabad, Prem chand Jamnagar, Prem nagar kanpur Kanpur, Preranapark  Jp   Road Nr  Chandranagar Surendranagar, Prestige Boulevard  Whitefield Bangalore, Prince Town  Jalalhali Bangalore, Prithvi Pakkam Chennai, Prithviraj Nagar Maharashtra, Priya nagar Chennai, Priyadarshini Colony Hubli, Priyanka Nagar Bhopal, Proddatur Kadapa, Professors Colony Chennai, Provident Housing Marasandra Dodbalapur Road Bangalore, Pudhupakam Chennai, Pudur Chennai, Pugal Phanta Bikaner, Puikhadi Kolhapur, Puliakulam Coimbatore, Pullazhi Thrissur, Pullepady Ernakulam, Punappa Layout Bangalore, Pundag Ranchi, Pundlik Nagar Aurangabad, Pundri Kaithal, Pune  Ravet        Pune, Pune Ahmednagar Highway Pune, Pune Cantonment Pune, Pune City Area Loneei Kalbhor Urulikanchan Pune, Pune Mumbai Highway Lalitpur, Pune Pune, Punjabi Para Siliguri, Purasawakkam High Road Chennai, Purasawalkkam Chennai, Purba Para Kolkata, Purba Sinthi Kolkata, Purbachal Kalitala Kolkata, Purbachal Road Kolkata, Purdilpur Gorakhpur, Puri Puri, Purna Das Road Kolkata, Purna Market Visakhapatnam, Pushkardhaam Jamnagar, Pushpak Nagar Bhilai, Puthagaram Chennai, Puthenkurish Ernakulam, Putheri Kanchipuram, Puthiyatheru Kannur, Puthu Thottam Coimbatore, Puthukottai road Senjai Karaikudi, Puthurkkara Thrissur, Puthuvype Kochi, Puttaparthy Anantapur, Puttur Chittoor, Qaiserbagh Lucknow, Quepem Goa, Quince Road  Vaishali Nagar  Jaipur Jaipur, R  M  Colony  Housing Board Dindigul, R B Connector Kolkata, R K Mission Road Silchar, R K Nagar Rajkot, R K puram Udaipur, R N shetty Road Rajendra Nagar Hubli Hubli, R P S School Patna, R R GARDENS Vijayawada, R k Puram Khagaul Road Patna Patna, R k mission Road Silchar, RA Puram Chennai, RAILWAY ROAD Aligarh, RAN PUBLIC SCHOOL BHURARANI Rudrapur, RANJIT AVENUE BLOCK B Amritsar, RAS TOWN  Indore, RBI Layout Bangalore, RBI Swastik Society Sector     Sahibzada Ajit Singh Nagar  Punjab Mohali, RCF Colony Chembur Lalitpur, RG Nagar Chennai, RK Bhattacharya Road Patna, RK Colony Bangalore, RK puram Udaipur, RP Road Secunderabad, RR Nagar Secunderabad, RS Palya Opp To Coperation Bank K Halli MN Rd Bangalore, RTO office Haldwani, Raaki Theater Backside  Ram Nagar  Chennai, Rabale Lalitpur, Rabale Maharashtra, Rabindra Nagar Kolkata, Rabindra Sadan Kolkata, Rabindrapalli Kolkata, Radha Nagar Bulandshahr, Radha Nagar Lalitpur, Radha Nagar Mumbai, Radhe Shyam Colony Ludhiana, Ragamalikapuram Thrissur, Raghavendra Layout Bangalore, Raghavendra Nagar Pune, Raghunath Vihar Jaipur, Ragyan Shimla, Rahara Kolkata, Rahat Bagh  Nagavarapalya Bangalore, Rahata Ahmednagar, Rahata Lalitpur, Rahata Maharashtra, Rahataghar Ratnagiri, Rahatani Lalitpur, Rahate Colony Nagpur, Rahatgaon Amravati, Rahatgaon Lalitpur, Rahatgaon road Amravati, Raheja Estate Lalitpur, Rahuri Ahmednagar, Raia Goa, Raia Margao, Raibandar Panaji, Raigard Neral Karjat Karjat, Raigarh Raigarh, Rail Nagar Rajkot, Railbareily Road Lucknow Lucknow, Railbareily Road Mohanlal Ganj Lucknow, Railnagar Rajkot, Railnager Rajkot, Railway Colony Jaipur, Railway Colony Mumbai, Railway Colony Secunderabad, Railway Layout Bangalore, Railway New Colony Visakhapatnam, Railway Phatak Vapi, Railway Road Aligarh, Railway Station Aurangabad, Railway Station Road Karimnagar, Railway Station Road Porbandar, Rainbow Drive Bangalore, Rainbow Nagar Pondicherry, Raipur Kolkata, Raipur Naka Durg, Raisen Road Bhopal, Raiya Rajkot, Raj City Kadi, Raj Garden Near Apsara Cafe Rohtak, Raj Nagar Nagpur, Raja Bazar Kolkata, Raja Bazar Patna, Raja Ki Mandi Agra, Rajabasanta Roy Road Kolkata, Rajaji Nagar Chennai, Rajaji Nagar Madipakkam Chennai, Rajajinagar  th block Bangalore, Rajakilpakkam  East Tambaram  Madambakkam road Chennai, Rajalakshmi Nagar Chennai, Rajamangalam Chennai, Rajan Pada Lalitpur, Rajan Pada Maharashtra, Rajan Pada Mumbai, Rajankunte Bangalore, Rajapandian Avenue Sembakkam Chennai, Rajapeth Amravati, Rajapeth Lalitpur, Rajapur Allahabad, Rajapur Lalitpur, Rajapur Maharashtra, Rajapur Ratnagiri, Rajarajeshwarinagar Bangalore, Rajarampuri Kolhapur, Rajarhat  Kajialpara Kolkata, Rajarhat Chowmatha Kolkata, Rajarhat More Kolkata, Rajarhat Narayanpur Bazar Kolkata, Rajas Garden  Noombal Icon  Iyyapanthangal Chennai, Rajat Nagar Rajat Complex Bhopal, Rajatgiri Dharwad, Rajawadi Colony Lalitpur, Rajawadi Colony Maharashtra, Rajawadi Colony Mumbai, Rajbagh Srinagar, Rajbari Para Jalpaiguri, Rajeev Gandhi Nagar Kota, Rajendra Chowk  Ravivar Peth  Solapur Solapur, Rajendra Colony Faridabad, Rajendra Guru Nagar Near Ambe Mata Hall Karjat, Rajendra Nagar Mumbai, Rajendra Nagar Nagpur, Rajendra Nagar Pune, Rajendra Park Gurgaon, Rajendra nagar Lucknow, Rajendranagar Kolhapur, Rajendranagar Near khedapati hanuman a b road Indore, Rajeshwari Nagar Kakinada, Rajguru Nagar Extn  Bhatia colony    k Road Ludhiana, Rajin Nagar Vanagaram Chennai, Rajiv Gandhi Nagar Chennai, Rajiv Gandhi Nagar Coimbatore, Rajiv Nagar Hubli, Rajiv Nagar Nagpur, Rajiwada Ratnagiri, Rajokat Highway Jamnagar, Rajpark   Near Victoria Bridge Jamnagar, Rajpur Chowhati Kolkata, Rajpur Chungi Agra, Rajrai Agra, Rajsamand Rajastan Rajsamand, Rajula Amreli, Rajwada Indore, Rakshak Nagar Pune, Ralamandal Indore, Ram Colony Chennai, Ram Ganga Vihar Moradabad, Ram Maruti Road Lalitpur, Ram Maruti Road Mumbai, Ram Nagar Alwar, Ram Nagar Anantapur, Ram Nagar Chennai, Ram Nagar Extension Jaipur, Ram Nagar Lalitpur, Ram Nagar South Extension Chennai, Ram Nagari Patna, Ram Prastha Colony Ghaziabad, Ram Puri  Surya Nagar Ghaziabad, Ram Rahim colony Indore, Ram guest house Porbandar, Ram nagar  chirri  vapi Vapi, Rama Krishna Vihar Ghaziabad, Rama Mandi Jalandhar, Rama Rao Peta Kakinada, Ramaiya ward Jagdalpur, Ramakrishna Nagar Extension Chennai, Ramakrishnapuram Secunderabad, Ramakrishnapuram Vijayawada, Ramalingeswara Nagar Vijayawada, Ramalingeswara Pet Tenali, Raman Mala Maharashtra, Ramanaidupet Machilipatnam, Ramanand Nagar Kolhapur, Ramanayapeta Kakinada, Ramanjaneyanagar Bangalore, Ramappa Nagar Chennai, Ramapura Luxa Varanasi, Ramashree Califoria Gardens Yelahanka Bangalore, Ramaswamipalya  Bangalore, Ramaua Gwalior, Ramavarapadu Ring Vijayawada, Rambag Indore, Rambaug Maharashtra, Rambaug Mumbai, Rambhag Colony  Medical Square Road Nagpur, Ramchandpura Jaipur, Ramdaspeth Akola, Rameshwari Nagpur, Rameswar nagar Jamnagar, Ramganjmandi Kota, Ramgopal Nagar Lalitpur, Ramgopal Nagar Maharashtra, Ramjan Wadi Vapi, Ramjas Nagar Dharuhera Dharuhera, Ramji Nagar Nellore, Ramji Tekra Valsad, Ramkrishna nagar pratap nagar Nagpur, Rammana Layout Bangalore, Ramna Maroti Nagar Nagpur, Ramna maroti Road  ring road Nagpur, Ramna maroti road  Ratan nagar  Nagpurring road Nagpur, Ramnagar Chandrapur, Ramnagar Madipakkam Chennai, Ramnagar Vapi, Ramnagar Visakhapatnam, Rampally Secunderabad, Rampur Korba, Rampur Rampur, Rampur Road Haldwani, Rampur garden  Civil Lines Bareilly, Rampura Bhiwadi, Rampura Jaipur, Ramrajatala Kolkata, Ramrajtala Kolkata, Ramsinghpura Jaipur, Ramwadi Raigad, Rana Pratap Nagar Lalitpur, Ranapratap Get Yavatmal, Ranchhod Nagar Rajkot, Ranchodnagar Rajkot, Randheja Gandhinagar, Rane Nagar Lalitpur, Rangarajapuram Chennai, Rangashaipet Warangal, Rangavdhutpura Vadodara, Rangbari Kota, Rangniwas Udaipur, Rangpoo  Kumrek Gangtok, Rangwasa Indore, Rani Bazar Poker Bottle Behind Shakuntala Bhavan Bikaner, Rani Durgawati Nagar Nagpur, Rani Sate  Y N  Road Indore, Rani Sati Colony Junagadh, Ranibagan Ranchi, Ranihat Colony Cuttack, Ranikuthi Kolkata, Ranipet Vellore, Ranipur Haridwar, Ranjangaon Pune, Ranjangaon Shenpunji Aurangabad, Ranjanpada Lalitpur, Ranjanpada Mumbai, Ranjeet Nagar Kanpur, Ranjhi Jabalpur, Ranjit Nagar Jamnagar, Ranjit Road Jamnagar, Ranjitsagar road Jamnagar, Ranjnoli Maharashtra, Rankala Padpath Kolhapur, Ranoli Vadodara, Ranwar Lalitpur, Ranwar Mumbai, Ras Residency Karnal, Rash Behari Kolkata, Ratahara Rewa, Ratalya Jaipur, Ratanada Jodhpur, Rathinam Nagar Theni, Rathkhala  Rabindranagar Main Road Siliguri, Raval Pada Lalitpur, Ravalnath Nagar Goa, Ravapar Ghunda Road Morbi, Ravapar Road Morbi, Ravi Nagar Nagpur, Ravi Talkies  Kedar Gouri Temple Bhubaneswar, Ravinagar Nagpur, Ravindra Nagar Rewa, Ravindra Nagar Secunderabad, Raviwar Peth Belgaum, Raviwar Peth Pune, Rayakottai Road  Hosur Hosur, Rayalam Bhimavaram, Raykar nagar Dhayari Pune, Red Fields Coimbatore, Rees Wadi Raigad, Regimental Bazaar Secunderabad, Rehabari Guwahati, Reliaable Tranquil Layout Bangalore, Reliable Tranquil Layout  Bengaluru  Karnataka        Bangalore, Remco Bhel Layout Bangalore, Remed Sambalpur, Remuna Balasore, Renigunta Tirupati, Resapuvanipalem Near CMR Visakhapatnam, Reshimbag Nagpur, Reshmai Plaza Jalgaon, Reshmai plaza Jalgaon, Residency Navsari, Residency Vapi, Residential Pune, Ressidential Tenament Bhavnagar, Revathi Nagar Chennai, Revati Nagar Nagpur, Riddhi Niwas Residency Kadi, Riddi Vihar Colony Ujjain Ujjain, Rilaybale Heritage B     Kohefiza Bhopal Bhopal, Ring Road  MSN Colony Vizianagaram, Ring Road Jalgaon, Ring Road Pathanamthitta, Ring road Vijayawada, Rio Grand Inn Nainital, Risikesh Rood Dandi Sani Mandir Dehradun, Ritchie Road Kolkata, Rm Destiny Anchor Caret   Valsad, Road No   Kota, Roha Ashtami Lalitpur, Rohit Nagar Bhopal, Rolex Road Rajkot, Roorkee Haridwar Highway Haridwar, Roorkee Road  Modipuram Meerut, Rosario Church Road Pandeshwar Mangalore, Roshan Nagar Lalitpur, Row House No    Latur, Rowdon Street Kolkata, Roy Nagar Kolkata, Royal city kalwar road Jaipur, Royapettah  Balaji Nagar Chennai, Roydighi Kolkata, Rs palya kammanhalli MN rd Bangalore, Ruabandha Bhilai, Rubi Park Kolkata, Ruby Block Secunderabad, Ruby Park East Kolkata, Rudrampeta Anantapur, Rudrapur Bhubaneswar, Rukmani Nagar Amravati, Rukmini Nagar Amravati, Rukmini Nagar Guwahati, Rukmini Nagar Nagpur, Rukmini nagar Jalna, Rukmininagar Guwahati, Rumdamol Goa, Rupali Cenima Surat, Rupani Bhavnagar, Rupani Circle Bhavnagar, Rupani Circle Bhavnagar Bhavnagar, Rupani Circle near Jain derasar Bhavnagar, Rupnarayanpur Asansol, Rural Moradabad, Russian Complex Bhilai, Rustampura Surat, S   Sarovara Apartments   Pappus Cottage   Bangalore, S  B  Gorai Road  ASANSOL Asansol, S  M  I  T CLG ROAD Jalgaon, S  V  Nagar Palghar, S G R Temple Garden Bangalore, S K Deb Road Kolkata, S K Puri Patna, S P Road Secunderabad, S Sivan Koil Street Chennai, S T depo Navsari, S V Road Lalitpur, SAHU ROAD CHOTI KALYANI Muzaffarpur, SAYAD VASNA Vadodara, SB Gorai Rd  Asansol, SB Gorai Road Asansol, SBH Colony  Near Survey of India  Uppal Secunderabad, SBM Colony Bangalore, SEAFACE CARTER ROAD Lalitpur, SHANTHINAGAR Bangalore, SHASHTRI NAGAR Lalitpur, SITANAGAR CHOWK Surat, SMRITI NAGAR Indore, SP Sukhobristi Kolkata, SR Krishnappa Garden Bangalore, SRINAGAR COLONY Nizamabad, SRIPRUMPUDUR Chennai, SRM road Ernakulam, SS COLONY Madurai, ST Anns School PM Palem Visakhapatnam, ST Bed Bangalore, ST road Porbandar, SURYAMANI NAGAR Agartala, SVS Nagar Chennai, SWAGAT NAGAR NARSALA Nagpur, Sabari Nagar Extension Chennai, Sabour Road Zeromile Bhagalpur, Sachal Path  Six Mile Guwahati, Sachivalay Nagar  Vatika Road  Tonk Road  Jaipur Jaipur, Sadakat Ashram Patna, Sadapur  Vaksai Lalitpur, Sadar Bajar Indore, Sadar Bazar Meerut Meerut, Sadar Bazar Raipur, Sadar Nagpur, Sadashiv Nagar Belgaum, Sadasivam Nagar Chennai, Sadguru Nagar Rajkot, Sadhana Vihar Colony Secunderabad, Sadhu Vasvani Road Rajkot, Sadhu Vaswani Road Rajkot, Sadhu vasvani road Rajkot, Sadhuvasvani Road Rajkot, Saduli Kolkata, Saeedabad Kanpur, Sagar Nagar Jalgaon, Sagra Jabalpur, Saguna Patna, Saha Para Kolkata, Sahakar Nagar Nagpur, Sahaney Sujan Park Pune, Sahapur Kolkata, Sahar Road Lalitpur, Sahar Road Maharashtra, Sahara Estate Gorakhpur, Saharagarden City Adityapur Jamshedpur, Saharanpur Road Dehradun, Sahaspur Bhubaneswar, Saheed Path Sultanpur Road Lucknow, Sahid Nagar Kolkata, Sahnewal Khurd Ludhiana, Sahnewal Ludhiana, Sahu Nagar Nagpur, Sai Abhyuday Complex Mumbai, Sai Colony Pune, Sai Mandir Rajpura Road Dehradun, Sai Market Patiala, Sai Nagar Chennai, Sai Nagar Hubli, Sai Nagar Lalitpur, Sai Nagar Maharashtra, Sai Road Baddi, Sai Sharnam Shirdi, Sai Wadi Lalitpur, Sai Wadi Mumbai, Sai nagar  virugambakkam Chennai, Saibaba Nagar Pune, Saidapur Karad, Saidhapur Karad, Sailok Dehradun, Sainathpuram Secunderabad, Sainik Vihar Meerut, Sainikwadi Pune, Saipura Tehsil Sanganer Jaipur, Saiyedpura Surat, Sakchi Jamshedpur, Saket Meerut, Saketha Nagar Bangalore, Sakhar Peth Solapur, Sakinaka Maharashtra, Sakkardara Lalitpur, Sakore Nagar Pune, Saksham Heights Satna, Sakthan Thrissur, Sakti Garh Siliguri, Salabatpura Surat, Salasar Road Sikar, Salavi Stop Ratnagiri, Saligramam Arunachalam road Chennai, Salipet Road  Near Padmavathi Gardens  Penamaluru Vijayawada, Salisbury Park Pune, Salkia Kolkata, Salokhe Nagar Kolhapur, Salunke Vihar Pune, Salvador do Mundo Goa, Salvi Stop Ratnagiri, Salvi Stop Road Ratnagiri, Salvistop Ratnagiri, Samadhi Ward Chandrapur, Samanpura Patna, Samanta Para Kolkata, Samantarapur Bhubaneswar, Samarpally Kolkata, Samarpan Jamnagar, Sambakulam Madurai, Sambalpu Jharsuguda Hiway Sambalpur, Sambhaji Nagar Kolhapur, Sambhaji Nagar Lalitpur, Sambhaji Nagar Nagpur, Samethanahalli Bangalore, Sampangirama Nagar Bangalore, Sampatchak Patna, Samra Nagar Behind Rajmahal Lawn Amravati, Samrat Chowk  Near Chor Khidki Chandrapur, Samroli Navsari, Samta Nagar Thane Lalitpur, Samta Nagar Thane Maharashtra, Samta Vadodara, Samtharya Nagar Chennai, Sanala Morbi, Sane Guruji Nagar Lalitpur, Sane Guruji Nagar Maharashtra, Sangamner Ahmednagar, Sangariya Jodhpur, Sangharsh Nagar Mumbai, Sangivalasa Visakhapatnam, Sangola Solapur, Sangowal Ludhiana, Sangvi Valsad, Sanjauli Dhalli Bypass Shimla, Sanjay Colony  Moti Dungri  Near All India Radio Alwar, Sanjay Nagar Bareilly, Sanjay Place Agra, Sanjeevappa Layout Bangalore, Sankalpshiddhi Mangal Karyalay Kolhapur, Sankaran Street Chennai, Sankatmochan Shimla, Sankey Road Bangalore, Sankhedi Bhopal, Sankul Amreli, Sanmati Nagar Dharwad, Sanmitra Colony Aurangabad, Sanpada Mumbai, Sanquelim Goa, Sanskar Mandal Bhavnagar, Sant Ashram Nagar Bhopal, Sant Nagar Hansi Chowk Karnal, Sant Nagar Pune, Santa Cruz Goa, Santa Inez Goa, Santacruz  East  Maharashtra, Santhapeta Ongole, Santhi Nagar Gudivada, Santiniketan Birbhum, Santipur Pune, Santosh Nagar Pune, Santoshpur   Jadavpur Kolkata, Sanver Indore, Sanvordem Goa, Saphale Mumbai, Sapna Sangeeta Road Indore, Sapru Marg Lucknow, Saptagiri layout Nellore, Saptapur Dharwad, Sarada matha Bhubaneswar, Saradapally Durgapur, Saraf Layout Amravati, Sarafa Bazar Gwalior, Sarai Azamabad Mathura, Sarakki Nagar Bangalore, Sarangpura Jaipur, Saraswathi Nagar Extn  Dargamitta Nellore, Saraswathipuram Mysore, Saraswati Nagar Jaipur, Saravana Nagar Chennai, Saravana Nagar Coimbatore, Sarbamangala Mandir Bardhaman, Sardar Estate Vadodara, Sardar Nagar Rajkot, Sardar Patel Nagar Dhanbad, Sardar Vallabh Bhai Patel Nagar Mysore, Sarfarazganj Lucknow, Sarigam Valsad, Sarjapur Hosur, Sarjapur Main Road  Doddakannehalli Bangalore, Sarjapur Marathalli Outer Ring Road Bangalore, Sarjapura Main Road Bangalore, Sarkar Nagar Chandrapur, Sarojini Nagar Kanpur, Sarojninagr Kanpur Road Lucknow Lucknow, Saroli Surat, Sarpavaram Kakinada, Sarsol Aligarh, Saru Section Road  Nr Jamnagar Dairy  Jamnagar, Saru Section Road Jamnagar, Saru Section road Jamnagar, Saru section road Jamnagar, Sarumotoria Guwahati, Sarusection Road Jamnagar, Sarvabhauma Nagar Bangalore, Sarvamangala Nagar Chennai, Sarvashree Nagar Nagpur, Sarvasukhi Colony Secunderabad, Sarvobhogam Nagar Bangalore, Sarvoday Parshwanath Nagar Mumbai, Sarvodaya Nagar Raipur, Sarvsampann Nagar Indore, Sasta Nagar Kollam, Satapada Road Puri, Satara Aurangabad, Satchasi Para Kolkata, Sathanur Bangalore, Satindra Apartment  Behala  Sakher Bazar Kolkata, Satpati Palghar, Satrampadu Eluru, Satti Street Roorkee, Satwari Jammu, Satyabhamapur Bhubaneswar, Satyam Vihar Haridwar, Satyanarayana Puram Gudivada, Satyaranayana Puram Vijayawada, Satyasai Road Rajkot, Satywati Plaza  Bldg C  Flat No S   Housing Board  Margao, Savarkar Nagar Secunderabad, Savedi Navlenagar Ahmednagar, Savina Udaipur, Savli Vadodara, Savroli Raigad, Sawangi Aurangabad, Sawantwadi Lalitpur, Sawantwadi Maharashtra, Sawkuchi Guwahati, Sayajipura  New VIP road Vadodara, Sbi Colony Bangalore, Sbi Colony Nanganallur Chennai, Sbi colony chrompet Chennai, Scheme    PU  Indore, Scheme No    Indore Indore, School Danga Bankura, Sealdah Kolkata, Seawoods     Lalitpur, Seawoods West Mumbai, Sec    C Chandigarh Chandigarh, Sec    Noida, Sec   RAJENDER NAGAR Ghaziabad, Sec   Ulwe Lalitpur, Secretariat Colony Chennai, Sector     Hiran Magri  Goverdhan Villas Udaipur, Sector     Rajnagar Ghaziabad, Sector    A Chandigarh, Sector    Airoli Mumbai, Sector    Ambala Ambala, Sector    Bahadurgarh Jhajjar, Sector    Bhiwadi, Sector    Gandhinagar, Sector    Indira Nagar Lucknow, Sector    Indira Nagar Opp swaran Jyanti Park Lucknow, Sector    Juinagar Lalitpur, Sector    Juinagar Maharashtra, Sector    Kalamboli Maharashtra, Sector    Kalamboli Mumbai, Sector    Khandeshhwar Maharashtra, Sector    Kopar Khairane Maharashtra, Sector    Kopar Khairane Mumbai, Sector    Ludhiana, Sector    New Panvel East Lalitpur, Sector    New Panvel Maharashtra, Sector    New Panvel Mumbai, Sector    Panchkula, Sector    Panchkula Extension   Panchkula, Sector    Ravet Pune, Sector    Roadpali Maharashtra, Sector    Vashi Mumbai, Sector    seawoods  Lalitpur, Sector    seawoods  Navi Mumbai Lalitpur, Sector    seawoods  Navi Mumbai Mumbai, Sector    ulwe Raigad, Sector   A Airoli Maharashtra, Sector   A Faridabad Faridabad, Sector   A Kopar Khairane Lalitpur, Sector   A Kopar Khairane Mumbai, Sector   A Ludhiana Ludhiana, Sector   A Nerul Mumbai, Sector   A Rohtak, Sector   A Sanpada Lalitpur, Sector   A Sanpada Mumbai, Sector   A vashi  vashi Lalitpur, Sector   A vashi  vashi Mumbai, Sector   B Airoli Maharashtra, Sector   B Airoli Mumbai, Sector   B Avas Vikas Colony Agra, Sector   B Lalitpur, Sector   B Noida Noida, Sector   Belapur Lalitpur, Sector   Bhiwadi Bhiwadi, Sector   C Airoli Lalitpur, Sector   Central Spine Jaipur, Sector   Charkop Mumbai, Sector   Ganga Nagar Bilaspur, Sector   Indira Gandhi Nagar Jagatpura Jaipur Jaipur, Sector   KK Nagar Chennai, Sector   Kamothe Maharashtra, Sector   Karanjade Lalitpur, Sector   Kurukshetra, Sector   Nerul Maharashtra, Sector   New Panvel East Lalitpur, Sector   New Shimla Shimla, Sector   Palwal, Sector   Ranchi Ranchi, Sector   Rewari Rewari, Sector   Vashi Lalitpur, Sector   Vikas Nagar Lucknow, Sector   udaipur Udaipur, Sector  A Airoli Mumbai, Sector  A Farifabad Faridabad, Sector  A Kamothe Maharashtra, Sector  A Kopar Khairane Lalitpur, Sector  A Kopar Khairane Mumbai, Sector  A Koparkhairane Maharashtra, Sector  B Chandigarh Chandigarh, Sector  E Kalamboli Lalitpur, Sector A Aliganj Lucknow, Sector C Mahanagar Lucknow, Sector N Aliganj Lucknow, Sector No   Bhosari Pune, Sector No   Gandhidham, Secunderabad Railway Station Secunderabad, Seemadwar Dehradun, Seethampeta Visakhapatnam, Seetharampuram Vijayawada, Sehani Khurd Ghaziabad, Sekkalai Karaikudi, Selimpur Kolkata, Sellur Madurai, Selvaraj Nagar ration shop Chennai, Semozhi nagar Hosur, Semra Lucknow, Sena Nagar Aurangabad, Senjai Karaikudi, Senthil Nagar Chennai, Seshadripuram Chennai, Seth Bagan  Dumdum Kolkata, Settigunta Road Vijayawada, Settihali Bangalore, Seva Nagar Pune, Sewri Lalitpur, Sewri Maharashtra, Shadab Colony Lucknow, Shahad Maharashtra, Shahapur Belgaum, Shahapur Lalitpur, Shahapur Mumbai, Shaheed Bhagat Singh Nagar Barnala, Shaheed Nagar Ghaziabad, Shahgunj Aurangabad, Shahid Chowk Valsad, Shahnoorwadi Aurangabad, Shahpur Belgaum, Shahpur Lalitpur, Shaishav Colony Vadodara, Shakespeare Sarani Kolkata, Shakti Nagar Jabalpur, Shakti Nagar Mangalore, Shakuntola Park Kolkata, Shalby Hospital Jaipur, Shalimar Bagh Colony Jaipur, Shalimar City M R PROVIEW Ghaziabad, Shalimar Mannat Barabanki, Shambhu Nagar Nagpur, Shamti Solan, Shani Nagar Pune, Shaniwar Peth Karad, Shankar Kalat Nagar Maharashtra, Shankar Nagar Bangalore, Shankar Nagar Chennai, Shankar Nagar Nagpur, Shankar Vihar Jaipur, Shankarapura Udupi, Shankarpur Nagpur, Shanmuga Nagar  th Street mannivakkam Chennai Chennai, Shanthi Pura Bangalore, Shanti Nagar Goa, Shanti Nagar Gwalior, Shanti Nagar Lalitpur, Shanti Nagar Maharashtra, Shanti Nagar Mumbai, Shanti Nagar Ratnagiri, Shanti Nagar Visakhapatnam, Shanti Vihar Lalitpur, Shanti Vihar Mumbai, Shapur Nagar Secunderabad, Sharadadevi Nagar Mysore, Sharadhapuri Bypass Meerut, Sharda Hills Colony Jhansi, Shareen Nagar Kurnool, Shashtri Nagar Kota, Shastdhara Road Dehradun, Shastri Colony Chulkana Road Samalkha Panipat, Shastri Nagar  Hissar Bye Pass Rohtak, Shastri Nagar  Jail Road  Near Sikaria More Gaya, Shastri Nagar Bhandara, Shastri Nagar Ghaziabad, Shastri Nagar Jodhpur, Shastri Nagar Kanpur, Shastri Nagar Maharashtra, Shastri Nagar Rajkot, Shastrinagar Bhavnagar, Shatrunjay Nagar Pune, Shayadri Parisar Bhopal, Sheetal Nagar Lalitpur, Sheetal Nagar Maharashtra, Shegaon Naka Amravati, Shegaon Naka square Amravati, Sheikhpura Patna, Shekhpura Gwalior, Shelar pada kolbad Mumbai, Shelu Raigad, Shelwadi Maharashtra, Shendra Aurangabad, Shendra Lalitpur, Shendra MIDC Aurangabad, Shendra MIDC Lalitpur, Shendra Maharashtra, Shenoy Nagar Madurai, Shenoys Ernakulam, Shesh Nagar Lalitpur, Shethnagar Rajkot, Shibnagar Agartala, Shibpur Mandirtala Kolkata, Shibrampur Mauza Kolkata, Shidheswar Nagar ITI Jhansi, Shidivinayak Colony Lalitpur, Shikargarh Jodhpur, Shilpa Nagar Secunderabad, Shilphata Mumbai, Shimala Pistore Rudrapur, Shimpoli Lalitpur, Shimpoli Maharashtra, Shimpoli Mumbai, Shindenagar Pune, Shipra Krishna Azure Ghaziabad, Shipra Path Jaipur, Shipra Vihar Dehradun, Shirae akurle Gaon Karjat, Shirakol Kolkata, Shirdi Sai Baba Nagar Bangalore, Shirdi Sai Layout Bangalore, Shirdon Lalitpur, Shirdon Mumbai, Shirgaon Maharashtra, Shirgaon Mumbai, Shirke Bangalore, Shirley Lalitpur, Shiroda Lalitpur, Shiroda Maharashtra, Shiroli Pune, Shirur Pune, Shirvodem  Navelim Salcete Margao, Shital Cinema Nadiad, Shitla Nagar Pune, Shiv City Near Silicon City Indore, Shiv Colony  Near Railway Station Palwal, Shiv Krishna Society Pune, Shiv Nagar Jaipur, Shiv Nagar Jhontwara Jaipur, Shiv Sagar Estate Lalitpur, Shiv Sagar Estate Mumbai, Shiv Sangam Nagar Bhopal, Shiv Shankar Nagar Jaipur, Shiv Valley Bikaner, Shiv city Indore, Shiva Nagar Mangalore, Shivabasava Nagar Belgaum, Shivabhagh  st cross Mangalore, Shivaji Circle Bhavnagar, Shivaji Nagar Aurangabad, Shivaji Nagar Belgaum, Shivaji Nagar Bhopal, Shivaji Nagar Karjat, Shivaji Park Kolhapur, Shivaji Park Rajkot, Shivajinagar   opposite To Commercial street Bangalore, Shivajiwadi Moshi Near Toll Plaza Pune, Shivalik Nagar Haridwar, Shivam Park Jamnagar, Shivbhag Mangalore, Shivdaspur Varanasi, Shivkatra Kanpur, Shivpur Kanke Road Ranchi, Shivpuri  Near airport  Jaipur, Shivpuri Colony Jind, Shivpuri Patna, Shivshakti Layout Gulbarga, Shoghi Shimla, Shornur Road  Near Girija Theatre Thrissur, Shraddhanandpeth Nagpur, Shradhapuri Phase   Meerut, Shramik Vasahat Pune, Shramjivi Socitey Rajkot, Shravan Chowkdi Bharuch, Shree Krishna Temple Udupi, Shree Mangal Nagar Indore, Shree Nagar Extension Indore, Shree Nagar Mumbai, Shree Niwas Nagar Murli Pura Jaipur, Shree ji Valley Bicholi Mrdana Indore, Shreebhumi Kolkata, Shreya Nagar Aurangabad, Shri Aryan Flats Vadodara, Shri Bankebihari Homes Gwalior, Shri Kishanpura Jaipur, Shri Nagar Colony Aurangabad, Shri Ram Nagar Raipur, Shri Ram Vihar  Mahal Jaipur, Shri perumalnagar NANMANGALAM Chennai, Shrikrishna Nagar Aurangabad, Shrikrishna vihar layout Nagpur, Shrikrushna Colony Lalitpur, Shrimangal Colony Amravati, Shrinagar Dharwad, Shrinath Puram Kota, Shrirampur Ahmednagar, Shrishti Maharashtra, Shristinagar Asansol, Shrungartali Ratnagiri, Shubham Enclave Amritsar, Shubhanjalipuram Gwalior, Shukravar Peth Pune, Shukrawariya Haat Dewas, Shyam Dhyam Mandir Surat, Shyam Nagar Lalitpur, Shyamnagar Kanpur, Shyamnagar Kolkata, Sidcul Haridwar, Siddartha Nagar Kakinada, Siddharth Nagar Berhampur, Siddharth Nagar Maharashtra, Siddhartha Nagar Vijayawada, Siddhartha nagar Ghaziabad, Siddheshwar Nagar Pune, Siddhi Nagar Pune, Siddhi Vinayak Nagar Lalitpur, Siddhi Vinayak Nagar Mumbai, Siddique Nagar Mysore, Sidhgiribagh Varanasi, Sikandar Kampoo Gwalior, Sikandarpura Vadodara, Sikh Village Secunderabad, Sikrod Ghaziabad, Silicon City Bijalpur Rao Indore, Silicon City Indore, Silk Mill Colony Aurangabad, Silpara Fire Briged Kolkata, Silva Nagar Goa, Silver Oak Layout Bangalore, Silver Palm Apartments Kapurthala Road Jalandhar, Silver Park  Dewangpeth Road Hubli, Silver park Hubli, Sima Nagar Surat, Simran City  Bhatagaon Raipur, Sindhi Colony Indore, Sindhi Colony Jaipur, Sindhu nagarsociety  Jaripatka Nagpur, Sindhunagar  Near D Mart Nanded, Singanayakanahalli Bangalore, Singanpor Surat, Singaperumalkovil Kanchipuram, Singena Agrahara Bangalore, Singriwala Hoshiarpur, Sinnar Maharashtra, Sinthee Kolkata, Sion  West  Lalitpur, Sion  West  Mumbai, Sipri Jhansi, Siri Saaketh Appartment Bangalore, Siripuram Visakhapatnam, Siriti Muchipara Kolkata, Sirol Main Road Gwalior, Sirol Road Gwalior, Sirsi Jaipur, Sisodra Navsari, Sitanagar Chokdi Surat, Sitapur Road Lucknow, Sitapura Jaipur, Sitaram Nagar Guntur, Sitaram Nagar Jamnagar, Sitha Nagar Palani, Sithanandha Nagar Pondicherry, SivaSakthi Nagar Chennai, Sivagami Nagar Chennai, Sivaprakasham Nagar Chennai, Slv Nagar First Cross Tirupati, Sneha Colony Bangalore, Sneha Nagar Bangalore, Snehapuri Colony Secunderabad, Snehlataganj Indore, Sodepur Neelgange Kolkata, Sohbatiyabagh Allahabad, Sohna Road Gurgaon, Solan Himachal pardesh Solan, Solani Puram Roorkee, Solanki Ranchi, Somasekharapuram Nellore, Somasundara Bharathi Nagar Chennai, Someshwar Park Valsad, Someshwara Colony Bangalore, Someshwarwadi Pune, Somwar Peth Karad, Somwar Peth Karad Karad, Somwar Peth Pune, Sona Road Faridabad, Sonappa Layout Bangalore, Sonarpur Station Road Kolkata, Sonepat Sonipat, Soneri Mahal Bharuch, Soni Falia Surat, Sot Street Roorkee, Soundara Pandianar Nagar Chennai, South Bankimpally Kolkata, South Civil Lines Jabalpur, South Dhadka Asansol, South Kamala Nagar Secunderabad, South Sinthee Kolkata, Southend Park Kolkata, Sovapur  Bijra Road Durgapur, Sovi Green Park Colony Rudrapur, Sowmya Nagar Chennai, Sowripalayam Pirivu Coimbatore, Sp bangla road Machilipatnam, Special Area Development Authority  Gwalior, Spring Fields Colony Secunderabad, Sree Peetam Kakinada, Sreepally Asansol, Sri Balaji Nagar Chennai, Sri City Nellore, Sri Krishna Nagar Lalitpur, Sri Krishna Puri Patna, Sri Sadguru Nagar Jamnagar, Sri Sai Layout Bangalore, Sri Sai Residency Vijayawada, Sri Sakthi Nagar Chennai, Sriampur Howrah Dist Kolkata, Srinagar Colony Anantapur, Srinagar Colony Chennai, Srinagar Colony Nellore, Srinivasa Garden Bangalore, Srinivasa Nagar Bangalore, Srinivasa Nagar Chennai, Srinivasa Nagar Nellore, Srinivasanagar Tirunelveli, Srinivaspura cross Bangalore, Sriprastha Lalitpur, Sriprastha Mumbai, Sriram Nagar Eluru, Srirampur Kolkata, St  John s Road Bangalore, St  Marks Road Bangalore, St Inez Goa, St Inez Panaji, Star Road Ludhiana, State Bank Colony Ratnagiri, Station Road Anand, Station Road Kota, Station Road Surat, Stonehouse pet Nellore, Subash Nagar Bangalore, Subbannaiah Palya Bangalore, Subbiah Nagar Chennai, Subhash Chowk Darbhanga, Subhash Gram Kolkata, Subhash Nagar Bangalore, Subhash Nagar Chennai, Subhash Nagar Jaipur, Subhash Nagar Udaipur, Subhash road Ratnagiri, Subhashnagar Bhavnagar, Subhashnagar Pandedhwar Mangalore, Subhaspally Asansol, Subramaniapuram North Karaikudi, Subramaniya Nagar Chennai, Subramanyanagar Bangalore, Subraminiyan Nagar Madipakkam Chennai, Suchitra Kompally Secunderabad, Sudamapur Varanasi, Sudarshan Nagar Chennai, Suddaguntepalya Bangalore, Suddhowala Dehradun, Sudharsan Nagar Chennai, Sugama Layout Bangalore, Sugat Nagar Nagpur, Sujan Gir Nagar  Ring Road  Near Basweshwar Chowk  Latur Latur, Sujathangar Visakhapatnam, Sujathnagar Visakhapatnam, Sukanta Pally Kolkata, Sukchar Kolkata, Sukhliya Indore, Sukli Lalitpur, Sukli Nagpur, Sukrawar Pettai Coimbatore, Suleswaranpatti Pollachi, Sulochna Nagar Chennai, Sultan Ganj Agra, Sultanpet Bangalore, Sultanpura Vadodara, Sulthan Bathery Wayanad, Sulur Coimbatore, Suman Sankul Apartment Lalitpur, Suman Sankul Apartment Nagpur, Sumer Nagar Jaipur, Summer Hill Shimla, Sun City Layout Bangalore, Sun Empire Coop housing Society Pune, Sun Pharma Road Vadodara, Suncity Baddi, Suncity Estate Hubli, Suncity Housing Complex  meherpur silchar Silchar, Suncity Layout Hubli, Sundapalayam Coimbatore, Sundarbari Guwahati, Sundarpur Bhubaneswar, Sundarwadi Aurangabad, Sunder Nagar Mumbai, Sunder Ram Shetty Nagar Bangalore, Sunderpada Bhubaneswar, Sundervan Complex Mumbai, Sunguvarchatram Kanchipuram, Sunhat Balasore, Sunil Nagar Lalitpur, Sunkadakatte Bangalore, Sunnambu Jeebi Hosur, Sunny Side  Solan Solan, Supa Midc Area Ahmednagar, Surabhi Layout Bangalore, Suraj Nagar Jaipur, Surampatty Erode, Surana Nagar Aurangabad, Surendra Nagar Lucknow, Surendra Nagar Nagpur, Surendranagar Chennai, Suresh Nagar Colony Gwalior, Suresh Sharma Nagar Bareilly, Surtalai Jabalpur, Suruchi Nager Bhopal, Surve Nagar Nagpur, Surya Colony Bellary, Surya Dev Nagar Indore, Surya Homes Noida Sector    Noida, Surya Nagar Gulbarga, Surya Nagar Junagadh, Surya Nagar Phase   Faridabad, Surya Sarovar Colony Aligarh, Surya Sen Colony Siliguri, Surya Vihar Bilaspur, Suryacity Chandapur Bangalore, Susarla Colony Visakhapatnam, Susheela Nagar  Medavakkam Chennai, Sushrut Nagar  NBMCH Siliguri, Susuwahi Varanasi, Sutar Mala Lalitpur, Suyog Nagar Nagpur, Swage Farm Jaipur, Swami Samarth Nagar Pune, Swami Vihar Jaipur, Swaminarayan Nagar Jamnagar, Swaranjayanti Nagar Aligarh, Swaroop nartaki talkies Belgaum, Swastik Society Jamnagar, Swastik Vihar Mohali, Swatantra Colony Secunderabad, Swatantrya Sainik Nagar Pune, Swiss Park Kolkata, Syamala Nagar Guntur, Sykes Extension Kolhapur, T  Dasarahalli Bangalore, T Block  Anna Nagar Chennai, T Nagar Chennai, TADEPALLI Guntur, TCH School Aurangabad, TGB Restrant Surat, TIRUPATHI Tirupati, TMC Layout Bangalore, TMV Colony Pune, TNEB Colony Chennai, TNHB Flats Sholliganallur   Lake View Appartments Chennai, TV Relay Kendra Valsad, TVS NAGAR KORATTUR Chennai, TVS Nagar Chennai, Tadepalli Guntur, Tadepalli near Highway Vijayawada, Tadigadapa Vijayawada, Taj nagar Nagpur, Takala Kolhapur, Takhteshwar Bhavnagar, Takka Colony Lalitpur, Talajai Pathar Pune, Talav Gate Junagadh, Talegaon Dabhade Nabhangan Soc Pune, Talegaon Dhamdhere Pune, Talland Shimla, Taloja sector   plot no    hill view   th floor Lalitpur, Talpuri International Bhilai, Tambaram Velachery Road Chennai, Tambe Nagar Lalitpur, Tamhini Raigad, Tamluk Haldia, Tamluk Midnapore, Tandapeth Nagpur, Tank Road Solan, Tankapani Road Near Sai Baba Temple Banlual Bhubaneswar, Tannisandra Bangalore, Tapan School Rajkot, Tapkir Nagar Pune, Tapodham Colony Pune, Tapovan Rishikesh, Tappukara Bhiwadi, Tapukara  Alwar bypass road Bhiwadi, Tapvoan Road  Harshawardan Nagar  Ahmednagar Ahmednagar, Tara Park Kolkata, Tara nagar  Jhotwara Jaipur, Tarakarama Nagar Guntur, Tarakpur Ahmednagar, Taramandal Gorakhpur, Tarapith Birbhum, Tarasamiya Bhavnagar, Tardeo  A C Market  RTO  Police Colony Lalitpur, Taritota Mangalore, Tarsali Bypass Vadodara, Tarun Nagar Guwahati, Tata Colony Maharashtra, Tata Nagar Bangalore, Tata Nagar Tirupati, Tata New haven Bangalore, Tathawade Maharashtra, Tatya Tope Nagar Nagpur, Tavarekere Bangalore, Tavra Bharuch, Tawri Pada Mumbai, Tdi Kingsbury Apartments Sonipat, Teachers Colony Bangalore, Teachers layout Bangalore, Tedipulia Lucknow, Telco Colony Pune, Telecom Nagar Nagpur, Telephone Nagar Indore, Telibagh Lucknow, Telugu Ganga Colony Nellore, Tembhode Lalitpur, Tembhurni Solapur, Tenali Tenali, Tenneti Nagar Visakhapatnam, Tentel Para Sambalpur, Teok Jorhat, Tetulberia Kolkata, Tetultala Kolkata, Thadagam Road Coimbatore, Thakur complex Lalitpur, Thakur complex Mumbai, Thakurganj Lucknow, Thakurpukur  A Bus Stand Kolkata, Thakurpukur Bazar Kolkata, Thandalam Chennai, Thane Belapur Road Lalitpur, Thangaon Pune, Thanikachalam Nagar Chennai, Thapar Nagar Meerut, Tharpakhna Ranchi, Thatchoor Chennai, Thavalakuppam Pondicherry, The Greens  Atibelle Circle  Atibelle   Anekal Road  Karpur  Karntaka  Bangalore, The Mall Ludhiana, The Mall Shimla, Thembode Road Palghar, Themghar Maharashtra, Thengod Kochi, Thevakkal Ernakulam, Thevara Ernakulam, Thiba palace Ratnagiri, Thiba palace Road Ratnagiri, Thillai Ganga Nagar Chennai, Thillaiganga Nagar Chennai, Thimmunaidu Palem Tirupati, Thindal Erode, Thirumalai Priya Nagar Chennai, Thirumane halli Bangalore, Thirumullai voyal Chennai  Tamil Nadu  India Chennai, Thirumullavaram Kollam, Thiruvallur Chennai, Thiruvangad Kannur, Thiruvika Nagar Chennai, Thithal road Valsad, Thiyagi Shanmuga Nagar Coimbatore, Thol Road Kadi, Thondankulangara Alappuzha, Thoppumpady Kochi, Thotagiri Hosur, Thotapalem  Vizianagaram Vizianagaram, Thotapalem Vizianagaram, Thottakattukara  Aluva Ernakulam, Thrikkakara Ernakulam, Thulasi Theatre  Marathahalli Bangalore, Thuthiyoor Kochi, Tidke Colony Lalitpur, Tijara Bhiwadi, Tilahri Jabalpur, Tilak Ali Ratnagiri, Tilekar Vasti Pune, Tiljala Road Kolkata, Timaliawad Surat, Times Colony Aurangabad, Timmasagar Hubli, Tiptur Tumkur, Tirumanahalli Bangalore, Tirunelveli Town Tirunelveli, Tirupati Heights Nanakheda Ujjain, Tiruvallur District Angadu  Chennai, Tiruvancheri Chennai, Tisgaon Aurangabad, Tiswadi Goa, Titagarh Kolkata, Tithal Cross Road Valsad, Tithal Road Valsad, Titwala Lalitpur, Titwala Mumbai, Tivim Goa, Tollygunge  Purba Putiary  Kolkata, Tollygunge Muchipara Kolkata, Tonca Goa, Tonk Road    Km From Choki Dhani Jaipur, Township Haldia, Tp  Anand, Transport Nagar  Kanpur Road Lucknow, Transport Nagar Jabalpur, Transport Nagar Kota, Treasure Fantasy Indore, Tridentia panache Goa, Trilanga Bhopal, Trimurtinager Nagpur, Trimurty nagar Nagpur, Trishala city Chandigarh, Triveni Nagar Lucknow, Triveni Vihar Dehradun, Tukaram Gate Secunderabad, Tulasi Nagar Vijayawada, Tulasinagar Vijayawada, Tulja Nagari Yavatmal, Tumkur Main Road Bangalore, Tunganagara Bangalore, Tungarli Lalitpur, Turangi Kakinada, Turner Road Dehradun, Tuscan City Sonipat, Tvs Corner Pudukkottai, UMA AANGAN VILLAGE MUKANDPURA Jaipur, UNCHGAON Kolhapur, Uas Layout Bangalore, Uday Baug Pune, Uday Nagar Lalitpur, Uday Nagar Nagpur, Udayan Pally Kolkata, Udhamsingh Nagar Rudrapur, Udhana Darwaja Surat, Udhanagam Surat, Udhna Udhyog Nagar Surat, Udwada Vapi, Udyamnagar Ratnagiri, Udyog Nagar Jaipur, Udyog Nagar Navsari, Ughat Canal Road Surat, Ugrasen Nagar Rishikesh, Ujwal Nagar Nagpur, Ujwal Nagar Yavatmal, Uksaan lake Lalitpur, Ulawe Raigarh, Ulchala Road Kurnool, Ulhasnagar Lalitpur, Ulhasnagar Maharashtra, Ulhasnagar Mumbai, Uliyan Jamshedpur, Uluberia Kolkata, Ulwe Raigad, Uma Kanta Sen Lane Kolkata, Uma Township  Same kanthe Morbi, Umarsara Yavatmal, Umarwada Surat, Umda Road Bhilai, Umershetpada Maharashtra, Umra Surat, Umred Nagpur, Umred Road Nagpur, Umroli Maharashtra, Umroli Palghar, Unamancheri Chennai, Undri Lalitpur, United Colony Chennai, United India Colony Chennai, United India Nagar  Ayanavaram Chennai, University Road  Lucknow Lucknow, University Road  Tapovan Amravati, University Road Gwalior, Unjavelampatti Pollachi, Unnat Nagar Goregoan West Mumbai, Unnati nagar Akola, Untkhana Nagpur, Upadhyaya Layout Bangalore, Uperkot Road Junagadh, Upkar Society  Vadodara, Upper Bazaar Ponda Goa Goa, Upper Bazar Ranchi, Upper Bhararhi Shimla, Upper Chelidanga Oppisite To Monimala School Asansol, Upper Govind Nagar Maharashtra, Upper Kaithu Shimla, Upper Medal class Aurangabad, Uran Raigad, Urapakkam Kanchipuram, Urban Estate Phase II Ludhiana, Urban Estate Phase II Patiala, Urga Korba, Uruli Devachi Pune, Usarli Khurd Maharashtra, Usarli khurd Lalitpur, Usarli khurd Maharashtra, Usha Nagar Extension Indore, Ushma Nagar Lalitpur, Uslapur Bilaspur, Usmansahebpet  Nellore AP Nellore, Utkarsh Vihar Colony Indore, Uttam Nagar Pune, Uttan Lalitpur, Uttarahalli Manavarthekaval Bangalore, Uttaranagri Aurangabad, Uttarpara Kotrung Kolkata, Uttran Surat, Uzan Bazar Guwahati, V R C CENTER NEAR FISH MARKET Nellore, V V Mohalla Mysore, V V Nagar Secunderabad, VASANTHA NAGAR CUNNINGHAM ROAD Bangalore, VGN Brindhavan Garden Extension  Mugalivakkam Chennai, VIGNANA NAGAR Bangalore, VIP Colony Raipur, VIP Road Visakhapatnam, VISHNU PAD TEMPLE Gaya, VKV Road Nadiad, Vadakkupattu Chennai, Vadamadurai Coimbatore, Vadavali Lalitpur, Vaddem Goa, Vaddem Lake Goa, Vaddepally Warangal, Vaderahalli Bangalore, Vadgaon Maval Pune, Vadghar Lalitpur, Vadghar Maharashtra, Vadipara Surendranagar, Vadiwadi Vadodara, Vadlamudi Tenali, Vaghodiya Ring Road Vadodara, Vaibhav Nagar Indore, Vaibhavwadi Lalitpur, Vaibhavwadi Maharashtra, Vaibhavwadi Sindhudurg, Vaiduwadi Pune, Vaikuntapuram Tirupati, Vairale   Talegaon Pune, Vaishali Nagar  Annapurna Road Indore, Vaishali Nagar Bilaspur, Vaishali Nagar Gandhi Path Jaipur, Vaishali Nagar Gandhipath Jaipur, Vaishali Nagar Mumbai, Vaishali Nagar Rajkot, Vaishalinagar  Jaipur, Vaithikuppam Pondicherry, Valak Surat, Valap Maharashtra, Valap Mumbai, Valasaravakkam Maduravoil Chennai, Valasawakkam Chennai, Valivali Gaon Mumbai, Valkeshwari  Near Saat Rastaa Jamnagar, Valla bypass Amritsar, Vallabh Nagar Lalitpur, Vallabh Nagar Mumbai, Vallabh Nagar Pune, Vallabh Nagar Vapi, Vallakottai Chennai, Vallakottai Kanchipuram, Vallalar Street  Selvam Nagar  Pallikaranai Chennai, Valmiki Nagar Lalitpur, Van Vihar Colony  Ram Nagari  Ashiyana Digha Road Patna, Vanagaram palaniappa nagar Chennai, Vanam Thopu Nellore, Vanamthopu Nellore, Vanasakthi Nagar Chennai, Vandana Layout Hebbal Bangalore, Vangani Lalitpur, Vangani Mumbai, Vaniavad Nadiad, Vaniya Vad Nadiad, Vankaner Society Rajkot, Varadharajapuram Chennai, Varale Pune, Varanasi Bangalore, Varasoli Raigad, Varca Margao, Vardhman Nagar Rajkot, Vardhmannagar Surendranagar, Varsada Vadodara, Varun Path Jaipur, Vasahli Nager West Jajpur, Vasai East Palghar, Vasai Evershine City Palghar, Vasai Lalitpur, Vasai Road Maharashtra, Vasai West Maharashtra, Vasai West Mumbai, Vasant Vihar Complex Lalitpur, Vasant Vihar Dehradun, Vasant Vihar Enclave Dehradun, Vasant Vihar Phase   Dhakoli Chandigarh, Vasant Vihar Solapur, Vasantham Nagar Chennai, Vasanthanarasapura Tumkur, Vasanthpura Bangalore, Vasavi Nagar Hubli, Vasco Market Goa, Vasind Maharashtra, Vasnt Vihar Latur, Vasundhara Nagar Jalna, Vatar Vapi, Vatika Jaipur, Vattekunnam Ernakulam, Vaviletipadu Nellore, Vayu Vihar  Near Shastripuram Agra, Vayusena Nagar Nagpur, Vazhakulam Ernakulam, Vazhoor Kottayam, Ved Nagar Ujjain, Ved Nath Puram Lucknow, Ved Road Surat, Vedant Nagar Aurangabad, Vedantha Puram Tirupati, Veekshnam Road  Off M G Road Ernakulam, Veer Kunwar Singh Nagar Dhanbad, Veer Sandra Bangalore, Veer Sawarkar Nagar Lalitpur, Veerabhadra Nagar Bangalore, Veerbhadra Nagar Pune, Velandipalayam Coimbatore, Velanja Surat, Velimukku Malappuram, Velvand  Taluka Bhor Lalitpur, Vemali Tower B Saakar Opulent Vadodara, Venkat Ramana Colony Kurnool, Venkatadri Layout Bangalore, Venkatala Bangalore, Venkatapura Bangalore, Venkatapuram Chennai, Venkatapuram Eluru, Venkatapuram Secunderabad, Venkatapuram Visakhapatnam, Venkataraman Nagar Chennai, Venkataratnapuram Kakinada, Venkatesa Nagar Chennai, Venkateshwara Colony Secunderabad, Venkateshwara Nagar Anakaputhur Chennai, Venkatramana Theatre Guntur, Venkitta Puram Coimbatore, Venu Gopal nagar Anantapur, Venugopal Reddy Layout  Arekere  Bengaluru  Karnataka        Bangalore, Vepagunta Gowtham Nagar Visakhapatnam, Vepery Chennai, Veppampattu Chennai, Veral  Khed Ratnagiri, Veraval Shapar Rajkot, Verla Canca Goa, Verla canca Goa, Versova Mumbai, Veshvi  alibaug Raigad, Veterinary Colony Vijayawada, Vetri Nagar Chennai, Vetri nagar  Thiru vi ka nagar Chennai, Vibhav Nagar Agra, Vibhutipura Extension Bangalore, Vichumbe Maharashtra, Vichumbe Mumbai, Victoria Layout Bangalore, Vidhut Nagar Jaipur, Vidhya Nagar Rajkot, Vidhyanagar Guntur, Vidhyanagar Main Road Rajkot, Vidhyanagar Rajkot, Viduthalai Nagar Chennai, Vidya Nagar  Katraj Kondwa Road Pune         Pune, Vidya Nagar Bilaspur, Vidya Nagar Guntur, Vidya Nagar Kochi, Vidya Nagar Raigad, Vidya Nagar Rajkot, Vidya Nagari Lalitpur, Vidya Nagari Maharashtra, Vidya Nagari Mumbai, Vidya nagar Anand, VidyaNagar saidapur Karad, Vidyadharapuram Vijayawada, Vidyanagar Lalitpur, Vidyanagar Palghar, Vidyanagar Pune, Vidyaranyapura  HMT Layout  st Block Bangalore, Vidyaranyapuram Mysore, Vidyavihar East Lalitpur, Vidyavihar East Maharashtra, Vidyut Colony Jalgaon, Vigneshwara Nagar Chennai, Vigyan Khand Lucknow, Vigyan Nagar Indore, Vihighar Lalitpur, Vijalpore rd  Navsari, Vijapur Navsari, Vijapur Road Opposite Bharti Vidyapeeth School Solapur, Vijay Nagar Amritsar, Vijay Nagar Bangalore, Vijay Nagar Chennai, Vijay Nagar Garkheda Aurangabad, Vijay Nagar Hospital Road Bhuj, Vijay Nagar Pune, Vijay Nagar Ranchi, Vijay Park Extension Dehradun, Vijaya Durga Colony Kadapa, Vijaya Gardens Jamshedpur, Vijayalaxmi Nagar Vizianagaram, Vijayanagar Colony Agra, Vijayantnagar Aurangabad, Vijayapuri Colony Secunderabad, Vijayawada Guntur Highway Guntur, Vikas Nagar Murthal Road Sonipat, Vikas Vihar Colony Raipur, Vikash Nagar Sonipat, Vikasnagar Shimla, Vikhroli  East  Maharashtra, Vikram Nagar Bangalore, Vikrant Khand Lucknow, Vill  Thada  Tehsul  Tijara Bhiwadi, Village Muhana Tehsil Sanganer Jaipur Jaipur, Village Sachana  Sanand Viramgam, Village Santemajra Mohali, Villivakam Chennai, Villivakkam Thiruvalluvar Street Chennai, Vinayagapuram Coimbatore, Vinayak Nagar Bangalore, Vinayak Nagar Nizamabad, Vinayak Vihar Mansarovar Jaipur Jaipur, Vineet Kunj Bhopal, Vinoba Nagar Ernakulam, Vinoba vihar model town malviya nagar Jaipur, Vinobhaji Nagar Chennai, Vinyak Park Jamnagar, Vir Kunwar Singh Colony Dhanbad, Virani chowk Rajkot, Virar   Bhoomi Maharashtra, Virar   Bhoomi Mumbai, Virar East  Sainath Nagar Palghar, Virar East Mumbai, Virar Lalitpur, Virar Maharashtra, Virbhadra Marg Rishikesh, Virendra Nagar Palghar, Virgonagar Bangalore, Viriyakhedi Ratlam, Virndavan Mathura, Virzapur Mathura, Vishal Nagar Bellary, Vishal Nagar Raipur, Vishal nagar Bellary, Vishalakshi Nagar Visakhapatnam, Vishnu Colony Junagadh, Vishnu Dev Nagar Pune, Vishnu Enclave Ghaziabad, Vishnu Nagar Lalitpur, Vishnu Nagar Palghar, Vishnudatt  Mithanpura Muzaffarpur, Vishnunagar Maharashtra, Vishnupuri Colony Indore, Vishnupuri Jaipur, Vishnupuri Kanpur, Vishveshvariya Nagar Jaipur, Vishveshwar Nagar Lalitpur, Vishweshwar Nagar Hubli, Vissakoderu Bhimavaram, Visveshwaranagar Mysore, Vithaldas Nagar Lalitpur, Vittal Nagar Bangalore, Vitthalwadi Bhavnagar, Vivekanand Wadi Anand, Vivekananda Nagar Bangalore, Vivekananda Nagar Chennai, Vivekananda Nagar Coimbatore, Vivekananda Nagar Kolkata, Vivekananda Road Silchar, Vivekananda house Chennai, Vivekananda marg Bhubaneswar, Vivekanandapuram Colony Secunderabad, Vivekanandapuri Hydel Colony Lucknow, Vrindavan Mathura, Vuyyuru Vijayawada, Vyapar Vihar Bilaspur, Vyas Nagar Mangalore, Vymeethi Ernakulam, Vypin Kochi, Vyttila Ernakulam, WANJARA KAMPTEE Nagpur, WAREHOUSE ROAD Indore, Wada  Khed Shivapur Pune, Wada Palghar, Wadachi Wadi Pune, Wadavali Village Lalitpur, Wadavali Village Maharashtra, Wadegaon Pune, Wadeghar Maharashtra, Wadeghar Mumbai, Wadgaon Chandrapur, Wadi Lalitpur, Wadki Pune, Wadmukhwadi Pune, Waghala Nanded, Waghela Nagar Vadodara, Wagholi Lalitpur, Wagle Estate Lalitpur, Wahal Lalitpur, Wahal Mumbai, Wai Lalitpur, Wai Maharashtra, Wakad Annexe Lalitpur, Wakadkar Wasti Pune, Waksai Lalitpur, Walajabad Kanchipuram, Walhekarwadi Pune, Walker Town  new Bhoiguda road  Padmarao nagar Secunderabad, Waluj kamalapur road   near bajaj zp gaye Aurangabad, Walwadi Dhule, Wanawari Pune, Wanjari Nagar Lalitpur, Wanjari Nagar Maharashtra, Wanjarpada Karjat, Wanowrie Lalitpur, Warashiya Vadodara, Warasiguda Secunderabad, Ward   A  Adipur         Gandhidham, Ward  A Gandhidham, Wardha Maharashtra City Wardha, Wardha Road Maharashtra, Wardhaman Nagar Colony Nagpur, Wardhaman Nagar Nagpur, Wariana Jalandhar, Warji  Ingalenagar  Amberkar Chowk Pune, Wathoda Lalitpur, Waves City center Noida, Wayale Nagar Maharashtra, Wayale Nagar Mumbai, Wazirpura near big bazaar Agra, Weavers Colony Nellore, West KK Nagar Chennai, West Marredpally Secunderabad, Westfort Thrissur, White Town Pondicherry, Williams town Deoghar, Willingdon Mumbai, Windsor Hills Assotech Siril Road Gwalior, Wisdom Valley School Palwal, Woodyard street Visakhapatnam, Worli Naka Maharashtra, Worli Seaface Lalitpur, Xeldem Goa, Y N road Indore, Yadav Nagar Secunderabad, Yadrav Kolhapur, Yagnik Road Rajkot, Yamuna Nagar Lalitpur, Yamuna Puram Colony Bulandshahr, Yamunotri Nagar Allahabad, Yanamalakuduru  Penamalaru Mandal Vijayawada, Yarraiaina Palya Bangalore, Yashaswi Nagar Lalitpur, Yashaswi Nagar Maharashtra, Yashoda Nagar Ahmednagar, Yashoda Park  Near Mukta Sainik Vasahat Kolhapur, Yashodham Maharashtra, Yashvant Viva Township Palghar, Yashwant Smart City  Vasai Palghar, Yashwant nagar Pune, Yavatmal Yavatmal, Yelehanka Bangalore, Yercaud Salem, Yeshwanthpur ISKON TEMPLE APPOSITE Bangalore, Yeswanth Nagar Chennai, Yewalewadi Lalitpur, Yogeshwarnagar  Opp  to Valsad Polytecnic College Valsad, Yogi Nagar Lalitpur, Yogidham Lalitpur, Yogidham Maharashtra, Yogidham Mumbai, Yogiraj Society Nadiad, Yusufpur Chakshaberi Noida, Yusufpur Dighikhurd Hajipur, ZALOD ROAD Dahod, ZALOR Goa, ZEGADE WASTI Pune, Zadeshwar road Bharuch, Zamin Pallavaram Chennai, Zanda Chowk Vapi Vapi, Zanzarada Road Junagadh, Zanzarda Road  Gokuldham Junagadh, Zanzarda Road Junagadh, Zanzroli Palghar, Zaverisadak Navsari, Zenda Chowk  Mahal Nagpur, Zero Mile Bhagalpur, Zilla Parishad Colony Dhule, Zingabai Takli Maharashtra, Ziro Point Bidge Ujjain, Zone II Bhopal, Zuari Nagar Goa, abacha pada devkop Palghar, agraharam Tirupati, ajay nagar Kolkata, akashwani chowk  university road Rajkot, akkayapalem Visakhapatnam, akkipet main road Bangalore, alinchuvadu Ernakulam, alka puri Surendranagar, ambattur estate Chennai, ambicapatty Silchar, amravati Enclave surajpur Panchkula, amravati enclave Panchkula, anand bazar Patna, anand nagar Anand, anand nager Palghar, anandnagar near registration office karjat east Karjat, ananth nagar Bangalore, ankola Karwar, ansal api golf vista Lucknow, anupam hospital Kolar, anywhere Surat, apna ghar shalimar ext Alwar, arasitala Durgapur, arjunganj Lucknow, arun appartment Salem, arvinda nagar Anantapur, ashiana aagan neemrana Neemrana, ashok chowk Solapur, ashok nagar Solapur, asopalav complex Vapi, atal nagar Raipur, atul Valsad, aurbindo Indore, awadh vihar Lucknow, azad hind nagar Haldia, baad Karwar, baba nagar villivakkam Chennai, babu purwa Kanpur, bada chand ganj kapoorthala lucknow Lucknow, badarpur border Faridabad, bailey road patna Patna, bajrimandi road Jaipur, bandra bandstand west Lalitpur, bangar nagar Yavatmal, bank colony sector   Karnal, banu nagar ambattur pudufr Chennai, baraholia Tezpur, barathidasan nagar Coimbatore, baroda Akola, barshinaka Beed, basudevpur Darbhanga, bawadiakalan Bhopal, begur lake Bangalore, behala Kolkata, bhagyanagar  th lane Ongole, bhalej road Anand, bharat nagar  madipakkam Chennai, bharmin nagar Navsari, bhartiya city Bangalore, bhivpuri Raigad, bhomiya nagar Jaipur, bodabag Rewa, boomianpet Pondicherry, borsi nagar Durg, budhnagar Nagpur, burra bazar malapara Kolkata, bypass road Madurai, camp market Palwal Palwal, camp road Amravati, carry road Kolkata, chaitanya puri colony Warangal, chandan nagar Solapur, chapekar chowk chinchwad Near Bhaji mandai Pune, chenkuri Silchar, chinaravuru Tenali, choukital Jabalpur, chowdry nagar Chennai, chowk bhopal Bhopal, city centre Durgapur, civil lines Aligarh, college road Junagadh, college road Nadiad, cooke town  hutchins road Bangalore, coolie bazaar Kanpur, cp nagar Gwalior, crescent parc Amritsar, dadawadi Jalgaon, dagarpada Cuttack, dandumaramma temple Vizianagaram, davli Godhra, derasar lane Lalitpur, derasar lane Mumbai, devkar panand near Kolhapur, devpuri Raipur, dholpur house Agra, digjam circle Jamnagar, diwalipura off old padra road Vadodara, dollors colony Hubli, dr a s rao nagar Secunderabad, dutt nagar Palghar, east fort Lalitpur, edyenkatuvalasu Erode, eldeco Neemrana, electronic city phase   Bangalore, ellaipillaichavady Pondicherry, eva park Jamnagar, flat Barnala, flat no       radha krishna apartment vidya nagar Bilaspur, forest road Solan, ganga nagar Ambe homes Rishikesh, gangotri enclave  avadh vihar yojna lko Lucknow, ganpati nagar Jaipur, gayatri nagar Vijayawada, ghatti Solan, gol chowk  Rohinipuram Raipur, gola ka mandir Gwalior, gomatinagar extension Lucknow, good Dahod, good Jammu, gotri bhayli road Vadodara, goverdhan villas Udaipur, green city Jamnagar, gundibailu Udupi, gunjur palya Bangalore, guru prasad nagar Rajkot, gwalior road Jhansi, gyan park Indore, hastings Kolkata, hill view park north Asansol, holigate Mathura, hoodi Bangalore, horamavu bansawadi Bangalore, hoysala nagar Bangalore, hyderabad road Vijayawada, hyderpara Siliguri, illisipuram Srikakulam, indira gandhi marg Nadiad, indiranayaknagar Vijayawada, indirapuram ghaziabad Ghaziabad, infopark kakkanad Ernakulam, iscon habitat Vadodara, ishuuar krupa Surat, iti road Godhra, jain Surat, jaipur vaishali nagar Jaipur, jammaladugu Kadapa, jamnagar Jamnagar, jawahar road Junagadh, jawhar circle Jaipur, jhagar Junagadh, jigani anekal taluk Bangalore, jodhadih more chas Bokaro, jogipur Kangra, jopling road  hazratganj Lucknow, jp nagar  th phase Bangalore, junwni Durg, kacheripadi Kochi, kadambari nagar Durg, kadamtala Siliguri, kadamtala near north bengal medical collage Siliguri, kadugodi  whitefield Bangalore, kaikhali Kolkata, kailash nagar Durg, kailashnagar   near LLM church Chennai, kakkanad Ernakulam, kalidas road Dehradun, kalyan Nagar  Nagarbhavi Bangalore, kamayyathopu Vijayawada, kannan Avenue Chennai, kanth road Moradabad, karbala road Bilaspur, kareli Allahabad, karjat railway station Karjat, kashi ram Moradabad, kasturi nagar  chaya hospital Bangalore, khajuri kalan road Bhopal, khambhalia gate Jamnagar, khar linking road Lalitpur, khar linking road Maharashtra, khar linking road Mumbai, kharar Rupnagar, kharmora Korba, kholeshwar Akola, kichlu nagar Ludhiana, kidderpore Kolkata, kk pudur Coimbatore, kochu kadavanthara Kochi, kolbad Road Lalitpur, kumar reddy gunta Nellore, kurla  west  Mumbai, lalbagh Jagdalpur, lalitha nagar madambakkam Chennai, local Aurangabad, local Baddi, lokseva Lalitpur, lower parel Lalitpur, madhanandapuram Chennai, madipakkam near koot road Chennai, magnet mall Lalitpur, mahalaxmi layout Bangalore, maharashtra housing board Pune, maharastra Wardha, malbhat Goa, malegaon rod Nanded, malleswaram Bangalore, manglam city kalwar road Jaipur, manjipura Nadiad, manjipura road Nadiad, manjushree Haldia, mannat by shalimar group near bbd university Lucknow, mantralaya Mumbai, marutha road Palakkad, matamath Cuttack, mathichiyam Madurai, matiapadaa Bhubaneswar, mavadi rajkot Rajkot, metropolis city Rudrapur, mill road Nadiad, miramar Goa, mohan nagar Gwalior, moti khodiysr Anand, mr   Indore, munnar Idukki, munnekolal Bangalore, myfair road Kolkata, mysore road Bangalore, nabapally barasat Kolkata, nadeem road Bhopal, nagarampalem Guntur, nagarvhavi circle Bangalore, naigaon Palghar, nalawadi Wardha, nanjappa layout   vidyaranpura Bangalore, nanubala Street Srikakulam, narasamma colony Hosur, national colony Aurangabad, nav sari Surat, navsari Navsari, naya chowk Kanpur, near New Kenam School Palghar, near asharam bapu ashram Jabalpur, near beas dera Amritsar, near convent school Valsad, near lokanth temple puri Puri, near manipuram fly over Guntur, near sona petrol pump sevoke road Siliguri, neat irkala parameswari gudi Nellore, neral Raigad, netaji Nagar Nellore, nevta Jaipur, noor Nagar Meerut, noor enclave the urban village noorwala road  Ludhiana, north lalaguda Secunderabad, ntr colony Vijayawada, old idgah colony Agra, old panvel Raigarh, ombr layout  chikka banaswadi Bangalore, omkar nagar Belgaum, opp IRMA gate Anand, padan tola Rewa, palace road Solan, palarivattom Ernakulam, palat road Ottapalam, palghar station Palghar, parameshari nagar Nellore, paras society Rajkot, paras tierea Noida, parkcircuss Kolkata, parsvanath garden Palghar, parth Pune, patel nagar Amravati, permude Mangalore, phoolbagh shruti enclave Gwalior, pij road Nadiad, pondicherry town Pondicherry, powerpet Eluru, pratap nagar sector   Jaipur, prem wonder land Rampur road Moradabad, prime location on Balikashram road Ahmednagar, priyanka nagar Kolar road Bhopal, pudukkottai Pudukkottai, punith gardens  vadavalli Coimbatore, purbachal Kolkata, purvankara palm beach Bangalore, pushkar dham Jamnagar, raipura Raipur, rajgarh road Guwahati, ram krishna nagar Patna, ramaswamipalya  kammanahalli Bangalore, ramtalavadi Nadiad, ranakpur layout Hubli, ranjit nagar Patiala, ranjit sagar road Jamnagar, rewa Rajkot, riico Industrial Area Neemrana, rohtak road Jind, s  No     Utkarsha Nagar Raigad, sadullabad Ghaziabad, sai prasad shopping complex Shirdi, saidapur Karad, sakurdi Karad, salarpuria serenity Bangalore, samadhiya colony Gwalior, samarpan circle Jamnagar, samarth park Indore, saraswathi nagar Guntur, sarna nagar Ranchi, saru saction road Jamnagar, saru section road Jamnagar, saurastra kala kendra Rajkot, sector    Ludhiana, sector    Mohali, sector    Rewari, sector    vrindavan yojna Lucknow Lucknow, sector   Gandhidham, sector   Hiranmagri Udaipur, sector chi   Noida, sekkalai Karaikudi, shahid chowk Valsad, shahu nagar Aurangabad, shanmugapuram Pondicherry, shergarhi Meerut, shingnapur road Kolhapur, shiva gawade colony Pune, shivmandir Siliguri, shreejinagar Anand, shubash nagar Nagpur, sidcul industrial area Rudrapur, silver stone Vadodara, singaperumalkovilwalajabadh road Chennai, siridi sai nagar Vizianagaram, skt college jagatpura Jaipur, solan Solan, sompura gate Bangalore, srinivasa layout Bangalore, sripally Bardhaman, station road Jabalpur, sukna Siliguri, suman vihar kamthi road Nagpur, summair club road Jamnagar, swastik nagar Chandrapur, taj nagri phase     EWS Park Agra, tanishq vihar near IT park Dehradun, telephone exchange road Patan, thakurli Lalitpur, thakurli Maharashtra, thiruvikaroad Chennai, tilak nagar Dewas, timber bhawan  nagpur Nagpur, tiruvanmiyur adayar Chennai, tonk phathak  behind pinkcity honda showroom Jaipur, town colony Midnapore, town hall Anand, tularam cowk Jabalpur, ukardi road Dahod, uzhavarkarai Pondicherry, vaduthala Ernakulam, vaishali nagar jaipur Jaipur, vanjale gaon karjat Karjat, vanthali road Junagadh, varunji phata karad Karad, vasai east Palghar, vastu udyog  ajmera Pune, vazhakala Ernakulam, vejalpur Navsari, velakara Palakkad, vennamalai Karur, vershamedi Gandhidham, vesu location Surat, vidya vihar Ghaziabad, vidyanagar Guntur, vidyut nagar Jaipur, vijay colony Latur, vijayanand society narendra nagar Nagpur, vijayapuarm Thiruvarur, villivakkam Chennai, virar west Palghar, virat nagar Ongole, vrc center Nellore, vrindavan sector    Lucknow, vytilla Ernakulam, waghawadi Bhavnagar, whispering pines Solan, xdfh Neemrana, yelahanka Doddaballapura road Bangalore, yogeshwari colony Jalna, zadeshwar road Bharuch, zanzarda road Junagadh]\n",
      "  warnings.warn(w)\n"
     ]
    }
   ],
   "source": [
    "pred=aml.leader.predict(test_h2o)"
   ]
  },
  {
   "cell_type": "code",
   "execution_count": 77,
   "metadata": {
    "execution": {
     "iopub.execute_input": "2020-10-10T08:18:35.200292Z",
     "iopub.status.busy": "2020-10-10T08:18:35.199517Z",
     "iopub.status.idle": "2020-10-10T08:18:35.205720Z",
     "shell.execute_reply": "2020-10-10T08:18:35.205139Z"
    },
    "papermill": {
     "duration": 0.178581,
     "end_time": "2020-10-10T08:18:35.205845",
     "exception": false,
     "start_time": "2020-10-10T08:18:35.027264",
     "status": "completed"
    },
    "tags": []
   },
   "outputs": [
    {
     "data": {
      "text/html": [
       "<table>\n",
       "<thead>\n",
       "<tr><th style=\"text-align: right;\">  predict</th></tr>\n",
       "</thead>\n",
       "<tbody>\n",
       "<tr><td style=\"text-align: right;\">  2.69748</td></tr>\n",
       "<tr><td style=\"text-align: right;\">  4.27027</td></tr>\n",
       "<tr><td style=\"text-align: right;\">  4.16198</td></tr>\n",
       "<tr><td style=\"text-align: right;\">  3.52421</td></tr>\n",
       "<tr><td style=\"text-align: right;\">  2.50301</td></tr>\n",
       "<tr><td style=\"text-align: right;\">  2.95727</td></tr>\n",
       "<tr><td style=\"text-align: right;\">  4.15205</td></tr>\n",
       "<tr><td style=\"text-align: right;\">  3.87366</td></tr>\n",
       "<tr><td style=\"text-align: right;\">  3.84643</td></tr>\n",
       "<tr><td style=\"text-align: right;\">  5.51987</td></tr>\n",
       "</tbody>\n",
       "</table>"
      ]
     },
     "metadata": {},
     "output_type": "display_data"
    },
    {
     "data": {
      "text/plain": []
     },
     "execution_count": 77,
     "metadata": {},
     "output_type": "execute_result"
    }
   ],
   "source": [
    "pred"
   ]
  },
  {
   "cell_type": "code",
   "execution_count": 78,
   "metadata": {
    "execution": {
     "iopub.execute_input": "2020-10-10T08:18:35.544653Z",
     "iopub.status.busy": "2020-10-10T08:18:35.542111Z",
     "iopub.status.idle": "2020-10-10T08:18:35.759363Z",
     "shell.execute_reply": "2020-10-10T08:18:35.758444Z"
    },
    "papermill": {
     "duration": 0.387784,
     "end_time": "2020-10-10T08:18:35.759543",
     "exception": false,
     "start_time": "2020-10-10T08:18:35.371759",
     "status": "completed"
    },
    "tags": []
   },
   "outputs": [],
   "source": [
    "pred = pred.as_data_frame()"
   ]
  },
  {
   "cell_type": "code",
   "execution_count": 79,
   "metadata": {
    "execution": {
     "iopub.execute_input": "2020-10-10T08:18:36.106879Z",
     "iopub.status.busy": "2020-10-10T08:18:36.105720Z",
     "iopub.status.idle": "2020-10-10T08:18:36.110620Z",
     "shell.execute_reply": "2020-10-10T08:18:36.109862Z"
    },
    "papermill": {
     "duration": 0.182341,
     "end_time": "2020-10-10T08:18:36.110741",
     "exception": false,
     "start_time": "2020-10-10T08:18:35.928400",
     "status": "completed"
    },
    "tags": []
   },
   "outputs": [
    {
     "data": {
      "text/html": [
       "<div>\n",
       "<style scoped>\n",
       "    .dataframe tbody tr th:only-of-type {\n",
       "        vertical-align: middle;\n",
       "    }\n",
       "\n",
       "    .dataframe tbody tr th {\n",
       "        vertical-align: top;\n",
       "    }\n",
       "\n",
       "    .dataframe thead th {\n",
       "        text-align: right;\n",
       "    }\n",
       "</style>\n",
       "<table border=\"1\" class=\"dataframe\">\n",
       "  <thead>\n",
       "    <tr style=\"text-align: right;\">\n",
       "      <th></th>\n",
       "      <th>predict</th>\n",
       "    </tr>\n",
       "  </thead>\n",
       "  <tbody>\n",
       "    <tr>\n",
       "      <th>0</th>\n",
       "      <td>2.697478</td>\n",
       "    </tr>\n",
       "    <tr>\n",
       "      <th>1</th>\n",
       "      <td>4.270272</td>\n",
       "    </tr>\n",
       "    <tr>\n",
       "      <th>2</th>\n",
       "      <td>4.161975</td>\n",
       "    </tr>\n",
       "    <tr>\n",
       "      <th>3</th>\n",
       "      <td>3.524212</td>\n",
       "    </tr>\n",
       "    <tr>\n",
       "      <th>4</th>\n",
       "      <td>2.503011</td>\n",
       "    </tr>\n",
       "  </tbody>\n",
       "</table>\n",
       "</div>"
      ],
      "text/plain": [
       "    predict\n",
       "0  2.697478\n",
       "1  4.270272\n",
       "2  4.161975\n",
       "3  3.524212\n",
       "4  2.503011"
      ]
     },
     "execution_count": 79,
     "metadata": {},
     "output_type": "execute_result"
    }
   ],
   "source": [
    "pred.head()"
   ]
  },
  {
   "cell_type": "code",
   "execution_count": 80,
   "metadata": {
    "execution": {
     "iopub.execute_input": "2020-10-10T08:18:36.453328Z",
     "iopub.status.busy": "2020-10-10T08:18:36.452514Z",
     "iopub.status.idle": "2020-10-10T08:18:36.463542Z",
     "shell.execute_reply": "2020-10-10T08:18:36.464130Z"
    },
    "papermill": {
     "duration": 0.184188,
     "end_time": "2020-10-10T08:18:36.464310",
     "exception": false,
     "start_time": "2020-10-10T08:18:36.280122",
     "status": "completed"
    },
    "tags": []
   },
   "outputs": [],
   "source": [
    "pred = np.abs((np.exp(pred)-1))\n",
    "pred = round(pred,1)"
   ]
  },
  {
   "cell_type": "code",
   "execution_count": 81,
   "metadata": {
    "execution": {
     "iopub.execute_input": "2020-10-10T08:18:36.810362Z",
     "iopub.status.busy": "2020-10-10T08:18:36.807131Z",
     "iopub.status.idle": "2020-10-10T08:18:36.815451Z",
     "shell.execute_reply": "2020-10-10T08:18:36.814711Z"
    },
    "papermill": {
     "duration": 0.185031,
     "end_time": "2020-10-10T08:18:36.815573",
     "exception": false,
     "start_time": "2020-10-10T08:18:36.630542",
     "status": "completed"
    },
    "tags": []
   },
   "outputs": [
    {
     "data": {
      "text/html": [
       "<div>\n",
       "<style scoped>\n",
       "    .dataframe tbody tr th:only-of-type {\n",
       "        vertical-align: middle;\n",
       "    }\n",
       "\n",
       "    .dataframe tbody tr th {\n",
       "        vertical-align: top;\n",
       "    }\n",
       "\n",
       "    .dataframe thead th {\n",
       "        text-align: right;\n",
       "    }\n",
       "</style>\n",
       "<table border=\"1\" class=\"dataframe\">\n",
       "  <thead>\n",
       "    <tr style=\"text-align: right;\">\n",
       "      <th></th>\n",
       "      <th>predict</th>\n",
       "    </tr>\n",
       "  </thead>\n",
       "  <tbody>\n",
       "    <tr>\n",
       "      <th>0</th>\n",
       "      <td>13.8</td>\n",
       "    </tr>\n",
       "    <tr>\n",
       "      <th>1</th>\n",
       "      <td>70.5</td>\n",
       "    </tr>\n",
       "    <tr>\n",
       "      <th>2</th>\n",
       "      <td>63.2</td>\n",
       "    </tr>\n",
       "    <tr>\n",
       "      <th>3</th>\n",
       "      <td>32.9</td>\n",
       "    </tr>\n",
       "    <tr>\n",
       "      <th>4</th>\n",
       "      <td>11.2</td>\n",
       "    </tr>\n",
       "    <tr>\n",
       "      <th>...</th>\n",
       "      <td>...</td>\n",
       "    </tr>\n",
       "    <tr>\n",
       "      <th>68715</th>\n",
       "      <td>107.8</td>\n",
       "    </tr>\n",
       "    <tr>\n",
       "      <th>68716</th>\n",
       "      <td>111.8</td>\n",
       "    </tr>\n",
       "    <tr>\n",
       "      <th>68717</th>\n",
       "      <td>9516.5</td>\n",
       "    </tr>\n",
       "    <tr>\n",
       "      <th>68718</th>\n",
       "      <td>82.7</td>\n",
       "    </tr>\n",
       "    <tr>\n",
       "      <th>68719</th>\n",
       "      <td>759.4</td>\n",
       "    </tr>\n",
       "  </tbody>\n",
       "</table>\n",
       "<p>68720 rows × 1 columns</p>\n",
       "</div>"
      ],
      "text/plain": [
       "       predict\n",
       "0         13.8\n",
       "1         70.5\n",
       "2         63.2\n",
       "3         32.9\n",
       "4         11.2\n",
       "...        ...\n",
       "68715    107.8\n",
       "68716    111.8\n",
       "68717   9516.5\n",
       "68718     82.7\n",
       "68719    759.4\n",
       "\n",
       "[68720 rows x 1 columns]"
      ]
     },
     "execution_count": 81,
     "metadata": {},
     "output_type": "execute_result"
    }
   ],
   "source": [
    "pred"
   ]
  },
  {
   "cell_type": "code",
   "execution_count": 82,
   "metadata": {
    "execution": {
     "iopub.execute_input": "2020-10-10T08:18:37.159064Z",
     "iopub.status.busy": "2020-10-10T08:18:37.158326Z",
     "iopub.status.idle": "2020-10-10T08:18:37.418277Z",
     "shell.execute_reply": "2020-10-10T08:18:37.417525Z"
    },
    "papermill": {
     "duration": 0.434485,
     "end_time": "2020-10-10T08:18:37.418399",
     "exception": false,
     "start_time": "2020-10-10T08:18:36.983914",
     "status": "completed"
    },
    "tags": []
   },
   "outputs": [
    {
     "data": {
      "text/html": [
       "<a href='submission0.csv' target='_blank'>submission0.csv</a><br>"
      ],
      "text/plain": [
       "/kaggle/working/submission0.csv"
      ]
     },
     "execution_count": 82,
     "metadata": {},
     "output_type": "execute_result"
    }
   ],
   "source": [
    "pred.to_csv('submission0.csv',header=['TARGET(PRICE_IN_LACS)'],index=False)\n",
    "from IPython.display import FileLink\n",
    "FileLink(r'submission0.csv')"
   ]
  },
  {
   "cell_type": "markdown",
   "metadata": {
    "papermill": {
     "duration": 0.167877,
     "end_time": "2020-10-10T08:18:37.755467",
     "exception": false,
     "start_time": "2020-10-10T08:18:37.587590",
     "status": "completed"
    },
    "tags": []
   },
   "source": [
    "Light GBM"
   ]
  },
  {
   "cell_type": "code",
   "execution_count": 83,
   "metadata": {
    "execution": {
     "iopub.execute_input": "2020-10-10T08:18:38.099164Z",
     "iopub.status.busy": "2020-10-10T08:18:38.098422Z",
     "iopub.status.idle": "2020-10-10T08:18:38.146283Z",
     "shell.execute_reply": "2020-10-10T08:18:38.145437Z"
    },
    "papermill": {
     "duration": 0.222613,
     "end_time": "2020-10-10T08:18:38.146415",
     "exception": false,
     "start_time": "2020-10-10T08:18:37.923802",
     "status": "completed"
    },
    "tags": []
   },
   "outputs": [],
   "source": [
    "import lightgbm as lgb\n",
    "from sklearn.model_selection import KFold"
   ]
  },
  {
   "cell_type": "code",
   "execution_count": 84,
   "metadata": {
    "execution": {
     "iopub.execute_input": "2020-10-10T08:18:38.494203Z",
     "iopub.status.busy": "2020-10-10T08:18:38.493407Z",
     "iopub.status.idle": "2020-10-10T08:18:41.477294Z",
     "shell.execute_reply": "2020-10-10T08:18:41.476504Z"
    },
    "papermill": {
     "duration": 3.161588,
     "end_time": "2020-10-10T08:18:41.477420",
     "exception": false,
     "start_time": "2020-10-10T08:18:38.315832",
     "status": "completed"
    },
    "tags": []
   },
   "outputs": [
    {
     "name": "stderr",
     "output_type": "stream",
     "text": [
      "/opt/conda/lib/python3.7/site-packages/lightgbm/basic.py:1295: UserWarning: categorical_feature in Dataset is overridden.\n",
      "New categorical_feature is ['BHK_NO.', 'BHK_OR_RK', 'POSTED_BY', 'RERA', 'RESALE', 'UNDER_CONSTRUCTION']\n",
      "  'New categorical_feature is {}'.format(sorted(list(categorical_feature))))\n"
     ]
    },
    {
     "name": "stdout",
     "output_type": "stream",
     "text": [
      "Training until validation scores don't improve for 50 rounds\n",
      "[100]\tvalid_0's l2: 0.10293\n",
      "[200]\tvalid_0's l2: 0.097429\n",
      "[300]\tvalid_0's l2: 0.0948048\n",
      "[400]\tvalid_0's l2: 0.0936033\n",
      "[500]\tvalid_0's l2: 0.0930548\n",
      "[600]\tvalid_0's l2: 0.0927266\n",
      "[700]\tvalid_0's l2: 0.0925416\n",
      "Early stopping, best iteration is:\n",
      "[720]\tvalid_0's l2: 0.0924363\n"
     ]
    },
    {
     "data": {
      "text/plain": [
       "0.30403337459695673"
      ]
     },
     "execution_count": 84,
     "metadata": {},
     "output_type": "execute_result"
    }
   ],
   "source": [
    "from lightgbm import LGBMRegressor\n",
    "lgbcl = LGBMRegressor(max_depth=-1,n_estimators=2000, importance_type='gain')\n",
    "lgbcl= lgbcl.fit(x_train,y_train,categorical_feature=cat_col,eval_set=(x_test, y_test),verbose=100,early_stopping_rounds=50)\n",
    "y_predict = lgbcl.predict(x_test)\n",
    "mse(y_test,y_predict)\n",
    "np.sqrt(mse(y_test,y_predict))"
   ]
  },
  {
   "cell_type": "code",
   "execution_count": 85,
   "metadata": {
    "execution": {
     "iopub.execute_input": "2020-10-10T08:18:41.849926Z",
     "iopub.status.busy": "2020-10-10T08:18:41.849143Z",
     "iopub.status.idle": "2020-10-10T08:18:42.652271Z",
     "shell.execute_reply": "2020-10-10T08:18:42.651501Z"
    },
    "papermill": {
     "duration": 0.996958,
     "end_time": "2020-10-10T08:18:42.652398",
     "exception": false,
     "start_time": "2020-10-10T08:18:41.655440",
     "status": "completed"
    },
    "tags": []
   },
   "outputs": [
    {
     "data": {
      "image/png": "[encoded data removed]",
      "text/plain": [
       "<Figure size 720x432 with 1 Axes>"
      ]
     },
     "metadata": {},
     "output_type": "display_data"
    }
   ],
   "source": [
    "sns.set()\n",
    "plt.figure(figsize = (10,6))\n",
    "sns.regplot(data = train, x = y_test , y = y_predict,ci = 68,color = \"blue\")\n",
    "plt.xlabel(\"test\", fontsize = 12)\n",
    "plt.ylabel(\"pred\", fontsize = 12 )\n",
    "_= plt.title(\"Actual vs Predicted\", fontsize = 15)"
   ]
  },
  {
   "cell_type": "code",
   "execution_count": 86,
   "metadata": {
    "execution": {
     "iopub.execute_input": "2020-10-10T08:18:43.024594Z",
     "iopub.status.busy": "2020-10-10T08:18:43.023550Z",
     "iopub.status.idle": "2020-10-10T08:18:43.379888Z",
     "shell.execute_reply": "2020-10-10T08:18:43.379236Z"
    },
    "papermill": {
     "duration": 0.546098,
     "end_time": "2020-10-10T08:18:43.380016",
     "exception": false,
     "start_time": "2020-10-10T08:18:42.833918",
     "status": "completed"
    },
    "tags": []
   },
   "outputs": [
    {
     "data": {
      "image/png": "[encoded data removed]",
      "text/plain": [
       "<Figure size 432x288 with 1 Axes>"
      ]
     },
     "metadata": {},
     "output_type": "display_data"
    }
   ],
   "source": [
    "feat_importances = pd.Series(lgbcl.feature_importances_, index=x_train.columns)\n",
    "feat_importances.nlargest(8).plot(kind='barh')\n",
    "plt.show()"
   ]
  },
  {
   "cell_type": "code",
   "execution_count": 87,
   "metadata": {
    "execution": {
     "iopub.execute_input": "2020-10-10T08:18:43.758438Z",
     "iopub.status.busy": "2020-10-10T08:18:43.751919Z",
     "iopub.status.idle": "2020-10-10T08:18:43.762491Z",
     "shell.execute_reply": "2020-10-10T08:18:43.763274Z"
    },
    "papermill": {
     "duration": 0.202762,
     "end_time": "2020-10-10T08:18:43.763453",
     "exception": false,
     "start_time": "2020-10-10T08:18:43.560691",
     "status": "completed"
    },
    "tags": []
   },
   "outputs": [
    {
     "data": {
      "text/html": [
       "<div>\n",
       "<style scoped>\n",
       "    .dataframe tbody tr th:only-of-type {\n",
       "        vertical-align: middle;\n",
       "    }\n",
       "\n",
       "    .dataframe tbody tr th {\n",
       "        vertical-align: top;\n",
       "    }\n",
       "\n",
       "    .dataframe thead th {\n",
       "        text-align: right;\n",
       "    }\n",
       "</style>\n",
       "<table border=\"1\" class=\"dataframe\">\n",
       "  <thead>\n",
       "    <tr style=\"text-align: right;\">\n",
       "      <th></th>\n",
       "      <th>POSTED_BY</th>\n",
       "      <th>UNDER_CONSTRUCTION</th>\n",
       "      <th>RERA</th>\n",
       "      <th>BHK_NO.</th>\n",
       "      <th>BHK_OR_RK</th>\n",
       "      <th>SQUARE_FT</th>\n",
       "      <th>LONGITUDE</th>\n",
       "      <th>LATITUDE</th>\n",
       "      <th>RESALE</th>\n",
       "      <th>CITY</th>\n",
       "      <th>SQ_FT/ROOM</th>\n",
       "    </tr>\n",
       "  </thead>\n",
       "  <tbody>\n",
       "    <tr>\n",
       "      <th>0</th>\n",
       "      <td>0</td>\n",
       "      <td>0</td>\n",
       "      <td>0</td>\n",
       "      <td>1</td>\n",
       "      <td>0</td>\n",
       "      <td>545.171340</td>\n",
       "      <td>21.262000</td>\n",
       "      <td>73.047700</td>\n",
       "      <td>1</td>\n",
       "      <td>3.771845</td>\n",
       "      <td>545.171340</td>\n",
       "    </tr>\n",
       "    <tr>\n",
       "      <th>1</th>\n",
       "      <td>1</td>\n",
       "      <td>1</td>\n",
       "      <td>1</td>\n",
       "      <td>2</td>\n",
       "      <td>0</td>\n",
       "      <td>800.000000</td>\n",
       "      <td>18.966114</td>\n",
       "      <td>73.148278</td>\n",
       "      <td>0</td>\n",
       "      <td>4.840878</td>\n",
       "      <td>400.000000</td>\n",
       "    </tr>\n",
       "    <tr>\n",
       "      <th>2</th>\n",
       "      <td>1</td>\n",
       "      <td>0</td>\n",
       "      <td>0</td>\n",
       "      <td>2</td>\n",
       "      <td>0</td>\n",
       "      <td>1257.096513</td>\n",
       "      <td>22.592200</td>\n",
       "      <td>88.484911</td>\n",
       "      <td>1</td>\n",
       "      <td>4.003438</td>\n",
       "      <td>628.548257</td>\n",
       "    </tr>\n",
       "    <tr>\n",
       "      <th>3</th>\n",
       "      <td>1</td>\n",
       "      <td>0</td>\n",
       "      <td>0</td>\n",
       "      <td>3</td>\n",
       "      <td>0</td>\n",
       "      <td>1400.329489</td>\n",
       "      <td>26.988300</td>\n",
       "      <td>75.584600</td>\n",
       "      <td>1</td>\n",
       "      <td>3.722582</td>\n",
       "      <td>466.776496</td>\n",
       "    </tr>\n",
       "    <tr>\n",
       "      <th>4</th>\n",
       "      <td>0</td>\n",
       "      <td>0</td>\n",
       "      <td>0</td>\n",
       "      <td>1</td>\n",
       "      <td>0</td>\n",
       "      <td>430.477830</td>\n",
       "      <td>22.700000</td>\n",
       "      <td>72.870000</td>\n",
       "      <td>1</td>\n",
       "      <td>3.046038</td>\n",
       "      <td>430.477830</td>\n",
       "    </tr>\n",
       "  </tbody>\n",
       "</table>\n",
       "</div>"
      ],
      "text/plain": [
       "   POSTED_BY  UNDER_CONSTRUCTION  RERA  BHK_NO.  BHK_OR_RK    SQUARE_FT  \\\n",
       "0          0                   0     0        1          0   545.171340   \n",
       "1          1                   1     1        2          0   800.000000   \n",
       "2          1                   0     0        2          0  1257.096513   \n",
       "3          1                   0     0        3          0  1400.329489   \n",
       "4          0                   0     0        1          0   430.477830   \n",
       "\n",
       "   LONGITUDE   LATITUDE  RESALE      CITY  SQ_FT/ROOM  \n",
       "0  21.262000  73.047700       1  3.771845  545.171340  \n",
       "1  18.966114  73.148278       0  4.840878  400.000000  \n",
       "2  22.592200  88.484911       1  4.003438  628.548257  \n",
       "3  26.988300  75.584600       1  3.722582  466.776496  \n",
       "4  22.700000  72.870000       1  3.046038  430.477830  "
      ]
     },
     "execution_count": 87,
     "metadata": {},
     "output_type": "execute_result"
    }
   ],
   "source": [
    "test_X.head()"
   ]
  },
  {
   "cell_type": "code",
   "execution_count": 88,
   "metadata": {
    "execution": {
     "iopub.execute_input": "2020-10-10T08:18:44.137802Z",
     "iopub.status.busy": "2020-10-10T08:18:44.136965Z",
     "iopub.status.idle": "2020-10-10T08:18:44.342314Z",
     "shell.execute_reply": "2020-10-10T08:18:44.341154Z"
    },
    "papermill": {
     "duration": 0.392192,
     "end_time": "2020-10-10T08:18:44.342504",
     "exception": false,
     "start_time": "2020-10-10T08:18:43.950312",
     "status": "completed"
    },
    "tags": []
   },
   "outputs": [
    {
     "ename": "TypeError",
     "evalue": "Wrong type(str) for label.\nIt should be list, numpy 1-D array or pandas Series",
     "output_type": "error",
     "traceback": [
      "\u001b[0;31m---------------------------------------------------------------------------\u001b[0m",
      "\u001b[0;31mTypeError\u001b[0m                                 Traceback (most recent call last)",
      "\u001b[0;32m<ipython-input-88-c1a510bbb74d>\u001b[0m in \u001b[0;36m<module>\u001b[0;34m\u001b[0m\n\u001b[0;32m----> 1\u001b[0;31m \u001b[0mlgbcl\u001b[0m\u001b[0;34m=\u001b[0m \u001b[0mlgbcl\u001b[0m\u001b[0;34m.\u001b[0m\u001b[0mfit\u001b[0m\u001b[0;34m(\u001b[0m\u001b[0mx\u001b[0m\u001b[0;34m,\u001b[0m \u001b[0my\u001b[0m\u001b[0;34m)\u001b[0m\u001b[0;34m\u001b[0m\u001b[0;34m\u001b[0m\u001b[0m\n\u001b[0m\u001b[1;32m      2\u001b[0m \u001b[0mlgb_pred\u001b[0m \u001b[0;34m=\u001b[0m \u001b[0mlgbcl\u001b[0m\u001b[0;34m.\u001b[0m\u001b[0mpredict\u001b[0m\u001b[0;34m(\u001b[0m\u001b[0mtest_X\u001b[0m\u001b[0;34m)\u001b[0m\u001b[0;34m\u001b[0m\u001b[0;34m\u001b[0m\u001b[0m\n",
      "\u001b[0;32m/opt/conda/lib/python3.7/site-packages/lightgbm/sklearn.py\u001b[0m in \u001b[0;36mfit\u001b[0;34m(self, X, y, sample_weight, init_score, eval_set, eval_names, eval_sample_weight, eval_init_score, eval_metric, early_stopping_rounds, verbose, feature_name, categorical_feature, callbacks)\u001b[0m\n\u001b[1;32m    741\u001b[0m                                        \u001b[0mverbose\u001b[0m\u001b[0;34m=\u001b[0m\u001b[0mverbose\u001b[0m\u001b[0;34m,\u001b[0m \u001b[0mfeature_name\u001b[0m\u001b[0;34m=\u001b[0m\u001b[0mfeature_name\u001b[0m\u001b[0;34m,\u001b[0m\u001b[0;34m\u001b[0m\u001b[0;34m\u001b[0m\u001b[0m\n\u001b[1;32m    742\u001b[0m                                        \u001b[0mcategorical_feature\u001b[0m\u001b[0;34m=\u001b[0m\u001b[0mcategorical_feature\u001b[0m\u001b[0;34m,\u001b[0m\u001b[0;34m\u001b[0m\u001b[0;34m\u001b[0m\u001b[0m\n\u001b[0;32m--> 743\u001b[0;31m                                        callbacks=callbacks)\n\u001b[0m\u001b[1;32m    744\u001b[0m         \u001b[0;32mreturn\u001b[0m \u001b[0mself\u001b[0m\u001b[0;34m\u001b[0m\u001b[0;34m\u001b[0m\u001b[0m\n\u001b[1;32m    745\u001b[0m \u001b[0;34m\u001b[0m\u001b[0m\n",
      "\u001b[0;32m/opt/conda/lib/python3.7/site-packages/lightgbm/sklearn.py\u001b[0m in \u001b[0;36mfit\u001b[0;34m(self, X, y, sample_weight, init_score, group, eval_set, eval_names, eval_sample_weight, eval_class_weight, eval_init_score, eval_group, eval_metric, early_stopping_rounds, verbose, feature_name, categorical_feature, callbacks)\u001b[0m\n\u001b[1;32m    598\u001b[0m                               \u001b[0mverbose_eval\u001b[0m\u001b[0;34m=\u001b[0m\u001b[0mverbose\u001b[0m\u001b[0;34m,\u001b[0m \u001b[0mfeature_name\u001b[0m\u001b[0;34m=\u001b[0m\u001b[0mfeature_name\u001b[0m\u001b[0;34m,\u001b[0m\u001b[0;34m\u001b[0m\u001b[0;34m\u001b[0m\u001b[0m\n\u001b[1;32m    599\u001b[0m                               \u001b[0mcategorical_feature\u001b[0m\u001b[0;34m=\u001b[0m\u001b[0mcategorical_feature\u001b[0m\u001b[0;34m,\u001b[0m\u001b[0;34m\u001b[0m\u001b[0;34m\u001b[0m\u001b[0m\n\u001b[0;32m--> 600\u001b[0;31m                               callbacks=callbacks)\n\u001b[0m\u001b[1;32m    601\u001b[0m \u001b[0;34m\u001b[0m\u001b[0m\n\u001b[1;32m    602\u001b[0m         \u001b[0;32mif\u001b[0m \u001b[0mevals_result\u001b[0m\u001b[0;34m:\u001b[0m\u001b[0;34m\u001b[0m\u001b[0;34m\u001b[0m\u001b[0m\n",
      "\u001b[0;32m/opt/conda/lib/python3.7/site-packages/lightgbm/engine.py\u001b[0m in \u001b[0;36mtrain\u001b[0;34m(params, train_set, num_boost_round, valid_sets, valid_names, fobj, feval, init_model, feature_name, categorical_feature, early_stopping_rounds, evals_result, verbose_eval, learning_rates, keep_training_booster, callbacks)\u001b[0m\n\u001b[1;32m    226\u001b[0m     \u001b[0;31m# construct booster\u001b[0m\u001b[0;34m\u001b[0m\u001b[0;34m\u001b[0m\u001b[0;34m\u001b[0m\u001b[0m\n\u001b[1;32m    227\u001b[0m     \u001b[0;32mtry\u001b[0m\u001b[0;34m:\u001b[0m\u001b[0;34m\u001b[0m\u001b[0;34m\u001b[0m\u001b[0m\n\u001b[0;32m--> 228\u001b[0;31m         \u001b[0mbooster\u001b[0m \u001b[0;34m=\u001b[0m \u001b[0mBooster\u001b[0m\u001b[0;34m(\u001b[0m\u001b[0mparams\u001b[0m\u001b[0;34m=\u001b[0m\u001b[0mparams\u001b[0m\u001b[0;34m,\u001b[0m \u001b[0mtrain_set\u001b[0m\u001b[0;34m=\u001b[0m\u001b[0mtrain_set\u001b[0m\u001b[0;34m)\u001b[0m\u001b[0;34m\u001b[0m\u001b[0;34m\u001b[0m\u001b[0m\n\u001b[0m\u001b[1;32m    229\u001b[0m         \u001b[0;32mif\u001b[0m \u001b[0mis_valid_contain_train\u001b[0m\u001b[0;34m:\u001b[0m\u001b[0;34m\u001b[0m\u001b[0;34m\u001b[0m\u001b[0m\n\u001b[1;32m    230\u001b[0m             \u001b[0mbooster\u001b[0m\u001b[0;34m.\u001b[0m\u001b[0mset_train_data_name\u001b[0m\u001b[0;34m(\u001b[0m\u001b[0mtrain_data_name\u001b[0m\u001b[0;34m)\u001b[0m\u001b[0;34m\u001b[0m\u001b[0;34m\u001b[0m\u001b[0m\n",
      "\u001b[0;32m/opt/conda/lib/python3.7/site-packages/lightgbm/basic.py\u001b[0m in \u001b[0;36m__init__\u001b[0;34m(self, params, train_set, model_file, model_str, silent)\u001b[0m\n\u001b[1;32m   1712\u001b[0m             \u001b[0mself\u001b[0m\u001b[0;34m.\u001b[0m\u001b[0mhandle\u001b[0m \u001b[0;34m=\u001b[0m \u001b[0mctypes\u001b[0m\u001b[0;34m.\u001b[0m\u001b[0mc_void_p\u001b[0m\u001b[0;34m(\u001b[0m\u001b[0;34m)\u001b[0m\u001b[0;34m\u001b[0m\u001b[0;34m\u001b[0m\u001b[0m\n\u001b[1;32m   1713\u001b[0m             _safe_call(_LIB.LGBM_BoosterCreate(\n\u001b[0;32m-> 1714\u001b[0;31m                 \u001b[0mtrain_set\u001b[0m\u001b[0;34m.\u001b[0m\u001b[0mconstruct\u001b[0m\u001b[0;34m(\u001b[0m\u001b[0;34m)\u001b[0m\u001b[0;34m.\u001b[0m\u001b[0mhandle\u001b[0m\u001b[0;34m,\u001b[0m\u001b[0;34m\u001b[0m\u001b[0;34m\u001b[0m\u001b[0m\n\u001b[0m\u001b[1;32m   1715\u001b[0m                 \u001b[0mc_str\u001b[0m\u001b[0;34m(\u001b[0m\u001b[0mparams_str\u001b[0m\u001b[0;34m)\u001b[0m\u001b[0;34m,\u001b[0m\u001b[0;34m\u001b[0m\u001b[0;34m\u001b[0m\u001b[0m\n\u001b[1;32m   1716\u001b[0m                 ctypes.byref(self.handle)))\n",
      "\u001b[0;32m/opt/conda/lib/python3.7/site-packages/lightgbm/basic.py\u001b[0m in \u001b[0;36mconstruct\u001b[0;34m(self)\u001b[0m\n\u001b[1;32m   1083\u001b[0m                                 \u001b[0minit_score\u001b[0m\u001b[0;34m=\u001b[0m\u001b[0mself\u001b[0m\u001b[0;34m.\u001b[0m\u001b[0minit_score\u001b[0m\u001b[0;34m,\u001b[0m \u001b[0mpredictor\u001b[0m\u001b[0;34m=\u001b[0m\u001b[0mself\u001b[0m\u001b[0;34m.\u001b[0m\u001b[0m_predictor\u001b[0m\u001b[0;34m,\u001b[0m\u001b[0;34m\u001b[0m\u001b[0;34m\u001b[0m\u001b[0m\n\u001b[1;32m   1084\u001b[0m                                 \u001b[0msilent\u001b[0m\u001b[0;34m=\u001b[0m\u001b[0mself\u001b[0m\u001b[0;34m.\u001b[0m\u001b[0msilent\u001b[0m\u001b[0;34m,\u001b[0m \u001b[0mfeature_name\u001b[0m\u001b[0;34m=\u001b[0m\u001b[0mself\u001b[0m\u001b[0;34m.\u001b[0m\u001b[0mfeature_name\u001b[0m\u001b[0;34m,\u001b[0m\u001b[0;34m\u001b[0m\u001b[0;34m\u001b[0m\u001b[0m\n\u001b[0;32m-> 1085\u001b[0;31m                                 categorical_feature=self.categorical_feature, params=self.params)\n\u001b[0m\u001b[1;32m   1086\u001b[0m             \u001b[0;32mif\u001b[0m \u001b[0mself\u001b[0m\u001b[0;34m.\u001b[0m\u001b[0mfree_raw_data\u001b[0m\u001b[0;34m:\u001b[0m\u001b[0;34m\u001b[0m\u001b[0;34m\u001b[0m\u001b[0m\n\u001b[1;32m   1087\u001b[0m                 \u001b[0mself\u001b[0m\u001b[0;34m.\u001b[0m\u001b[0mdata\u001b[0m \u001b[0;34m=\u001b[0m \u001b[0;32mNone\u001b[0m\u001b[0;34m\u001b[0m\u001b[0;34m\u001b[0m\u001b[0m\n",
      "\u001b[0;32m/opt/conda/lib/python3.7/site-packages/lightgbm/basic.py\u001b[0m in \u001b[0;36m_lazy_init\u001b[0;34m(self, data, label, reference, weight, group, init_score, predictor, silent, feature_name, categorical_feature, params)\u001b[0m\n\u001b[1;32m    897\u001b[0m                 \u001b[0;32mraise\u001b[0m \u001b[0mTypeError\u001b[0m\u001b[0;34m(\u001b[0m\u001b[0;34m'Cannot initialize Dataset from {}'\u001b[0m\u001b[0;34m.\u001b[0m\u001b[0mformat\u001b[0m\u001b[0;34m(\u001b[0m\u001b[0mtype\u001b[0m\u001b[0;34m(\u001b[0m\u001b[0mdata\u001b[0m\u001b[0;34m)\u001b[0m\u001b[0;34m.\u001b[0m\u001b[0m__name__\u001b[0m\u001b[0;34m)\u001b[0m\u001b[0;34m)\u001b[0m\u001b[0;34m\u001b[0m\u001b[0;34m\u001b[0m\u001b[0m\n\u001b[1;32m    898\u001b[0m         \u001b[0;32mif\u001b[0m \u001b[0mlabel\u001b[0m \u001b[0;32mis\u001b[0m \u001b[0;32mnot\u001b[0m \u001b[0;32mNone\u001b[0m\u001b[0;34m:\u001b[0m\u001b[0;34m\u001b[0m\u001b[0;34m\u001b[0m\u001b[0m\n\u001b[0;32m--> 899\u001b[0;31m             \u001b[0mself\u001b[0m\u001b[0;34m.\u001b[0m\u001b[0mset_label\u001b[0m\u001b[0;34m(\u001b[0m\u001b[0mlabel\u001b[0m\u001b[0;34m)\u001b[0m\u001b[0;34m\u001b[0m\u001b[0;34m\u001b[0m\u001b[0m\n\u001b[0m\u001b[1;32m    900\u001b[0m         \u001b[0;32mif\u001b[0m \u001b[0mself\u001b[0m\u001b[0;34m.\u001b[0m\u001b[0mget_label\u001b[0m\u001b[0;34m(\u001b[0m\u001b[0;34m)\u001b[0m \u001b[0;32mis\u001b[0m \u001b[0;32mNone\u001b[0m\u001b[0;34m:\u001b[0m\u001b[0;34m\u001b[0m\u001b[0;34m\u001b[0m\u001b[0m\n\u001b[1;32m    901\u001b[0m             \u001b[0;32mraise\u001b[0m \u001b[0mValueError\u001b[0m\u001b[0;34m(\u001b[0m\u001b[0;34m\"Label should not be None\"\u001b[0m\u001b[0;34m)\u001b[0m\u001b[0;34m\u001b[0m\u001b[0;34m\u001b[0m\u001b[0m\n",
      "\u001b[0;32m/opt/conda/lib/python3.7/site-packages/lightgbm/basic.py\u001b[0m in \u001b[0;36mset_label\u001b[0;34m(self, label)\u001b[0m\n\u001b[1;32m   1384\u001b[0m         \u001b[0mself\u001b[0m\u001b[0;34m.\u001b[0m\u001b[0mlabel\u001b[0m \u001b[0;34m=\u001b[0m \u001b[0mlabel\u001b[0m\u001b[0;34m\u001b[0m\u001b[0;34m\u001b[0m\u001b[0m\n\u001b[1;32m   1385\u001b[0m         \u001b[0;32mif\u001b[0m \u001b[0mself\u001b[0m\u001b[0;34m.\u001b[0m\u001b[0mhandle\u001b[0m \u001b[0;32mis\u001b[0m \u001b[0;32mnot\u001b[0m \u001b[0;32mNone\u001b[0m\u001b[0;34m:\u001b[0m\u001b[0;34m\u001b[0m\u001b[0;34m\u001b[0m\u001b[0m\n\u001b[0;32m-> 1386\u001b[0;31m             \u001b[0mlabel\u001b[0m \u001b[0;34m=\u001b[0m \u001b[0mlist_to_1d_numpy\u001b[0m\u001b[0;34m(\u001b[0m\u001b[0m_label_from_pandas\u001b[0m\u001b[0;34m(\u001b[0m\u001b[0mlabel\u001b[0m\u001b[0;34m)\u001b[0m\u001b[0;34m,\u001b[0m \u001b[0mname\u001b[0m\u001b[0;34m=\u001b[0m\u001b[0;34m'label'\u001b[0m\u001b[0;34m)\u001b[0m\u001b[0;34m\u001b[0m\u001b[0;34m\u001b[0m\u001b[0m\n\u001b[0m\u001b[1;32m   1387\u001b[0m             \u001b[0mself\u001b[0m\u001b[0;34m.\u001b[0m\u001b[0mset_field\u001b[0m\u001b[0;34m(\u001b[0m\u001b[0;34m'label'\u001b[0m\u001b[0;34m,\u001b[0m \u001b[0mlabel\u001b[0m\u001b[0;34m)\u001b[0m\u001b[0;34m\u001b[0m\u001b[0;34m\u001b[0m\u001b[0m\n\u001b[1;32m   1388\u001b[0m             \u001b[0mself\u001b[0m\u001b[0;34m.\u001b[0m\u001b[0mlabel\u001b[0m \u001b[0;34m=\u001b[0m \u001b[0mself\u001b[0m\u001b[0;34m.\u001b[0m\u001b[0mget_field\u001b[0m\u001b[0;34m(\u001b[0m\u001b[0;34m'label'\u001b[0m\u001b[0;34m)\u001b[0m  \u001b[0;31m# original values can be modified at cpp side\u001b[0m\u001b[0;34m\u001b[0m\u001b[0;34m\u001b[0m\u001b[0m\n",
      "\u001b[0;32m/opt/conda/lib/python3.7/site-packages/lightgbm/basic.py\u001b[0m in \u001b[0;36mlist_to_1d_numpy\u001b[0;34m(data, dtype, name)\u001b[0m\n\u001b[1;32m     82\u001b[0m     \u001b[0;32melse\u001b[0m\u001b[0;34m:\u001b[0m\u001b[0;34m\u001b[0m\u001b[0;34m\u001b[0m\u001b[0m\n\u001b[1;32m     83\u001b[0m         raise TypeError(\"Wrong type({0}) for {1}.\\n\"\n\u001b[0;32m---> 84\u001b[0;31m                         \"It should be list, numpy 1-D array or pandas Series\".format(type(data).__name__, name))\n\u001b[0m\u001b[1;32m     85\u001b[0m \u001b[0;34m\u001b[0m\u001b[0m\n\u001b[1;32m     86\u001b[0m \u001b[0;34m\u001b[0m\u001b[0m\n",
      "\u001b[0;31mTypeError\u001b[0m: Wrong type(str) for label.\nIt should be list, numpy 1-D array or pandas Series"
     ]
    }
   ],
   "source": [
    "lgbcl= lgbcl.fit(x, y)\n",
    "lgb_pred = lgbcl.predict(test_X)"
   ]
  },
  {
   "cell_type": "code",
   "execution_count": 89,
   "metadata": {
    "execution": {
     "iopub.execute_input": "2020-10-10T08:18:44.728801Z",
     "iopub.status.busy": "2020-10-10T08:18:44.727949Z",
     "iopub.status.idle": "2020-10-10T08:18:44.733117Z",
     "shell.execute_reply": "2020-10-10T08:18:44.732448Z"
    },
    "papermill": {
     "duration": 0.206592,
     "end_time": "2020-10-10T08:18:44.733241",
     "exception": false,
     "start_time": "2020-10-10T08:18:44.526649",
     "status": "completed"
    },
    "tags": []
   },
   "outputs": [
    {
     "ename": "NameError",
     "evalue": "name 'lgb_pred' is not defined",
     "output_type": "error",
     "traceback": [
      "\u001b[0;31m---------------------------------------------------------------------------\u001b[0m",
      "\u001b[0;31mNameError\u001b[0m                                 Traceback (most recent call last)",
      "\u001b[0;32m<ipython-input-89-477fc0944c6f>\u001b[0m in \u001b[0;36m<module>\u001b[0;34m\u001b[0m\n\u001b[0;32m----> 1\u001b[0;31m \u001b[0msub\u001b[0m\u001b[0;34m[\u001b[0m\u001b[0;34m'TARGET(PRICE_IN_LACS)'\u001b[0m\u001b[0;34m]\u001b[0m\u001b[0;34m=\u001b[0m\u001b[0mnp\u001b[0m\u001b[0;34m.\u001b[0m\u001b[0mabs\u001b[0m\u001b[0;34m(\u001b[0m\u001b[0;34m(\u001b[0m\u001b[0mnp\u001b[0m\u001b[0;34m.\u001b[0m\u001b[0mexp\u001b[0m\u001b[0;34m(\u001b[0m\u001b[0mlgb_pred\u001b[0m\u001b[0;34m)\u001b[0m\u001b[0;34m-\u001b[0m\u001b[0;36m1\u001b[0m\u001b[0;34m)\u001b[0m\u001b[0;34m)\u001b[0m\u001b[0;34m\u001b[0m\u001b[0;34m\u001b[0m\u001b[0m\n\u001b[0m\u001b[1;32m      2\u001b[0m \u001b[0msub\u001b[0m\u001b[0;34m.\u001b[0m\u001b[0mto_csv\u001b[0m\u001b[0;34m(\u001b[0m\u001b[0;34m'sub_lgb14.csv'\u001b[0m\u001b[0;34m,\u001b[0m\u001b[0mindex\u001b[0m\u001b[0;34m=\u001b[0m\u001b[0;32mFalse\u001b[0m\u001b[0;34m)\u001b[0m\u001b[0;34m\u001b[0m\u001b[0;34m\u001b[0m\u001b[0m\n\u001b[1;32m      3\u001b[0m \u001b[0;32mfrom\u001b[0m \u001b[0mIPython\u001b[0m\u001b[0;34m.\u001b[0m\u001b[0mdisplay\u001b[0m \u001b[0;32mimport\u001b[0m \u001b[0mFileLink\u001b[0m\u001b[0;34m\u001b[0m\u001b[0;34m\u001b[0m\u001b[0m\n\u001b[1;32m      4\u001b[0m \u001b[0mFileLink\u001b[0m\u001b[0;34m(\u001b[0m\u001b[0;34mr'sub_lgb14.csv'\u001b[0m\u001b[0;34m)\u001b[0m\u001b[0;34m\u001b[0m\u001b[0;34m\u001b[0m\u001b[0m\n",
      "\u001b[0;31mNameError\u001b[0m: name 'lgb_pred' is not defined"
     ]
    }
   ],
   "source": [
    "sub['TARGET(PRICE_IN_LACS)']=np.abs((np.exp(lgb_pred)-1))\n",
    "sub.to_csv('sub_lgb14.csv',index=False)\n",
    "from IPython.display import FileLink\n",
    "FileLink(r'sub_lgb14.csv')"
   ]
  },
  {
   "cell_type": "code",
   "execution_count": null,
   "metadata": {
    "papermill": {
     "duration": 0.184356,
     "end_time": "2020-10-10T08:18:45.099916",
     "exception": false,
     "start_time": "2020-10-10T08:18:44.915560",
     "status": "completed"
    },
    "tags": []
   },
   "outputs": [],
   "source": []
  }
 ],
 "metadata": {
  "kernelspec": {
   "display_name": "Python 3",
   "language": "python",
   "name": "python3"
  },
  "language_info": {
   "codemirror_mode": {
    "name": "ipython",
    "version": 3
   },
   "file_extension": ".py",
   "mimetype": "text/x-python",
   "name": "python",
   "nbconvert_exporter": "python",
   "pygments_lexer": "ipython3",
   "version": "3.7.6"
  },
  "papermill": {
   "duration": 6151.048797,
   "end_time": "2020-10-10T08:18:46.487986",
   "environment_variables": {},
   "exception": null,
   "input_path": "__notebook__.ipynb",
   "output_path": "__notebook__.ipynb",
   "parameters": {},
   "start_time": "2020-10-10T06:36:15.439189",
   "version": "2.1.0"
  }
 },
 "nbformat": 4,
 "nbformat_minor": 4
}
